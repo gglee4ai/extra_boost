{
 "cells": [
  {
   "cell_type": "code",
   "execution_count": 1,
   "metadata": {
    "collapsed": false,
    "deletable": true,
    "editable": true
   },
   "outputs": [
    {
     "name": "stderr",
     "output_type": "stream",
     "text": [
      "/home/zomb-vision/envs/env35/lib/python3.5/importlib/_bootstrap.py:222: RuntimeWarning: numpy.dtype size changed, may indicate binary incompatibility. Expected 96, got 88\n",
      "  return f(*args, **kwds)\n",
      "/home/zomb-vision/envs/env35/lib/python3.5/importlib/_bootstrap.py:222: RuntimeWarning: numpy.dtype size changed, may indicate binary incompatibility. Expected 96, got 88\n",
      "  return f(*args, **kwds)\n",
      "/home/zomb-vision/envs/env35/lib/python3.5/importlib/_bootstrap.py:222: RuntimeWarning: numpy.dtype size changed, may indicate binary incompatibility. Expected 96, got 88\n",
      "  return f(*args, **kwds)\n",
      "/home/zomb-vision/envs/env35/lib/python3.5/importlib/_bootstrap.py:222: RuntimeWarning: numpy.dtype size changed, may indicate binary incompatibility. Expected 96, got 88\n",
      "  return f(*args, **kwds)\n",
      "/home/zomb-vision/envs/env35/lib/python3.5/importlib/_bootstrap.py:222: RuntimeWarning: numpy.dtype size changed, may indicate binary incompatibility. Expected 96, got 88\n",
      "  return f(*args, **kwds)\n",
      "/home/zomb-vision/envs/env35/lib/python3.5/importlib/_bootstrap.py:222: RuntimeWarning: numpy.dtype size changed, may indicate binary incompatibility. Expected 96, got 88\n",
      "  return f(*args, **kwds)\n"
     ]
    }
   ],
   "source": [
    "import sys, os, io, json, numpy as np, random, time\n",
    "#from sklearn.metrics import roc_auc_score\n",
    "import xgboost as xgb\n",
    "import tensorflow as tf\n",
    "from split import split_graph, split_interface, make_split, make_split_quick, make_gax\n",
    "import graphviz\n",
    "from sklearn import metrics"
   ]
  },
  {
   "cell_type": "code",
   "execution_count": 2,
   "metadata": {
    "collapsed": true,
    "deletable": true,
    "editable": true
   },
   "outputs": [],
   "source": [
    "pool = np.load('../prepare_dataset/pool_00.npz')\n",
    "features_bool, f_time, label = (pool[name] for name in ['features', 'f_time', 'label'])"
   ]
  },
  {
   "cell_type": "code",
   "execution_count": 3,
   "metadata": {
    "collapsed": false,
    "deletable": true,
    "editable": true
   },
   "outputs": [],
   "source": [
    "np.random.seed(42)\n",
    "features = np.random.normal(loc=features_bool*1.0, scale=1.0)\n",
    "#features = features[:299999,:]; label = label[:299999, :]\n",
    "features_swap = np.concatenate([features[:,7:8], features[:,1:7], features[:,0:1], features[:,8:]], axis=1)"
   ]
  },
  {
   "cell_type": "code",
   "execution_count": 4,
   "metadata": {
    "collapsed": false,
    "deletable": true,
    "editable": true
   },
   "outputs": [
    {
     "name": "stdout",
     "output_type": "stream",
     "text": [
      "CPU times: user 445 ms, sys: 581 ms, total: 1.03 s\n",
      "Wall time: 1.11 s\n"
     ]
    },
    {
     "data": {
      "text/plain": [
       "{'avg_current_loss': array([0.69314718]),\n",
       " 'best_avg_loss': 0.6124402703897527,\n",
       " 'best_delta_down': -0.8534899433501377,\n",
       " 'best_delta_up': -0.7958979221951163,\n",
       " 'best_feature_index': 11,\n",
       " 'best_index': 261521,\n",
       " 'best_loss': 183732.0811169258,\n",
       " 'current_loss': array([207944.15416798]),\n",
       " 'thr': 1.3039966661872284}"
      ]
     },
     "execution_count": 4,
     "metadata": {},
     "output_type": "execute_result"
    }
   ],
   "source": [
    "%%time\n",
    "make_split(np.zeros(label.shape), features, label)"
   ]
  },
  {
   "cell_type": "code",
   "execution_count": 5,
   "metadata": {
    "collapsed": false,
    "deletable": true,
    "editable": true
   },
   "outputs": [
    {
     "name": "stdout",
     "output_type": "stream",
     "text": [
      "CPU times: user 139 ms, sys: 6.38 ms, total: 146 ms\n",
      "Wall time: 230 ms\n"
     ]
    },
    {
     "data": {
      "text/plain": [
       "{'avg_current_loss': array([0.69314718]),\n",
       " 'best_avg_loss': 0.6124402703897527,\n",
       " 'best_delta_down': -0.8534899433501377,\n",
       " 'best_delta_up': -0.7958979221951163,\n",
       " 'best_feature_index': 11,\n",
       " 'best_index': 261521,\n",
       " 'best_loss': 183732.0811169258,\n",
       " 'current_loss': array([207944.15416798]),\n",
       " 'thr': 1.3039966661872284}"
      ]
     },
     "execution_count": 5,
     "metadata": {},
     "output_type": "execute_result"
    }
   ],
   "source": [
    "%%time\n",
    "make_split(np.zeros(label.shape), features_swap, label)"
   ]
  },
  {
   "cell_type": "code",
   "execution_count": 6,
   "metadata": {
    "collapsed": true,
    "deletable": true,
    "editable": true
   },
   "outputs": [],
   "source": [
    "class EMatrix:\n",
    "    def __init__(self, features, label, bias=None, gax=None, splitgax = False):\n",
    "        self.bias = bias\n",
    "        self.features = features\n",
    "        self.label = label\n",
    "        self.gax = gax\n",
    "        self.splitgax = splitgax"
   ]
  },
  {
   "cell_type": "code",
   "execution_count": 7,
   "metadata": {
    "collapsed": true,
    "deletable": true,
    "editable": true
   },
   "outputs": [],
   "source": [
    "class LeafData:\n",
    "    def __init__(self, info):\n",
    "        self.val = info['prediction'] * info['learning_rate']\n",
    "        self.train_size = info['ematrix'].label.shape[0]\n",
    "        self.avg_target = np.mean(info['ematrix'].label, axis=0)[0]\n",
    "        \n",
    "    def to_text(self, floatformat = '.6f'):\n",
    "        return ('{:'+ floatformat + '} ({})\\n({:'+floatformat+'})').format(self.val, self.train_size, self.avg_target)\n",
    "    \n",
    "    def shape(self):\n",
    "        return 'box'\n",
    "\n",
    "class SplitData:\n",
    "    def __init__(self, val):\n",
    "        self.val = val\n",
    "        \n",
    "    def to_text(self, floatformat = '.4f'):\n",
    "        return ('f_{{{ind}}} < {thr:'+floatformat+'}').format(ind=self.val['best_feature_index'], thr=self.val['thr'])\n",
    "    \n",
    "        \n",
    "class TreeNode:\n",
    "    def __init__(self):\n",
    "        self.left = None\n",
    "        self.right = None\n",
    "        self.depth = 0\n",
    "        self.val = None\n",
    "        self.id = None\n",
    "        \n",
    "    def to_text(self, floatformat = '.6f'):\n",
    "        return self.val.to_text(floatformat)\n",
    "    \n",
    "    def shape(self):\n",
    "        return 'circle'\n",
    "        "
   ]
  },
  {
   "cell_type": "code",
   "execution_count": 8,
   "metadata": {
    "collapsed": true
   },
   "outputs": [],
   "source": [
    "def init_id_helper(node, current_id):\n",
    "    node.id = current_id[0]\n",
    "    current_id[0] += 1\n",
    "    if not isinstance(node, TreeNode):\n",
    "        return\n",
    "    init_id_helper(node.left, current_id)\n",
    "    init_id_helper(node.right, current_id)\n",
    "\n",
    "def init_id(root):\n",
    "    current_id = [0]\n",
    "    init_id_helper(root, current_id)\n",
    "    return current_id[0]"
   ]
  },
  {
   "cell_type": "code",
   "execution_count": 9,
   "metadata": {
    "collapsed": true
   },
   "outputs": [],
   "source": [
    "def init_arrays_helper(node, arrays):\n",
    "    if not isinstance(node, TreeNode):\n",
    "        arrays['is_leaf'][node.id] = 1\n",
    "        arrays['leaf_data'][node.id, 0] = node.val  # Leaf\n",
    "        return\n",
    "    init_arrays_helper(node.left, arrays)\n",
    "    init_arrays_helper(node.right, arrays)\n",
    "    arrays['yes_node'][node.id] = node.left.id\n",
    "    arrays['no_node'][node.id] = node.right.id\n",
    "    arrays['thresholds'][node.id] = node.val.val['thr']\n",
    "    arrays['features'][node.id] = node.val.val['best_feature_index']\n",
    "    arrays['is_leaf'][node.id] = 0\n",
    "    arrays['depths'][node.id] = node.depth\n",
    "    \n",
    "def init_arrays(root, n):\n",
    "    def empty_array():\n",
    "        return np.zeros(n, dtype=np.int32)\n",
    "    arrays = dict(features=empty_array(),\n",
    "                  thresholds=np.zeros(n, dtype=np.float32),\n",
    "                  yes_node=empty_array(),\n",
    "                  no_node=empty_array(),\n",
    "                  is_leaf=empty_array(),\n",
    "                  depths=empty_array(),\n",
    "                  leaf_data=np.zeros((n,1), dtype=np.float32)\n",
    "                 )\n",
    "    init_arrays_helper(root, arrays)\n",
    "    arrays['treedepth'] = np.max(arrays['depths'])\n",
    "    return arrays"
   ]
  },
  {
   "cell_type": "code",
   "execution_count": 10,
   "metadata": {
    "collapsed": true,
    "deletable": true,
    "editable": true
   },
   "outputs": [],
   "source": [
    "def prior_finish(params, info, parent):\n",
    "    if parent is None:\n",
    "        return False\n",
    "    return params['max_depth'] <= parent.depth\n",
    "\n",
    "def post_finish(params, info, split_info, parent):\n",
    "    if split_info['left_info']['ematrix'].label.shape[0] < 2:\n",
    "        return True\n",
    "    if split_info['right_info']['ematrix'].label.shape[0] < 2:\n",
    "        return True\n",
    "    return False"
   ]
  },
  {
   "cell_type": "code",
   "execution_count": 11,
   "metadata": {
    "collapsed": true,
    "deletable": true,
    "editable": true
   },
   "outputs": [],
   "source": [
    "def new_ax(ax, cond):\n",
    "    reindex = np.cumsum(cond)-1\n",
    "    axT = ax.T\n",
    "    return reindex[axT][cond[axT]].reshape((ax.shape[1], -1)).T\n",
    "time1 = 0\n",
    "time2 = 0\n",
    "time3 = []\n",
    "def split_ematrix(ematrix, depth):\n",
    "    global time1, time2, time3\n",
    "    if ematrix.gax is not None:\n",
    "        start = time.clock()\n",
    "        split_info = make_split_quick(ematrix.bias, ematrix.features, ematrix.label, ematrix.gax, \n",
    "                                      profile_file = ('profile_cumsum2.json' if depth==1 else None))\n",
    "        dif = time.clock() - start\n",
    "        time1 += dif\n",
    "        time3 += [dif]\n",
    "    else:\n",
    "        split_info = make_split(ematrix.bias, ematrix.features, ematrix.label)\n",
    "    start = time.clock()\n",
    "    thr = split_info['thr']\n",
    "    features = ematrix.features\n",
    "    bias = ematrix.bias\n",
    "    label = ematrix.label\n",
    "    best_feature = features[:, split_info['best_feature_index']] \n",
    "    cond_left = best_feature < thr\n",
    "    cond_right = np.logical_not(cond_left)\n",
    "    if ematrix.gax is not None:\n",
    "        ax_left = new_ax(ematrix.gax, cond_left)\n",
    "        ax_right = new_ax(ematrix.gax, cond_right)\n",
    "    else:\n",
    "        ax_left = None\n",
    "        ax_right = None\n",
    "    left_ematrix = EMatrix(features[cond_left, :], label[cond_left], bias[cond_left], gax=ax_left)\n",
    "    right_ematrix = EMatrix(features[cond_right, :], label[cond_right], bias[cond_right], gax=ax_right)\n",
    "    left_info = {'prediction': split_info['best_delta_up'], 'ematrix': left_ematrix}\n",
    "    right_info = {'prediction': split_info['best_delta_down'], 'ematrix': right_ematrix}\n",
    "    split_info['left_info'] = left_info\n",
    "    split_info['right_info'] = right_info\n",
    "    time2 += time.clock() - start\n",
    "    return left_info, right_info, split_info"
   ]
  },
  {
   "cell_type": "code",
   "execution_count": 12,
   "metadata": {
    "collapsed": false,
    "deletable": true,
    "editable": true
   },
   "outputs": [],
   "source": [
    "def build_tree_helper(params, info, parent):\n",
    "    info['learning_rate'] = params['learning_rate']\n",
    "    if parent and parent.depth < 6:\n",
    "        print(\"{d}\".format(d=parent.depth) \n",
    "              if parent else '---',\n",
    "              \"\".format(shape=info['ematrix'].label.shape[0]),\n",
    "              end=' ', file=sys.stderr)\n",
    "    if prior_finish(params, info, parent):\n",
    "        return LeafData(info)\n",
    "    node = TreeNode()\n",
    "    node.depth = parent.depth + 1 if parent else 1\n",
    "    \n",
    "    left_info, right_info, split_info = split_ematrix(info['ematrix'], node.depth)\n",
    "    if post_finish(params, info, split_info, parent):\n",
    "        #print(split_info['right_info']['ematrix'].label.shape[0])\n",
    "        #print(split_info)\n",
    "        return LeafData(info)\n",
    "\n",
    "    node.val = SplitData(split_info)\n",
    "    node.left = build_tree_helper(params, left_info, node)\n",
    "    node.right = build_tree_helper(params, right_info, node)  \n",
    "    return node"
   ]
  },
  {
   "cell_type": "code",
   "execution_count": 13,
   "metadata": {
    "collapsed": true,
    "deletable": true,
    "editable": true
   },
   "outputs": [],
   "source": [
    "def build_tree(params, ematrix):\n",
    "    info = {'ematrix': ematrix}\n",
    "    if ematrix.splitgax and ematrix.gax is None:\n",
    "        ematrix.gax = make_gax(ematrix.features)\n",
    "    return build_tree_helper(params, info=info, parent=None)"
   ]
  },
  {
   "cell_type": "code",
   "execution_count": 14,
   "metadata": {
    "collapsed": true
   },
   "outputs": [],
   "source": [
    "def tree_apply(tree_arrays, features):\n",
    "    qi = np.zeros(features.shape[0], dtype=np.int32)\n",
    "    for current_depth in range(tree_arrays['treedepth']):\n",
    "        fi = tree_arrays['features'][qi]\n",
    "        f = np.choose(fi, features.T)\n",
    "        t = tree_arrays['thresholds'][qi]\n",
    "        #print(qi, fi, f, t)\n",
    "        #if current_depth == 0: \n",
    "        #    print(fi, f.shape, features.shape, f)\n",
    "        answer = (f < t)*1\n",
    "        new_qi = answer*tree_arrays['yes_node'][qi] + (1-answer)*tree_arrays['no_node'][qi]\n",
    "        qi = new_qi\n",
    "    leaf_data = tree_arrays['leaf_data'][qi, 0]\n",
    "    return leaf_data"
   ]
  },
  {
   "cell_type": "code",
   "execution_count": 15,
   "metadata": {
    "collapsed": false
   },
   "outputs": [
    {
     "data": {
      "text/plain": [
       "((300000, 15), (300000, 1))"
      ]
     },
     "execution_count": 15,
     "metadata": {},
     "output_type": "execute_result"
    }
   ],
   "source": [
    "features.shape, label.shape"
   ]
  },
  {
   "cell_type": "code",
   "execution_count": 17,
   "metadata": {
    "collapsed": false
   },
   "outputs": [
    {
     "name": "stderr",
     "output_type": "stream",
     "text": [
      "1  2  3  4  4  3  4  4  2  3  4  4  3  4  4  1  2  3  4  4  3  4  4  2  3  "
     ]
    },
    {
     "name": "stdout",
     "output_type": "stream",
     "text": [
      "CPU times: user 2.87 s, sys: 231 ms, total: 3.1 s\n",
      "Wall time: 2.54 s\n"
     ]
    },
    {
     "name": "stderr",
     "output_type": "stream",
     "text": [
      "3  4  4  \n",
      "split time = 2.40035, 0.62980, [0.33057, 0.29493, 0.22638, 0.18933, 0.13573, 0.18924, 0.17625, 0.10090, 0.13211, 0.12243, 0.11987, 0.10325, 0.09075, 0.09061, 0.09797]\n"
     ]
    }
   ],
   "source": [
    "%%time\n",
    "start_params = {'max_depth': 4, 'learning_rate':0.3}\n",
    "\n",
    "time1 = time2 =0\n",
    "time3 = []\n",
    "tree = build_tree(start_params, EMatrix(features, label, np.zeros(label.shape), splitgax=True))\n",
    "print(\"\\nsplit time = {:.5f}, {:.5f}, [{}]\".format(time1, time2, \", \".join(\"{:.5f}\".format(tt) for tt in time3)), file=sys.stderr)\n",
    "tree_arrays = init_arrays(tree, init_id(tree))"
   ]
  },
  {
   "cell_type": "code",
   "execution_count": 18,
   "metadata": {},
   "outputs": [
    {
     "data": {
      "text/plain": [
       "(0.5139355603899424, 0.5)"
      ]
     },
     "execution_count": 18,
     "metadata": {},
     "output_type": "execute_result"
    }
   ],
   "source": [
    "pred = tree_apply(tree_arrays, features)\n",
    "auc1 = metrics.roc_auc_score(label[:, 0], pred)\n",
    "auc0 = metrics.roc_auc_score(label[:, 0], np.zeros(label.shape[0]))\n",
    "auc1, auc0"
   ]
  },
  {
   "cell_type": "code",
   "execution_count": 19,
   "metadata": {
    "collapsed": false,
    "deletable": true,
    "editable": true
   },
   "outputs": [],
   "source": [
    "#tree.left.left.left.left.val, tree.val"
   ]
  },
  {
   "cell_type": "code",
   "execution_count": 20,
   "metadata": {
    "collapsed": true
   },
   "outputs": [],
   "source": [
    "def tree2gv(tree):\n",
    "    result = graphviz.Graph('ni')\n",
    "    #result.attr(size='12,0')\n",
    "    tree2gv_helper(tree, result, '')\n",
    "    return result"
   ]
  },
  {
   "cell_type": "code",
   "execution_count": 21,
   "metadata": {
    "collapsed": true,
    "deletable": true,
    "editable": true
   },
   "outputs": [],
   "source": [
    "def tree2gv_helper(node, result, id):\n",
    "    idn = id\n",
    "    result.node(idn, node.to_text(), shape='box') # node.shape())\n",
    "    if isinstance(node, LeafData):\n",
    "        return\n",
    "    if node.left is not None:\n",
    "        idl = id + '0'\n",
    "        tree2gv_helper(node.left, result, idl)\n",
    "        result.edge(idn, idl)\n",
    "    if node.right is not None:\n",
    "        idr = id + '1'\n",
    "        tree2gv_helper(node.right, result, idr)\n",
    "        result.edge(idn, idr)\n",
    "    \n",
    "    "
   ]
  },
  {
   "cell_type": "code",
   "execution_count": 22,
   "metadata": {
    "collapsed": false,
    "deletable": true,
    "editable": true
   },
   "outputs": [],
   "source": [
    "#tree2gv(tree)"
   ]
  },
  {
   "cell_type": "code",
   "execution_count": null,
   "metadata": {
    "collapsed": false
   },
   "outputs": [],
   "source": []
  },
  {
   "cell_type": "code",
   "execution_count": 23,
   "metadata": {
    "collapsed": true
   },
   "outputs": [],
   "source": [
    "class EBooster:\n",
    "    def __init__(self, forest):\n",
    "        self.forest = forest\n",
    "    \n",
    "    def predict(self, features, tree_limit = None):\n",
    "        pred = np.zeros(features.shape[0], dtype=np.float32)\n",
    "        for tree, tree_arrays in (self.forest if tree_limit is None else self.forest[:tree_limit]):\n",
    "            pred = pred + tree_apply(tree_arrays, features)\n",
    "        return pred \n",
    "    \n",
    "def train(params, ematrix, num_boost_round = 10):\n",
    "    start_params = {'max_depth': 5, 'learning_rate': 0.3, 'splitgax': False} \n",
    "    start_params.update(params)\n",
    "    \n",
    "    if start_params['splitgax'] and ematrix.gax is None:\n",
    "        ematrix.gax = make_gax(ematrix.features)\n",
    "    \n",
    "    forest = []\n",
    "    bias = np.zeros(ematrix.label.shape)\n",
    "    for r in range(num_boost_round):\n",
    "        print(\"\\n{} round\".format(r), file=sys.stderr)\n",
    "        tree = build_tree(start_params, EMatrix(ematrix.features, ematrix.label, bias, gax=ematrix.gax, splitgax=start_params['splitgax']))\n",
    "        #print(\"tree ok, bias shape = {}\".format(bias.shape), file=sys.stderr)\n",
    "        tree_arrays = init_arrays(tree, init_id(tree))\n",
    "        bias_delta = tree_apply(tree_arrays, features)\n",
    "        #print(\"apply ok, bias delta shape = {}\".format(bias_delta.shape), file=sys.stderr)\n",
    "        bias = bias + np.reshape(bias_delta, newshape=bias.shape)\n",
    "        forest.append((tree, tree_arrays))\n",
    "        #print(\"forest appended\", file=sys.stderr)\n",
    "        \n",
    "    return EBooster(forest)"
   ]
  },
  {
   "cell_type": "code",
   "execution_count": 24,
   "metadata": {
    "collapsed": false
   },
   "outputs": [
    {
     "name": "stderr",
     "output_type": "stream",
     "text": [
      "\n",
      "0 round\n",
      "1  2  3  4  4  3  4  4  2  3  4  4  3  4  4  1  2  3  4  4  3  4  4  2  3  3  4  4  \n",
      "1 round\n",
      "1  2  3  4  4  3  4  4  2  3  4  4  3  4  4  1  2  3  4  4  3  4  4  2  3  4  4  3  4  4  \n",
      "2 round\n",
      "1  2  3  4  4  3  4  4  2  3  4  4  3  4  4  1  2  3  4  4  3  4  4  2  3  4  4  3  4  4  \n",
      "3 round\n",
      "1  2  3  4  4  3  4  4  2  3  4  4  3  4  4  1  2  3  4  4  3  4  4  2  3  4  4  3  4  4  \n",
      "4 round\n",
      "1  2  3  4  4  3  4  4  2  3  4  4  3  4  4  1  2  3  4  4  3  4  4  2  3  4  4  3  4  4  \n",
      "5 round\n",
      "1  2  3  4  4  3  4  4  2  3  4  4  3  4  4  1  2  3  4  4  3  4  4  2  3  4  4  3  4  4  \n",
      "6 round\n",
      "1  2  3  4  4  3  4  4  2  3  4  4  3  4  4  1  2  3  4  4  3  4  4  2  3  4  4  3  "
     ]
    },
    {
     "name": "stdout",
     "output_type": "stream",
     "text": [
      "CPU times: user 19.6 s, sys: 1.49 s, total: 21.1 s\n",
      "Wall time: 17.4 s\n"
     ]
    },
    {
     "name": "stderr",
     "output_type": "stream",
     "text": [
      "4  4  "
     ]
    }
   ],
   "source": [
    "%%time\n",
    "boost_params = {'max_depth': 4, 'learning_rate':0.3, 'splitgax': True}\n",
    "booster = train(boost_params, EMatrix(features, label), num_boost_round=7)"
   ]
  },
  {
   "cell_type": "code",
   "execution_count": 31,
   "metadata": {},
   "outputs": [],
   "source": [
    "#%%time\n",
    "#gax13 = make_gax(features)\n",
    "#print(gax13.shape)"
   ]
  },
  {
   "cell_type": "code",
   "execution_count": 32,
   "metadata": {
    "collapsed": false
   },
   "outputs": [
    {
     "data": {
      "text/plain": [
       "0.5310147905131931"
      ]
     },
     "execution_count": 32,
     "metadata": {},
     "output_type": "execute_result"
    }
   ],
   "source": [
    "pred2 = booster.predict(features)\n",
    "metrics.roc_auc_score(label[:, 0], pred2)"
   ]
  },
  {
   "cell_type": "code",
   "execution_count": null,
   "metadata": {},
   "outputs": [],
   "source": [
    "pred2b = booster.predict(features, tree_limit=16)\n",
    "metrics.roc_auc_score(label[:, 0], pred2)"
   ]
  },
  {
   "cell_type": "code",
   "execution_count": null,
   "metadata": {},
   "outputs": [],
   "source": [
    "np.min(pred2b), np.max(pred2b)"
   ]
  },
  {
   "cell_type": "code",
   "execution_count": null,
   "metadata": {
    "collapsed": true
   },
   "outputs": [],
   "source": [
    "tree2gv(booster.forest[8][0])"
   ]
  },
  {
   "cell_type": "code",
   "execution_count": null,
   "metadata": {},
   "outputs": [],
   "source": [
    "dmat = xgb.DMatrix(features, label)"
   ]
  },
  {
   "cell_type": "code",
   "execution_count": null,
   "metadata": {},
   "outputs": [],
   "source": [
    "%%time\n",
    "params = {'max_depth': 4, 'objective': 'binary:logistic', 'eta': 0.3, 'tree_method': 'exact', 'lambda': 1}\n",
    "model = xgb.train(params, dmat, num_boost_round=20)"
   ]
  },
  {
   "cell_type": "code",
   "execution_count": null,
   "metadata": {},
   "outputs": [],
   "source": [
    "pred_fast = model.predict(dmat)\n",
    "metrics.roc_auc_score(label[:, 0], pred_fast)"
   ]
  },
  {
   "cell_type": "code",
   "execution_count": null,
   "metadata": {},
   "outputs": [],
   "source": [
    "pred_fast = model.predict(dmat, ntree_limit=16)\n",
    "metrics.roc_auc_score(label[:, 0], pred_fast)"
   ]
  },
  {
   "cell_type": "code",
   "execution_count": null,
   "metadata": {},
   "outputs": [],
   "source": [
    "qq = -np.log(1/pred_fast-1) \n",
    "np.min(qq), np.max(qq)"
   ]
  },
  {
   "cell_type": "code",
   "execution_count": null,
   "metadata": {},
   "outputs": [],
   "source": [
    "diff = np.abs(qq - pred2b)\n",
    "np.mean(diff > 0.1)"
   ]
  },
  {
   "cell_type": "code",
   "execution_count": null,
   "metadata": {},
   "outputs": [],
   "source": [
    "model.dump_model('xgb.dump')"
   ]
  },
  {
   "cell_type": "code",
   "execution_count": null,
   "metadata": {},
   "outputs": [],
   "source": [
    "tree2gv(booster.forest[15][0])"
   ]
  },
  {
   "cell_type": "code",
   "execution_count": null,
   "metadata": {},
   "outputs": [],
   "source": [
    "!cat xgb.dump | tail -n+$(echo 32*11+22 | bc)"
   ]
  },
  {
   "cell_type": "code",
   "execution_count": null,
   "metadata": {},
   "outputs": [],
   "source": []
  }
 ],
 "metadata": {
  "kernelspec": {
   "display_name": "Python 3",
   "language": "python",
   "name": "python3"
  },
  "language_info": {
   "codemirror_mode": {
    "name": "ipython",
    "version": 3
   },
   "file_extension": ".py",
   "mimetype": "text/x-python",
   "name": "python",
   "nbconvert_exporter": "python",
   "pygments_lexer": "ipython3",
   "version": "3.5.2"
  }
 },
 "nbformat": 4,
 "nbformat_minor": 2
}
