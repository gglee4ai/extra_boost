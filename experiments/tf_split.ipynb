{
 "cells": [
  {
   "cell_type": "code",
   "execution_count": 2,
   "metadata": {
    "collapsed": false,
    "deletable": true,
    "editable": true
   },
   "outputs": [],
   "source": [
    "import sys, os, io, json, numpy as np, random, time\n",
    "#from sklearn.metrics import roc_auc_score\n",
    "import xgboost as xgb\n",
    "import tensorflow as tf\n",
    "from importlib import reload\n",
    "import split\n",
    "reload(split)\n",
    "from split import split_graph, split_interface, make_split, make_split_quick, make_gax, split_quick_graph, split_quick_graph_transpose\n",
    "import graphviz\n",
    "from sklearn import metrics\n",
    "import cProfile\n",
    "\n",
    "\n",
    "def profile(func):\n",
    "    \"\"\"Decorator for run function profile\"\"\"\n",
    "    def wrapper(*args, **kwargs):\n",
    "        profile_filename = func.__name__ + '.prof'\n",
    "        profiler = cProfile.Profile()\n",
    "        result = profiler.runcall(func, *args, **kwargs)\n",
    "        profiler.dump_stats(profile_filename)\n",
    "        return result\n",
    "    return wrapper"
   ]
  },
  {
   "cell_type": "code",
   "execution_count": 3,
   "metadata": {
    "collapsed": true,
    "deletable": true,
    "editable": true
   },
   "outputs": [],
   "source": [
    "pool = np.load('../prepare_dataset/pool_00.npz')\n",
    "features_bool, f_time, label_orig = (pool[name] for name in ['features', 'f_time', 'label'])\n",
    "label = label_orig"
   ]
  },
  {
   "cell_type": "code",
   "execution_count": 165,
   "metadata": {
    "collapsed": false,
    "deletable": true,
    "editable": true
   },
   "outputs": [],
   "source": [
    "np.random.seed(42)\n",
    "features_orig = np.random.normal(loc=features_bool*1.0, scale=0.01)\n",
    "#features = features[:150000,:]; label = label_orig[:150000, :]\n",
    "features_swap = np.concatenate([features[:,7:8], features[:,1:7], features[:,0:1], features[:,8:]], axis=1)"
   ]
  },
  {
   "cell_type": "code",
   "execution_count": 166,
   "metadata": {},
   "outputs": [],
   "source": [
    "f_test, l_test = features_orig[150000:,:], label_orig[150000:, :]\n",
    "features = features_orig[:150000,:]; label = label_orig[:150000, :]"
   ]
  },
  {
   "cell_type": "code",
   "execution_count": 167,
   "metadata": {
    "collapsed": false,
    "deletable": true,
    "editable": true
   },
   "outputs": [
    {
     "name": "stdout",
     "output_type": "stream",
     "text": [
      "CPU times: user 158 ms, sys: 40.5 ms, total: 199 ms\n",
      "Wall time: 223 ms\n"
     ]
    },
    {
     "data": {
      "text/plain": [
       "{'avg_current_loss': 0.6931471805599454,\n",
       " 'best_avg_loss': 0.6120815567424301,\n",
       " 'best_delta_down': -0.9190529466904539,\n",
       " 'best_delta_up': -0.7700727742288582,\n",
       " 'best_feature_index': 0,\n",
       " 'best_index': 116932,\n",
       " 'best_loss': 91812.23351136452,\n",
       " 'current_loss': 103972.07708399181,\n",
       " 'thr': 0.9726869724670064}"
      ]
     },
     "execution_count": 167,
     "metadata": {},
     "output_type": "execute_result"
    }
   ],
   "source": [
    "%%time\n",
    "make_split(np.zeros(label.shape), features, label)"
   ]
  },
  {
   "cell_type": "code",
   "execution_count": 168,
   "metadata": {
    "collapsed": false,
    "deletable": true,
    "editable": true
   },
   "outputs": [
    {
     "name": "stdout",
     "output_type": "stream",
     "text": [
      "CPU times: user 134 ms, sys: 12.5 ms, total: 147 ms\n",
      "Wall time: 185 ms\n"
     ]
    },
    {
     "data": {
      "text/plain": [
       "{'avg_current_loss': 0.6931471805599454,\n",
       " 'best_avg_loss': 0.6124662697978176,\n",
       " 'best_delta_down': -0.8524145884388064,\n",
       " 'best_delta_up': -0.7880301414288563,\n",
       " 'best_feature_index': 4,\n",
       " 'best_index': 115318,\n",
       " 'best_loss': 91869.94046967264,\n",
       " 'current_loss': 103972.07708399181,\n",
       " 'thr': 0.8730081882149507}"
      ]
     },
     "execution_count": 168,
     "metadata": {},
     "output_type": "execute_result"
    }
   ],
   "source": [
    "%%time\n",
    "make_split(np.zeros(label.shape), features_swap, label)"
   ]
  },
  {
   "cell_type": "code",
   "execution_count": 169,
   "metadata": {
    "collapsed": true,
    "deletable": true,
    "editable": true
   },
   "outputs": [],
   "source": [
    "class EMatrix:\n",
    "    def __init__(self, features, label, bias=None, gax=None, splitgax = False):\n",
    "        self.bias = bias\n",
    "        self.features = features\n",
    "        self.label = label\n",
    "        self.gax = gax\n",
    "        self.splitgax = splitgax"
   ]
  },
  {
   "cell_type": "code",
   "execution_count": 170,
   "metadata": {
    "collapsed": true,
    "deletable": true,
    "editable": true
   },
   "outputs": [],
   "source": [
    "class LeafData:\n",
    "    def __init__(self, info):\n",
    "        self.val = info['prediction'] * info['learning_rate']\n",
    "        self.train_size = info['ematrix'].label.shape[0]\n",
    "        self.avg_target = np.mean(info['ematrix'].label, axis=0)[0]\n",
    "        \n",
    "    def to_text(self, floatformat = '.6f'):\n",
    "        return ('{:'+ floatformat + '} ({})\\n({:'+floatformat+'})').format(self.val, self.train_size, self.avg_target)\n",
    "    \n",
    "    def shape(self):\n",
    "        return 'box'\n",
    "\n",
    "class SplitData:\n",
    "    def __init__(self, val):\n",
    "        self.val = val\n",
    "        \n",
    "    def to_text(self, floatformat = '.4f'):\n",
    "        return ('f_{{{ind}}} < {thr:'+floatformat+'}').format(ind=self.val['best_feature_index'], thr=self.val['thr'])\n",
    "    \n",
    "        \n",
    "class TreeNode:\n",
    "    def __init__(self):\n",
    "        self.left = None\n",
    "        self.right = None\n",
    "        self.depth = 0\n",
    "        self.val = None\n",
    "        self.id = None\n",
    "        \n",
    "    def to_text(self, floatformat = '.6f'):\n",
    "        return self.val.to_text(floatformat)\n",
    "    \n",
    "    def shape(self):\n",
    "        return 'circle'\n",
    "        "
   ]
  },
  {
   "cell_type": "code",
   "execution_count": 171,
   "metadata": {
    "collapsed": true
   },
   "outputs": [],
   "source": [
    "def init_id_helper(node, current_id):\n",
    "    node.id = current_id[0]\n",
    "    current_id[0] += 1\n",
    "    if not isinstance(node, TreeNode):\n",
    "        return\n",
    "    init_id_helper(node.left, current_id)\n",
    "    init_id_helper(node.right, current_id)\n",
    "\n",
    "def init_id(root):\n",
    "    current_id = [0]\n",
    "    init_id_helper(root, current_id)\n",
    "    return current_id[0]"
   ]
  },
  {
   "cell_type": "code",
   "execution_count": 172,
   "metadata": {
    "collapsed": true
   },
   "outputs": [],
   "source": [
    "def init_arrays_helper(node, arrays):\n",
    "    if not isinstance(node, TreeNode):\n",
    "        arrays['is_leaf'][node.id] = 1\n",
    "        arrays['leaf_data'][node.id, 0] = node.val  # Leaf\n",
    "        return\n",
    "    init_arrays_helper(node.left, arrays)\n",
    "    init_arrays_helper(node.right, arrays)\n",
    "    arrays['yes_node'][node.id] = node.left.id\n",
    "    arrays['no_node'][node.id] = node.right.id\n",
    "    arrays['thresholds'][node.id] = node.val.val['thr']\n",
    "    arrays['features'][node.id] = node.val.val['best_feature_index']\n",
    "    arrays['is_leaf'][node.id] = 0\n",
    "    arrays['depths'][node.id] = node.depth\n",
    "    \n",
    "def init_arrays(root, n):\n",
    "    def empty_array():\n",
    "        return np.zeros(n, dtype=np.int32)\n",
    "    arrays = dict(features=empty_array(),\n",
    "                  thresholds=np.zeros(n, dtype=np.float32),\n",
    "                  yes_node=empty_array(),\n",
    "                  no_node=empty_array(),\n",
    "                  is_leaf=empty_array(),\n",
    "                  depths=empty_array(),\n",
    "                  leaf_data=np.zeros((n,1), dtype=np.float32)\n",
    "                 )\n",
    "    init_arrays_helper(root, arrays)\n",
    "    arrays['treedepth'] = np.max(arrays['depths'])\n",
    "    return arrays"
   ]
  },
  {
   "cell_type": "code",
   "execution_count": 173,
   "metadata": {
    "collapsed": true,
    "deletable": true,
    "editable": true
   },
   "outputs": [],
   "source": [
    "def prior_finish(params, info, parent):\n",
    "    if parent is None:\n",
    "        return False\n",
    "    return params['max_depth'] <= parent.depth\n",
    "\n",
    "def post_finish(params, info, split_info, parent):\n",
    "    if split_info['left_info']['ematrix'].label.shape[0] < 2:\n",
    "        return True\n",
    "    if split_info['right_info']['ematrix'].label.shape[0] < 2:\n",
    "        return True\n",
    "    return False"
   ]
  },
  {
   "cell_type": "code",
   "execution_count": 174,
   "metadata": {
    "collapsed": true,
    "deletable": true,
    "editable": true
   },
   "outputs": [],
   "source": [
    "def new_ax(ax, cond):\n",
    "    reindex = np.cumsum(cond)-1\n",
    "    axT = ax.T\n",
    "    return reindex[axT][cond[axT]].reshape((ax.shape[1], -1)).T\n",
    "time1 = 0\n",
    "time2 = 0\n",
    "time3 = []\n",
    "def split_ematrix(ematrix, depth, transposed_feature=False, sess=None):\n",
    "    global time1, time2, time3\n",
    "    if ematrix.gax is not None:\n",
    "        start = time.clock()\n",
    "        #print(ematrix.features.shape, file=sys.stderr)\n",
    "        #if (ematrix.features.shape[0]<=2):\n",
    "        #    print(ematrix.gax, file=sys.stderr)\n",
    "        split_info = make_split_quick(ematrix.bias, ematrix.features, ematrix.label, ematrix.gax, \n",
    "                                      transposed_feature=transposed_feature,\n",
    "                                      profile_file = ('profile_cumsum3.json' if depth==1 else None), sess=sess)\n",
    "        dif = time.clock() - start\n",
    "        time1 += dif\n",
    "        time3 += [dif]\n",
    "        \n",
    "        cond_left = split_info['left_cond']\n",
    "        cond_right = split_info['right_cond']\n",
    "        ax_left = split_info['ax_left']\n",
    "        ax_right = split_info['ax_right']\n",
    "    else:\n",
    "        split_info = make_split(ematrix.bias, ematrix.features, ematrix.label)\n",
    "        cond_left = best_feature < split_info['thr']\n",
    "        cond_right = np.logical_not(cond_left)\n",
    "        ax_left = ax_right = None\n",
    "\n",
    "        \n",
    "    start = time.clock()\n",
    "    features = ematrix.features\n",
    "    bias = ematrix.bias\n",
    "    label = ematrix.label\n",
    "        \n",
    "    if False:\n",
    "        thr = split_info['thr']        \n",
    "\n",
    "        best_feature = features[:, split_info['best_feature_index']] \n",
    "\n",
    "        cond_left = best_feature < thr\n",
    "        if not np.all((cond_left == split_info['left_cond']).ravel()):\n",
    "                print(\"AAAA\", file=sys.stderr)\n",
    "        cond_right = np.logical_not(cond_left)\n",
    "        if ematrix.gax is not None:\n",
    "            ax_left = new_ax(ematrix.gax, cond_left)\n",
    "            ax_right = new_ax(ematrix.gax, cond_right)\n",
    "            if not np.all((ax_left == split_info['ax_left']).ravel()):\n",
    "                print(\"AAAA\", file=sys.stderr)\n",
    "            if not np.all((ax_right == split_info['ax_right']).ravel()):\n",
    "                print(\"BBBB\", file=sys.stderr)\n",
    "        else:\n",
    "            ax_left = ax_right = None\n",
    "    \n",
    "    \n",
    "    left_ematrix = EMatrix(features[:, cond_left] if transposed_feature else features[cond_left, :], label[cond_left], bias[cond_left], gax=ax_left)\n",
    "    right_ematrix = EMatrix(features[:, cond_right] if transposed_feature else features[cond_right, :], label[cond_right], bias[cond_right], gax=ax_right)\n",
    "    left_info = {'prediction': split_info['best_delta_up'], 'ematrix': left_ematrix, 'sess': sess}\n",
    "    right_info = {'prediction': split_info['best_delta_down'], 'ematrix': right_ematrix, 'sess': sess}\n",
    "    split_info['left_info'] = left_info\n",
    "    split_info['right_info'] = right_info\n",
    "    time2 += time.clock() - start\n",
    "    return left_info, right_info, split_info"
   ]
  },
  {
   "cell_type": "code",
   "execution_count": 175,
   "metadata": {
    "collapsed": false,
    "deletable": true,
    "editable": true
   },
   "outputs": [],
   "source": [
    "def build_tree_helper(params, info, parent):\n",
    "    info['learning_rate'] = params['learning_rate']\n",
    "    if parent and parent.depth < 6:\n",
    "        print(\"{d}\".format(d=parent.depth) \n",
    "              if parent else '---',\n",
    "              \"\".format(shape=info['ematrix'].label.shape[0]),\n",
    "              end=' ', file=sys.stderr)\n",
    "    if prior_finish(params, info, parent):\n",
    "        return LeafData(info)\n",
    "    node = TreeNode()\n",
    "    node.depth = parent.depth + 1 if parent else 1\n",
    "    \n",
    "    left_info, right_info, split_info = split_ematrix(info['ematrix'], node.depth, transposed_feature=params['transposed_feature'], sess=info['sess'])\n",
    "    if post_finish(params, info, split_info, parent):\n",
    "        #print(split_info['right_info']['ematrix'].label.shape[0])\n",
    "        #print(split_info)\n",
    "        return LeafData(info)\n",
    "\n",
    "    node.val = SplitData(split_info)\n",
    "    node.left = build_tree_helper(params, left_info, node)\n",
    "    node.right = build_tree_helper(params, right_info, node)  \n",
    "    return node"
   ]
  },
  {
   "cell_type": "code",
   "execution_count": 176,
   "metadata": {
    "collapsed": true,
    "deletable": true,
    "editable": true
   },
   "outputs": [],
   "source": [
    "@profile\n",
    "def build_tree(params, ematrix, sess = None):\n",
    "    info = {'ematrix': ematrix, 'sess': sess}\n",
    "    if ematrix.splitgax and ematrix.gax is None:\n",
    "        ematrix.gax = make_gax(ematrix.features, axis=(1 if params['transposed_feature'] else 0))\n",
    "    return build_tree_helper(params, info=info, parent=None)"
   ]
  },
  {
   "cell_type": "code",
   "execution_count": 177,
   "metadata": {
    "collapsed": true
   },
   "outputs": [],
   "source": [
    "def tree_apply(tree_arrays, features):\n",
    "    qi = np.zeros(features.shape[0], dtype=np.int32)\n",
    "    for current_depth in range(tree_arrays['treedepth']):\n",
    "        fi = tree_arrays['features'][qi]\n",
    "        f = np.choose(fi, features.T)\n",
    "        t = tree_arrays['thresholds'][qi]\n",
    "        #print(qi, fi, f, t)\n",
    "        #if current_depth == 0: \n",
    "        #    print(fi, f.shape, features.shape, f)\n",
    "        answer = (f < t)*1\n",
    "        new_qi = answer*tree_arrays['yes_node'][qi] + (1-answer)*tree_arrays['no_node'][qi]\n",
    "        qi = new_qi\n",
    "    leaf_data = tree_arrays['leaf_data'][qi, 0]\n",
    "    return leaf_data"
   ]
  },
  {
   "cell_type": "code",
   "execution_count": 178,
   "metadata": {
    "collapsed": false
   },
   "outputs": [
    {
     "data": {
      "text/plain": [
       "((150000, 15), (150000, 1))"
      ]
     },
     "execution_count": 178,
     "metadata": {},
     "output_type": "execute_result"
    }
   ],
   "source": [
    "features.shape, label.shape"
   ]
  },
  {
   "cell_type": "code",
   "execution_count": 179,
   "metadata": {},
   "outputs": [],
   "source": [
    "global_ax = make_gax(features)\n",
    "featuresT = features.T\n",
    "global_axT = global_ax.T"
   ]
  },
  {
   "cell_type": "code",
   "execution_count": 180,
   "metadata": {
    "collapsed": false
   },
   "outputs": [
    {
     "name": "stderr",
     "output_type": "stream",
     "text": [
      "1  2  3  4  5  5  4  5  5  3  4  5  5  4  5  5  2  3  4  5  5  4  5  5  3  4  5  5  4  5  5  1  2  3  4  5  5  4  5  5  3  4  5  5  4  5  5  "
     ]
    },
    {
     "name": "stdout",
     "output_type": "stream",
     "text": [
      "CPU times: user 5.1 s, sys: 500 ms, total: 5.6 s\n",
      "Wall time: 2.33 s\n"
     ]
    },
    {
     "name": "stderr",
     "output_type": "stream",
     "text": [
      "2  3  3  4  5  5  4  5  5  \n",
      "split time = 5.44621, 0.11512, [0.60775, 0.25863, 0.22469, 0.20059, 0.17833, 0.14222, 0.13982, 0.05298, 0.09659, 0.02094, 0.02033, 0.01366, 0.04389, 0.03471, 0.03530, 0.01748, 0.01718, 0.01650, 0.01566, 0.03307, 0.03213, 0.03073, 0.02807, 0.01650, 0.01660, 0.01396, 0.01551, 0.01748, 0.01769, 0.01635, 0.01498, 0.01676, 0.04088, 0.03442, 0.03447, 0.02757, 0.02742, 0.01863, 0.01859, 0.01466, 0.01386, 0.01752, 0.01590, 0.01774, 0.01438, 0.01308, 0.01583, 0.01567, 0.01920, 0.01825, 0.01649, 0.01656, 0.01614, 0.01599, 0.01550, 0.01586, 0.01870, 0.01591, 0.01709, 0.04212, 0.03972, 0.03231, 0.03325, 0.02666, 0.02622, 0.01626, 0.01776, 0.01631, 0.01504, 0.01787, 0.01768, 0.01622, 0.01709, 0.01732, 0.01689, 0.01731, 0.01997, 0.01820, 0.01408, 0.01399, 0.01415, 0.01683, 0.02015, 0.01369, 0.01771, 0.01684, 0.01594, 0.01614, 0.01438, 0.01918, 0.01707, 0.01749, 0.01498, 0.01493, 0.01555, 0.01776, 0.01712, 0.01576, 0.01796, 0.01535, 0.01789, 0.01805, 0.01672, 0.01794, 0.01564, 0.01598, 0.01343, 0.01342, 0.07953, 0.08732, 0.07471, 0.07222, 0.06295, 0.06068, 0.05870, 0.01674, 0.01938, 0.01916, 0.01429, 0.02005, 0.02065, 0.01437, 0.01855, 0.01427, 0.01535, 0.01467, 0.02149, 0.02079, 0.01947, 0.01534, 0.02082, 0.01817, 0.01398, 0.01504, 0.01677, 0.01557, 0.01621, 0.01699, 0.01521, 0.02312, 0.01882, 0.01860, 0.01698, 0.01575, 0.01732, 0.01575, 0.01616, 0.01677, 0.01496, 0.01422, 0.01457, 0.01414, 0.01518, 0.02050, 0.01571, 0.01598, 0.01573, 0.01603, 0.01605, 0.02107, 0.01936, 0.01630, 0.01561, 0.01634, 0.01519, 0.01967, 0.01711, 0.01627, 0.01773, 0.01621, 0.01505, 0.01819, 0.01864, 0.01646, 0.01386, 0.01449, 0.01421, 0.01361, 0.01709, 0.01652, 0.01176]\n"
     ]
    }
   ],
   "source": [
    "%%time\n",
    "start_params = {'max_depth': 8, 'learning_rate':0.3, 'transposed_feature': 1}\n",
    "tf.constant\n",
    "time1 = time2 =0\n",
    "time3 = []\n",
    "with tf.Session(graph=split_quick_graph_transpose if start_params['transposed_feature'] else split_quick_graph) as s:\n",
    "    tree = build_tree(start_params, EMatrix(featuresT if start_params['transposed_feature'] else features, \n",
    "                                            label, np.zeros(label.shape), \n",
    "                                            gax=global_axT if start_params['transposed_feature'] else global_ax, \n",
    "                                            splitgax=True), sess=s)\n",
    "print(\"\\nsplit time = {:.5f}, {:.5f}, [{}]\".format(time1, time2, \", \".join(\"{:.5f}\".format(tt) for tt in time3)), file=sys.stderr)\n",
    "tree_arrays = init_arrays(tree, init_id(tree))"
   ]
  },
  {
   "cell_type": "code",
   "execution_count": 181,
   "metadata": {},
   "outputs": [],
   "source": [
    "import pstats\n",
    "p = pstats.Stats('build_tree.prof')\n",
    "#p.sort_stats('tottime').print_stats()"
   ]
  },
  {
   "cell_type": "code",
   "execution_count": 182,
   "metadata": {},
   "outputs": [
    {
     "data": {
      "text/plain": [
       "(0.5517982752846445, 0.5)"
      ]
     },
     "execution_count": 182,
     "metadata": {},
     "output_type": "execute_result"
    }
   ],
   "source": [
    "pred = tree_apply(tree_arrays, features)\n",
    "auc1 = metrics.roc_auc_score(label[:, 0], pred)\n",
    "auc0 = metrics.roc_auc_score(label[:, 0], np.zeros(label.shape[0]))\n",
    "auc1, auc0"
   ]
  },
  {
   "cell_type": "code",
   "execution_count": 183,
   "metadata": {
    "collapsed": false,
    "deletable": true,
    "editable": true
   },
   "outputs": [
    {
     "data": {
      "text/plain": [
       "<__main__.TreeNode at 0x7fef1c2d1c50>"
      ]
     },
     "execution_count": 183,
     "metadata": {},
     "output_type": "execute_result"
    }
   ],
   "source": [
    "#tree.left.left.left.left.val, tree.val\n",
    "tree.left.left"
   ]
  },
  {
   "cell_type": "code",
   "execution_count": 184,
   "metadata": {
    "collapsed": true
   },
   "outputs": [],
   "source": [
    "def tree2gv(tree):\n",
    "    result = graphviz.Graph('ni')\n",
    "    #result.attr(size='12,0')\n",
    "    tree2gv_helper(tree, result, '')\n",
    "    return result"
   ]
  },
  {
   "cell_type": "code",
   "execution_count": 185,
   "metadata": {
    "collapsed": true,
    "deletable": true,
    "editable": true
   },
   "outputs": [],
   "source": [
    "def tree2gv_helper(node, result, id):\n",
    "    idn = id\n",
    "    result.node(idn, node.to_text(), shape='box') # node.shape())\n",
    "    if isinstance(node, LeafData):\n",
    "        return\n",
    "    if node.left is not None:\n",
    "        idl = id + '0'\n",
    "        tree2gv_helper(node.left, result, idl)\n",
    "        result.edge(idn, idl)\n",
    "    if node.right is not None:\n",
    "        idr = id + '1'\n",
    "        tree2gv_helper(node.right, result, idr)\n",
    "        result.edge(idn, idr)\n",
    "    \n",
    "    "
   ]
  },
  {
   "cell_type": "code",
   "execution_count": 186,
   "metadata": {
    "collapsed": false,
    "deletable": true,
    "editable": true
   },
   "outputs": [],
   "source": [
    "#tree2gv(tree)"
   ]
  },
  {
   "cell_type": "code",
   "execution_count": null,
   "metadata": {
    "collapsed": false
   },
   "outputs": [],
   "source": []
  },
  {
   "cell_type": "code",
   "execution_count": 187,
   "metadata": {
    "collapsed": true
   },
   "outputs": [],
   "source": [
    "class EBooster:\n",
    "    def __init__(self, forest):\n",
    "        self.forest = forest\n",
    "    \n",
    "    def predict(self, features, tree_limit = None):\n",
    "        pred = np.zeros(features.shape[0], dtype=np.float32)\n",
    "        for tree, tree_arrays in (self.forest if tree_limit is None else self.forest[:tree_limit]):\n",
    "            pred = pred + tree_apply(tree_arrays, features)\n",
    "        return pred \n",
    "    \n",
    "def train(params, ematrix, num_boost_round = 10):\n",
    "    start_params = {'max_depth': 5, 'learning_rate': 0.3, 'splitgax': False, 'transposed_feature': False} \n",
    "    start_params.update(params)\n",
    "    \n",
    "    if start_params['splitgax'] and ematrix.gax is None:\n",
    "        ematrix.gax = make_gax(ematrix.features, axis=1 if start_params['transposed_feature'] else 0)\n",
    "    \n",
    "    forest = []\n",
    "    bias = np.zeros(ematrix.label.shape)\n",
    "    with tf.Session(graph=split_quick_graph_transpose if start_params['transposed_feature'] else split_quick_graph) as s:\n",
    "        for r in range(num_boost_round):\n",
    "            print(\"\\n{} round\".format(r), file=sys.stderr)\n",
    "            tree = build_tree(start_params, EMatrix(ematrix.features, ematrix.label, bias, gax=ematrix.gax, splitgax=start_params['splitgax']), sess=s)\n",
    "            #print(\"tree ok, bias shape = {}\".format(bias.shape), file=sys.stderr)\n",
    "            tree_arrays = init_arrays(tree, init_id(tree))\n",
    "            bias_delta = tree_apply(tree_arrays, features)\n",
    "            #print(\"apply ok, bias delta shape = {}\".format(bias_delta.shape), file=sys.stderr)\n",
    "            bias = bias + np.reshape(bias_delta, newshape=bias.shape)\n",
    "            forest.append((tree, tree_arrays))\n",
    "            #print(\"forest appended\", file=sys.stderr)\n",
    "        \n",
    "    return EBooster(forest)"
   ]
  },
  {
   "cell_type": "code",
   "execution_count": 188,
   "metadata": {
    "collapsed": false
   },
   "outputs": [
    {
     "name": "stderr",
     "output_type": "stream",
     "text": [
      "\n",
      "0 round\n",
      "1  2  3  4  4  3  4  4  2  3  4  4  3  4  4  1  2  3  4  4  3  4  4  2  3  3  4  4  \n",
      "1 round\n",
      "1  2  3  4  4  3  4  4  2  3  4  4  3  4  4  1  2  3  4  4  3  4  4  2  3  4  4  3  4  4  \n",
      "2 round\n",
      "1  2  3  4  4  3  4  4  2  3  4  4  3  4  4  1  2  3  4  4  3  4  4  2  3  4  4  3  4  4  \n",
      "3 round\n",
      "1  2  3  4  4  3  4  4  2  3  4  4  3  4  4  1  2  3  4  4  3  4  4  2  3  4  4  3  4  4  \n",
      "4 round\n",
      "1  2  3  4  4  3  4  4  2  3  4  4  3  4  4  1  2  3  4  4  3  4  4  2  3  4  4  3  4  4  \n",
      "5 round\n",
      "1  2  3  4  4  3  4  4  2  3  4  4  3  4  4  1  2  3  4  4  3  4  4  2  3  4  4  3  4  4  \n",
      "6 round\n",
      "1  2  3  4  4  3  4  4  2  3  4  4  3  4  4  1  2  3  4  4  3  4  4  2  3  4  4  3  4  4  \n",
      "7 round\n",
      "1  2  3  4  4  3  4  4  2  3  4  4  3  4  4  1  2  3  4  4  3  4  4  2  3  4  4  3  4  4  \n",
      "8 round\n",
      "1  2  3  4  4  3  4  4  2  3  4  4  3  4  4  1  2  3  4  4  3  4  4  2  3  4  4  3  4  4  \n",
      "9 round\n",
      "1  2  3  4  4  3  4  4  2  3  4  4  3  4  4  1  2  3  4  4  3  4  4  2  3  4  4  3  4  4  \n",
      "10 round\n",
      "1  2  3  4  4  3  4  4  2  3  4  4  3  4  4  1  2  3  4  4  3  4  4  2  3  4  4  3  4  4  \n",
      "11 round\n",
      "1  2  3  4  4  3  4  4  2  3  3  1  2  3  4  4  3  4  4  2  3  4  4  3  4  4  \n",
      "12 round\n",
      "1  2  3  4  4  3  4  4  2  3  4  4  3  4  4  1  2  3  4  4  3  4  4  2  3  4  4  3  4  4  \n",
      "13 round\n",
      "1  2  3  4  4  3  4  4  2  3  4  4  3  4  4  1  2  3  4  4  3  4  4  2  3  4  4  3  4  4  \n",
      "14 round\n",
      "1  2  3  4  4  3  4  4  2  3  4  4  3  4  4  1  2  3  4  4  3  4  4  2  3  4  4  3  4  4  \n",
      "15 round\n",
      "1  2  3  4  4  3  4  4  2  3  3  4  4  1  2  3  4  4  3  4  4  2  3  4  4  3  4  4  \n",
      "16 round\n",
      "1  2  3  4  4  3  4  4  2  3  4  4  3  4  4  1  2  3  4  4  3  4  4  2  3  4  4  3  4  4  \n",
      "17 round\n",
      "1  2  3  4  4  3  4  4  2  3  4  4  3  4  4  1  2  3  4  4  3  4  4  2  3  4  4  3  4  4  \n",
      "18 round\n",
      "1  2  3  4  4  3  4  4  2  3  4  4  3  4  4  1  2  3  4  4  3  4  4  2  3  4  4  3  4  4  \n",
      "19 round\n",
      "1  2  3  4  4  3  4  4  2  3  3  1  2  3  4  4  3  4  4  2  3  4  4  3  4  4  \n",
      "20 round\n",
      "1  2  3  4  4  3  4  4  2  3  3  4  4  1  2  2  \n",
      "21 round\n",
      "1  2  3  4  4  3  4  4  2  3  4  4  3  4  4  1  2  2  \n",
      "22 round\n",
      "1  2  3  4  4  3  4  4  2  1  2  2  \n",
      "23 round\n",
      "1  2  3  4  4  3  4  4  2  1  2  2  \n",
      "24 round\n",
      "1  2  3  4  4  3  4  4  2  1  2  2  \n",
      "25 round\n",
      "1  2  3  4  4  3  4  4  2  1  2  2  \n",
      "26 round\n",
      "1  2  3  4  4  3  4  4  2  1  2  2  \n",
      "27 round\n",
      "1  2  3  4  4  3  4  4  2  1  2  2  \n",
      "28 round\n",
      "1  2  3  4  4  3  4  4  2  1  2  2  \n",
      "29 round\n",
      "1  2  3  4  4  3  4  4  2  1  2  2  \n",
      "30 round\n",
      "1  2  3  4  4  3  4  4  2  1  2  2  \n",
      "31 round\n",
      "1  2  3  4  4  3  4  4  2  1  2  2  \n",
      "32 round\n",
      "1  2  3  4  4  3  4  4  2  1  2  2  \n",
      "33 round\n",
      "1  2  3  4  4  3  4  4  2  1  2  2  \n",
      "34 round\n",
      "1  2  3  4  4  3  4  4  2  1  2  2  \n",
      "35 round\n",
      "1  2  3  4  4  3  4  4  2  1  2  2  \n",
      "36 round\n",
      "1  2  3  4  4  3  4  4  2  1  2  2  \n",
      "37 round\n",
      "1  2  3  4  4  3  4  4  2  1  2  2  \n",
      "38 round\n",
      "1  2  3  4  4  3  4  4  2  1  2  2  \n",
      "39 round\n",
      "1  2  3  4  4  3  4  4  2  1  2  2  \n",
      "40 round\n",
      "1  2  3  4  4  3  2  1  2  2  \n",
      "41 round\n",
      "1  2  3  4  4  3  2  1  2  2  \n",
      "42 round\n",
      "1  2  3  4  4  3  2  1  2  2  \n",
      "43 round\n",
      "1  2  3  4  4  3  4  4  2  1  2  2  \n",
      "44 round\n",
      "1  2  3  4  4  3  4  4  2  1  2  2  \n",
      "45 round\n",
      "1  2  3  4  4  3  2  1  2  2  \n",
      "46 round\n",
      "1  2  3  4  4  3  2  1  2  2  \n",
      "47 round\n",
      "1  2  3  4  4  3  2  1  2  2  \n",
      "48 round\n",
      "1  2  3  4  4  3  2  1  2  2  \n",
      "49 round\n",
      "1  2  3  "
     ]
    },
    {
     "name": "stdout",
     "output_type": "stream",
     "text": [
      "CPU times: user 1min 15s, sys: 2.88 s, total: 1min 18s\n",
      "Wall time: 29.5 s\n"
     ]
    },
    {
     "name": "stderr",
     "output_type": "stream",
     "text": [
      "4  4  3  2  1  2  2  "
     ]
    }
   ],
   "source": [
    "%%time\n",
    "boost_params = {'max_depth': 4, 'learning_rate':0.3, 'splitgax': True, 'transposed_feature': 0}\n",
    "booster = train(boost_params, EMatrix(featuresT if boost_params['transposed_feature'] else features, label), num_boost_round=50)"
   ]
  },
  {
   "cell_type": "code",
   "execution_count": 189,
   "metadata": {},
   "outputs": [],
   "source": [
    "#%%time\n",
    "#gax13 = make_gax(features)\n",
    "#print(gax13.shape)"
   ]
  },
  {
   "cell_type": "code",
   "execution_count": 190,
   "metadata": {
    "collapsed": false
   },
   "outputs": [
    {
     "data": {
      "text/plain": [
       "0.5783850422568331"
      ]
     },
     "execution_count": 190,
     "metadata": {},
     "output_type": "execute_result"
    }
   ],
   "source": [
    "pred2 = booster.predict(features)\n",
    "metrics.roc_auc_score(label[:, 0], pred2)"
   ]
  },
  {
   "cell_type": "code",
   "execution_count": 191,
   "metadata": {},
   "outputs": [
    {
     "data": {
      "text/plain": [
       "0.547297544877569"
      ]
     },
     "execution_count": 191,
     "metadata": {},
     "output_type": "execute_result"
    }
   ],
   "source": [
    "pred_test = booster.predict(f_test)\n",
    "metrics.roc_auc_score(l_test[:, 0], pred_test)"
   ]
  },
  {
   "cell_type": "code",
   "execution_count": 192,
   "metadata": {},
   "outputs": [
    {
     "data": {
      "text/plain": [
       "(-1.7288423, 0.4147459)"
      ]
     },
     "execution_count": 192,
     "metadata": {},
     "output_type": "execute_result"
    }
   ],
   "source": [
    "np.min(pred2b), np.max(pred2b)"
   ]
  },
  {
   "cell_type": "code",
   "execution_count": 193,
   "metadata": {
    "collapsed": true
   },
   "outputs": [
    {
     "data": {
      "image/svg+xml": [
       "<?xml version=\"1.0\" encoding=\"UTF-8\" standalone=\"no\"?>\n",
       "<!DOCTYPE svg PUBLIC \"-//W3C//DTD SVG 1.1//EN\"\n",
       " \"http://www.w3.org/Graphics/SVG/1.1/DTD/svg11.dtd\">\n",
       "<!-- Generated by graphviz version 2.38.0 (20140413.2041)\n",
       " -->\n",
       "<!-- Title: ni Pages: 1 -->\n",
       "<svg width=\"606pt\" height=\"338pt\"\n",
       " viewBox=\"0.00 0.00 605.50 338.00\" xmlns=\"http://www.w3.org/2000/svg\" xmlns:xlink=\"http://www.w3.org/1999/xlink\">\n",
       "<g id=\"graph0\" class=\"graph\" transform=\"scale(1 1) rotate(0) translate(4 334)\">\n",
       "<title>ni</title>\n",
       "<polygon fill=\"white\" stroke=\"none\" points=\"-4,4 -4,-334 601.5,-334 601.5,4 -4,4\"/>\n",
       "<g id=\"node1\" class=\"node\"><title></title>\n",
       "<polygon fill=\"none\" stroke=\"black\" points=\"441.5,-330 319.5,-330 319.5,-294 441.5,-294 441.5,-330\"/>\n",
       "<text text-anchor=\"middle\" x=\"380.5\" y=\"-308.3\" font-family=\"Times,serif\" font-size=\"14.00\">f_{11} &lt; 1.033634</text>\n",
       "</g>\n",
       "<!-- 0 -->\n",
       "<g id=\"node2\" class=\"node\"><title>0</title>\n",
       "<polygon fill=\"none\" stroke=\"black\" points=\"373.5,-258 251.5,-258 251.5,-222 373.5,-222 373.5,-258\"/>\n",
       "<text text-anchor=\"middle\" x=\"312.5\" y=\"-236.3\" font-family=\"Times,serif\" font-size=\"14.00\">f_{11} &lt; 1.029214</text>\n",
       "</g>\n",
       "<!-- &#45;&#45;0 -->\n",
       "<g id=\"edge7\" class=\"edge\"><title>&#45;&#45;0</title>\n",
       "<path fill=\"none\" stroke=\"black\" d=\"M363.691,-293.697C353.151,-282.846 339.619,-268.917 329.116,-258.104\"/>\n",
       "</g>\n",
       "<!-- 1 -->\n",
       "<g id=\"node9\" class=\"node\"><title>1</title>\n",
       "<polygon fill=\"none\" stroke=\"black\" points=\"507,-258 392,-258 392,-222 507,-222 507,-258\"/>\n",
       "<text text-anchor=\"middle\" x=\"449.5\" y=\"-236.3\" font-family=\"Times,serif\" font-size=\"14.00\">f_{7} &lt; 0.007056</text>\n",
       "</g>\n",
       "<!-- &#45;&#45;1 -->\n",
       "<g id=\"edge10\" class=\"edge\"><title>&#45;&#45;1</title>\n",
       "<path fill=\"none\" stroke=\"black\" d=\"M397.556,-293.697C408.252,-282.846 421.982,-268.917 432.64,-258.104\"/>\n",
       "</g>\n",
       "<!-- 00 -->\n",
       "<g id=\"node3\" class=\"node\"><title>00</title>\n",
       "<polygon fill=\"none\" stroke=\"black\" points=\"252.5,-185 130.5,-185 130.5,-149 252.5,-149 252.5,-185\"/>\n",
       "<text text-anchor=\"middle\" x=\"191.5\" y=\"-163.3\" font-family=\"Times,serif\" font-size=\"14.00\">f_{13} &lt; 1.030469</text>\n",
       "</g>\n",
       "<!-- 0&#45;&#45;00 -->\n",
       "<g id=\"edge5\" class=\"edge\"><title>0&#45;&#45;00</title>\n",
       "<path fill=\"none\" stroke=\"black\" d=\"M283.517,-221.994C264.5,-210.835 239.719,-196.294 220.665,-185.114\"/>\n",
       "</g>\n",
       "<!-- 01 -->\n",
       "<g id=\"node8\" class=\"node\"><title>01</title>\n",
       "<polygon fill=\"none\" stroke=\"black\" points=\"368.5,-186 270.5,-186 270.5,-148 368.5,-148 368.5,-186\"/>\n",
       "<text text-anchor=\"middle\" x=\"319.5\" y=\"-170.8\" font-family=\"Times,serif\" font-size=\"14.00\">&#45;0.313176 (18)</text>\n",
       "<text text-anchor=\"middle\" x=\"319.5\" y=\"-155.8\" font-family=\"Times,serif\" font-size=\"14.00\">(0.000000)</text>\n",
       "</g>\n",
       "<!-- 0&#45;&#45;01 -->\n",
       "<g id=\"edge6\" class=\"edge\"><title>0&#45;&#45;01</title>\n",
       "<path fill=\"none\" stroke=\"black\" d=\"M314.195,-221.813C315.263,-210.978 316.64,-197.01 317.723,-186.02\"/>\n",
       "</g>\n",
       "<!-- 000 -->\n",
       "<g id=\"node4\" class=\"node\"><title>000</title>\n",
       "<polygon fill=\"none\" stroke=\"black\" points=\"187,-111 72,-111 72,-75 187,-75 187,-111\"/>\n",
       "<text text-anchor=\"middle\" x=\"129.5\" y=\"-89.3\" font-family=\"Times,serif\" font-size=\"14.00\">f_{0} &lt; 1.011738</text>\n",
       "</g>\n",
       "<!-- 00&#45;&#45;000 -->\n",
       "<g id=\"edge3\" class=\"edge\"><title>00&#45;&#45;000</title>\n",
       "<path fill=\"none\" stroke=\"black\" d=\"M176.807,-148.937C167.067,-137.626 154.324,-122.828 144.518,-111.441\"/>\n",
       "</g>\n",
       "<!-- 001 -->\n",
       "<g id=\"node7\" class=\"node\"><title>001</title>\n",
       "<polygon fill=\"none\" stroke=\"black\" points=\"302.5,-112 204.5,-112 204.5,-74 302.5,-74 302.5,-112\"/>\n",
       "<text text-anchor=\"middle\" x=\"253.5\" y=\"-96.8\" font-family=\"Times,serif\" font-size=\"14.00\">&#45;0.250656 (18)</text>\n",
       "<text text-anchor=\"middle\" x=\"253.5\" y=\"-81.8\" font-family=\"Times,serif\" font-size=\"14.00\">(0.055556)</text>\n",
       "</g>\n",
       "<!-- 00&#45;&#45;001 -->\n",
       "<g id=\"edge4\" class=\"edge\"><title>00&#45;&#45;001</title>\n",
       "<path fill=\"none\" stroke=\"black\" d=\"M206.193,-148.937C215.718,-137.875 228.115,-123.479 237.828,-112.199\"/>\n",
       "</g>\n",
       "<!-- 0000 -->\n",
       "<g id=\"node5\" class=\"node\"><title>0000</title>\n",
       "<polygon fill=\"none\" stroke=\"black\" points=\"125,-38 7.10543e-15,-38 7.10543e-15,-0 125,-0 125,-38\"/>\n",
       "<text text-anchor=\"middle\" x=\"62.5\" y=\"-22.8\" font-family=\"Times,serif\" font-size=\"14.00\">&#45;0.000460 (145935)</text>\n",
       "<text text-anchor=\"middle\" x=\"62.5\" y=\"-7.8\" font-family=\"Times,serif\" font-size=\"14.00\">(0.299681)</text>\n",
       "</g>\n",
       "<!-- 000&#45;&#45;0000 -->\n",
       "<g id=\"edge1\" class=\"edge\"><title>000&#45;&#45;0000</title>\n",
       "<path fill=\"none\" stroke=\"black\" d=\"M113.622,-74.937C103.329,-63.8755 89.9322,-49.4794 79.4353,-38.1992\"/>\n",
       "</g>\n",
       "<!-- 0001 -->\n",
       "<g id=\"node6\" class=\"node\"><title>0001</title>\n",
       "<polygon fill=\"none\" stroke=\"black\" points=\"250,-38 143,-38 143,-0 250,-0 250,-38\"/>\n",
       "<text text-anchor=\"middle\" x=\"196.5\" y=\"-22.8\" font-family=\"Times,serif\" font-size=\"14.00\">0.018268 (4021)</text>\n",
       "<text text-anchor=\"middle\" x=\"196.5\" y=\"-7.8\" font-family=\"Times,serif\" font-size=\"14.00\">(0.285501)</text>\n",
       "</g>\n",
       "<!-- 000&#45;&#45;0001 -->\n",
       "<g id=\"edge2\" class=\"edge\"><title>000&#45;&#45;0001</title>\n",
       "<path fill=\"none\" stroke=\"black\" d=\"M145.378,-74.937C155.671,-63.8755 169.068,-49.4794 179.565,-38.1992\"/>\n",
       "</g>\n",
       "<!-- 10 -->\n",
       "<g id=\"node10\" class=\"node\"><title>10</title>\n",
       "<polygon fill=\"none\" stroke=\"black\" points=\"487,-186 400,-186 400,-148 487,-148 487,-186\"/>\n",
       "<text text-anchor=\"middle\" x=\"443.5\" y=\"-170.8\" font-family=\"Times,serif\" font-size=\"14.00\">0.594357 (6)</text>\n",
       "<text text-anchor=\"middle\" x=\"443.5\" y=\"-155.8\" font-family=\"Times,serif\" font-size=\"14.00\">(1.000000)</text>\n",
       "</g>\n",
       "<!-- 1&#45;&#45;10 -->\n",
       "<g id=\"edge8\" class=\"edge\"><title>1&#45;&#45;10</title>\n",
       "<path fill=\"none\" stroke=\"black\" d=\"M448.048,-221.813C447.132,-210.978 445.952,-197.01 445.023,-186.02\"/>\n",
       "</g>\n",
       "<!-- 11 -->\n",
       "<g id=\"node11\" class=\"node\"><title>11</title>\n",
       "<polygon fill=\"none\" stroke=\"black\" points=\"597.5,-186 505.5,-186 505.5,-148 597.5,-148 597.5,-186\"/>\n",
       "<text text-anchor=\"middle\" x=\"551.5\" y=\"-170.8\" font-family=\"Times,serif\" font-size=\"14.00\">&#45;0.122742 (2)</text>\n",
       "<text text-anchor=\"middle\" x=\"551.5\" y=\"-155.8\" font-family=\"Times,serif\" font-size=\"14.00\">(0.000000)</text>\n",
       "</g>\n",
       "<!-- 1&#45;&#45;11 -->\n",
       "<g id=\"edge9\" class=\"edge\"><title>1&#45;&#45;11</title>\n",
       "<path fill=\"none\" stroke=\"black\" d=\"M473.932,-221.994C489.491,-211.163 509.628,-197.146 525.485,-186.109\"/>\n",
       "</g>\n",
       "</g>\n",
       "</svg>\n"
      ],
      "text/plain": [
       "<graphviz.dot.Graph at 0x7feee87b5438>"
      ]
     },
     "execution_count": 193,
     "metadata": {},
     "output_type": "execute_result"
    }
   ],
   "source": [
    "tree2gv(booster.forest[45][0])"
   ]
  },
  {
   "cell_type": "code",
   "execution_count": 194,
   "metadata": {},
   "outputs": [],
   "source": [
    "dmat = xgb.DMatrix(features, label)"
   ]
  },
  {
   "cell_type": "code",
   "execution_count": 195,
   "metadata": {},
   "outputs": [
    {
     "name": "stdout",
     "output_type": "stream",
     "text": [
      "[22:24:09] /workspace/src/tree/updater_prune.cc:74: tree pruning end, 1 roots, 28 extra nodes, 0 pruned nodes, max_depth=4\n",
      "[22:24:09] /workspace/src/tree/updater_prune.cc:74: tree pruning end, 1 roots, 30 extra nodes, 0 pruned nodes, max_depth=4\n",
      "[22:24:09] /workspace/src/tree/updater_prune.cc:74: tree pruning end, 1 roots, 30 extra nodes, 0 pruned nodes, max_depth=4\n",
      "[22:24:09] /workspace/src/tree/updater_prune.cc:74: tree pruning end, 1 roots, 30 extra nodes, 0 pruned nodes, max_depth=4\n",
      "[22:24:09] /workspace/src/tree/updater_prune.cc:74: tree pruning end, 1 roots, 30 extra nodes, 0 pruned nodes, max_depth=4\n",
      "[22:24:09] /workspace/src/tree/updater_prune.cc:74: tree pruning end, 1 roots, 30 extra nodes, 0 pruned nodes, max_depth=4\n",
      "[22:24:09] /workspace/src/tree/updater_prune.cc:74: tree pruning end, 1 roots, 30 extra nodes, 0 pruned nodes, max_depth=4\n",
      "[22:24:09] /workspace/src/tree/updater_prune.cc:74: tree pruning end, 1 roots, 30 extra nodes, 0 pruned nodes, max_depth=4\n",
      "[22:24:09] /workspace/src/tree/updater_prune.cc:74: tree pruning end, 1 roots, 30 extra nodes, 0 pruned nodes, max_depth=4\n",
      "[22:24:09] /workspace/src/tree/updater_prune.cc:74: tree pruning end, 1 roots, 30 extra nodes, 0 pruned nodes, max_depth=4\n",
      "[22:24:09] /workspace/src/tree/updater_prune.cc:74: tree pruning end, 1 roots, 30 extra nodes, 0 pruned nodes, max_depth=4\n",
      "[22:24:09] /workspace/src/tree/updater_prune.cc:74: tree pruning end, 1 roots, 30 extra nodes, 0 pruned nodes, max_depth=4\n",
      "[22:24:09] /workspace/src/tree/updater_prune.cc:74: tree pruning end, 1 roots, 30 extra nodes, 0 pruned nodes, max_depth=4\n",
      "[22:24:10] /workspace/src/tree/updater_prune.cc:74: tree pruning end, 1 roots, 30 extra nodes, 0 pruned nodes, max_depth=4\n",
      "[22:24:10] /workspace/src/tree/updater_prune.cc:74: tree pruning end, 1 roots, 30 extra nodes, 0 pruned nodes, max_depth=4\n",
      "[22:24:10] /workspace/src/tree/updater_prune.cc:74: tree pruning end, 1 roots, 30 extra nodes, 0 pruned nodes, max_depth=4\n",
      "[22:24:10] /workspace/src/tree/updater_prune.cc:74: tree pruning end, 1 roots, 24 extra nodes, 0 pruned nodes, max_depth=4\n",
      "[22:24:10] /workspace/src/tree/updater_prune.cc:74: tree pruning end, 1 roots, 28 extra nodes, 0 pruned nodes, max_depth=4\n",
      "[22:24:10] /workspace/src/tree/updater_prune.cc:74: tree pruning end, 1 roots, 30 extra nodes, 0 pruned nodes, max_depth=4\n",
      "[22:24:10] /workspace/src/tree/updater_prune.cc:74: tree pruning end, 1 roots, 16 extra nodes, 0 pruned nodes, max_depth=4\n",
      "[22:24:10] /workspace/src/tree/updater_prune.cc:74: tree pruning end, 1 roots, 28 extra nodes, 0 pruned nodes, max_depth=4\n",
      "[22:24:10] /workspace/src/tree/updater_prune.cc:74: tree pruning end, 1 roots, 30 extra nodes, 0 pruned nodes, max_depth=4\n",
      "[22:24:10] /workspace/src/tree/updater_prune.cc:74: tree pruning end, 1 roots, 28 extra nodes, 0 pruned nodes, max_depth=4\n",
      "[22:24:10] /workspace/src/tree/updater_prune.cc:74: tree pruning end, 1 roots, 28 extra nodes, 0 pruned nodes, max_depth=4\n",
      "[22:24:10] /workspace/src/tree/updater_prune.cc:74: tree pruning end, 1 roots, 30 extra nodes, 0 pruned nodes, max_depth=4\n",
      "[22:24:10] /workspace/src/tree/updater_prune.cc:74: tree pruning end, 1 roots, 18 extra nodes, 0 pruned nodes, max_depth=4\n",
      "[22:24:10] /workspace/src/tree/updater_prune.cc:74: tree pruning end, 1 roots, 20 extra nodes, 0 pruned nodes, max_depth=4\n",
      "[22:24:10] /workspace/src/tree/updater_prune.cc:74: tree pruning end, 1 roots, 18 extra nodes, 0 pruned nodes, max_depth=4\n",
      "[22:24:10] /workspace/src/tree/updater_prune.cc:74: tree pruning end, 1 roots, 26 extra nodes, 0 pruned nodes, max_depth=4\n",
      "[22:24:10] /workspace/src/tree/updater_prune.cc:74: tree pruning end, 1 roots, 10 extra nodes, 0 pruned nodes, max_depth=4\n",
      "[22:24:10] /workspace/src/tree/updater_prune.cc:74: tree pruning end, 1 roots, 28 extra nodes, 0 pruned nodes, max_depth=4\n",
      "[22:24:10] /workspace/src/tree/updater_prune.cc:74: tree pruning end, 1 roots, 28 extra nodes, 0 pruned nodes, max_depth=4\n",
      "[22:24:10] /workspace/src/tree/updater_prune.cc:74: tree pruning end, 1 roots, 30 extra nodes, 0 pruned nodes, max_depth=4\n",
      "[22:24:10] /workspace/src/tree/updater_prune.cc:74: tree pruning end, 1 roots, 28 extra nodes, 0 pruned nodes, max_depth=4\n",
      "[22:24:10] /workspace/src/tree/updater_prune.cc:74: tree pruning end, 1 roots, 16 extra nodes, 0 pruned nodes, max_depth=4\n",
      "[22:24:10] /workspace/src/tree/updater_prune.cc:74: tree pruning end, 1 roots, 22 extra nodes, 0 pruned nodes, max_depth=4\n",
      "[22:24:10] /workspace/src/tree/updater_prune.cc:74: tree pruning end, 1 roots, 30 extra nodes, 0 pruned nodes, max_depth=4\n",
      "[22:24:10] /workspace/src/tree/updater_prune.cc:74: tree pruning end, 1 roots, 30 extra nodes, 0 pruned nodes, max_depth=4\n",
      "[22:24:11] /workspace/src/tree/updater_prune.cc:74: tree pruning end, 1 roots, 30 extra nodes, 0 pruned nodes, max_depth=4\n",
      "[22:24:11] /workspace/src/tree/updater_prune.cc:74: tree pruning end, 1 roots, 30 extra nodes, 0 pruned nodes, max_depth=4\n",
      "[22:24:11] /workspace/src/tree/updater_prune.cc:74: tree pruning end, 1 roots, 28 extra nodes, 0 pruned nodes, max_depth=4\n",
      "[22:24:11] /workspace/src/tree/updater_prune.cc:74: tree pruning end, 1 roots, 16 extra nodes, 0 pruned nodes, max_depth=4\n",
      "[22:24:11] /workspace/src/tree/updater_prune.cc:74: tree pruning end, 1 roots, 30 extra nodes, 0 pruned nodes, max_depth=4\n",
      "[22:24:11] /workspace/src/tree/updater_prune.cc:74: tree pruning end, 1 roots, 30 extra nodes, 0 pruned nodes, max_depth=4\n",
      "[22:24:11] /workspace/src/tree/updater_prune.cc:74: tree pruning end, 1 roots, 30 extra nodes, 0 pruned nodes, max_depth=4\n",
      "[22:24:11] /workspace/src/tree/updater_prune.cc:74: tree pruning end, 1 roots, 26 extra nodes, 0 pruned nodes, max_depth=4\n",
      "[22:24:11] /workspace/src/tree/updater_prune.cc:74: tree pruning end, 1 roots, 18 extra nodes, 0 pruned nodes, max_depth=4\n",
      "[22:24:11] /workspace/src/tree/updater_prune.cc:74: tree pruning end, 1 roots, 18 extra nodes, 0 pruned nodes, max_depth=4\n",
      "[22:24:11] /workspace/src/tree/updater_prune.cc:74: tree pruning end, 1 roots, 26 extra nodes, 0 pruned nodes, max_depth=4\n",
      "[22:24:11] /workspace/src/tree/updater_prune.cc:74: tree pruning end, 1 roots, 30 extra nodes, 0 pruned nodes, max_depth=4\n",
      "CPU times: user 20.4 s, sys: 35.8 ms, total: 20.5 s\n",
      "Wall time: 2.07 s\n"
     ]
    }
   ],
   "source": [
    "%%time\n",
    "params = {'max_depth': 4, 'objective': 'binary:logistic', 'eta': 0.3, 'tree_method': 'exact', 'lambda': 1}\n",
    "model = xgb.train(params, dmat, num_boost_round=50)"
   ]
  },
  {
   "cell_type": "code",
   "execution_count": 196,
   "metadata": {},
   "outputs": [
    {
     "data": {
      "text/plain": [
       "0.5987831226886691"
      ]
     },
     "execution_count": 196,
     "metadata": {},
     "output_type": "execute_result"
    }
   ],
   "source": [
    "pred_fast = model.predict(dmat)\n",
    "metrics.roc_auc_score(label[:, 0], pred_fast)"
   ]
  },
  {
   "cell_type": "code",
   "execution_count": 197,
   "metadata": {},
   "outputs": [
    {
     "data": {
      "text/plain": [
       "0.5859454632209743"
      ]
     },
     "execution_count": 197,
     "metadata": {},
     "output_type": "execute_result"
    }
   ],
   "source": [
    "pred_fast = model.predict(dmat, ntree_limit=35)\n",
    "metrics.roc_auc_score(label[:, 0], pred_fast)"
   ]
  },
  {
   "cell_type": "code",
   "execution_count": 198,
   "metadata": {},
   "outputs": [
    {
     "data": {
      "text/plain": [
       "0.5689321897772331"
      ]
     },
     "execution_count": 198,
     "metadata": {},
     "output_type": "execute_result"
    }
   ],
   "source": [
    "pred2b = booster.predict(features, tree_limit=15)\n",
    "metrics.roc_auc_score(label[:, 0], pred2b)"
   ]
  },
  {
   "cell_type": "code",
   "execution_count": 199,
   "metadata": {},
   "outputs": [],
   "source": [
    "dmat_test = xgb.DMatrix(f_test, l_test)"
   ]
  },
  {
   "cell_type": "code",
   "execution_count": 200,
   "metadata": {},
   "outputs": [
    {
     "data": {
      "text/plain": [
       "0.5457320402572653"
      ]
     },
     "execution_count": 200,
     "metadata": {},
     "output_type": "execute_result"
    }
   ],
   "source": [
    "pred_test = model.predict(dmat_test)\n",
    "metrics.roc_auc_score(l_test[:, 0], pred_test)"
   ]
  },
  {
   "cell_type": "code",
   "execution_count": 64,
   "metadata": {},
   "outputs": [
    {
     "data": {
      "text/plain": [
       "(-1.5864264, 0.065994635)"
      ]
     },
     "execution_count": 64,
     "metadata": {},
     "output_type": "execute_result"
    }
   ],
   "source": [
    "qq = -np.log(1/pred_fast-1) \n",
    "np.min(qq), np.max(qq)"
   ]
  },
  {
   "cell_type": "code",
   "execution_count": 65,
   "metadata": {},
   "outputs": [
    {
     "data": {
      "text/plain": [
       "0.05103666666666667"
      ]
     },
     "execution_count": 65,
     "metadata": {},
     "output_type": "execute_result"
    }
   ],
   "source": [
    "diff = np.abs(qq - pred2b)\n",
    "np.mean(diff > 0.1)"
   ]
  },
  {
   "cell_type": "code",
   "execution_count": 126,
   "metadata": {},
   "outputs": [],
   "source": [
    "model.dump_model('xgb.dump')"
   ]
  },
  {
   "cell_type": "code",
   "execution_count": 127,
   "metadata": {},
   "outputs": [
    {
     "data": {
      "image/svg+xml": [
       "<?xml version=\"1.0\" encoding=\"UTF-8\" standalone=\"no\"?>\n",
       "<!DOCTYPE svg PUBLIC \"-//W3C//DTD SVG 1.1//EN\"\n",
       " \"http://www.w3.org/Graphics/SVG/1.1/DTD/svg11.dtd\">\n",
       "<!-- Generated by graphviz version 2.38.0 (20140413.2041)\n",
       " -->\n",
       "<!-- Title: ni Pages: 1 -->\n",
       "<svg width=\"2060pt\" height=\"334pt\"\n",
       " viewBox=\"0.00 0.00 2059.50 334.00\" xmlns=\"http://www.w3.org/2000/svg\" xmlns:xlink=\"http://www.w3.org/1999/xlink\">\n",
       "<g id=\"graph0\" class=\"graph\" transform=\"scale(1 1) rotate(0) translate(4 330)\">\n",
       "<title>ni</title>\n",
       "<polygon fill=\"white\" stroke=\"none\" points=\"-4,4 -4,-330 2055.5,-330 2055.5,4 -4,4\"/>\n",
       "<g id=\"node1\" class=\"node\"><title></title>\n",
       "<polygon fill=\"none\" stroke=\"black\" points=\"1109,-326 994,-326 994,-290 1109,-290 1109,-326\"/>\n",
       "<text text-anchor=\"middle\" x=\"1051.5\" y=\"-304.3\" font-family=\"Times,serif\" font-size=\"14.00\">f_{1} &lt; 0.744429</text>\n",
       "</g>\n",
       "<!-- 0 -->\n",
       "<g id=\"node2\" class=\"node\"><title>0</title>\n",
       "<polygon fill=\"none\" stroke=\"black\" points=\"853,-254 738,-254 738,-218 853,-218 853,-254\"/>\n",
       "<text text-anchor=\"middle\" x=\"795.5\" y=\"-232.3\" font-family=\"Times,serif\" font-size=\"14.00\">f_{4} &lt; 0.882762</text>\n",
       "</g>\n",
       "<!-- &#45;&#45;0 -->\n",
       "<g id=\"edge15\" class=\"edge\"><title>&#45;&#45;0</title>\n",
       "<path fill=\"none\" stroke=\"black\" d=\"M993.729,-291.203C951.701,-279.711 895.04,-264.218 853.06,-252.739\"/>\n",
       "</g>\n",
       "<!-- 1 -->\n",
       "<g id=\"node17\" class=\"node\"><title>1</title>\n",
       "<polygon fill=\"none\" stroke=\"black\" points=\"1364,-254 1249,-254 1249,-218 1364,-218 1364,-254\"/>\n",
       "<text text-anchor=\"middle\" x=\"1306.5\" y=\"-232.3\" font-family=\"Times,serif\" font-size=\"14.00\">f_{5} &lt; 1.043818</text>\n",
       "</g>\n",
       "<!-- &#45;&#45;1 -->\n",
       "<g id=\"edge30\" class=\"edge\"><title>&#45;&#45;1</title>\n",
       "<path fill=\"none\" stroke=\"black\" d=\"M1109.04,-291.203C1150.76,-279.751 1206.95,-264.327 1248.72,-252.86\"/>\n",
       "</g>\n",
       "<!-- 00 -->\n",
       "<g id=\"node3\" class=\"node\"><title>00</title>\n",
       "<polygon fill=\"none\" stroke=\"black\" points=\"464,-182 345,-182 345,-146 464,-146 464,-182\"/>\n",
       "<text text-anchor=\"middle\" x=\"404.5\" y=\"-160.3\" font-family=\"Times,serif\" font-size=\"14.00\">f_{0} &lt; &#45;0.025420</text>\n",
       "</g>\n",
       "<!-- 0&#45;&#45;00 -->\n",
       "<g id=\"edge7\" class=\"edge\"><title>0&#45;&#45;00</title>\n",
       "<path fill=\"none\" stroke=\"black\" d=\"M737.807,-224.671C664.413,-211.532 538.297,-188.953 464.034,-175.658\"/>\n",
       "</g>\n",
       "<!-- 01 -->\n",
       "<g id=\"node10\" class=\"node\"><title>01</title>\n",
       "<polygon fill=\"none\" stroke=\"black\" points=\"853,-182 738,-182 738,-146 853,-146 853,-182\"/>\n",
       "<text text-anchor=\"middle\" x=\"795.5\" y=\"-160.3\" font-family=\"Times,serif\" font-size=\"14.00\">f_{4} &lt; 0.915537</text>\n",
       "</g>\n",
       "<!-- 0&#45;&#45;01 -->\n",
       "<g id=\"edge14\" class=\"edge\"><title>0&#45;&#45;01</title>\n",
       "<path fill=\"none\" stroke=\"black\" d=\"M795.5,-217.697C795.5,-206.846 795.5,-192.917 795.5,-182.104\"/>\n",
       "</g>\n",
       "<!-- 000 -->\n",
       "<g id=\"node4\" class=\"node\"><title>000</title>\n",
       "<polygon fill=\"none\" stroke=\"black\" points=\"259.5,-110 133.5,-110 133.5,-74 259.5,-74 259.5,-110\"/>\n",
       "<text text-anchor=\"middle\" x=\"196.5\" y=\"-88.3\" font-family=\"Times,serif\" font-size=\"14.00\">f_{13} &lt; &#45;0.071855</text>\n",
       "</g>\n",
       "<!-- 00&#45;&#45;000 -->\n",
       "<g id=\"edge3\" class=\"edge\"><title>00&#45;&#45;000</title>\n",
       "<path fill=\"none\" stroke=\"black\" d=\"M353.883,-145.966C321.536,-135.079 279.735,-121.012 247.344,-110.111\"/>\n",
       "</g>\n",
       "<!-- 001 -->\n",
       "<g id=\"node7\" class=\"node\"><title>001</title>\n",
       "<polygon fill=\"none\" stroke=\"black\" points=\"465.5,-110 343.5,-110 343.5,-74 465.5,-74 465.5,-110\"/>\n",
       "<text text-anchor=\"middle\" x=\"404.5\" y=\"-88.3\" font-family=\"Times,serif\" font-size=\"14.00\">f_{11} &lt; 0.031528</text>\n",
       "</g>\n",
       "<!-- 00&#45;&#45;001 -->\n",
       "<g id=\"edge6\" class=\"edge\"><title>00&#45;&#45;001</title>\n",
       "<path fill=\"none\" stroke=\"black\" d=\"M404.5,-145.697C404.5,-134.846 404.5,-120.917 404.5,-110.104\"/>\n",
       "</g>\n",
       "<!-- 0000 -->\n",
       "<g id=\"node5\" class=\"node\"><title>0000</title>\n",
       "<polygon fill=\"none\" stroke=\"black\" points=\"119,-38 0,-38 0,-0 119,-0 119,-38\"/>\n",
       "<text text-anchor=\"middle\" x=\"59.5\" y=\"-22.8\" font-family=\"Times,serif\" font-size=\"14.00\">&#45;0.149168 (30461)</text>\n",
       "<text text-anchor=\"middle\" x=\"59.5\" y=\"-7.8\" font-family=\"Times,serif\" font-size=\"14.00\">(0.318834)</text>\n",
       "</g>\n",
       "<!-- 000&#45;&#45;0000 -->\n",
       "<g id=\"edge1\" class=\"edge\"><title>000&#45;&#45;0000</title>\n",
       "<path fill=\"none\" stroke=\"black\" d=\"M163.685,-73.9937C142.787,-63.1632 115.74,-49.1464 94.442,-38.1086\"/>\n",
       "</g>\n",
       "<!-- 0001 -->\n",
       "<g id=\"node6\" class=\"node\"><title>0001</title>\n",
       "<polygon fill=\"none\" stroke=\"black\" points=\"256,-38 137,-38 137,-0 256,-0 256,-38\"/>\n",
       "<text text-anchor=\"middle\" x=\"196.5\" y=\"-22.8\" font-family=\"Times,serif\" font-size=\"14.00\">&#45;0.165523 (39589)</text>\n",
       "<text text-anchor=\"middle\" x=\"196.5\" y=\"-7.8\" font-family=\"Times,serif\" font-size=\"14.00\">(0.304883)</text>\n",
       "</g>\n",
       "<!-- 000&#45;&#45;0001 -->\n",
       "<g id=\"edge2\" class=\"edge\"><title>000&#45;&#45;0001</title>\n",
       "<path fill=\"none\" stroke=\"black\" d=\"M196.5,-73.8129C196.5,-62.9782 196.5,-49.0096 196.5,-38.0196\"/>\n",
       "</g>\n",
       "<!-- 0010 -->\n",
       "<g id=\"node8\" class=\"node\"><title>0010</title>\n",
       "<polygon fill=\"none\" stroke=\"black\" points=\"393,-38 274,-38 274,-0 393,-0 393,-38\"/>\n",
       "<text text-anchor=\"middle\" x=\"333.5\" y=\"-22.8\" font-family=\"Times,serif\" font-size=\"14.00\">&#45;0.164484 (46793)</text>\n",
       "<text text-anchor=\"middle\" x=\"333.5\" y=\"-7.8\" font-family=\"Times,serif\" font-size=\"14.00\">(0.304682)</text>\n",
       "</g>\n",
       "<!-- 001&#45;&#45;0010 -->\n",
       "<g id=\"edge4\" class=\"edge\"><title>001&#45;&#45;0010</title>\n",
       "<path fill=\"none\" stroke=\"black\" d=\"M387.313,-73.8129C376.478,-62.9782 362.51,-49.0096 351.52,-38.0196\"/>\n",
       "</g>\n",
       "<!-- 0011 -->\n",
       "<g id=\"node9\" class=\"node\"><title>0011</title>\n",
       "<polygon fill=\"none\" stroke=\"black\" points=\"530,-38 411,-38 411,-0 530,-0 530,-38\"/>\n",
       "<text text-anchor=\"middle\" x=\"470.5\" y=\"-22.8\" font-family=\"Times,serif\" font-size=\"14.00\">&#45;0.176672 (52113)</text>\n",
       "<text text-anchor=\"middle\" x=\"470.5\" y=\"-7.8\" font-family=\"Times,serif\" font-size=\"14.00\">(0.293900)</text>\n",
       "</g>\n",
       "<!-- 001&#45;&#45;0011 -->\n",
       "<g id=\"edge5\" class=\"edge\"><title>001&#45;&#45;0011</title>\n",
       "<path fill=\"none\" stroke=\"black\" d=\"M420.477,-73.8129C430.548,-62.9782 443.533,-49.0096 453.749,-38.0196\"/>\n",
       "</g>\n",
       "<!-- 010 -->\n",
       "<g id=\"node11\" class=\"node\"><title>010</title>\n",
       "<polygon fill=\"none\" stroke=\"black\" points=\"783,-110 668,-110 668,-74 783,-74 783,-110\"/>\n",
       "<text text-anchor=\"middle\" x=\"725.5\" y=\"-88.3\" font-family=\"Times,serif\" font-size=\"14.00\">f_{2} &lt; 1.326934</text>\n",
       "</g>\n",
       "<!-- 01&#45;&#45;010 -->\n",
       "<g id=\"edge10\" class=\"edge\"><title>01&#45;&#45;010</title>\n",
       "<path fill=\"none\" stroke=\"black\" d=\"M778.197,-145.697C767.346,-134.846 753.417,-120.917 742.604,-110.104\"/>\n",
       "</g>\n",
       "<!-- 011 -->\n",
       "<g id=\"node14\" class=\"node\"><title>011</title>\n",
       "<polygon fill=\"none\" stroke=\"black\" points=\"927.5,-110 801.5,-110 801.5,-74 927.5,-74 927.5,-110\"/>\n",
       "<text text-anchor=\"middle\" x=\"864.5\" y=\"-88.3\" font-family=\"Times,serif\" font-size=\"14.00\">f_{14} &lt; &#45;1.313558</text>\n",
       "</g>\n",
       "<!-- 01&#45;&#45;011 -->\n",
       "<g id=\"edge13\" class=\"edge\"><title>01&#45;&#45;011</title>\n",
       "<path fill=\"none\" stroke=\"black\" d=\"M812.556,-145.697C823.252,-134.846 836.982,-120.917 847.64,-110.104\"/>\n",
       "</g>\n",
       "<!-- 0100 -->\n",
       "<g id=\"node12\" class=\"node\"><title>0100</title>\n",
       "<polygon fill=\"none\" stroke=\"black\" points=\"660.5,-38 548.5,-38 548.5,-0 660.5,-0 660.5,-38\"/>\n",
       "<text text-anchor=\"middle\" x=\"604.5\" y=\"-22.8\" font-family=\"Times,serif\" font-size=\"14.00\">&#45;0.212474 (1792)</text>\n",
       "<text text-anchor=\"middle\" x=\"604.5\" y=\"-7.8\" font-family=\"Times,serif\" font-size=\"14.00\">(0.265067)</text>\n",
       "</g>\n",
       "<!-- 010&#45;&#45;0100 -->\n",
       "<g id=\"edge8\" class=\"edge\"><title>010&#45;&#45;0100</title>\n",
       "<path fill=\"none\" stroke=\"black\" d=\"M696.517,-73.9937C678.06,-63.1632 654.172,-49.1464 635.361,-38.1086\"/>\n",
       "</g>\n",
       "<!-- 0101 -->\n",
       "<g id=\"node13\" class=\"node\"><title>0101</title>\n",
       "<polygon fill=\"none\" stroke=\"black\" points=\"784,-38 679,-38 679,-0 784,-0 784,-38\"/>\n",
       "<text text-anchor=\"middle\" x=\"731.5\" y=\"-22.8\" font-family=\"Times,serif\" font-size=\"14.00\">&#45;0.324767 (237)</text>\n",
       "<text text-anchor=\"middle\" x=\"731.5\" y=\"-7.8\" font-family=\"Times,serif\" font-size=\"14.00\">(0.168776)</text>\n",
       "</g>\n",
       "<!-- 010&#45;&#45;0101 -->\n",
       "<g id=\"edge9\" class=\"edge\"><title>010&#45;&#45;0101</title>\n",
       "<path fill=\"none\" stroke=\"black\" d=\"M726.952,-73.8129C727.868,-62.9782 729.048,-49.0096 729.977,-38.0196\"/>\n",
       "</g>\n",
       "<!-- 0110 -->\n",
       "<g id=\"node15\" class=\"node\"><title>0110</title>\n",
       "<polygon fill=\"none\" stroke=\"black\" points=\"914.5,-38 802.5,-38 802.5,-0 914.5,-0 914.5,-38\"/>\n",
       "<text text-anchor=\"middle\" x=\"858.5\" y=\"-22.8\" font-family=\"Times,serif\" font-size=\"14.00\">&#45;0.146370 (4080)</text>\n",
       "<text text-anchor=\"middle\" x=\"858.5\" y=\"-7.8\" font-family=\"Times,serif\" font-size=\"14.00\">(0.320343)</text>\n",
       "</g>\n",
       "<!-- 011&#45;&#45;0110 -->\n",
       "<g id=\"edge11\" class=\"edge\"><title>011&#45;&#45;0110</title>\n",
       "<path fill=\"none\" stroke=\"black\" d=\"M863.048,-73.8129C862.132,-62.9782 860.952,-49.0096 860.023,-38.0196\"/>\n",
       "</g>\n",
       "<!-- 0111 -->\n",
       "<g id=\"node16\" class=\"node\"><title>0111</title>\n",
       "<polygon fill=\"none\" stroke=\"black\" points=\"1052,-38 933,-38 933,-0 1052,-0 1052,-38\"/>\n",
       "<text text-anchor=\"middle\" x=\"992.5\" y=\"-22.8\" font-family=\"Times,serif\" font-size=\"14.00\">&#45;0.179562 (44048)</text>\n",
       "<text text-anchor=\"middle\" x=\"992.5\" y=\"-7.8\" font-family=\"Times,serif\" font-size=\"14.00\">(0.292499)</text>\n",
       "</g>\n",
       "<!-- 011&#45;&#45;0111 -->\n",
       "<g id=\"edge12\" class=\"edge\"><title>011&#45;&#45;0111</title>\n",
       "<path fill=\"none\" stroke=\"black\" d=\"M895.159,-73.9937C914.685,-63.1632 939.954,-49.1464 959.853,-38.1086\"/>\n",
       "</g>\n",
       "<!-- 10 -->\n",
       "<g id=\"node18\" class=\"node\"><title>10</title>\n",
       "<polygon fill=\"none\" stroke=\"black\" points=\"1366,-182 1247,-182 1247,-146 1366,-146 1366,-182\"/>\n",
       "<text text-anchor=\"middle\" x=\"1306.5\" y=\"-160.3\" font-family=\"Times,serif\" font-size=\"14.00\">f_{6} &lt; &#45;2.324135</text>\n",
       "</g>\n",
       "<!-- 1&#45;&#45;10 -->\n",
       "<g id=\"edge22\" class=\"edge\"><title>1&#45;&#45;10</title>\n",
       "<path fill=\"none\" stroke=\"black\" d=\"M1306.5,-217.697C1306.5,-206.846 1306.5,-192.917 1306.5,-182.104\"/>\n",
       "</g>\n",
       "<!-- 11 -->\n",
       "<g id=\"node25\" class=\"node\"><title>11</title>\n",
       "<polygon fill=\"none\" stroke=\"black\" points=\"1734,-182 1615,-182 1615,-146 1734,-146 1734,-182\"/>\n",
       "<text text-anchor=\"middle\" x=\"1674.5\" y=\"-160.3\" font-family=\"Times,serif\" font-size=\"14.00\">f_{6} &lt; &#45;2.509232</text>\n",
       "</g>\n",
       "<!-- 1&#45;&#45;11 -->\n",
       "<g id=\"edge29\" class=\"edge\"><title>1&#45;&#45;11</title>\n",
       "<path fill=\"none\" stroke=\"black\" d=\"M1364,-224.062C1432.33,-211.066 1545.76,-189.489 1614.97,-176.325\"/>\n",
       "</g>\n",
       "<!-- 100 -->\n",
       "<g id=\"node19\" class=\"node\"><title>100</title>\n",
       "<polygon fill=\"none\" stroke=\"black\" points=\"1296,-110 1181,-110 1181,-74 1296,-74 1296,-110\"/>\n",
       "<text text-anchor=\"middle\" x=\"1238.5\" y=\"-88.3\" font-family=\"Times,serif\" font-size=\"14.00\">f_{5} &lt; 0.453521</text>\n",
       "</g>\n",
       "<!-- 10&#45;&#45;100 -->\n",
       "<g id=\"edge18\" class=\"edge\"><title>10&#45;&#45;100</title>\n",
       "<path fill=\"none\" stroke=\"black\" d=\"M1289.69,-145.697C1279.15,-134.846 1265.62,-120.917 1255.12,-110.104\"/>\n",
       "</g>\n",
       "<!-- 101 -->\n",
       "<g id=\"node22\" class=\"node\"><title>101</title>\n",
       "<polygon fill=\"none\" stroke=\"black\" points=\"1436.5,-110 1314.5,-110 1314.5,-74 1436.5,-74 1436.5,-110\"/>\n",
       "<text text-anchor=\"middle\" x=\"1375.5\" y=\"-88.3\" font-family=\"Times,serif\" font-size=\"14.00\">f_{12} &lt; 1.957725</text>\n",
       "</g>\n",
       "<!-- 10&#45;&#45;101 -->\n",
       "<g id=\"edge21\" class=\"edge\"><title>10&#45;&#45;101</title>\n",
       "<path fill=\"none\" stroke=\"black\" d=\"M1323.56,-145.697C1334.25,-134.846 1347.98,-120.917 1358.64,-110.104\"/>\n",
       "</g>\n",
       "<!-- 1000 -->\n",
       "<g id=\"node20\" class=\"node\"><title>1000</title>\n",
       "<polygon fill=\"none\" stroke=\"black\" points=\"1175,-38 1070,-38 1070,-0 1175,-0 1175,-38\"/>\n",
       "<text text-anchor=\"middle\" x=\"1122.5\" y=\"-22.8\" font-family=\"Times,serif\" font-size=\"14.00\">&#45;0.134311 (456)</text>\n",
       "<text text-anchor=\"middle\" x=\"1122.5\" y=\"-7.8\" font-family=\"Times,serif\" font-size=\"14.00\">(0.328947)</text>\n",
       "</g>\n",
       "<!-- 100&#45;&#45;1000 -->\n",
       "<g id=\"edge16\" class=\"edge\"><title>100&#45;&#45;1000</title>\n",
       "<path fill=\"none\" stroke=\"black\" d=\"M1210.72,-73.9937C1193.02,-63.1632 1170.12,-49.1464 1152.09,-38.1086\"/>\n",
       "</g>\n",
       "<!-- 1001 -->\n",
       "<g id=\"node21\" class=\"node\"><title>1001</title>\n",
       "<polygon fill=\"none\" stroke=\"black\" points=\"1294,-38 1193,-38 1193,-0 1294,-0 1294,-38\"/>\n",
       "<text text-anchor=\"middle\" x=\"1243.5\" y=\"-22.8\" font-family=\"Times,serif\" font-size=\"14.00\">0.061685 (138)</text>\n",
       "<text text-anchor=\"middle\" x=\"1243.5\" y=\"-7.8\" font-family=\"Times,serif\" font-size=\"14.00\">(0.492754)</text>\n",
       "</g>\n",
       "<!-- 100&#45;&#45;1001 -->\n",
       "<g id=\"edge17\" class=\"edge\"><title>100&#45;&#45;1001</title>\n",
       "<path fill=\"none\" stroke=\"black\" d=\"M1239.71,-73.8129C1240.47,-62.9782 1241.46,-49.0096 1242.23,-38.0196\"/>\n",
       "</g>\n",
       "<!-- 1010 -->\n",
       "<g id=\"node23\" class=\"node\"><title>1010</title>\n",
       "<polygon fill=\"none\" stroke=\"black\" points=\"1431,-38 1312,-38 1312,-0 1431,-0 1431,-38\"/>\n",
       "<text text-anchor=\"middle\" x=\"1371.5\" y=\"-22.8\" font-family=\"Times,serif\" font-size=\"14.00\">&#45;0.174577 (62647)</text>\n",
       "<text text-anchor=\"middle\" x=\"1371.5\" y=\"-7.8\" font-family=\"Times,serif\" font-size=\"14.00\">(0.296774)</text>\n",
       "</g>\n",
       "<!-- 101&#45;&#45;1010 -->\n",
       "<g id=\"edge19\" class=\"edge\"><title>101&#45;&#45;1010</title>\n",
       "<path fill=\"none\" stroke=\"black\" d=\"M1374.53,-73.8129C1373.92,-62.9782 1373.13,-49.0096 1372.52,-38.0196\"/>\n",
       "</g>\n",
       "<!-- 1011 -->\n",
       "<g id=\"node24\" class=\"node\"><title>1011</title>\n",
       "<polygon fill=\"none\" stroke=\"black\" points=\"1561.5,-38 1449.5,-38 1449.5,-0 1561.5,-0 1561.5,-38\"/>\n",
       "<text text-anchor=\"middle\" x=\"1505.5\" y=\"-22.8\" font-family=\"Times,serif\" font-size=\"14.00\">&#45;0.216611 (2723)</text>\n",
       "<text text-anchor=\"middle\" x=\"1505.5\" y=\"-7.8\" font-family=\"Times,serif\" font-size=\"14.00\">(0.259273)</text>\n",
       "</g>\n",
       "<!-- 101&#45;&#45;1011 -->\n",
       "<g id=\"edge20\" class=\"edge\"><title>101&#45;&#45;1011</title>\n",
       "<path fill=\"none\" stroke=\"black\" d=\"M1406.64,-73.9937C1426.47,-63.1632 1452.13,-49.1464 1472.34,-38.1086\"/>\n",
       "</g>\n",
       "<!-- 110 -->\n",
       "<g id=\"node26\" class=\"node\"><title>110</title>\n",
       "<polygon fill=\"none\" stroke=\"black\" points=\"1734,-110 1615,-110 1615,-74 1734,-74 1734,-110\"/>\n",
       "<text text-anchor=\"middle\" x=\"1674.5\" y=\"-88.3\" font-family=\"Times,serif\" font-size=\"14.00\">f_{0} &lt; &#45;1.859579</text>\n",
       "</g>\n",
       "<!-- 11&#45;&#45;110 -->\n",
       "<g id=\"edge25\" class=\"edge\"><title>11&#45;&#45;110</title>\n",
       "<path fill=\"none\" stroke=\"black\" d=\"M1674.5,-145.697C1674.5,-134.846 1674.5,-120.917 1674.5,-110.104\"/>\n",
       "</g>\n",
       "<!-- 111 -->\n",
       "<g id=\"node29\" class=\"node\"><title>111</title>\n",
       "<polygon fill=\"none\" stroke=\"black\" points=\"1919,-110 1804,-110 1804,-74 1919,-74 1919,-110\"/>\n",
       "<text text-anchor=\"middle\" x=\"1861.5\" y=\"-88.3\" font-family=\"Times,serif\" font-size=\"14.00\">f_{4} &lt; 1.104236</text>\n",
       "</g>\n",
       "<!-- 11&#45;&#45;111 -->\n",
       "<g id=\"edge28\" class=\"edge\"><title>11&#45;&#45;111</title>\n",
       "<path fill=\"none\" stroke=\"black\" d=\"M1720.25,-145.876C1749.33,-134.988 1786.85,-120.945 1815.9,-110.068\"/>\n",
       "</g>\n",
       "<!-- 1100 -->\n",
       "<g id=\"node27\" class=\"node\"><title>1100</title>\n",
       "<polygon fill=\"none\" stroke=\"black\" points=\"1667,-38 1580,-38 1580,-0 1667,-0 1667,-38\"/>\n",
       "<text text-anchor=\"middle\" x=\"1623.5\" y=\"-22.8\" font-family=\"Times,serif\" font-size=\"14.00\">0.185403 (4)</text>\n",
       "<text text-anchor=\"middle\" x=\"1623.5\" y=\"-7.8\" font-family=\"Times,serif\" font-size=\"14.00\">(0.750000)</text>\n",
       "</g>\n",
       "<!-- 110&#45;&#45;1100 -->\n",
       "<g id=\"edge23\" class=\"edge\"><title>110&#45;&#45;1100</title>\n",
       "<path fill=\"none\" stroke=\"black\" d=\"M1662.15,-73.8129C1654.37,-62.9782 1644.34,-49.0096 1636.44,-38.0196\"/>\n",
       "</g>\n",
       "<!-- 1101 -->\n",
       "<g id=\"node28\" class=\"node\"><title>1101</title>\n",
       "<polygon fill=\"none\" stroke=\"black\" points=\"1783.5,-38 1685.5,-38 1685.5,-0 1783.5,-0 1783.5,-38\"/>\n",
       "<text text-anchor=\"middle\" x=\"1734.5\" y=\"-22.8\" font-family=\"Times,serif\" font-size=\"14.00\">&#45;0.409398 (90)</text>\n",
       "<text text-anchor=\"middle\" x=\"1734.5\" y=\"-7.8\" font-family=\"Times,serif\" font-size=\"14.00\">(0.088889)</text>\n",
       "</g>\n",
       "<!-- 110&#45;&#45;1101 -->\n",
       "<g id=\"edge24\" class=\"edge\"><title>110&#45;&#45;1101</title>\n",
       "<path fill=\"none\" stroke=\"black\" d=\"M1689.02,-73.8129C1698.18,-62.9782 1709.98,-49.0096 1719.27,-38.0196\"/>\n",
       "</g>\n",
       "<!-- 1110 -->\n",
       "<g id=\"node30\" class=\"node\"><title>1110</title>\n",
       "<polygon fill=\"none\" stroke=\"black\" points=\"1921,-38 1802,-38 1802,-0 1921,-0 1921,-38\"/>\n",
       "<text text-anchor=\"middle\" x=\"1861.5\" y=\"-22.8\" font-family=\"Times,serif\" font-size=\"14.00\">&#45;0.187291 (12315)</text>\n",
       "<text text-anchor=\"middle\" x=\"1861.5\" y=\"-7.8\" font-family=\"Times,serif\" font-size=\"14.00\">(0.286155)</text>\n",
       "</g>\n",
       "<!-- 111&#45;&#45;1110 -->\n",
       "<g id=\"edge26\" class=\"edge\"><title>111&#45;&#45;1110</title>\n",
       "<path fill=\"none\" stroke=\"black\" d=\"M1861.5,-73.8129C1861.5,-62.9782 1861.5,-49.0096 1861.5,-38.0196\"/>\n",
       "</g>\n",
       "<!-- 1111 -->\n",
       "<g id=\"node31\" class=\"node\"><title>1111</title>\n",
       "<polygon fill=\"none\" stroke=\"black\" points=\"2051.5,-38 1939.5,-38 1939.5,-0 2051.5,-0 2051.5,-38\"/>\n",
       "<text text-anchor=\"middle\" x=\"1995.5\" y=\"-22.8\" font-family=\"Times,serif\" font-size=\"14.00\">&#45;0.225413 (2514)</text>\n",
       "<text text-anchor=\"middle\" x=\"1995.5\" y=\"-7.8\" font-family=\"Times,serif\" font-size=\"14.00\">(0.254574)</text>\n",
       "</g>\n",
       "<!-- 111&#45;&#45;1111 -->\n",
       "<g id=\"edge27\" class=\"edge\"><title>111&#45;&#45;1111</title>\n",
       "<path fill=\"none\" stroke=\"black\" d=\"M1893.6,-73.9937C1914.04,-63.1632 1940.49,-49.1464 1961.32,-38.1086\"/>\n",
       "</g>\n",
       "</g>\n",
       "</svg>\n"
      ],
      "text/plain": [
       "<graphviz.dot.Graph at 0x7feef8063710>"
      ]
     },
     "execution_count": 127,
     "metadata": {},
     "output_type": "execute_result"
    }
   ],
   "source": [
    "tree2gv(booster.forest[1][0])"
   ]
  },
  {
   "cell_type": "code",
   "execution_count": 129,
   "metadata": {},
   "outputs": [
    {
     "name": "stdout",
     "output_type": "stream",
     "text": [
      "\t\t3:[f14<-1.44106936] yes=7,no=8,missing=7\n",
      "\t\t\t7:[f4<-0.805379689] yes=15,no=16,missing=15\n",
      "\t\t\t\t15:leaf=-0.1056704\n",
      "\t\t\t\t16:leaf=0.366707087\n",
      "\t\t\t8:[f7<-0.2519961] yes=17,no=18,missing=17\n",
      "\t\t\t\t17:leaf=-0.202566758\n",
      "\t\t\t\t18:leaf=-0.0497117341\n",
      "\t\t4:[f12<-1.53471076] yes=9,no=10,missing=9\n",
      "\t\t\t9:[f12<-1.866346] yes=19,no=20,missing=19\n",
      "\t\t\t\t19:leaf=-0.105769083\n",
      "\t\t\t\t20:leaf=0.497406512\n",
      "\t\t\t10:[f14<1.75825262] yes=21,no=22,missing=21\n",
      "\t\t\t\t21:leaf=-0.0277387723\n",
      "\t\t\t\t22:leaf=0.261484325\n",
      "\t2:[f13<-2.58516383] yes=5,no=6,missing=5\n",
      "\t\t5:[f12<1.09795523] yes=11,no=12,missing=11\n",
      "\t\t\t11:[f14<0.833670616] yes=23,no=24,missing=23\n",
      "\t\t\t\t23:leaf=-0.066074118\n",
      "\t\t\t\t24:leaf=0.477993011\n",
      "\t\t\t12:leaf=0.587297797\n",
      "\t\t6:[f13<-2.5747304] yes=13,no=14,missing=13\n",
      "\t\t\t13:[f2<0.664820552] yes=25,no=26,missing=25\n",
      "\t\t\t\t25:leaf=-0.341729134\n",
      "\t\t\t\t26:leaf=0.0393396206\n",
      "\t\t\t14:[f13<-2.56904912] yes=27,no=28,missing=27\n",
      "\t\t\t\t27:leaf=0.195284322\n",
      "\t\t\t\t28:leaf=6.28011694e-05\n",
      "booster[45]:\n",
      "0:[f12<-3.94979334] yes=1,no=2,missing=1\n",
      "\t1:leaf=0.267755985\n",
      "\t2:[f12<-3.63577676] yes=3,no=4,missing=3\n",
      "\t\t3:[f3<-1.13589311] yes=5,no=6,missing=5\n",
      "\t\t\t5:leaf=0.0759441331\n",
      "\t\t\t6:[f14<0.309528142] yes=9,no=10,missing=9\n",
      "\t\t\t\t9:leaf=-0.324039578\n",
      "\t\t\t\t10:leaf=0.0601623245\n",
      "\t\t4:[f12<-3.48101473] yes=7,no=8,missing=7\n",
      "\t\t\t7:[f5<-0.171946794] yes=11,no=12,missing=11\n",
      "\t\t\t\t11:leaf=-0.16739969\n",
      "\t\t\t\t12:leaf=0.322702914\n",
      "\t\t\t8:[f12<-3.3211894] yes=13,no=14,missing=13\n",
      "\t\t\t\t13:leaf=-0.180811509\n",
      "\t\t\t\t14:leaf=7.69863072e-06\n",
      "booster[46]:\n",
      "0:[f10<4.15009117] yes=1,no=2,missing=1\n",
      "\t1:[f10<3.91518593] yes=3,no=4,missing=3\n",
      "\t\t3:[f10<2.99718285] yes=7,no=8,missing=7\n",
      "\t\t\t7:[f10<2.93473673] yes=13,no=14,missing=13\n",
      "\t\t\t\t13:leaf=2.23363912e-07\n",
      "\t\t\t\t14:leaf=0.118649669\n",
      "\t\t\t8:[f9<-1.49913955] yes=15,no=16,missing=15\n",
      "\t\t\t\t15:leaf=0.214036271\n",
      "\t\t\t\t16:leaf=-0.0475821719\n",
      "\t\t4:[f7<-0.387919664] yes=9,no=10,missing=9\n",
      "\t\t\t9:[f0<0.444916844] yes=17,no=18,missing=17\n",
      "\t\t\t\t17:leaf=-0.253516644\n",
      "\t\t\t\t18:leaf=0.0592277236\n",
      "\t\t\t10:[f0<1.42101717] yes=19,no=20,missing=19\n",
      "\t\t\t\t19:leaf=0.336634934\n",
      "\t\t\t\t20:leaf=-0.204985127\n",
      "\t2:[f7<1.44887972] yes=5,no=6,missing=5\n",
      "\t\t5:[f11<-0.662863255] yes=11,no=12,missing=11\n",
      "\t\t\t11:leaf=-0.0466670804\n",
      "\t\t\t12:leaf=-0.285936326\n",
      "\t\t6:leaf=0.0803038776\n",
      "booster[47]:\n",
      "0:[f9<-3.53793383] yes=1,no=2,missing=1\n",
      "\t1:[f8<-0.92567277] yes=3,no=4,missing=3\n",
      "\t\t3:[f3<-0.0483168587] yes=7,no=8,missing=7\n",
      "\t\t\t7:leaf=0.385491967\n",
      "\t\t\t8:leaf=-0.23917298\n",
      "\t\t4:[f11<-0.958333552] yes=9,no=10,missing=9\n",
      "\t\t\t9:leaf=0.0908993632\n",
      "\t\t\t10:[f0<-0.341312766] yes=13,no=14,missing=13\n",
      "\t\t\t\t13:leaf=-0.120759144\n",
      "\t\t\t\t14:leaf=-0.335809439\n",
      "\t2:[f9<-3.51348257] yes=5,no=6,missing=5\n",
      "\t\t5:leaf=0.49993974\n",
      "\t\t6:[f9<-3.39188218] yes=11,no=12,missing=11\n",
      "\t\t\t11:[f12<0.0679760575] yes=15,no=16,missing=15\n",
      "\t\t\t\t15:leaf=-0.327905118\n",
      "\t\t\t\t16:leaf=0.0125333276\n",
      "\t\t\t12:[f2<-1.99694061] yes=17,no=18,missing=17\n",
      "\t\t\t\t17:leaf=0.0127337193\n",
      "\t\t\t\t18:leaf=-0.000245883915\n",
      "booster[48]:\n",
      "0:[f4<-3.9600904] yes=1,no=2,missing=1\n",
      "\t1:leaf=0.280633807\n",
      "\t2:[f2<-3.98865366] yes=3,no=4,missing=3\n",
      "\t\t3:leaf=-0.274862677\n",
      "\t\t4:[f6<1.8111341] yes=5,no=6,missing=5\n",
      "\t\t\t5:[f6<1.80374157] yes=7,no=8,missing=7\n",
      "\t\t\t\t7:leaf=-0.000333423144\n",
      "\t\t\t\t8:leaf=-0.134782702\n",
      "\t\t\t6:[f4<-0.601188123] yes=9,no=10,missing=9\n",
      "\t\t\t\t9:leaf=0.0343553945\n",
      "\t\t\t\t10:leaf=-0.00148016075\n",
      "booster[49]:\n",
      "0:[f8<4.20387363] yes=1,no=2,missing=1\n",
      "\t1:[f8<3.59034753] yes=3,no=4,missing=3\n"
     ]
    }
   ],
   "source": [
    "!cat xgb.dump | tail -n+$(echo 39*31+31 | bc) | head -n 100"
   ]
  },
  {
   "cell_type": "code",
   "execution_count": null,
   "metadata": {},
   "outputs": [],
   "source": []
  },
  {
   "cell_type": "code",
   "execution_count": null,
   "metadata": {},
   "outputs": [],
   "source": []
  }
 ],
 "metadata": {
  "kernelspec": {
   "display_name": "Python 3",
   "language": "python",
   "name": "python3"
  },
  "language_info": {
   "codemirror_mode": {
    "name": "ipython",
    "version": 3
   },
   "file_extension": ".py",
   "mimetype": "text/x-python",
   "name": "python",
   "nbconvert_exporter": "python",
   "pygments_lexer": "ipython3",
   "version": "3.5.2"
  }
 },
 "nbformat": 4,
 "nbformat_minor": 2
}
