{
 "cells": [
  {
   "cell_type": "code",
   "execution_count": 3,
   "metadata": {
    "collapsed": false,
    "deletable": true,
    "editable": true
   },
   "outputs": [],
   "source": [
    "import sys, os, io, json, numpy as np, random\n",
    "#from sklearn.metrics import roc_auc_score\n",
    "#import xgboost as xgb\n",
    "import tensorflow as tf\n",
    "import pandas as pd"
   ]
  },
  {
   "cell_type": "code",
   "execution_count": 4,
   "metadata": {
    "collapsed": true,
    "deletable": true,
    "editable": true
   },
   "outputs": [],
   "source": [
    "pool = np.load('../prepare_dataset/pool_00.npz')\n",
    "features_bool, f_time, label = (pool[name] for name in ['features', 'f_time', 'label'])"
   ]
  },
  {
   "cell_type": "code",
   "execution_count": 5,
   "metadata": {
    "collapsed": false
   },
   "outputs": [],
   "source": [
    "features = np.random.normal(loc=features_bool*1.0, scale=1.0)"
   ]
  },
  {
   "cell_type": "code",
   "execution_count": 25,
   "metadata": {
    "collapsed": true,
    "deletable": true,
    "editable": true
   },
   "outputs": [],
   "source": [
    "def create_graph():\n",
    "    graph = tf.Graph()\n",
    "    with graph.as_default():\n",
    "        features = tf.placeholder(dtype=tf.float64)\n",
    "        label = tf.placeholder(dtype=tf.float64)\n",
    "        bias = tf.placeholder(dtype=tf.float64)\n",
    "        ax = tf.transpose(tf.nn.top_k(-tf.transpose(features), k = tf.shape(features)[-2]).indices)\n",
    "        y = tf.gather(label, ax)[:, :, 0]\n",
    "        b = tf.gather(bias, ax)[:, :, 0]\n",
    "        #T = tf.gather(features, ax, axis=0)\n",
    "        T = tf.contrib.framework.sort(features, axis=0)\n",
    "        current_loss = tf.reduce_sum(-(label * tf.log_sigmoid(bias) + (1 - label) * tf.log_sigmoid(-bias)), axis=0)\n",
    "        l_curr = -(y * tf.log_sigmoid(b) + (1 - y) * tf.log_sigmoid(-b))\n",
    "        l_der1 = -y * tf.sigmoid(-b) + (1 - y) * tf.sigmoid(b)\n",
    "        l_der2 = tf.sigmoid(-b) * tf.sigmoid(b)\n",
    "        cum_l = tf.cumsum(l_curr)[:-1, :]  # -1\n",
    "        cum_l_der1 = tf.cumsum(l_der1)[:-1, :]  # -1\n",
    "        cum_l_der2 = tf.cumsum(l_der2)[:-1, :]  # -1\n",
    "        rev_cum_l = tf.cumsum(l_curr, reverse=True)[1:, :]  # -1\n",
    "        rev_cum_l_der1 = tf.cumsum(l_der1, reverse=True)[1:, :] # -1\n",
    "        rev_cum_l_der2 = tf.cumsum(l_der2, reverse=True)[1:, :] # -1\n",
    "        delta_up = -cum_l_der1 / cum_l_der2  # -1\n",
    "        delta_down = -rev_cum_l_der1 / rev_cum_l_der2 # -1\n",
    "        loss_up = cum_l + 0.5 * delta_up * cum_l_der1\n",
    "        loss_down = rev_cum_l + 0.5 * delta_down * rev_cum_l_der1\n",
    "        whole_loss = (loss_up + loss_down)\n",
    "        features_amount = tf.to_double(tf.shape(features)[0])\n",
    "        #######\n",
    "        #-----#\n",
    "        #-----#   -->   iiiIiii (best_loss_argmin0), mmmMmmm (min_loss_axis0)\n",
    "        #-----#\n",
    "        #######\n",
    "        best_loss_argmin0 = tf.argmin(whole_loss, axis=0)\n",
    "        min_loss_axis0 = tf.reduce_min(whole_loss, axis=0)\n",
    "        # mmmMmmm  ->    I (best_loss_argmin1), M (best_loss)\n",
    "        best_loss_argmin1 = tf.argmin(min_loss_axis0, axis=0)\n",
    "        best_loss = tf.reduce_min(min_loss_axis0, axis=0)\n",
    "        best_avg_loss = best_loss/features_amount\n",
    "        avg_current_loss = current_loss/features_amount\n",
    "        # iiiIiii  ->  I\n",
    "        best_index = best_loss_argmin0[best_loss_argmin1]\n",
    "        thr = (T[best_index, best_loss_argmin1] + T[best_index+1, best_loss_argmin1])/2\n",
    "        best_delta_up = delta_up[best_index, best_loss_argmin1]\n",
    "        best_delta_down = delta_down[best_index, best_loss_argmin1]\n",
    "        \n",
    "    return {'graph': graph,\n",
    "            'features': features,\n",
    "            'bias': bias, \n",
    "            'label': label,\n",
    "            'l_curr': l_curr,\n",
    "            'l_der1': l_der1,\n",
    "            'l_der2': l_der2,\n",
    "            'cum_l_der1': cum_l_der1,\n",
    "            'cum_l_der2': cum_l_der2,\n",
    "            'rev_cum_l_der1': rev_cum_l_der1,\n",
    "            'rev_cum_l_der2': rev_cum_l_der2,\n",
    "            'delta_up': delta_up, \n",
    "            'delta_down': delta_down,\n",
    "            'best_delta_up': best_delta_up, \n",
    "            'best_delta_down': best_delta_down,\n",
    "            'cum_l': cum_l,\n",
    "            'rev_cum_l': rev_cum_l,\n",
    "            'whole_loss': whole_loss,\n",
    "            'best_loss_argmin0' : best_loss_argmin0,\n",
    "            'min_loss_axis0': min_loss_axis0,\n",
    "            'best_loss_argmin1': best_loss_argmin1,\n",
    "            'best_feature_index': best_loss_argmin1,\n",
    "            'best_loss': best_loss,\n",
    "            'best_avg_loss': best_avg_loss,\n",
    "            'best_index': best_index,\n",
    "            'T': T,\n",
    "            'thr': thr,\n",
    "            'y': y, \n",
    "            'current_loss': current_loss,\n",
    "            'avg_current_loss': avg_current_loss\n",
    "           }"
   ]
  },
  {
   "cell_type": "code",
   "execution_count": 26,
   "metadata": {
    "collapsed": true
   },
   "outputs": [],
   "source": [
    "split_instances = create_graph()"
   ]
  },
  {
   "cell_type": "code",
   "execution_count": 88,
   "metadata": {
    "collapsed": false,
    "deletable": true,
    "editable": true
   },
   "outputs": [],
   "source": [
    "def make_split(split_instances, bias, features, label):\n",
    "    graph = split_instances['graph']\n",
    "    input_tensors = {split_instances[t]: val for t, val in [('features', features), ('bias', bias), ('label', label)]} \n",
    "    tensors = {t: split_instances[t] \n",
    "               for t in ['thr', 'best_loss', 'best_index', 'best_delta_up', 'best_delta_down', 'current_loss',\n",
    "                         'best_feature_index',\n",
    "                        'avg_current_loss', 'best_avg_loss']}\n",
    "    with tf.Session(graph=graph) as s:\n",
    "        tensors_values = s.run(tensors, input_tensors)\n",
    "    return tensors_values"
   ]
  },
  {
   "cell_type": "code",
   "execution_count": 42,
   "metadata": {
    "collapsed": false
   },
   "outputs": [],
   "source": [
    "#features_swap = features.copy()\n",
    "#features_swap[:,0],features_swap[:,7] = features_swap[:,7],features_swap[:,0]\n",
    "features_swap = np.concatenate([features[:,7:8], features[:,1:7], features[:,0:1], features_swap[:,8:]], axis=1)"
   ]
  },
  {
   "cell_type": "code",
   "execution_count": 45,
   "metadata": {
    "collapsed": false
   },
   "outputs": [
    {
     "name": "stdout",
     "output_type": "stream",
     "text": [
      "{'thr': 0.8994369366254575, 'best_loss': 183719.79165202889, 'best_index': 221457, 'best_delta_up': -0.7877611104588681, 'best_delta_down': -0.847139110284943, 'current_loss': array([207944.15416803]), 'best_feature_index': 0, 'avg_current_loss': array([0.69314718]), 'best_avg_loss': 0.6123993055067629}\n",
      "CPU times: user 5.53 s, sys: 559 ms, total: 6.09 s\n",
      "Wall time: 2.13 s\n"
     ]
    }
   ],
   "source": [
    "%%time\n",
    "make_split(split_instances, np.zeros(label.shape), features, label)"
   ]
  },
  {
   "cell_type": "code",
   "execution_count": 46,
   "metadata": {
    "collapsed": false
   },
   "outputs": [
    {
     "name": "stdout",
     "output_type": "stream",
     "text": [
      "{'thr': 0.8994369366254575, 'best_loss': 183719.79165202889, 'best_index': 221457, 'best_delta_up': -0.7877611104588681, 'best_delta_down': -0.847139110284943, 'current_loss': array([207944.15416803]), 'best_feature_index': 7, 'avg_current_loss': array([0.69314718]), 'best_avg_loss': 0.6123993055067629}\n",
      "CPU times: user 5.41 s, sys: 547 ms, total: 5.96 s\n",
      "Wall time: 2.26 s\n"
     ]
    }
   ],
   "source": [
    "%%time\n",
    "make_split(split_instances, np.zeros(label.shape), features_swap, label)"
   ]
  },
  {
   "cell_type": "code",
   "execution_count": 71,
   "metadata": {
    "collapsed": true
   },
   "outputs": [],
   "source": [
    "class EMatrix:\n",
    "    def __init__(self, bias, features, label):\n",
    "        self.bias = bias\n",
    "        self.features = features\n",
    "        self.label = label"
   ]
  },
  {
   "cell_type": "code",
   "execution_count": 72,
   "metadata": {
    "collapsed": true
   },
   "outputs": [],
   "source": [
    "class LeafData:\n",
    "    def __init__(self, info):\n",
    "        self.val = info['prediction']\n",
    "\n",
    "class SplitData:\n",
    "    def __init__(self, val):\n",
    "        self.val = val\n",
    "\n",
    "class TreeNode:\n",
    "    def __init__(self):\n",
    "        self.left = None\n",
    "        self.right = None\n",
    "        self.depth = 0\n",
    "        self.val = None\n",
    "        "
   ]
  },
  {
   "cell_type": "code",
   "execution_count": 82,
   "metadata": {
    "collapsed": true
   },
   "outputs": [],
   "source": [
    "def prior_finish(params, info, parent):\n",
    "    if parent is None:\n",
    "        return False\n",
    "    return params['max_depth'] <= parent.depth\n",
    "\n",
    "def post_finish(params, info, split_info, parent):\n",
    "    return False"
   ]
  },
  {
   "cell_type": "code",
   "execution_count": 83,
   "metadata": {
    "collapsed": true
   },
   "outputs": [],
   "source": [
    "start_params = {'max_depth': 4}"
   ]
  },
  {
   "cell_type": "code",
   "execution_count": 96,
   "metadata": {
    "collapsed": true
   },
   "outputs": [],
   "source": [
    "def split_ematrix(split_instances, ematrix):\n",
    "    split_info = make_split(split_instances, ematrix.bias, ematrix.features, ematrix.label)\n",
    "    thr = split_info['thr']\n",
    "    features = ematrix.features\n",
    "    bias = ematrix.bias\n",
    "    label = ematrix.label\n",
    "    best_feature = features[:, split_info['best_feature_index']] < thr\n",
    "    best_feature_not = np.logical_not(best_feature)\n",
    "    left_ematrix = EMatrix(bias[best_feature], features[best_feature, :], label[best_feature])\n",
    "    right_ematrix = EMatrix(bias[best_feature_not], features[best_feature_not, :], label[best_feature_not])\n",
    "    left_info = {'prediction': split_info['best_delta_up'], 'ematrix': left_ematrix}\n",
    "    right_info = {'prediction': split_info['best_delta_down'], 'ematrix': right_ematrix}\n",
    "    return left_info, right_info, split_info"
   ]
  },
  {
   "cell_type": "code",
   "execution_count": 97,
   "metadata": {
    "collapsed": true
   },
   "outputs": [],
   "source": [
    "def build_tree_helper(split_instances, params, info, parent):\n",
    "    print(parent.depth if parent else '---', file=sys.stderr)\n",
    "    if prior_finish(params, info, parent):\n",
    "        return LeafData(info)\n",
    "    left_info, right_info, split_info = split_ematrix(split_instances, info['ematrix'])\n",
    "    if post_finish(params, info, split_info, parent):\n",
    "        return LeafData(info)\n",
    "    node = TreeNode()\n",
    "    node.depth = parent.depth + 1 if parent else 0\n",
    "    node.val = split_info\n",
    "    node.left = build_tree_helper(split_instances, params, left_info, node)\n",
    "    node.right = build_tree_helper(split_instances, params, right_info, node)    "
   ]
  },
  {
   "cell_type": "code",
   "execution_count": 98,
   "metadata": {
    "collapsed": true
   },
   "outputs": [],
   "source": [
    "def build_tree(split_instances, params, ematrix):\n",
    "    info = {'ematrix': ematrix}\n",
    "    return build_tree_helper(split_instances, params, info=info, parent=None)"
   ]
  },
  {
   "cell_type": "code",
   "execution_count": 99,
   "metadata": {
    "collapsed": false
   },
   "outputs": [
    {
     "name": "stdout",
     "output_type": "stream",
     "text": [
      "On branch master\r\n",
      "Your branch is up-to-date with 'origin/master'.\r\n",
      "\r\n",
      "Changes not staged for commit:\r\n",
      "  (use \"git add <file>...\" to update what will be committed)\r\n",
      "  (use \"git checkout -- <file>...\" to discard changes in working directory)\r\n",
      "\r\n",
      "\t\u001b[31mmodified:   tf_split.ipynb\u001b[m\r\n",
      "\r\n",
      "Untracked files:\r\n",
      "  (use \"git add <file>...\" to include in what will be committed)\r\n",
      "\r\n",
      "\t\u001b[31m../.DS_Store\u001b[m\r\n",
      "\t\u001b[31m../ds.txt\u001b[m\r\n",
      "\t\u001b[31m.ipynb_checkpoints/\u001b[m\r\n",
      "\t\u001b[31mconvert_dataset.ipynb\u001b[m\r\n",
      "\t\u001b[31msplit.ipynb\u001b[m\r\n",
      "\t\u001b[31m../prepare_dataset/.ipynb_checkpoints/\u001b[m\r\n",
      "\t\u001b[31m../prepare_dataset/pool_00.npz\u001b[m\r\n",
      "\r\n",
      "no changes added to commit (use \"git add\" and/or \"git commit -a\")\r\n"
     ]
    }
   ],
   "source": [
    "!git status"
   ]
  },
  {
   "cell_type": "code",
   "execution_count": null,
   "metadata": {
    "collapsed": true
   },
   "outputs": [],
   "source": [
    "! git a"
   ]
  },
  {
   "cell_type": "code",
   "execution_count": 95,
   "metadata": {
    "collapsed": false
   },
   "outputs": [
    {
     "name": "stderr",
     "output_type": "stream",
     "text": [
      "---\n"
     ]
    },
    {
     "ename": "UnboundLocalError",
     "evalue": "local variable 'best_feature_not' referenced before assignment",
     "output_type": "error",
     "traceback": [
      "\u001b[0;31m---------------------------------------------------------------------------\u001b[0m",
      "\u001b[0;31mUnboundLocalError\u001b[0m                         Traceback (most recent call last)",
      "\u001b[0;32m<ipython-input-95-6a240d8d9545>\u001b[0m in \u001b[0;36m<module>\u001b[0;34m()\u001b[0m\n\u001b[0;32m----> 1\u001b[0;31m \u001b[0mtree\u001b[0m \u001b[0;34m=\u001b[0m \u001b[0mbuild_tree\u001b[0m\u001b[0;34m(\u001b[0m\u001b[0msplit_instances\u001b[0m\u001b[0;34m,\u001b[0m \u001b[0mstart_params\u001b[0m\u001b[0;34m,\u001b[0m \u001b[0mEMatrix\u001b[0m\u001b[0;34m(\u001b[0m\u001b[0mnp\u001b[0m\u001b[0;34m.\u001b[0m\u001b[0mzeros\u001b[0m\u001b[0;34m(\u001b[0m\u001b[0mlabel\u001b[0m\u001b[0;34m.\u001b[0m\u001b[0mshape\u001b[0m\u001b[0;34m)\u001b[0m\u001b[0;34m,\u001b[0m \u001b[0mfeatures\u001b[0m\u001b[0;34m,\u001b[0m \u001b[0mlabel\u001b[0m\u001b[0;34m)\u001b[0m\u001b[0;34m)\u001b[0m\u001b[0;34m\u001b[0m\u001b[0m\n\u001b[0m",
      "\u001b[0;32m<ipython-input-94-e98ee554ce70>\u001b[0m in \u001b[0;36mbuild_tree\u001b[0;34m(split_instances, params, ematrix)\u001b[0m\n\u001b[1;32m      1\u001b[0m \u001b[0;32mdef\u001b[0m \u001b[0mbuild_tree\u001b[0m\u001b[0;34m(\u001b[0m\u001b[0msplit_instances\u001b[0m\u001b[0;34m,\u001b[0m \u001b[0mparams\u001b[0m\u001b[0;34m,\u001b[0m \u001b[0mematrix\u001b[0m\u001b[0;34m)\u001b[0m\u001b[0;34m:\u001b[0m\u001b[0;34m\u001b[0m\u001b[0m\n\u001b[1;32m      2\u001b[0m     \u001b[0minfo\u001b[0m \u001b[0;34m=\u001b[0m \u001b[0;34m{\u001b[0m\u001b[0;34m'ematrix'\u001b[0m\u001b[0;34m:\u001b[0m \u001b[0mematrix\u001b[0m\u001b[0;34m}\u001b[0m\u001b[0;34m\u001b[0m\u001b[0m\n\u001b[0;32m----> 3\u001b[0;31m     \u001b[0;32mreturn\u001b[0m \u001b[0mbuild_tree_helper\u001b[0m\u001b[0;34m(\u001b[0m\u001b[0msplit_instances\u001b[0m\u001b[0;34m,\u001b[0m \u001b[0mparams\u001b[0m\u001b[0;34m,\u001b[0m \u001b[0minfo\u001b[0m\u001b[0;34m=\u001b[0m\u001b[0minfo\u001b[0m\u001b[0;34m,\u001b[0m \u001b[0mparent\u001b[0m\u001b[0;34m=\u001b[0m\u001b[0;32mNone\u001b[0m\u001b[0;34m)\u001b[0m\u001b[0;34m\u001b[0m\u001b[0m\n\u001b[0m",
      "\u001b[0;32m<ipython-input-93-e03c4aafcf32>\u001b[0m in \u001b[0;36mbuild_tree_helper\u001b[0;34m(split_instances, params, info, parent)\u001b[0m\n\u001b[1;32m      3\u001b[0m     \u001b[0;32mif\u001b[0m \u001b[0mprior_finish\u001b[0m\u001b[0;34m(\u001b[0m\u001b[0mparams\u001b[0m\u001b[0;34m,\u001b[0m \u001b[0minfo\u001b[0m\u001b[0;34m,\u001b[0m \u001b[0mparent\u001b[0m\u001b[0;34m)\u001b[0m\u001b[0;34m:\u001b[0m\u001b[0;34m\u001b[0m\u001b[0m\n\u001b[1;32m      4\u001b[0m         \u001b[0;32mreturn\u001b[0m \u001b[0mLeafData\u001b[0m\u001b[0;34m(\u001b[0m\u001b[0minfo\u001b[0m\u001b[0;34m)\u001b[0m\u001b[0;34m\u001b[0m\u001b[0m\n\u001b[0;32m----> 5\u001b[0;31m     \u001b[0mleft_info\u001b[0m\u001b[0;34m,\u001b[0m \u001b[0mright_info\u001b[0m\u001b[0;34m,\u001b[0m \u001b[0msplit_info\u001b[0m \u001b[0;34m=\u001b[0m \u001b[0msplit_ematrix\u001b[0m\u001b[0;34m(\u001b[0m\u001b[0msplit_instances\u001b[0m\u001b[0;34m,\u001b[0m \u001b[0minfo\u001b[0m\u001b[0;34m[\u001b[0m\u001b[0;34m'ematrix'\u001b[0m\u001b[0;34m]\u001b[0m\u001b[0;34m)\u001b[0m\u001b[0;34m\u001b[0m\u001b[0m\n\u001b[0m\u001b[1;32m      6\u001b[0m     \u001b[0;32mif\u001b[0m \u001b[0mpost_finish\u001b[0m\u001b[0;34m(\u001b[0m\u001b[0mparams\u001b[0m\u001b[0;34m,\u001b[0m \u001b[0minfo\u001b[0m\u001b[0;34m,\u001b[0m \u001b[0msplit_info\u001b[0m\u001b[0;34m,\u001b[0m \u001b[0mparent\u001b[0m\u001b[0;34m)\u001b[0m\u001b[0;34m:\u001b[0m\u001b[0;34m\u001b[0m\u001b[0m\n\u001b[1;32m      7\u001b[0m         \u001b[0;32mreturn\u001b[0m \u001b[0mLeafData\u001b[0m\u001b[0;34m(\u001b[0m\u001b[0minfo\u001b[0m\u001b[0;34m)\u001b[0m\u001b[0;34m\u001b[0m\u001b[0m\n",
      "\u001b[0;32m<ipython-input-90-1917362f5af4>\u001b[0m in \u001b[0;36msplit_ematrix\u001b[0;34m(split_instances, ematrix)\u001b[0m\n\u001b[1;32m      6\u001b[0m     \u001b[0mlabel\u001b[0m \u001b[0;34m=\u001b[0m \u001b[0mematrix\u001b[0m\u001b[0;34m.\u001b[0m\u001b[0mlabel\u001b[0m\u001b[0;34m\u001b[0m\u001b[0m\n\u001b[1;32m      7\u001b[0m     \u001b[0mbest_feature\u001b[0m \u001b[0;34m=\u001b[0m \u001b[0mfeatures\u001b[0m\u001b[0;34m[\u001b[0m\u001b[0;34m:\u001b[0m\u001b[0;34m,\u001b[0m \u001b[0msplit_info\u001b[0m\u001b[0;34m[\u001b[0m\u001b[0;34m'best_feature_index'\u001b[0m\u001b[0;34m]\u001b[0m\u001b[0;34m]\u001b[0m \u001b[0;34m<\u001b[0m \u001b[0mthr\u001b[0m\u001b[0;34m\u001b[0m\u001b[0m\n\u001b[0;32m----> 8\u001b[0;31m     \u001b[0mbest_feature_not\u001b[0m \u001b[0;34m=\u001b[0m \u001b[0mnp\u001b[0m\u001b[0;34m.\u001b[0m\u001b[0mlogical_not\u001b[0m\u001b[0;34m(\u001b[0m\u001b[0mbest_feature_not\u001b[0m\u001b[0;34m)\u001b[0m\u001b[0;34m\u001b[0m\u001b[0m\n\u001b[0m\u001b[1;32m      9\u001b[0m     \u001b[0mleft_ematrix\u001b[0m \u001b[0;34m=\u001b[0m \u001b[0mEMatrix\u001b[0m\u001b[0;34m(\u001b[0m\u001b[0mbias\u001b[0m\u001b[0;34m[\u001b[0m\u001b[0mbest_feature\u001b[0m\u001b[0;34m]\u001b[0m\u001b[0;34m,\u001b[0m \u001b[0mfeatures\u001b[0m\u001b[0;34m[\u001b[0m\u001b[0mbest_feature\u001b[0m\u001b[0;34m,\u001b[0m \u001b[0;34m:\u001b[0m\u001b[0;34m]\u001b[0m\u001b[0;34m,\u001b[0m \u001b[0mlabel\u001b[0m\u001b[0;34m[\u001b[0m\u001b[0mbest_feature\u001b[0m\u001b[0;34m]\u001b[0m\u001b[0;34m)\u001b[0m\u001b[0;34m\u001b[0m\u001b[0m\n\u001b[1;32m     10\u001b[0m     \u001b[0mright_ematrix\u001b[0m \u001b[0;34m=\u001b[0m \u001b[0mEMatrix\u001b[0m\u001b[0;34m(\u001b[0m\u001b[0mbias\u001b[0m\u001b[0;34m[\u001b[0m\u001b[0mbest_feature_not\u001b[0m\u001b[0;34m]\u001b[0m\u001b[0;34m,\u001b[0m \u001b[0mfeatures\u001b[0m\u001b[0;34m[\u001b[0m\u001b[0mbest_feature_not\u001b[0m\u001b[0;34m,\u001b[0m \u001b[0;34m:\u001b[0m\u001b[0;34m]\u001b[0m\u001b[0;34m,\u001b[0m \u001b[0mlabel\u001b[0m\u001b[0;34m[\u001b[0m\u001b[0mbest_feature_not\u001b[0m\u001b[0;34m]\u001b[0m\u001b[0;34m)\u001b[0m\u001b[0;34m\u001b[0m\u001b[0m\n",
      "\u001b[0;31mUnboundLocalError\u001b[0m: local variable 'best_feature_not' referenced before assignment"
     ]
    }
   ],
   "source": [
    "tree = build_tree(split_instances, start_params, EMatrix(np.zeros(label.shape), features, label))"
   ]
  },
  {
   "cell_type": "code",
   "execution_count": null,
   "metadata": {
    "collapsed": true
   },
   "outputs": [],
   "source": []
  },
  {
   "cell_type": "code",
   "execution_count": null,
   "metadata": {
    "collapsed": true
   },
   "outputs": [],
   "source": []
  },
  {
   "cell_type": "raw",
   "metadata": {},
   "source": [
    "graph, features_t, bias_t, label_t, y_t, T_t = (ret[t] for t in ['graph', 'features', 'bias', 'label', 'y', 'T'])\n",
    "with tf.Session(graph=graph) as s:\n",
    "    (y_v, T_v, l_curr_v, whole_loss_v, cum_l_v, rev_cum_l_v,\n",
    "       thr_v, bloss_v, bind_v, test_val, \n",
    "       test_val2) = s.run([y_t, T_t, \n",
    "                           ret['l_curr'], ret['whole_loss'], ret['cum_l'], ret['rev_cum_l'],\n",
    "                           ret['thr'], ret['best_loss'], ret['best_index'],\n",
    "                           ret['best_loss_argmin0'], ret['min_loss_axis0']], \n",
    "                          {features_t:features, label_t:label,\n",
    "                           bias_t: np.zeros(label.shape)})"
   ]
  },
  {
   "cell_type": "code",
   "execution_count": 262,
   "metadata": {
    "collapsed": false
   },
   "outputs": [
    {
     "data": {
      "text/plain": [
       "((15,), (15,), (300000, 15), (300000, 15), (299999, 15))"
      ]
     },
     "execution_count": 262,
     "metadata": {},
     "output_type": "execute_result"
    }
   ],
   "source": [
    "test_val.shape, test_val2.shape, T_v.shape, l_curr_v.shape, whole_loss_v.shape"
   ]
  },
  {
   "cell_type": "code",
   "execution_count": 263,
   "metadata": {
    "collapsed": false
   },
   "outputs": [
    {
     "data": {
      "text/plain": [
       "(1.3816564892782939, 0.6124175966710163, 256994, 0.6931471805599453)"
      ]
     },
     "execution_count": 263,
     "metadata": {},
     "output_type": "execute_result"
    }
   ],
   "source": [
    "thr_v, bloss_v, bind_v, np.log(2)"
   ]
  },
  {
   "cell_type": "code",
   "execution_count": 257,
   "metadata": {
    "collapsed": false
   },
   "outputs": [
    {
     "data": {
      "text/plain": [
       "(array([256994, 248036, 283538, 143258, 147744,  94642, 149048, 104337,\n",
       "        252214, 282603, 298767, 265774, 266871, 168770, 263290]),\n",
       " array([0.6124176 , 0.61245417, 0.61245819, 0.61246286, 0.61244946,\n",
       "        0.61247507, 0.61246538, 0.61247158, 0.61245924, 0.61245064,\n",
       "        0.61245664, 0.6124409 , 0.612444  , 0.61245995, 0.61246149]))"
      ]
     },
     "execution_count": 257,
     "metadata": {},
     "output_type": "execute_result"
    }
   ],
   "source": [
    "test_val, test_val2"
   ]
  },
  {
   "cell_type": "code",
   "execution_count": 278,
   "metadata": {
    "collapsed": false
   },
   "outputs": [
    {
     "data": {
      "text/plain": [
       "233870"
      ]
     },
     "execution_count": 278,
     "metadata": {},
     "output_type": "execute_result"
    }
   ],
   "source": [
    "#np.sum(1-features_bool[:,5])\n",
    "np.sum(features[:,0]*features_bool[:,0])/np.sum(features_bool[:,0])\n",
    "np.sum(1-features_bool[:,0])\n",
    "#T_v[151800,0]"
   ]
  },
  {
   "cell_type": "code",
   "execution_count": 239,
   "metadata": {
    "collapsed": false
   },
   "outputs": [
    {
     "data": {
      "text/plain": [
       "(1.4541874748240025e-05, 1)"
      ]
     },
     "execution_count": 239,
     "metadata": {},
     "output_type": "execute_result"
    }
   ],
   "source": [
    "features[2,0], 1"
   ]
  },
  {
   "cell_type": "code",
   "execution_count": 210,
   "metadata": {
    "collapsed": false
   },
   "outputs": [],
   "source": [
    "#T_v[150000:150010,:3]"
   ]
  },
  {
   "cell_type": "code",
   "execution_count": 211,
   "metadata": {
    "collapsed": false
   },
   "outputs": [],
   "source": [
    "#cum_l_v[9999:10001,:5]"
   ]
  },
  {
   "cell_type": "code",
   "execution_count": null,
   "metadata": {
    "collapsed": true
   },
   "outputs": [],
   "source": []
  },
  {
   "cell_type": "code",
   "execution_count": 212,
   "metadata": {
    "collapsed": false
   },
   "outputs": [
    {
     "data": {
      "text/plain": [
       "array([[0.61248448, 0.61248416, 0.61248414, 0.61248151, 0.61248312],\n",
       "       [0.61248445, 0.61248349, 0.61248445, 0.61248195, 0.6124826 ],\n",
       "       [0.61248434, 0.61248377, 0.61248434, 0.61248237, 0.61248195],\n",
       "       [0.61248415, 0.61248402, 0.61248415, 0.61248277, 0.61248115],\n",
       "       [0.61248446, 0.61248422, 0.61248387, 0.61248315, 0.61248244],\n",
       "       [0.61248436, 0.61248437, 0.61248346, 0.6124835 , 0.61248346],\n",
       "       [0.61248446, 0.61248446, 0.61248292, 0.61248381, 0.61248292],\n",
       "       [0.61248447, 0.61248447, 0.61248385, 0.61248407, 0.6124822 ],\n",
       "       [0.61248439, 0.61248429, 0.61248338, 0.61248429, 0.61248125],\n",
       "       [0.61248418, 0.61248443, 0.61248271, 0.61248443, 0.61248271],\n",
       "       [0.6124838 , 0.61248448, 0.61248179, 0.61248448, 0.61248179],\n",
       "       [0.61248321, 0.61248413, 0.61248321, 0.61248413, 0.61248321],\n",
       "       [0.61248417, 0.61248435, 0.61248417, 0.61248435, 0.61248233],\n",
       "       [0.61248447, 0.61248334, 0.61248447, 0.61248334, 0.61248102],\n",
       "       [0.61248443, 0.61248378, 0.61248378, 0.61248378, 0.61248287],\n",
       "       [0.61248414, 0.61248415, 0.61248415, 0.6124815 , 0.61248414],\n",
       "       [0.6124834 , 0.61248442, 0.61248442, 0.61248209, 0.6124834 ],\n",
       "       [0.61248446, 0.61248446, 0.61248446, 0.61248269, 0.61248446],\n",
       "       [0.61248394, 0.61248394, 0.61248329, 0.61248329, 0.61248394],\n",
       "       [0.61248121, 0.61248388, 0.61248388, 0.61248388, 0.61248388]])"
      ]
     },
     "execution_count": 212,
     "metadata": {},
     "output_type": "execute_result"
    }
   ],
   "source": [
    "#l_curr_v[:20,:5]\n",
    "whole_loss_v[-20:,:5]"
   ]
  },
  {
   "cell_type": "code",
   "execution_count": 10,
   "metadata": {
    "collapsed": false
   },
   "outputs": [
    {
     "data": {
      "text/plain": [
       "array([[0., 0., 0., 0., 1., 0., 0., 0., 0., 0.],\n",
       "       [0., 0., 0., 0., 0., 1., 0., 0., 1., 1.],\n",
       "       [0., 0., 0., 0., 1., 1., 0., 1., 1., 0.],\n",
       "       [0., 0., 0., 0., 0., 0., 0., 0., 0., 0.],\n",
       "       [0., 0., 0., 1., 0., 0., 0., 0., 0., 0.],\n",
       "       [0., 0., 0., 0., 0., 1., 1., 0., 0., 1.],\n",
       "       [0., 0., 1., 0., 0., 1., 0., 0., 0., 0.],\n",
       "       [0., 0., 0., 0., 0., 0., 0., 0., 0., 0.],\n",
       "       [0., 0., 0., 0., 0., 1., 0., 0., 0., 0.],\n",
       "       [0., 0., 0., 0., 0., 0., 0., 0., 0., 1.]], dtype=float32)"
      ]
     },
     "execution_count": 10,
     "metadata": {},
     "output_type": "execute_result"
    }
   ],
   "source": [
    "y_v[:10, :10]"
   ]
  },
  {
   "cell_type": "code",
   "execution_count": null,
   "metadata": {
    "collapsed": false
   },
   "outputs": [],
   "source": [
    "for p in range(10000):\n",
    "    for q in range(10):\n",
    "        if label[axv[p, q]] != y_sub_v[p, q]:\n",
    "            print('fail!!', p, q)\n",
    "            break"
   ]
  },
  {
   "cell_type": "code",
   "execution_count": null,
   "metadata": {
    "collapsed": false,
    "deletable": true,
    "editable": true
   },
   "outputs": [],
   "source": [
    "axv.shape"
   ]
  },
  {
   "cell_type": "code",
   "execution_count": null,
   "metadata": {
    "collapsed": false,
    "deletable": true,
    "editable": true
   },
   "outputs": [],
   "source": [
    "axv[:3, :3]"
   ]
  },
  {
   "cell_type": "code",
   "execution_count": null,
   "metadata": {
    "collapsed": false
   },
   "outputs": [],
   "source": [
    "label[139807]"
   ]
  },
  {
   "cell_type": "code",
   "execution_count": null,
   "metadata": {
    "collapsed": false,
    "deletable": true,
    "editable": true
   },
   "outputs": [],
   "source": [
    "features[:5, :5]"
   ]
  },
  {
   "cell_type": "code",
   "execution_count": null,
   "metadata": {
    "collapsed": true,
    "deletable": true,
    "editable": true
   },
   "outputs": [],
   "source": []
  }
 ],
 "metadata": {
  "kernelspec": {
   "display_name": "Python 3",
   "language": "python",
   "name": "python3"
  }
 },
 "nbformat": 4,
 "nbformat_minor": 2
}
