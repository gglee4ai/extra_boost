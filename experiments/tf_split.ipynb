{
 "cells": [
  {
   "cell_type": "code",
   "execution_count": 1,
   "metadata": {
    "collapsed": false,
    "deletable": true,
    "editable": true
   },
   "outputs": [
    {
     "name": "stderr",
     "output_type": "stream",
     "text": [
      "/home/zomb-vision/envs/env35/lib/python3.5/importlib/_bootstrap.py:222: RuntimeWarning: numpy.dtype size changed, may indicate binary incompatibility. Expected 96, got 88\n",
      "  return f(*args, **kwds)\n",
      "/home/zomb-vision/envs/env35/lib/python3.5/importlib/_bootstrap.py:222: RuntimeWarning: numpy.dtype size changed, may indicate binary incompatibility. Expected 96, got 88\n",
      "  return f(*args, **kwds)\n",
      "/home/zomb-vision/envs/env35/lib/python3.5/importlib/_bootstrap.py:222: RuntimeWarning: numpy.dtype size changed, may indicate binary incompatibility. Expected 96, got 88\n",
      "  return f(*args, **kwds)\n",
      "/home/zomb-vision/envs/env35/lib/python3.5/importlib/_bootstrap.py:222: RuntimeWarning: numpy.dtype size changed, may indicate binary incompatibility. Expected 96, got 88\n",
      "  return f(*args, **kwds)\n",
      "/home/zomb-vision/envs/env35/lib/python3.5/importlib/_bootstrap.py:222: RuntimeWarning: numpy.dtype size changed, may indicate binary incompatibility. Expected 96, got 88\n",
      "  return f(*args, **kwds)\n",
      "/home/zomb-vision/envs/env35/lib/python3.5/importlib/_bootstrap.py:222: RuntimeWarning: numpy.dtype size changed, may indicate binary incompatibility. Expected 96, got 88\n",
      "  return f(*args, **kwds)\n"
     ]
    }
   ],
   "source": [
    "import sys, os, io, json, numpy as np, random, time\n",
    "#from sklearn.metrics import roc_auc_score\n",
    "from importlib import reload\n",
    "import extra_utils\n",
    "reload(extra_utils)\n",
    "from extra_utils import time_features, subpool, test_extra_predictions\n",
    "import forest\n",
    "reload(forest)\n",
    "from forest import build_tree, EMatrix, tree2gv\n",
    "import xgboost as xgb\n",
    "import tensorflow as tf\n",
    "import split\n",
    "reload(split)\n",
    "from split import SplitMaker\n",
    "#from split import make_split_quick, make_gax, split_quick_graph, split_quick_graph_transpose\n",
    "import graphviz\n",
    "from sklearn import metrics"
   ]
  },
  {
   "cell_type": "code",
   "execution_count": 2,
   "metadata": {},
   "outputs": [],
   "source": [
    "split_maker_old = SplitMaker.make_split_old()"
   ]
  },
  {
   "cell_type": "code",
   "execution_count": 71,
   "metadata": {
    "collapsed": true,
    "deletable": true,
    "editable": true
   },
   "outputs": [],
   "source": [
    "pool = np.load('../prepare_dataset/pool_cross_00.npz')\n",
    "features_bool, f_time, label_orig = (pool[name] for name in ['features', 'f_time', 'label'])\n",
    "label = label_orig"
   ]
  },
  {
   "cell_type": "code",
   "execution_count": 72,
   "metadata": {
    "deletable": true,
    "editable": true
   },
   "outputs": [],
   "source": [
    "np.random.seed(42)\n",
    "features_orig = np.random.normal(loc=features_bool*1.0, scale=0.01)\n",
    "#features = features[:150000,:]; label = label_orig[:150000, :]\n",
    "\n",
    "f_test, l_test = features_orig[150000:,:], label_orig[150000:, :]\n",
    "features = features_orig[:150000,:]; label = label_orig[:150000, :]"
   ]
  },
  {
   "cell_type": "markdown",
   "metadata": {
    "deletable": true,
    "editable": true
   },
   "source": [
    "### Тестирование инвариантности сплита относительно замены местами столбцов фичей\n",
    "\n",
    "```\n",
    "features_swap = np.concatenate([features[:,7:8], features[:,1:7], features[:,0:1], features[:,8:]], axis=1)\n",
    "\n",
    "%%time\n",
    "split_maker_old.split(np.zeros(label.shape), features, label)\n",
    "#make_split(np.zeros(label.shape), features, label)\n",
    "\n",
    "%%time\n",
    "split_maker_old.split(np.zeros(label.shape), features_swap, label)\n",
    "#make_split(np.zeros(label.shape), features_swap, label)\n",
    "```"
   ]
  },
  {
   "cell_type": "code",
   "execution_count": 73,
   "metadata": {
    "collapsed": false
   },
   "outputs": [
    {
     "data": {
      "text/plain": [
       "((150000, 17), (150000, 1))"
      ]
     },
     "execution_count": 73,
     "metadata": {},
     "output_type": "execute_result"
    }
   ],
   "source": [
    "features.shape, label.shape"
   ]
  },
  {
   "cell_type": "code",
   "execution_count": 58,
   "metadata": {},
   "outputs": [],
   "source": [
    "global_ax = split_maker_old.make_gax(features)\n",
    "featuresT = features.T\n",
    "global_axT = global_ax.T"
   ]
  },
  {
   "cell_type": "code",
   "execution_count": 59,
   "metadata": {},
   "outputs": [],
   "source": [
    "split_maker = SplitMaker.make_split_new(reduce_axis=0, make_transpose=True)"
   ]
  },
  {
   "cell_type": "code",
   "execution_count": 60,
   "metadata": {
    "collapsed": false
   },
   "outputs": [
    {
     "name": "stderr",
     "output_type": "stream",
     "text": [
      "1  2  3  4  5  5  4  5  5  3  4  5  5  4  5  5  2  3  4  5  5  4  5  5  3  4  5  5  4  5  5  1  2  3  4  5  5  4  5  5  3  4  5  5  4  5  5  2  3  4  5  5  4  5  5  3  4  5  5  "
     ]
    },
    {
     "name": "stdout",
     "output_type": "stream",
     "text": [
      "CPU times: user 6.46 s, sys: 257 ms, total: 6.71 s\n",
      "Wall time: 2.5 s\n"
     ]
    },
    {
     "name": "stderr",
     "output_type": "stream",
     "text": [
      "4  5  5  \n",
      "split time = 6.55365, 0.11795, [0.58596, 0.25116, 0.13560, 0.07351, 0.04669, 0.03291, 0.02687, 0.02711, 0.01508, 0.01744, 0.01889, 0.01417, 0.02827, 0.02848, 0.02630, 0.01662, 0.01577, 0.01514, 0.01591, 0.04806, 0.03592, 0.02465, 0.02180, 0.01871, 0.02433, 0.02567, 0.01558, 0.02477, 0.02339, 0.01980, 0.01852, 0.01805, 0.01651, 0.01607, 0.07438, 0.07061, 0.03405, 0.02698, 0.01675, 0.02351, 0.02901, 0.02172, 0.02158, 0.03850, 0.03315, 0.02271, 0.02419, 0.02087, 0.02068, 0.01780, 0.02369, 0.02280, 0.02060, 0.01844, 0.01822, 0.01840, 0.01749, 0.01637, 0.01742, 0.01322, 0.01485, 0.01506, 0.01680, 0.01499, 0.01718, 0.14548, 0.10947, 0.10134, 0.05596, 0.03497, 0.02457, 0.02242, 0.03180, 0.02640, 0.01979, 0.05634, 0.05138, 0.02558, 0.03092, 0.02421, 0.01918, 0.01951, 0.02813, 0.02514, 0.02531, 0.02180, 0.01760, 0.01596, 0.01702, 0.01828, 0.01996, 0.01607, 0.01475, 0.01600, 0.01599, 0.01724, 0.01600, 0.04095, 0.03849, 0.03333, 0.03359, 0.03432, 0.01738, 0.01870, 0.01606, 0.01819, 0.01921, 0.01875, 0.01338, 0.01654, 0.01702, 0.01744, 0.01607, 0.02070, 0.02166, 0.01976, 0.01568, 0.01865, 0.01570, 0.01387, 0.01691, 0.01734, 0.01692, 0.01465, 0.01457, 0.01413, 0.09297, 0.04782, 0.03192, 0.02954, 0.02985, 0.02113, 0.02043, 0.01951, 0.02252, 0.01657, 0.02265, 0.01791, 0.01418, 0.01552, 0.02073, 0.01962, 0.01471, 0.01798, 0.01716, 0.01886, 0.02230, 0.01667, 0.01570, 0.01580, 0.02053, 0.02014, 0.01884, 0.03210, 0.02660, 0.02346, 0.01378, 0.01570, 0.01560, 0.02356, 0.01564, 0.02304, 0.02040, 0.01815, 0.01601, 0.01943, 0.01793, 0.01674, 0.01604, 0.01498, 0.01784, 0.01493, 0.01506, 0.01481, 0.01492, 0.01769, 0.01636, 0.01764, 0.01865, 0.01546, 0.05320, 0.02848, 0.02258, 0.02359, 0.02061, 0.01702, 0.02137, 0.01563, 0.01595, 0.01563, 0.01991, 0.01564, 0.01733, 0.01731, 0.01755, 0.01821, 0.02041, 0.02449, 0.01721, 0.01571, 0.01620, 0.01714, 0.01745, 0.01692, 0.01787, 0.02710, 0.02218, 0.01697, 0.02014, 0.02264, 0.01418, 0.02099, 0.03264, 0.02408, 0.02334, 0.01606, 0.01717, 0.01616, 0.02196, 0.01832, 0.01987, 0.01742, 0.01525, 0.01645, 0.01756, 0.01623, 0.01770, 0.01649, 0.02554, 0.02212, 0.02220, 0.01823, 0.01966, 0.01660, 0.01532, 0.01612, 0.02050, 0.01879, 0.02061, 0.01661, 0.01948, 0.01687, 0.01635]\n"
     ]
    }
   ],
   "source": [
    "%%time\n",
    "start_params = {'max_depth': 8, 'learning_rate':0.3, 'transposed_feature1111': 1, 'unbalanced_penalty':0.001}\n",
    "tf.constant\n",
    "forest.time1 = forest.time2 =0\n",
    "forest.time3 = []\n",
    "with tf.Session(graph=split_maker.graph) as s:\n",
    "    tree = build_tree(start_params, EMatrix(featuresT if split_maker.reduce_axis==1 else features, \n",
    "                                            label, np.zeros(label.shape), \n",
    "                                            gax=global_axT if split_maker.reduce_axis==1 else global_ax, \n",
    "                                            splitgax=True), split_maker=split_maker, sess=s)\n",
    "print(\"\\nsplit time = {:.5f}, {:.5f}, [{}]\".format(forest.time1, forest.time2, \", \".join(\"{:.5f}\".format(tt) for tt in forest.time3)), file=sys.stderr)\n",
    "tree_arrays = forest.init_arrays(tree, forest.init_id(tree))"
   ]
  },
  {
   "cell_type": "code",
   "execution_count": 61,
   "metadata": {},
   "outputs": [],
   "source": [
    "import pstats\n",
    "p = pstats.Stats('build_tree.prof')\n",
    "#p.sort_stats('tottime').print_stats()"
   ]
  },
  {
   "cell_type": "code",
   "execution_count": 62,
   "metadata": {},
   "outputs": [
    {
     "data": {
      "text/plain": [
       "(0.564954307935, 0.5019091667880746, 0.5)"
      ]
     },
     "execution_count": 62,
     "metadata": {},
     "output_type": "execute_result"
    }
   ],
   "source": [
    "pred = forest.tree_apply(tree_arrays, features)\n",
    "pred_test = forest.tree_apply(tree_arrays, f_test)\n",
    "auc1l = metrics.roc_auc_score(label[:, 0], pred)\n",
    "auc1t = metrics.roc_auc_score(label[:, 0], pred_test)\n",
    "auc0 = metrics.roc_auc_score(label[:, 0], np.zeros(label.shape[0]))\n",
    "auc1l, auc1t, auc0"
   ]
  },
  {
   "cell_type": "code",
   "execution_count": 63,
   "metadata": {
    "collapsed": false,
    "deletable": true,
    "editable": true
   },
   "outputs": [
    {
     "data": {
      "text/plain": [
       "<forest.TreeNode at 0x7fe20f3e6cc0>"
      ]
     },
     "execution_count": 63,
     "metadata": {},
     "output_type": "execute_result"
    }
   ],
   "source": [
    "#tree.left.left.left.left.val, tree.val\n",
    "tree.left.left"
   ]
  },
  {
   "cell_type": "code",
   "execution_count": 64,
   "metadata": {
    "collapsed": false,
    "deletable": true,
    "editable": true
   },
   "outputs": [],
   "source": [
    "#forest.tree2gv(tree)"
   ]
  },
  {
   "cell_type": "code",
   "execution_count": null,
   "metadata": {
    "collapsed": false
   },
   "outputs": [],
   "source": []
  },
  {
   "cell_type": "code",
   "execution_count": 65,
   "metadata": {
    "collapsed": false
   },
   "outputs": [
    {
     "name": "stderr",
     "output_type": "stream",
     "text": [
      "\n",
      "0 round\n",
      "1  2  3  4  4  3  4  4  2  3  4  4  3  4  4  1  2  3  4  4  3  4  4  2  3  4  4  3  4  4  \n",
      "1 round\n",
      "1  2  3  4  4  3  4  4  2  3  4  4  3  4  4  1  2  3  4  4  3  4  4  2  3  4  4  3  4  4  \n",
      "2 round\n",
      "1  2  3  4  4  3  4  4  2  3  4  4  3  4  4  1  2  3  4  4  3  4  4  2  3  4  4  3  4  4  \n",
      "3 round\n",
      "1  2  3  4  4  3  4  4  2  3  4  4  3  4  4  1  2  3  4  4  3  4  4  2  3  4  4  3  4  4  \n",
      "4 round\n",
      "1  2  3  4  4  3  4  4  2  3  4  4  3  4  4  1  2  3  4  4  3  4  4  2  3  4  4  3  4  4  \n",
      "5 round\n",
      "1  2  3  4  4  3  4  4  2  3  4  4  3  4  4  1  2  3  4  4  3  4  4  2  3  4  4  3  4  4  \n",
      "6 round\n",
      "1  2  3  4  4  3  4  4  2  3  4  4  3  4  4  1  2  3  4  4  3  4  4  2  3  4  4  3  4  4  \n",
      "7 round\n",
      "1  2  3  4  4  3  4  4  2  3  4  4  3  4  4  1  2  3  4  4  3  4  4  2  3  4  4  3  4  4  \n",
      "8 round\n",
      "1  2  3  4  4  3  4  4  2  3  4  4  3  4  4  1  2  3  4  4  3  4  4  2  3  4  4  3  4  4  \n",
      "9 round\n",
      "1  2  3  4  4  3  4  4  2  3  4  4  3  4  4  1  2  3  4  4  3  4  4  2  3  4  4  3  4  4  "
     ]
    },
    {
     "name": "stdout",
     "output_type": "stream",
     "text": [
      "CPU times: user 17.6 s, sys: 76.9 ms, total: 17.7 s\n",
      "Wall time: 6.85 s\n"
     ]
    }
   ],
   "source": [
    "%%time\n",
    "boost_params = {'max_depth': 4, 'learning_rate':0.3, 'splitgax': True, 'transposed_feature': 0, 'unbalanced_penalty':0.001}\n",
    "booster = forest.train(boost_params, EMatrix(featuresT if boost_params['transposed_feature'] else features, label), num_boost_round=10)"
   ]
  },
  {
   "cell_type": "code",
   "execution_count": 66,
   "metadata": {},
   "outputs": [],
   "source": [
    "####################################################"
   ]
  },
  {
   "cell_type": "code",
   "execution_count": 67,
   "metadata": {},
   "outputs": [],
   "source": [
    "#%%time\n",
    "#gax13 = make_gax(features)\n",
    "#print(gax13.shape)"
   ]
  },
  {
   "cell_type": "code",
   "execution_count": 68,
   "metadata": {
    "collapsed": false
   },
   "outputs": [
    {
     "data": {
      "text/plain": [
       "(0.5605287476686079, 0.5402890562386409)"
      ]
     },
     "execution_count": 68,
     "metadata": {},
     "output_type": "execute_result"
    }
   ],
   "source": [
    "pred2 = booster.predict(features)\n",
    "pred2b = booster.predict(features, tree_limit=10)\n",
    "pred_test = booster.predict(f_test)\n",
    "main_auc_l = metrics.roc_auc_score(label[:, 0], pred2)\n",
    "main_auc_t = metrics.roc_auc_score(l_test[:, 0], pred_test)\n",
    "main_auc_l, main_auc_t"
   ]
  },
  {
   "cell_type": "code",
   "execution_count": 17,
   "metadata": {},
   "outputs": [
    {
     "data": {
      "text/plain": [
       "(0.5783850422568331, 0.547297544877569)"
      ]
     },
     "execution_count": 17,
     "metadata": {},
     "output_type": "execute_result"
    }
   ],
   "source": [
    "0.5783850422568331,0.547297544877569"
   ]
  },
  {
   "cell_type": "code",
   "execution_count": 18,
   "metadata": {},
   "outputs": [],
   "source": [
    "#np.min(pred2b), np.max(pred2b)"
   ]
  },
  {
   "cell_type": "code",
   "execution_count": 19,
   "metadata": {
    "collapsed": true
   },
   "outputs": [
    {
     "ename": "NameError",
     "evalue": "name 'tree2gv' is not defined",
     "output_type": "error",
     "traceback": [
      "\u001b[0;31m---------------------------------------------------------------------------\u001b[0m",
      "\u001b[0;31mNameError\u001b[0m                                 Traceback (most recent call last)",
      "\u001b[0;32m<ipython-input-19-999c0bfb0260>\u001b[0m in \u001b[0;36m<module>\u001b[0;34m()\u001b[0m\n\u001b[0;32m----> 1\u001b[0;31m \u001b[0mtree2gv\u001b[0m\u001b[0;34m(\u001b[0m\u001b[0mbooster\u001b[0m\u001b[0;34m.\u001b[0m\u001b[0mforest\u001b[0m\u001b[0;34m[\u001b[0m\u001b[0;36m45\u001b[0m\u001b[0;34m]\u001b[0m\u001b[0;34m[\u001b[0m\u001b[0;36m0\u001b[0m\u001b[0;34m]\u001b[0m\u001b[0;34m)\u001b[0m\u001b[0;34m\u001b[0m\u001b[0m\n\u001b[0m",
      "\u001b[0;31mNameError\u001b[0m: name 'tree2gv' is not defined"
     ]
    }
   ],
   "source": [
    "tree2gv(booster.forest[45][0])"
   ]
  },
  {
   "cell_type": "code",
   "execution_count": 20,
   "metadata": {},
   "outputs": [],
   "source": [
    "dmat = xgb.DMatrix(features, label)"
   ]
  },
  {
   "cell_type": "code",
   "execution_count": 22,
   "metadata": {},
   "outputs": [
    {
     "name": "stdout",
     "output_type": "stream",
     "text": [
      "[23:00:48] /workspace/src/tree/updater_prune.cc:74: tree pruning end, 1 roots, 28 extra nodes, 0 pruned nodes, max_depth=4\n",
      "[23:00:48] /workspace/src/tree/updater_prune.cc:74: tree pruning end, 1 roots, 30 extra nodes, 0 pruned nodes, max_depth=4\n",
      "[23:00:48] /workspace/src/tree/updater_prune.cc:74: tree pruning end, 1 roots, 30 extra nodes, 0 pruned nodes, max_depth=4\n",
      "[23:00:48] /workspace/src/tree/updater_prune.cc:74: tree pruning end, 1 roots, 30 extra nodes, 0 pruned nodes, max_depth=4\n",
      "[23:00:48] /workspace/src/tree/updater_prune.cc:74: tree pruning end, 1 roots, 30 extra nodes, 0 pruned nodes, max_depth=4\n",
      "[23:00:48] /workspace/src/tree/updater_prune.cc:74: tree pruning end, 1 roots, 30 extra nodes, 0 pruned nodes, max_depth=4\n",
      "[23:00:48] /workspace/src/tree/updater_prune.cc:74: tree pruning end, 1 roots, 30 extra nodes, 0 pruned nodes, max_depth=4\n",
      "[23:00:48] /workspace/src/tree/updater_prune.cc:74: tree pruning end, 1 roots, 30 extra nodes, 0 pruned nodes, max_depth=4\n",
      "[23:00:48] /workspace/src/tree/updater_prune.cc:74: tree pruning end, 1 roots, 30 extra nodes, 0 pruned nodes, max_depth=4\n",
      "[23:00:48] /workspace/src/tree/updater_prune.cc:74: tree pruning end, 1 roots, 30 extra nodes, 0 pruned nodes, max_depth=4\n",
      "CPU times: user 4.31 s, sys: 14.5 ms, total: 4.33 s\n",
      "Wall time: 435 ms\n"
     ]
    }
   ],
   "source": [
    "%%time\n",
    "params = {'max_depth': 4, 'objective': 'binary:logistic', 'eta': 0.3, 'tree_method': 'exact', 'lambda': 1}\n",
    "model = xgb.train(params, dmat, num_boost_round=10)"
   ]
  },
  {
   "cell_type": "code",
   "execution_count": 23,
   "metadata": {},
   "outputs": [],
   "source": [
    "dmat_test = xgb.DMatrix(f_test, l_test)"
   ]
  },
  {
   "cell_type": "code",
   "execution_count": 24,
   "metadata": {},
   "outputs": [
    {
     "data": {
      "text/plain": [
       "(0.564382620107551, 0.5476151803114241)"
      ]
     },
     "execution_count": 24,
     "metadata": {},
     "output_type": "execute_result"
    }
   ],
   "source": [
    "pred_fast = model.predict(dmat)\n",
    "pred_test = model.predict(dmat_test)\n",
    "\n",
    "metrics.roc_auc_score(label[:, 0], pred_fast), metrics.roc_auc_score(l_test[:, 0], pred_test)"
   ]
  },
  {
   "cell_type": "code",
   "execution_count": null,
   "metadata": {},
   "outputs": [],
   "source": [
    "pred_fast = model.predict(dmat, ntree_limit=35)\n",
    "metrics.roc_auc_score(label[:, 0], pred_fast)"
   ]
  },
  {
   "cell_type": "code",
   "execution_count": null,
   "metadata": {},
   "outputs": [],
   "source": [
    "pred2b = booster.predict(features, tree_limit=15)\n",
    "metrics.roc_auc_score(label[:, 0], pred2b)"
   ]
  },
  {
   "cell_type": "code",
   "execution_count": null,
   "metadata": {},
   "outputs": [],
   "source": [
    "0.5987831226886691, 0.5457320402572653"
   ]
  },
  {
   "cell_type": "code",
   "execution_count": null,
   "metadata": {},
   "outputs": [],
   "source": [
    "qq = -np.log(1/pred_fast-1) \n",
    "np.min(qq), np.max(qq)"
   ]
  },
  {
   "cell_type": "code",
   "execution_count": null,
   "metadata": {},
   "outputs": [],
   "source": [
    "diff = np.abs(qq - pred2b)\n",
    "np.mean(diff > 0.1)"
   ]
  },
  {
   "cell_type": "code",
   "execution_count": null,
   "metadata": {},
   "outputs": [],
   "source": [
    "model.dump_model('xgb.dump')"
   ]
  },
  {
   "cell_type": "code",
   "execution_count": null,
   "metadata": {},
   "outputs": [],
   "source": [
    "tree2gv(booster.forest[1][0])"
   ]
  },
  {
   "cell_type": "code",
   "execution_count": null,
   "metadata": {},
   "outputs": [],
   "source": [
    "!cat xgb.dump | tail -n+$(echo 39*31+31 | bc) | head -n 100"
   ]
  },
  {
   "cell_type": "markdown",
   "metadata": {},
   "source": [
    "### Extra begins here"
   ]
  },
  {
   "cell_type": "code",
   "execution_count": 74,
   "metadata": {},
   "outputs": [],
   "source": [
    "extra_f = time_features(f_time, feat_num=2)"
   ]
  },
  {
   "cell_type": "code",
   "execution_count": 75,
   "metadata": {},
   "outputs": [
    {
     "data": {
      "text/plain": [
       "(300000, 2)"
      ]
     },
     "execution_count": 75,
     "metadata": {},
     "output_type": "execute_result"
    }
   ],
   "source": [
    "extra_f.shape"
   ]
  },
  {
   "cell_type": "code",
   "execution_count": 76,
   "metadata": {},
   "outputs": [
    {
     "name": "stdout",
     "output_type": "stream",
     "text": [
      "(300000, 1)\n"
     ]
    }
   ],
   "source": [
    "N = 300000\n",
    "f_spec = np.random.normal(loc=np.zeros((N,2)))\n",
    "time_spec = np.random.uniform(size=(N,1)) #loc=np.zeros((N,1)))\n",
    "print(time_spec.shape)\n",
    "label_spec = ((f_spec[:, 0:1] + 3 * f_spec[:, 1:2] * (time_spec[:, 0:1] - 0.5))  > 0) * 1\n",
    "extra_spec = time_features(time_spec, feat_num=2)"
   ]
  },
  {
   "cell_type": "code",
   "execution_count": 77,
   "metadata": {},
   "outputs": [],
   "source": [
    "#f_spec[:10]"
   ]
  },
  {
   "cell_type": "code",
   "execution_count": 186,
   "metadata": {},
   "outputs": [],
   "source": [
    "f_train, extra_f_train, label_train = subpool((features_orig[:,1:8], extra_f, label_orig), f_time, (0, 0.75))\n",
    "time_column = f_time\n",
    "full_features = features_orig\n",
    "full_extra_features = extra_f\n",
    "full_label = label_orig\n",
    "if 0:\n",
    "    f_train, extra_f_train, label_train = subpool((f_spec, extra_spec, label_spec), time_spec, (0, 0.2))\n",
    "    time_column = time_spec \n",
    "    full_features = f_spec\n",
    "    full_extra_features = extra_spec\n",
    "    full_label = label_spec"
   ]
  },
  {
   "cell_type": "code",
   "execution_count": 187,
   "metadata": {},
   "outputs": [],
   "source": [
    "cond = np.logical_and.reduce([f_train[:,k] > 0.016 for k in [1,2,3,5]])\n",
    "#cond = f_train[:,1] > 0.016\n",
    "cond1 = extra_f_train[:,1] < 0.25\n",
    "cond2 = np.logical_not(cond1)"
   ]
  },
  {
   "cell_type": "code",
   "execution_count": 188,
   "metadata": {},
   "outputs": [
    {
     "data": {
      "text/plain": [
       "(1.591466793319085, 0.6617980724693224)"
      ]
     },
     "execution_count": 188,
     "metadata": {},
     "output_type": "execute_result"
    }
   ],
   "source": [
    "(np.mean(label_train[np.logical_and(cond, cond1)]) / np.mean(label_train[:,0]),\n",
    " np.mean(label_train[np.logical_and(cond, cond2)]) / np.mean(label_train[:,0])\n",
    ")"
   ]
  },
  {
   "cell_type": "code",
   "execution_count": null,
   "metadata": {},
   "outputs": [],
   "source": []
  },
  {
   "cell_type": "code",
   "execution_count": 189,
   "metadata": {},
   "outputs": [
    {
     "data": {
      "text/plain": [
       "(0.29917333333333335, 0.29016071558432116, 0.30777149769871376)"
      ]
     },
     "execution_count": 189,
     "metadata": {},
     "output_type": "execute_result"
    }
   ],
   "source": [
    "cond = features_orig[:,1] < 0.5\n",
    "cond1 = f_time[:,0] < 0.05\n",
    "cond2 = np.logical_not(cond1)\n",
    "(np.mean(label_orig),\n",
    " np.mean(label_orig[np.logical_and(cond, cond1)]),\n",
    " np.mean(label_orig[np.logical_and(cond, cond2)])\n",
    ")"
   ]
  },
  {
   "cell_type": "code",
   "execution_count": 190,
   "metadata": {},
   "outputs": [],
   "source": [
    "#np.concatenate((f_train[:20, 1:2], label_train[:20, 0:1], extra_f_train[:20, :1]), axis=1)"
   ]
  },
  {
   "cell_type": "code",
   "execution_count": 191,
   "metadata": {},
   "outputs": [
    {
     "data": {
      "text/plain": [
       "((225176, 7), (225176, 2), (225176, 1))"
      ]
     },
     "execution_count": 191,
     "metadata": {},
     "output_type": "execute_result"
    }
   ],
   "source": [
    "f_train.shape, extra_f_train.shape, label_train.shape"
   ]
  },
  {
   "cell_type": "code",
   "execution_count": 192,
   "metadata": {},
   "outputs": [],
   "source": [
    "import extra_utils\n",
    "reload(extra_utils)\n",
    "from extra_utils import time_features, subpool, test_extra_predictions\n",
    "import forest\n",
    "reload(forest)\n",
    "from forest import build_tree, EMatrix, tree2gv\n",
    "import split\n",
    "reload(split)\n",
    "from split import SplitMaker\n",
    "import ipywidgets\n",
    "from ipywidgets import IntProgress\n",
    "from IPython.display import display, clear_output, Markdown"
   ]
  },
  {
   "cell_type": "code",
   "execution_count": 193,
   "metadata": {},
   "outputs": [],
   "source": [
    "#ipywidgets.IntProgress(min=0, max=rounds, value=0)"
   ]
  },
  {
   "cell_type": "code",
   "execution_count": 194,
   "metadata": {},
   "outputs": [
    {
     "data": {
      "text/markdown": [
       "<span style=\"font-family:Courier\">[###################################################################################################-]99/100</span>"
      ],
      "text/plain": [
       "<IPython.core.display.Markdown object>"
      ]
     },
     "metadata": {},
     "output_type": "display_data"
    },
    {
     "name": "stdout",
     "output_type": "stream",
     "text": [
      "CPU times: user 8min 23s, sys: 39.5 s, total: 9min 3s\n",
      "Wall time: 5min 47s\n"
     ]
    }
   ],
   "source": [
    "%%time\n",
    "rounds = 100\n",
    "progress = ipywidgets.IntProgress(min=0, max=rounds, value=0)\n",
    "#display(progress)\n",
    "def progress_callback(value, max):\n",
    "    progress.value = value\n",
    "    progress.max = max\n",
    "    clear_output()\n",
    "    l = 100\n",
    "    x = int(value*l/max + 0.5)\n",
    "    y = l-x\n",
    "    display(Markdown('<span style=\"font-family:Courier\">' + '[' + ('#' * x) + ('-' * y) + ']' + '{x}/{m}'.format(x=x,m=max) + '</span>'))\n",
    "    #display(progress)\n",
    "\n",
    "boost_params = {'max_depth': 4, 'learning_rate':0.03, 'splitgax': True, 'transposed_feature': 1, 'unbalanced_penalty':0.001,\n",
    "               'progress_callback': progress_callback}\n",
    "booster_regular = forest.train(boost_params, EMatrix(features=f_train.T if boost_params['transposed_feature'] else  f_train, \n",
    "                                             extra_features=None,\n",
    "                                             label=label_train), num_boost_round=rounds)\n",
    "booster = forest.train(boost_params, EMatrix(features=f_train.T if boost_params['transposed_feature'] else  f_train, \n",
    "                                             extra_features=extra_f_train.T if boost_params['transposed_feature'] else extra_f_train,\n",
    "                                             label=label_train), num_boost_round=rounds)"
   ]
  },
  {
   "cell_type": "code",
   "execution_count": 195,
   "metadata": {},
   "outputs": [
    {
     "name": "stdout",
     "output_type": "stream",
     "text": [
      "(0.0, 0.05) score = 0.48201213948695876\n",
      "(0.05, 0.1) score = 0.48269198180021805\n",
      "(0.1, 0.15) score = 0.48440015660539254\n",
      "(0.15, 0.2) score = 0.4854943479191973\n",
      "(0.2, 0.25) score = 0.4814382987514697\n",
      "(0.25, 0.3) score = 0.4757540926334616\n",
      "(0.3, 0.35) score = 0.5115152488829148\n",
      "(0.35, 0.4) score = 0.5447281917982145\n",
      "(0.4, 0.45) score = 0.5356182403635041\n",
      "(0.45, 0.5) score = 0.5489900459449613\n",
      "(0.5, 0.55) score = 0.5580247370670637\n",
      "(0.55, 0.6) score = 0.56719477410022\n",
      "(0.6, 0.65) score = 0.57421599461658\n",
      "(0.65, 0.7) score = 0.5894901481206808\n",
      "(0.7, 0.75) score = 0.60324978009431\n",
      "(0.75, 0.8) score = 0.6127962876899999\n",
      "(0.8, 0.85) score = 0.6303212283677104\n",
      "(0.85, 0.9) score = 0.6567500730122782\n",
      "(0.9, 0.95) score = 0.6860220172859745\n",
      "(0.95, 1.0) score = 0.6991556425341221\n"
     ]
    }
   ],
   "source": [
    "whole_prediction = booster.predict(full_features, extra_features=full_extra_features, tree_limit=30)\n",
    "test_extra_predictions(20, time_column, full_label, whole_prediction)"
   ]
  },
  {
   "cell_type": "code",
   "execution_count": 196,
   "metadata": {},
   "outputs": [
    {
     "name": "stdout",
     "output_type": "stream",
     "text": [
      "(0.0, 0.05) score = 0.4744220651936295\n",
      "(0.05, 0.1) score = 0.4860220857274104\n",
      "(0.1, 0.15) score = 0.4933727357479275\n",
      "(0.15, 0.2) score = 0.4886255253256902\n",
      "(0.2, 0.25) score = 0.4949131914891848\n",
      "(0.25, 0.3) score = 0.5030918012063398\n",
      "(0.3, 0.35) score = 0.506737744294459\n",
      "(0.35, 0.4) score = 0.5185092888348493\n",
      "(0.4, 0.45) score = 0.513015932529314\n",
      "(0.45, 0.5) score = 0.5327671423354268\n",
      "(0.5, 0.55) score = 0.5310625435949959\n",
      "(0.55, 0.6) score = 0.5403053852513989\n",
      "(0.6, 0.65) score = 0.5513555788194413\n",
      "(0.65, 0.7) score = 0.5598536610521222\n",
      "(0.7, 0.75) score = 0.5681279485278325\n",
      "(0.75, 0.8) score = 0.5799985634922609\n",
      "(0.8, 0.85) score = 0.5962986539381675\n",
      "(0.85, 0.9) score = 0.620328971975118\n",
      "(0.9, 0.95) score = 0.6395394845362805\n",
      "(0.95, 1.0) score = 0.6501603860947927\n"
     ]
    }
   ],
   "source": [
    "whole_prediction = booster_regular.predict(full_features, tree_limit=1000)\n",
    "test_extra_predictions(20, time_column, full_label, whole_prediction)"
   ]
  },
  {
   "cell_type": "code",
   "execution_count": 113,
   "metadata": {},
   "outputs": [
    {
     "data": {
      "image/svg+xml": [
       "<?xml version=\"1.0\" encoding=\"UTF-8\" standalone=\"no\"?>\n",
       "<!DOCTYPE svg PUBLIC \"-//W3C//DTD SVG 1.1//EN\"\n",
       " \"http://www.w3.org/Graphics/SVG/1.1/DTD/svg11.dtd\">\n",
       "<!-- Generated by graphviz version 2.38.0 (20140413.2041)\n",
       " -->\n",
       "<!-- Title: ni Pages: 1 -->\n",
       "<svg width=\"3616pt\" height=\"334pt\"\n",
       " viewBox=\"0.00 0.00 3615.50 334.00\" xmlns=\"http://www.w3.org/2000/svg\" xmlns:xlink=\"http://www.w3.org/1999/xlink\">\n",
       "<g id=\"graph0\" class=\"graph\" transform=\"scale(1 1) rotate(0) translate(4 330)\">\n",
       "<title>ni</title>\n",
       "<polygon fill=\"white\" stroke=\"none\" points=\"-4,4 -4,-330 3611.5,-330 3611.5,4 -4,4\"/>\n",
       "<g id=\"node1\" class=\"node\"><title></title>\n",
       "<polygon fill=\"none\" stroke=\"black\" points=\"1869.5,-326 1754.5,-326 1754.5,-290 1869.5,-290 1869.5,-326\"/>\n",
       "<text text-anchor=\"middle\" x=\"1812\" y=\"-304.3\" font-family=\"Times,serif\" font-size=\"14.00\">f_{2} &lt; 0.001461</text>\n",
       "</g>\n",
       "<!-- 0 -->\n",
       "<g id=\"node2\" class=\"node\"><title>0</title>\n",
       "<polygon fill=\"none\" stroke=\"black\" points=\"1418.5,-254 1303.5,-254 1303.5,-218 1418.5,-218 1418.5,-254\"/>\n",
       "<text text-anchor=\"middle\" x=\"1361\" y=\"-232.3\" font-family=\"Times,serif\" font-size=\"14.00\">f_{3} &lt; 0.001596</text>\n",
       "</g>\n",
       "<!-- &#45;&#45;0 -->\n",
       "<g id=\"edge15\" class=\"edge\"><title>&#45;&#45;0</title>\n",
       "<path fill=\"none\" stroke=\"black\" d=\"M1754.42,-298.063C1667.87,-284.629 1505.16,-259.374 1418.59,-245.939\"/>\n",
       "</g>\n",
       "<!-- 1 -->\n",
       "<g id=\"node17\" class=\"node\"><title>1</title>\n",
       "<polygon fill=\"none\" stroke=\"black\" points=\"2321.5,-254 2206.5,-254 2206.5,-218 2321.5,-218 2321.5,-254\"/>\n",
       "<text text-anchor=\"middle\" x=\"2264\" y=\"-232.3\" font-family=\"Times,serif\" font-size=\"14.00\">f_{2} &lt; 0.032193</text>\n",
       "</g>\n",
       "<!-- &#45;&#45;1 -->\n",
       "<g id=\"edge30\" class=\"edge\"><title>&#45;&#45;1</title>\n",
       "<path fill=\"none\" stroke=\"black\" d=\"M1869.71,-298.063C1956.45,-284.629 2119.52,-259.374 2206.28,-245.939\"/>\n",
       "</g>\n",
       "<!-- 00 -->\n",
       "<g id=\"node3\" class=\"node\"><title>00</title>\n",
       "<polygon fill=\"none\" stroke=\"black\" points=\"730.5,-182 615.5,-182 615.5,-146 730.5,-146 730.5,-182\"/>\n",
       "<text text-anchor=\"middle\" x=\"673\" y=\"-160.3\" font-family=\"Times,serif\" font-size=\"14.00\">f_{5} &lt; 0.001962</text>\n",
       "</g>\n",
       "<!-- 0&#45;&#45;00 -->\n",
       "<g id=\"edge7\" class=\"edge\"><title>0&#45;&#45;00</title>\n",
       "<path fill=\"none\" stroke=\"black\" d=\"M1303.23,-229.122C1173.52,-215.925 860.402,-184.067 730.731,-170.874\"/>\n",
       "</g>\n",
       "<!-- 01 -->\n",
       "<g id=\"node10\" class=\"node\"><title>01</title>\n",
       "<polygon fill=\"none\" stroke=\"black\" points=\"1418.5,-182 1303.5,-182 1303.5,-146 1418.5,-146 1418.5,-182\"/>\n",
       "<text text-anchor=\"middle\" x=\"1361\" y=\"-160.3\" font-family=\"Times,serif\" font-size=\"14.00\">f_{6} &lt; 0.022228</text>\n",
       "</g>\n",
       "<!-- 0&#45;&#45;01 -->\n",
       "<g id=\"edge14\" class=\"edge\"><title>0&#45;&#45;01</title>\n",
       "<path fill=\"none\" stroke=\"black\" d=\"M1361,-217.697C1361,-206.846 1361,-192.917 1361,-182.104\"/>\n",
       "</g>\n",
       "<!-- 000 -->\n",
       "<g id=\"node4\" class=\"node\"><title>000</title>\n",
       "<polygon fill=\"none\" stroke=\"black\" points=\"388.5,-110 273.5,-110 273.5,-74 388.5,-74 388.5,-110\"/>\n",
       "<text text-anchor=\"middle\" x=\"331\" y=\"-88.3\" font-family=\"Times,serif\" font-size=\"14.00\">f_{1} &lt; 0.001487</text>\n",
       "</g>\n",
       "<!-- 00&#45;&#45;000 -->\n",
       "<g id=\"edge3\" class=\"edge\"><title>00&#45;&#45;000</title>\n",
       "<path fill=\"none\" stroke=\"black\" d=\"M615.371,-151.205C552.265,-138.288 451.666,-117.698 388.579,-104.785\"/>\n",
       "</g>\n",
       "<!-- 001 -->\n",
       "<g id=\"node7\" class=\"node\"><title>001</title>\n",
       "<polygon fill=\"none\" stroke=\"black\" points=\"730.5,-110 615.5,-110 615.5,-74 730.5,-74 730.5,-110\"/>\n",
       "<text text-anchor=\"middle\" x=\"673\" y=\"-88.3\" font-family=\"Times,serif\" font-size=\"14.00\">f_{5} &lt; 0.994110</text>\n",
       "</g>\n",
       "<!-- 00&#45;&#45;001 -->\n",
       "<g id=\"edge6\" class=\"edge\"><title>00&#45;&#45;001</title>\n",
       "<path fill=\"none\" stroke=\"black\" d=\"M673,-145.697C673,-134.846 673,-120.917 673,-110.104\"/>\n",
       "</g>\n",
       "<!-- 0000 -->\n",
       "<g id=\"node5\" class=\"node\"><title>0000</title>\n",
       "<polygon fill=\"none\" stroke=\"black\" points=\"210,-38 0,-38 0,-0 210,-0 210,-38\"/>\n",
       "<text text-anchor=\"middle\" x=\"105\" y=\"-22.8\" font-family=\"Times,serif\" font-size=\"14.00\">[&#45;0.0302716 &#160;&#160;0.01780925] (10216)</text>\n",
       "<text text-anchor=\"middle\" x=\"105\" y=\"-7.8\" font-family=\"Times,serif\" font-size=\"14.00\">(0.283673)</text>\n",
       "</g>\n",
       "<!-- 000&#45;&#45;0000 -->\n",
       "<g id=\"edge1\" class=\"edge\"><title>000&#45;&#45;0000</title>\n",
       "<path fill=\"none\" stroke=\"black\" d=\"M276.867,-73.9937C242.393,-63.1632 197.776,-49.1464 162.642,-38.1086\"/>\n",
       "</g>\n",
       "<!-- 0001 -->\n",
       "<g id=\"node6\" class=\"node\"><title>0001</title>\n",
       "<polygon fill=\"none\" stroke=\"black\" points=\"434,-38 228,-38 228,-0 434,-0 434,-38\"/>\n",
       "<text text-anchor=\"middle\" x=\"331\" y=\"-22.8\" font-family=\"Times,serif\" font-size=\"14.00\">[&#45;0.02683555 &#160;0.00674508] (9997)</text>\n",
       "<text text-anchor=\"middle\" x=\"331\" y=\"-7.8\" font-family=\"Times,serif\" font-size=\"14.00\">(0.290087)</text>\n",
       "</g>\n",
       "<!-- 000&#45;&#45;0001 -->\n",
       "<g id=\"edge2\" class=\"edge\"><title>000&#45;&#45;0001</title>\n",
       "<path fill=\"none\" stroke=\"black\" d=\"M331,-73.8129C331,-62.9782 331,-49.0096 331,-38.0196\"/>\n",
       "</g>\n",
       "<!-- 0010 -->\n",
       "<g id=\"node8\" class=\"node\"><title>0010</title>\n",
       "<polygon fill=\"none\" stroke=\"black\" points=\"665.5,-38 452.5,-38 452.5,-0 665.5,-0 665.5,-38\"/>\n",
       "<text text-anchor=\"middle\" x=\"559\" y=\"-22.8\" font-family=\"Times,serif\" font-size=\"14.00\">[&#45;0.02715095 &#160;0.00945533] (15871)</text>\n",
       "<text text-anchor=\"middle\" x=\"559\" y=\"-7.8\" font-family=\"Times,serif\" font-size=\"14.00\">(0.293113)</text>\n",
       "</g>\n",
       "<!-- 001&#45;&#45;0010 -->\n",
       "<g id=\"edge4\" class=\"edge\"><title>001&#45;&#45;0010</title>\n",
       "<path fill=\"none\" stroke=\"black\" d=\"M645.694,-73.9937C628.304,-63.1632 605.798,-49.1464 588.076,-38.1086\"/>\n",
       "</g>\n",
       "<!-- 0011 -->\n",
       "<g id=\"node9\" class=\"node\"><title>0011</title>\n",
       "<polygon fill=\"none\" stroke=\"black\" points=\"890.5,-38 683.5,-38 683.5,-0 890.5,-0 890.5,-38\"/>\n",
       "<text text-anchor=\"middle\" x=\"787\" y=\"-22.8\" font-family=\"Times,serif\" font-size=\"14.00\">[&#45;0.01287619 &#45;0.03118801] (2690)</text>\n",
       "<text text-anchor=\"middle\" x=\"787\" y=\"-7.8\" font-family=\"Times,serif\" font-size=\"14.00\">(0.323420)</text>\n",
       "</g>\n",
       "<!-- 001&#45;&#45;0011 -->\n",
       "<g id=\"edge5\" class=\"edge\"><title>001&#45;&#45;0011</title>\n",
       "<path fill=\"none\" stroke=\"black\" d=\"M700.306,-73.9937C717.696,-63.1632 740.202,-49.1464 757.924,-38.1086\"/>\n",
       "</g>\n",
       "<!-- 010 -->\n",
       "<g id=\"node11\" class=\"node\"><title>010</title>\n",
       "<polygon fill=\"none\" stroke=\"black\" points=\"1303.5,-110 1188.5,-110 1188.5,-74 1303.5,-74 1303.5,-110\"/>\n",
       "<text text-anchor=\"middle\" x=\"1246\" y=\"-88.3\" font-family=\"Times,serif\" font-size=\"14.00\">f_{3} &lt; 0.011028</text>\n",
       "</g>\n",
       "<!-- 01&#45;&#45;010 -->\n",
       "<g id=\"edge10\" class=\"edge\"><title>01&#45;&#45;010</title>\n",
       "<path fill=\"none\" stroke=\"black\" d=\"M1332.87,-145.876C1315.05,-135.029 1292.08,-121.05 1274.24,-110.19\"/>\n",
       "</g>\n",
       "<!-- 011 -->\n",
       "<g id=\"node14\" class=\"node\"><title>011</title>\n",
       "<polygon fill=\"none\" stroke=\"black\" points=\"1532.5,-110 1417.5,-110 1417.5,-74 1532.5,-74 1532.5,-110\"/>\n",
       "<text text-anchor=\"middle\" x=\"1475\" y=\"-88.3\" font-family=\"Times,serif\" font-size=\"14.00\">f_{3} &lt; 0.993217</text>\n",
       "</g>\n",
       "<!-- 01&#45;&#45;011 -->\n",
       "<g id=\"edge13\" class=\"edge\"><title>01&#45;&#45;011</title>\n",
       "<path fill=\"none\" stroke=\"black\" d=\"M1388.89,-145.876C1406.55,-135.029 1429.32,-121.05 1447.01,-110.19\"/>\n",
       "</g>\n",
       "<!-- 0100 -->\n",
       "<g id=\"node12\" class=\"node\"><title>0100</title>\n",
       "<polygon fill=\"none\" stroke=\"black\" points=\"1121.5,-38 908.5,-38 908.5,-0 1121.5,-0 1121.5,-38\"/>\n",
       "<text text-anchor=\"middle\" x=\"1015\" y=\"-22.8\" font-family=\"Times,serif\" font-size=\"14.00\">[&#45;0.02677615 &#160;0.01294055] (18377)</text>\n",
       "<text text-anchor=\"middle\" x=\"1015\" y=\"-7.8\" font-family=\"Times,serif\" font-size=\"14.00\">(0.303205)</text>\n",
       "</g>\n",
       "<!-- 010&#45;&#45;0100 -->\n",
       "<g id=\"edge8\" class=\"edge\"><title>010&#45;&#45;0100</title>\n",
       "<path fill=\"none\" stroke=\"black\" d=\"M1190.67,-73.9937C1155.43,-63.1632 1109.83,-49.1464 1073.92,-38.1086\"/>\n",
       "</g>\n",
       "<!-- 0101 -->\n",
       "<g id=\"node13\" class=\"node\"><title>0101</title>\n",
       "<polygon fill=\"none\" stroke=\"black\" points=\"1353,-38 1139,-38 1139,-0 1353,-0 1353,-38\"/>\n",
       "<text text-anchor=\"middle\" x=\"1246\" y=\"-22.8\" font-family=\"Times,serif\" font-size=\"14.00\">[&#45;0.02364198 &#45;0.00369663] (14692)</text>\n",
       "<text text-anchor=\"middle\" x=\"1246\" y=\"-7.8\" font-family=\"Times,serif\" font-size=\"14.00\">(0.295127)</text>\n",
       "</g>\n",
       "<!-- 010&#45;&#45;0101 -->\n",
       "<g id=\"edge9\" class=\"edge\"><title>010&#45;&#45;0101</title>\n",
       "<path fill=\"none\" stroke=\"black\" d=\"M1246,-73.8129C1246,-62.9782 1246,-49.0096 1246,-38.0196\"/>\n",
       "</g>\n",
       "<!-- 0110 -->\n",
       "<g id=\"node15\" class=\"node\"><title>0110</title>\n",
       "<polygon fill=\"none\" stroke=\"black\" points=\"1578.5,-38 1371.5,-38 1371.5,-0 1578.5,-0 1578.5,-38\"/>\n",
       "<text text-anchor=\"middle\" x=\"1475\" y=\"-22.8\" font-family=\"Times,serif\" font-size=\"14.00\">[&#45;0.01449247 &#45;0.03561561] (3478)</text>\n",
       "<text text-anchor=\"middle\" x=\"1475\" y=\"-7.8\" font-family=\"Times,serif\" font-size=\"14.00\">(0.301035)</text>\n",
       "</g>\n",
       "<!-- 011&#45;&#45;0110 -->\n",
       "<g id=\"edge11\" class=\"edge\"><title>011&#45;&#45;0110</title>\n",
       "<path fill=\"none\" stroke=\"black\" d=\"M1475,-73.8129C1475,-62.9782 1475,-49.0096 1475,-38.0196\"/>\n",
       "</g>\n",
       "<!-- 0111 -->\n",
       "<g id=\"node16\" class=\"node\"><title>0111</title>\n",
       "<polygon fill=\"none\" stroke=\"black\" points=\"1797,-38 1597,-38 1597,-0 1797,-0 1797,-38\"/>\n",
       "<text text-anchor=\"middle\" x=\"1697\" y=\"-22.8\" font-family=\"Times,serif\" font-size=\"14.00\">[ 0.00013479 &#45;0.05854888] (599)</text>\n",
       "<text text-anchor=\"middle\" x=\"1697\" y=\"-7.8\" font-family=\"Times,serif\" font-size=\"14.00\">(0.368948)</text>\n",
       "</g>\n",
       "<!-- 011&#45;&#45;0111 -->\n",
       "<g id=\"edge12\" class=\"edge\"><title>011&#45;&#45;0111</title>\n",
       "<path fill=\"none\" stroke=\"black\" d=\"M1528.17,-73.9937C1562.04,-63.1632 1605.87,-49.1464 1640.38,-38.1086\"/>\n",
       "</g>\n",
       "<!-- 10 -->\n",
       "<g id=\"node18\" class=\"node\"><title>10</title>\n",
       "<polygon fill=\"none\" stroke=\"black\" points=\"2321.5,-182 2206.5,-182 2206.5,-146 2321.5,-146 2321.5,-182\"/>\n",
       "<text text-anchor=\"middle\" x=\"2264\" y=\"-160.3\" font-family=\"Times,serif\" font-size=\"14.00\">f_{1} &lt; 0.001287</text>\n",
       "</g>\n",
       "<!-- 1&#45;&#45;10 -->\n",
       "<g id=\"edge22\" class=\"edge\"><title>1&#45;&#45;10</title>\n",
       "<path fill=\"none\" stroke=\"black\" d=\"M2264,-217.697C2264,-206.846 2264,-192.917 2264,-182.104\"/>\n",
       "</g>\n",
       "<!-- 11 -->\n",
       "<g id=\"node25\" class=\"node\"><title>11</title>\n",
       "<polygon fill=\"none\" stroke=\"black\" points=\"3000.5,-182 2885.5,-182 2885.5,-146 3000.5,-146 3000.5,-182\"/>\n",
       "<text text-anchor=\"middle\" x=\"2943\" y=\"-160.3\" font-family=\"Times,serif\" font-size=\"14.00\">f_{4} &lt; 0.001999</text>\n",
       "</g>\n",
       "<!-- 1&#45;&#45;11 -->\n",
       "<g id=\"edge29\" class=\"edge\"><title>1&#45;&#45;11</title>\n",
       "<path fill=\"none\" stroke=\"black\" d=\"M2321.6,-229.062C2449.68,-215.857 2756.91,-184.185 2885.19,-170.96\"/>\n",
       "</g>\n",
       "<!-- 100 -->\n",
       "<g id=\"node19\" class=\"node\"><title>100</title>\n",
       "<polygon fill=\"none\" stroke=\"black\" points=\"2207.5,-110 2092.5,-110 2092.5,-74 2207.5,-74 2207.5,-110\"/>\n",
       "<text text-anchor=\"middle\" x=\"2150\" y=\"-88.3\" font-family=\"Times,serif\" font-size=\"14.00\">f_{3} &lt; 0.976665</text>\n",
       "</g>\n",
       "<!-- 10&#45;&#45;100 -->\n",
       "<g id=\"edge18\" class=\"edge\"><title>10&#45;&#45;100</title>\n",
       "<path fill=\"none\" stroke=\"black\" d=\"M2236.11,-145.876C2218.45,-135.029 2195.68,-121.05 2177.99,-110.19\"/>\n",
       "</g>\n",
       "<!-- 101 -->\n",
       "<g id=\"node22\" class=\"node\"><title>101</title>\n",
       "<polygon fill=\"none\" stroke=\"black\" points=\"2435.5,-110 2320.5,-110 2320.5,-74 2435.5,-74 2435.5,-110\"/>\n",
       "<text text-anchor=\"middle\" x=\"2378\" y=\"-88.3\" font-family=\"Times,serif\" font-size=\"14.00\">f_{1} &lt; 0.021791</text>\n",
       "</g>\n",
       "<!-- 10&#45;&#45;101 -->\n",
       "<g id=\"edge21\" class=\"edge\"><title>10&#45;&#45;101</title>\n",
       "<path fill=\"none\" stroke=\"black\" d=\"M2291.89,-145.876C2309.55,-135.029 2332.32,-121.05 2350.01,-110.19\"/>\n",
       "</g>\n",
       "<!-- 1000 -->\n",
       "<g id=\"node20\" class=\"node\"><title>1000</title>\n",
       "<polygon fill=\"none\" stroke=\"black\" points=\"2028.5,-38 1815.5,-38 1815.5,-0 2028.5,-0 2028.5,-38\"/>\n",
       "<text text-anchor=\"middle\" x=\"1922\" y=\"-22.8\" font-family=\"Times,serif\" font-size=\"14.00\">[&#45;0.02713525 &#160;0.00862039] (27291)</text>\n",
       "<text text-anchor=\"middle\" x=\"1922\" y=\"-7.8\" font-family=\"Times,serif\" font-size=\"14.00\">(0.291561)</text>\n",
       "</g>\n",
       "<!-- 100&#45;&#45;1000 -->\n",
       "<g id=\"edge16\" class=\"edge\"><title>100&#45;&#45;1000</title>\n",
       "<path fill=\"none\" stroke=\"black\" d=\"M2095.39,-73.9937C2060.61,-63.1632 2015.6,-49.1464 1980.15,-38.1086\"/>\n",
       "</g>\n",
       "<!-- 1001 -->\n",
       "<g id=\"node21\" class=\"node\"><title>1001</title>\n",
       "<polygon fill=\"none\" stroke=\"black\" points=\"2253.5,-38 2046.5,-38 2046.5,-0 2253.5,-0 2253.5,-38\"/>\n",
       "<text text-anchor=\"middle\" x=\"2150\" y=\"-22.8\" font-family=\"Times,serif\" font-size=\"14.00\">[&#45;0.01421908 &#45;0.02649625] (2725)</text>\n",
       "<text text-anchor=\"middle\" x=\"2150\" y=\"-7.8\" font-family=\"Times,serif\" font-size=\"14.00\">(0.323303)</text>\n",
       "</g>\n",
       "<!-- 100&#45;&#45;1001 -->\n",
       "<g id=\"edge17\" class=\"edge\"><title>100&#45;&#45;1001</title>\n",
       "<path fill=\"none\" stroke=\"black\" d=\"M2150,-73.8129C2150,-62.9782 2150,-49.0096 2150,-38.0196\"/>\n",
       "</g>\n",
       "<!-- 1010 -->\n",
       "<g id=\"node23\" class=\"node\"><title>1010</title>\n",
       "<polygon fill=\"none\" stroke=\"black\" points=\"2484.5,-38 2271.5,-38 2271.5,-0 2484.5,-0 2484.5,-38\"/>\n",
       "<text text-anchor=\"middle\" x=\"2378\" y=\"-22.8\" font-family=\"Times,serif\" font-size=\"14.00\">[&#45;0.02504283 &#160;0.00449908] (23385)</text>\n",
       "<text text-anchor=\"middle\" x=\"2378\" y=\"-7.8\" font-family=\"Times,serif\" font-size=\"14.00\">(0.300535)</text>\n",
       "</g>\n",
       "<!-- 101&#45;&#45;1010 -->\n",
       "<g id=\"edge19\" class=\"edge\"><title>101&#45;&#45;1010</title>\n",
       "<path fill=\"none\" stroke=\"black\" d=\"M2378,-73.8129C2378,-62.9782 2378,-49.0096 2378,-38.0196\"/>\n",
       "</g>\n",
       "<!-- 1011 -->\n",
       "<g id=\"node24\" class=\"node\"><title>1011</title>\n",
       "<polygon fill=\"none\" stroke=\"black\" points=\"2709.5,-38 2502.5,-38 2502.5,-0 2709.5,-0 2709.5,-38\"/>\n",
       "<text text-anchor=\"middle\" x=\"2606\" y=\"-22.8\" font-family=\"Times,serif\" font-size=\"14.00\">[&#45;0.01649296 &#45;0.02404016] (6377)</text>\n",
       "<text text-anchor=\"middle\" x=\"2606\" y=\"-7.8\" font-family=\"Times,serif\" font-size=\"14.00\">(0.310334)</text>\n",
       "</g>\n",
       "<!-- 101&#45;&#45;1011 -->\n",
       "<g id=\"edge20\" class=\"edge\"><title>101&#45;&#45;1011</title>\n",
       "<path fill=\"none\" stroke=\"black\" d=\"M2432.61,-73.9937C2467.39,-63.1632 2512.4,-49.1464 2547.85,-38.1086\"/>\n",
       "</g>\n",
       "<!-- 110 -->\n",
       "<g id=\"node26\" class=\"node\"><title>110</title>\n",
       "<polygon fill=\"none\" stroke=\"black\" points=\"3000.5,-110 2885.5,-110 2885.5,-74 3000.5,-74 3000.5,-110\"/>\n",
       "<text text-anchor=\"middle\" x=\"2943\" y=\"-88.3\" font-family=\"Times,serif\" font-size=\"14.00\">f_{5} &lt; 0.001139</text>\n",
       "</g>\n",
       "<!-- 11&#45;&#45;110 -->\n",
       "<g id=\"edge25\" class=\"edge\"><title>11&#45;&#45;110</title>\n",
       "<path fill=\"none\" stroke=\"black\" d=\"M2943,-145.697C2943,-134.846 2943,-120.917 2943,-110.104\"/>\n",
       "</g>\n",
       "<!-- 111 -->\n",
       "<g id=\"node29\" class=\"node\"><title>111</title>\n",
       "<polygon fill=\"none\" stroke=\"black\" points=\"3336.5,-110 3221.5,-110 3221.5,-74 3336.5,-74 3336.5,-110\"/>\n",
       "<text text-anchor=\"middle\" x=\"3279\" y=\"-88.3\" font-family=\"Times,serif\" font-size=\"14.00\">f_{3} &lt; 0.007116</text>\n",
       "</g>\n",
       "<!-- 11&#45;&#45;111 -->\n",
       "<g id=\"edge28\" class=\"edge\"><title>11&#45;&#45;111</title>\n",
       "<path fill=\"none\" stroke=\"black\" d=\"M3000.76,-150.967C3062.49,-138.106 3159.78,-117.838 3221.43,-104.993\"/>\n",
       "</g>\n",
       "<!-- 1100 -->\n",
       "<g id=\"node27\" class=\"node\"><title>1100</title>\n",
       "<polygon fill=\"none\" stroke=\"black\" points=\"2934.5,-38 2727.5,-38 2727.5,-0 2934.5,-0 2934.5,-38\"/>\n",
       "<text text-anchor=\"middle\" x=\"2831\" y=\"-22.8\" font-family=\"Times,serif\" font-size=\"14.00\">[&#45;0.02102496 &#45;0.01139427] (3685)</text>\n",
       "<text text-anchor=\"middle\" x=\"2831\" y=\"-7.8\" font-family=\"Times,serif\" font-size=\"14.00\">(0.299864)</text>\n",
       "</g>\n",
       "<!-- 110&#45;&#45;1100 -->\n",
       "<g id=\"edge23\" class=\"edge\"><title>110&#45;&#45;1100</title>\n",
       "<path fill=\"none\" stroke=\"black\" d=\"M2916.17,-73.9937C2899.09,-63.1632 2876.98,-49.1464 2859.57,-38.1086\"/>\n",
       "</g>\n",
       "<!-- 1101 -->\n",
       "<g id=\"node28\" class=\"node\"><title>1101</title>\n",
       "<polygon fill=\"none\" stroke=\"black\" points=\"3157,-38 2953,-38 2953,-0 3157,-0 3157,-38\"/>\n",
       "<text text-anchor=\"middle\" x=\"3055\" y=\"-22.8\" font-family=\"Times,serif\" font-size=\"14.00\">[&#45;0.01395294 &#45;0.0262626 ] (3885)</text>\n",
       "<text text-anchor=\"middle\" x=\"3055\" y=\"-7.8\" font-family=\"Times,serif\" font-size=\"14.00\">(0.325354)</text>\n",
       "</g>\n",
       "<!-- 110&#45;&#45;1101 -->\n",
       "<g id=\"edge24\" class=\"edge\"><title>110&#45;&#45;1101</title>\n",
       "<path fill=\"none\" stroke=\"black\" d=\"M2969.83,-73.9937C2986.91,-63.1632 3009.02,-49.1464 3026.43,-38.1086\"/>\n",
       "</g>\n",
       "<!-- 1110 -->\n",
       "<g id=\"node30\" class=\"node\"><title>1110</title>\n",
       "<polygon fill=\"none\" stroke=\"black\" points=\"3382.5,-38 3175.5,-38 3175.5,-0 3382.5,-0 3382.5,-38\"/>\n",
       "<text text-anchor=\"middle\" x=\"3279\" y=\"-22.8\" font-family=\"Times,serif\" font-size=\"14.00\">[&#45;0.01491043 &#45;0.02816735] (4814)</text>\n",
       "<text text-anchor=\"middle\" x=\"3279\" y=\"-7.8\" font-family=\"Times,serif\" font-size=\"14.00\">(0.312838)</text>\n",
       "</g>\n",
       "<!-- 111&#45;&#45;1110 -->\n",
       "<g id=\"edge26\" class=\"edge\"><title>111&#45;&#45;1110</title>\n",
       "<path fill=\"none\" stroke=\"black\" d=\"M3279,-73.8129C3279,-62.9782 3279,-49.0096 3279,-38.0196\"/>\n",
       "</g>\n",
       "<!-- 1111 -->\n",
       "<g id=\"node31\" class=\"node\"><title>1111</title>\n",
       "<polygon fill=\"none\" stroke=\"black\" points=\"3607.5,-38 3400.5,-38 3400.5,-0 3607.5,-0 3607.5,-38\"/>\n",
       "<text text-anchor=\"middle\" x=\"3504\" y=\"-22.8\" font-family=\"Times,serif\" font-size=\"14.00\">[&#45;0.00521385 &#45;0.05955511] (1998)</text>\n",
       "<text text-anchor=\"middle\" x=\"3504\" y=\"-7.8\" font-family=\"Times,serif\" font-size=\"14.00\">(0.324324)</text>\n",
       "</g>\n",
       "<!-- 111&#45;&#45;1111 -->\n",
       "<g id=\"edge27\" class=\"edge\"><title>111&#45;&#45;1111</title>\n",
       "<path fill=\"none\" stroke=\"black\" d=\"M3332.89,-73.9937C3367.22,-63.1632 3411.63,-49.1464 3446.61,-38.1086\"/>\n",
       "</g>\n",
       "</g>\n",
       "</svg>\n"
      ],
      "text/plain": [
       "<graphviz.dot.Graph at 0x7f99d5cbe860>"
      ]
     },
     "execution_count": 113,
     "metadata": {},
     "output_type": "execute_result"
    }
   ],
   "source": [
    "tree2gv(booster.forest[0][0])"
   ]
  },
  {
   "cell_type": "code",
   "execution_count": 104,
   "metadata": {},
   "outputs": [
    {
     "data": {
      "image/svg+xml": [
       "<?xml version=\"1.0\" encoding=\"UTF-8\" standalone=\"no\"?>\n",
       "<!DOCTYPE svg PUBLIC \"-//W3C//DTD SVG 1.1//EN\"\n",
       " \"http://www.w3.org/Graphics/SVG/1.1/DTD/svg11.dtd\">\n",
       "<!-- Generated by graphviz version 2.38.0 (20140413.2041)\n",
       " -->\n",
       "<!-- Title: ni Pages: 1 -->\n",
       "<svg width=\"2108pt\" height=\"334pt\"\n",
       " viewBox=\"0.00 0.00 2107.50 334.00\" xmlns=\"http://www.w3.org/2000/svg\" xmlns:xlink=\"http://www.w3.org/1999/xlink\">\n",
       "<g id=\"graph0\" class=\"graph\" transform=\"scale(1 1) rotate(0) translate(4 330)\">\n",
       "<title>ni</title>\n",
       "<polygon fill=\"white\" stroke=\"none\" points=\"-4,4 -4,-330 2103.5,-330 2103.5,4 -4,4\"/>\n",
       "<g id=\"node1\" class=\"node\"><title></title>\n",
       "<polygon fill=\"none\" stroke=\"black\" points=\"1122.5,-326 1000.5,-326 1000.5,-290 1122.5,-290 1122.5,-326\"/>\n",
       "<text text-anchor=\"middle\" x=\"1061.5\" y=\"-304.3\" font-family=\"Times,serif\" font-size=\"14.00\">f_{13} &lt; 0.962092</text>\n",
       "</g>\n",
       "<!-- 0 -->\n",
       "<g id=\"node2\" class=\"node\"><title>0</title>\n",
       "<polygon fill=\"none\" stroke=\"black\" points=\"862.5,-254 740.5,-254 740.5,-218 862.5,-218 862.5,-254\"/>\n",
       "<text text-anchor=\"middle\" x=\"801.5\" y=\"-232.3\" font-family=\"Times,serif\" font-size=\"14.00\">f_{14} &lt; 0.041432</text>\n",
       "</g>\n",
       "<!-- &#45;&#45;0 -->\n",
       "<g id=\"edge15\" class=\"edge\"><title>&#45;&#45;0</title>\n",
       "<path fill=\"none\" stroke=\"black\" d=\"M1000.21,-290.5C958.777,-279.344 904.27,-264.669 862.826,-253.511\"/>\n",
       "</g>\n",
       "<!-- 1 -->\n",
       "<g id=\"node17\" class=\"node\"><title>1</title>\n",
       "<polygon fill=\"none\" stroke=\"black\" points=\"1388.5,-254 1266.5,-254 1266.5,-218 1388.5,-218 1388.5,-254\"/>\n",
       "<text text-anchor=\"middle\" x=\"1327.5\" y=\"-232.3\" font-family=\"Times,serif\" font-size=\"14.00\">f_{12} &lt; 0.030163</text>\n",
       "</g>\n",
       "<!-- &#45;&#45;1 -->\n",
       "<g id=\"edge30\" class=\"edge\"><title>&#45;&#45;1</title>\n",
       "<path fill=\"none\" stroke=\"black\" d=\"M1122.53,-290.941C1165.63,-279.598 1223.16,-264.458 1266.3,-253.106\"/>\n",
       "</g>\n",
       "<!-- 00 -->\n",
       "<g id=\"node3\" class=\"node\"><title>00</title>\n",
       "<polygon fill=\"none\" stroke=\"black\" points=\"460,-182 345,-182 345,-146 460,-146 460,-182\"/>\n",
       "<text text-anchor=\"middle\" x=\"402.5\" y=\"-160.3\" font-family=\"Times,serif\" font-size=\"14.00\">f_{0} &lt; 0.036340</text>\n",
       "</g>\n",
       "<!-- 0&#45;&#45;00 -->\n",
       "<g id=\"edge7\" class=\"edge\"><title>0&#45;&#45;00</title>\n",
       "<path fill=\"none\" stroke=\"black\" d=\"M740.466,-224.292C664.278,-210.926 534.925,-188.232 460.286,-175.138\"/>\n",
       "</g>\n",
       "<!-- 01 -->\n",
       "<g id=\"node10\" class=\"node\"><title>01</title>\n",
       "<polygon fill=\"none\" stroke=\"black\" points=\"862.5,-182 740.5,-182 740.5,-146 862.5,-146 862.5,-182\"/>\n",
       "<text text-anchor=\"middle\" x=\"801.5\" y=\"-160.3\" font-family=\"Times,serif\" font-size=\"14.00\">f_{16} &lt; 0.974474</text>\n",
       "</g>\n",
       "<!-- 0&#45;&#45;01 -->\n",
       "<g id=\"edge14\" class=\"edge\"><title>0&#45;&#45;01</title>\n",
       "<path fill=\"none\" stroke=\"black\" d=\"M801.5,-217.697C801.5,-206.846 801.5,-192.917 801.5,-182.104\"/>\n",
       "</g>\n",
       "<!-- 000 -->\n",
       "<g id=\"node4\" class=\"node\"><title>000</title>\n",
       "<polygon fill=\"none\" stroke=\"black\" points=\"257.5,-110 135.5,-110 135.5,-74 257.5,-74 257.5,-110\"/>\n",
       "<text text-anchor=\"middle\" x=\"196.5\" y=\"-88.3\" font-family=\"Times,serif\" font-size=\"14.00\">f_{12} &lt; 0.033059</text>\n",
       "</g>\n",
       "<!-- 00&#45;&#45;000 -->\n",
       "<g id=\"edge3\" class=\"edge\"><title>00&#45;&#45;000</title>\n",
       "<path fill=\"none\" stroke=\"black\" d=\"M352.37,-145.966C320.334,-135.079 278.935,-121.012 246.855,-110.111\"/>\n",
       "</g>\n",
       "<!-- 001 -->\n",
       "<g id=\"node7\" class=\"node\"><title>001</title>\n",
       "<polygon fill=\"none\" stroke=\"black\" points=\"463.5,-110 341.5,-110 341.5,-74 463.5,-74 463.5,-110\"/>\n",
       "<text text-anchor=\"middle\" x=\"402.5\" y=\"-88.3\" font-family=\"Times,serif\" font-size=\"14.00\">f_{12} &lt; 0.021795</text>\n",
       "</g>\n",
       "<!-- 00&#45;&#45;001 -->\n",
       "<g id=\"edge6\" class=\"edge\"><title>00&#45;&#45;001</title>\n",
       "<path fill=\"none\" stroke=\"black\" d=\"M402.5,-145.697C402.5,-134.846 402.5,-120.917 402.5,-110.104\"/>\n",
       "</g>\n",
       "<!-- 0000 -->\n",
       "<g id=\"node5\" class=\"node\"><title>0000</title>\n",
       "<polygon fill=\"none\" stroke=\"black\" points=\"119,-38 0,-38 0,-0 119,-0 119,-38\"/>\n",
       "<text text-anchor=\"middle\" x=\"59.5\" y=\"-22.8\" font-family=\"Times,serif\" font-size=\"14.00\">&#45;0.003909 (39200)</text>\n",
       "<text text-anchor=\"middle\" x=\"59.5\" y=\"-7.8\" font-family=\"Times,serif\" font-size=\"14.00\">(0.467423)</text>\n",
       "</g>\n",
       "<!-- 000&#45;&#45;0000 -->\n",
       "<g id=\"edge1\" class=\"edge\"><title>000&#45;&#45;0000</title>\n",
       "<path fill=\"none\" stroke=\"black\" d=\"M163.685,-73.9937C142.787,-63.1632 115.74,-49.1464 94.442,-38.1086\"/>\n",
       "</g>\n",
       "<!-- 0001 -->\n",
       "<g id=\"node6\" class=\"node\"><title>0001</title>\n",
       "<polygon fill=\"none\" stroke=\"black\" points=\"256,-38 137,-38 137,-0 256,-0 256,-38\"/>\n",
       "<text text-anchor=\"middle\" x=\"196.5\" y=\"-22.8\" font-family=\"Times,serif\" font-size=\"14.00\">&#45;0.021727 (14632)</text>\n",
       "<text text-anchor=\"middle\" x=\"196.5\" y=\"-7.8\" font-family=\"Times,serif\" font-size=\"14.00\">(0.318890)</text>\n",
       "</g>\n",
       "<!-- 000&#45;&#45;0001 -->\n",
       "<g id=\"edge2\" class=\"edge\"><title>000&#45;&#45;0001</title>\n",
       "<path fill=\"none\" stroke=\"black\" d=\"M196.5,-73.8129C196.5,-62.9782 196.5,-49.0096 196.5,-38.0196\"/>\n",
       "</g>\n",
       "<!-- 0010 -->\n",
       "<g id=\"node8\" class=\"node\"><title>0010</title>\n",
       "<polygon fill=\"none\" stroke=\"black\" points=\"393,-38 274,-38 274,-0 393,-0 393,-38\"/>\n",
       "<text text-anchor=\"middle\" x=\"333.5\" y=\"-22.8\" font-family=\"Times,serif\" font-size=\"14.00\">&#45;0.021542 (14493)</text>\n",
       "<text text-anchor=\"middle\" x=\"333.5\" y=\"-7.8\" font-family=\"Times,serif\" font-size=\"14.00\">(0.320431)</text>\n",
       "</g>\n",
       "<!-- 001&#45;&#45;0010 -->\n",
       "<g id=\"edge4\" class=\"edge\"><title>001&#45;&#45;0010</title>\n",
       "<path fill=\"none\" stroke=\"black\" d=\"M385.797,-73.8129C375.268,-62.9782 361.692,-49.0096 351.012,-38.0196\"/>\n",
       "</g>\n",
       "<!-- 0011 -->\n",
       "<g id=\"node9\" class=\"node\"><title>0011</title>\n",
       "<polygon fill=\"none\" stroke=\"black\" points=\"523.5,-38 411.5,-38 411.5,-0 523.5,-0 523.5,-38\"/>\n",
       "<text text-anchor=\"middle\" x=\"467.5\" y=\"-22.8\" font-family=\"Times,serif\" font-size=\"14.00\">&#45;0.037935 (6408)</text>\n",
       "<text text-anchor=\"middle\" x=\"467.5\" y=\"-7.8\" font-family=\"Times,serif\" font-size=\"14.00\">(0.183677)</text>\n",
       "</g>\n",
       "<!-- 001&#45;&#45;0011 -->\n",
       "<g id=\"edge5\" class=\"edge\"><title>001&#45;&#45;0011</title>\n",
       "<path fill=\"none\" stroke=\"black\" d=\"M418.235,-73.8129C428.154,-62.9782 440.942,-49.0096 451.003,-38.0196\"/>\n",
       "</g>\n",
       "<!-- 010 -->\n",
       "<g id=\"node11\" class=\"node\"><title>010</title>\n",
       "<polygon fill=\"none\" stroke=\"black\" points=\"790,-110 675,-110 675,-74 790,-74 790,-110\"/>\n",
       "<text text-anchor=\"middle\" x=\"732.5\" y=\"-88.3\" font-family=\"Times,serif\" font-size=\"14.00\">f_{9} &lt; 0.971569</text>\n",
       "</g>\n",
       "<!-- 01&#45;&#45;010 -->\n",
       "<g id=\"edge10\" class=\"edge\"><title>01&#45;&#45;010</title>\n",
       "<path fill=\"none\" stroke=\"black\" d=\"M784.444,-145.697C773.748,-134.846 760.018,-120.917 749.36,-110.104\"/>\n",
       "</g>\n",
       "<!-- 011 -->\n",
       "<g id=\"node14\" class=\"node\"><title>011</title>\n",
       "<polygon fill=\"none\" stroke=\"black\" points=\"930.5,-110 808.5,-110 808.5,-74 930.5,-74 930.5,-110\"/>\n",
       "<text text-anchor=\"middle\" x=\"869.5\" y=\"-88.3\" font-family=\"Times,serif\" font-size=\"14.00\">f_{10} &lt; 0.022616</text>\n",
       "</g>\n",
       "<!-- 01&#45;&#45;011 -->\n",
       "<g id=\"edge13\" class=\"edge\"><title>01&#45;&#45;011</title>\n",
       "<path fill=\"none\" stroke=\"black\" d=\"M818.309,-145.697C828.849,-134.846 842.381,-120.917 852.884,-110.104\"/>\n",
       "</g>\n",
       "<!-- 0100 -->\n",
       "<g id=\"node12\" class=\"node\"><title>0100</title>\n",
       "<polygon fill=\"none\" stroke=\"black\" points=\"661,-38 542,-38 542,-0 661,-0 661,-38\"/>\n",
       "<text text-anchor=\"middle\" x=\"601.5\" y=\"-22.8\" font-family=\"Times,serif\" font-size=\"14.00\">&#45;0.021792 (14635)</text>\n",
       "<text text-anchor=\"middle\" x=\"601.5\" y=\"-7.8\" font-family=\"Times,serif\" font-size=\"14.00\">(0.318346)</text>\n",
       "</g>\n",
       "<!-- 010&#45;&#45;0100 -->\n",
       "<g id=\"edge8\" class=\"edge\"><title>010&#45;&#45;0100</title>\n",
       "<path fill=\"none\" stroke=\"black\" d=\"M701.122,-73.9937C681.139,-63.1632 655.277,-49.1464 634.912,-38.1086\"/>\n",
       "</g>\n",
       "<!-- 0101 -->\n",
       "<g id=\"node13\" class=\"node\"><title>0101</title>\n",
       "<polygon fill=\"none\" stroke=\"black\" points=\"791.5,-38 679.5,-38 679.5,-0 791.5,-0 791.5,-38\"/>\n",
       "<text text-anchor=\"middle\" x=\"735.5\" y=\"-22.8\" font-family=\"Times,serif\" font-size=\"14.00\">&#45;0.038410 (6438)</text>\n",
       "<text text-anchor=\"middle\" x=\"735.5\" y=\"-7.8\" font-family=\"Times,serif\" font-size=\"14.00\">(0.179714)</text>\n",
       "</g>\n",
       "<!-- 010&#45;&#45;0101 -->\n",
       "<g id=\"edge9\" class=\"edge\"><title>010&#45;&#45;0101</title>\n",
       "<path fill=\"none\" stroke=\"black\" d=\"M733.226,-73.8129C733.684,-62.9782 734.274,-49.0096 734.739,-38.0196\"/>\n",
       "</g>\n",
       "<!-- 0110 -->\n",
       "<g id=\"node15\" class=\"node\"><title>0110</title>\n",
       "<polygon fill=\"none\" stroke=\"black\" points=\"921.5,-38 809.5,-38 809.5,-0 921.5,-0 921.5,-38\"/>\n",
       "<text text-anchor=\"middle\" x=\"865.5\" y=\"-22.8\" font-family=\"Times,serif\" font-size=\"14.00\">&#45;0.038018 (6110)</text>\n",
       "<text text-anchor=\"middle\" x=\"865.5\" y=\"-7.8\" font-family=\"Times,serif\" font-size=\"14.00\">(0.182979)</text>\n",
       "</g>\n",
       "<!-- 011&#45;&#45;0110 -->\n",
       "<g id=\"edge11\" class=\"edge\"><title>011&#45;&#45;0110</title>\n",
       "<path fill=\"none\" stroke=\"black\" d=\"M868.532,-73.8129C867.921,-62.9782 867.134,-49.0096 866.515,-38.0196\"/>\n",
       "</g>\n",
       "<!-- 0111 -->\n",
       "<g id=\"node16\" class=\"node\"><title>0111</title>\n",
       "<polygon fill=\"none\" stroke=\"black\" points=\"1051.5,-38 939.5,-38 939.5,-0 1051.5,-0 1051.5,-38\"/>\n",
       "<text text-anchor=\"middle\" x=\"995.5\" y=\"-22.8\" font-family=\"Times,serif\" font-size=\"14.00\">&#45;0.049890 (3165)</text>\n",
       "<text text-anchor=\"middle\" x=\"995.5\" y=\"-7.8\" font-family=\"Times,serif\" font-size=\"14.00\">(0.083728)</text>\n",
       "</g>\n",
       "<!-- 011&#45;&#45;0111 -->\n",
       "<g id=\"edge12\" class=\"edge\"><title>011&#45;&#45;0111</title>\n",
       "<path fill=\"none\" stroke=\"black\" d=\"M899.68,-73.9937C918.901,-63.1632 943.775,-49.1464 963.364,-38.1086\"/>\n",
       "</g>\n",
       "<!-- 10 -->\n",
       "<g id=\"node18\" class=\"node\"><title>10</title>\n",
       "<polygon fill=\"none\" stroke=\"black\" points=\"1385,-182 1270,-182 1270,-146 1385,-146 1385,-182\"/>\n",
       "<text text-anchor=\"middle\" x=\"1327.5\" y=\"-160.3\" font-family=\"Times,serif\" font-size=\"14.00\">f_{0} &lt; 0.031592</text>\n",
       "</g>\n",
       "<!-- 1&#45;&#45;10 -->\n",
       "<g id=\"edge22\" class=\"edge\"><title>1&#45;&#45;10</title>\n",
       "<path fill=\"none\" stroke=\"black\" d=\"M1327.5,-217.697C1327.5,-206.846 1327.5,-192.917 1327.5,-182.104\"/>\n",
       "</g>\n",
       "<!-- 11 -->\n",
       "<g id=\"node25\" class=\"node\"><title>11</title>\n",
       "<polygon fill=\"none\" stroke=\"black\" points=\"1774.5,-182 1652.5,-182 1652.5,-146 1774.5,-146 1774.5,-182\"/>\n",
       "<text text-anchor=\"middle\" x=\"1713.5\" y=\"-160.3\" font-family=\"Times,serif\" font-size=\"14.00\">f_{15} &lt; 0.024162</text>\n",
       "</g>\n",
       "<!-- 1&#45;&#45;11 -->\n",
       "<g id=\"edge29\" class=\"edge\"><title>1&#45;&#45;11</title>\n",
       "<path fill=\"none\" stroke=\"black\" d=\"M1388.66,-223.908C1460.83,-210.82 1580.12,-189.188 1652.3,-176.098\"/>\n",
       "</g>\n",
       "<!-- 100 -->\n",
       "<g id=\"node19\" class=\"node\"><title>100</title>\n",
       "<polygon fill=\"none\" stroke=\"black\" points=\"1317,-110 1202,-110 1202,-74 1317,-74 1317,-110\"/>\n",
       "<text text-anchor=\"middle\" x=\"1259.5\" y=\"-88.3\" font-family=\"Times,serif\" font-size=\"14.00\">f_{9} &lt; 0.026865</text>\n",
       "</g>\n",
       "<!-- 10&#45;&#45;100 -->\n",
       "<g id=\"edge18\" class=\"edge\"><title>10&#45;&#45;100</title>\n",
       "<path fill=\"none\" stroke=\"black\" d=\"M1310.69,-145.697C1300.15,-134.846 1286.62,-120.917 1276.12,-110.104\"/>\n",
       "</g>\n",
       "<!-- 101 -->\n",
       "<g id=\"node22\" class=\"node\"><title>101</title>\n",
       "<polygon fill=\"none\" stroke=\"black\" points=\"1457.5,-110 1335.5,-110 1335.5,-74 1457.5,-74 1457.5,-110\"/>\n",
       "<text text-anchor=\"middle\" x=\"1396.5\" y=\"-88.3\" font-family=\"Times,serif\" font-size=\"14.00\">f_{10} &lt; 0.023615</text>\n",
       "</g>\n",
       "<!-- 10&#45;&#45;101 -->\n",
       "<g id=\"edge21\" class=\"edge\"><title>10&#45;&#45;101</title>\n",
       "<path fill=\"none\" stroke=\"black\" d=\"M1344.56,-145.697C1355.25,-134.846 1368.98,-120.917 1379.64,-110.104\"/>\n",
       "</g>\n",
       "<!-- 1000 -->\n",
       "<g id=\"node20\" class=\"node\"><title>1000</title>\n",
       "<polygon fill=\"none\" stroke=\"black\" points=\"1189,-38 1070,-38 1070,-0 1189,-0 1189,-38\"/>\n",
       "<text text-anchor=\"middle\" x=\"1129.5\" y=\"-22.8\" font-family=\"Times,serif\" font-size=\"14.00\">&#45;0.021768 (14406)</text>\n",
       "<text text-anchor=\"middle\" x=\"1129.5\" y=\"-7.8\" font-family=\"Times,serif\" font-size=\"14.00\">(0.318548)</text>\n",
       "</g>\n",
       "<!-- 100&#45;&#45;1000 -->\n",
       "<g id=\"edge16\" class=\"edge\"><title>100&#45;&#45;1000</title>\n",
       "<path fill=\"none\" stroke=\"black\" d=\"M1228.36,-73.9937C1208.53,-63.1632 1182.87,-49.1464 1162.66,-38.1086\"/>\n",
       "</g>\n",
       "<!-- 1001 -->\n",
       "<g id=\"node21\" class=\"node\"><title>1001</title>\n",
       "<polygon fill=\"none\" stroke=\"black\" points=\"1319.5,-38 1207.5,-38 1207.5,-0 1319.5,-0 1319.5,-38\"/>\n",
       "<text text-anchor=\"middle\" x=\"1263.5\" y=\"-22.8\" font-family=\"Times,serif\" font-size=\"14.00\">&#45;0.038306 (6429)</text>\n",
       "<text text-anchor=\"middle\" x=\"1263.5\" y=\"-7.8\" font-family=\"Times,serif\" font-size=\"14.00\">(0.180588)</text>\n",
       "</g>\n",
       "<!-- 100&#45;&#45;1001 -->\n",
       "<g id=\"edge17\" class=\"edge\"><title>100&#45;&#45;1001</title>\n",
       "<path fill=\"none\" stroke=\"black\" d=\"M1260.47,-73.8129C1261.08,-62.9782 1261.87,-49.0096 1262.48,-38.0196\"/>\n",
       "</g>\n",
       "<!-- 1010 -->\n",
       "<g id=\"node23\" class=\"node\"><title>1010</title>\n",
       "<polygon fill=\"none\" stroke=\"black\" points=\"1449.5,-38 1337.5,-38 1337.5,-0 1449.5,-0 1449.5,-38\"/>\n",
       "<text text-anchor=\"middle\" x=\"1393.5\" y=\"-22.8\" font-family=\"Times,serif\" font-size=\"14.00\">&#45;0.038201 (6255)</text>\n",
       "<text text-anchor=\"middle\" x=\"1393.5\" y=\"-7.8\" font-family=\"Times,serif\" font-size=\"14.00\">(0.181455)</text>\n",
       "</g>\n",
       "<!-- 101&#45;&#45;1010 -->\n",
       "<g id=\"edge19\" class=\"edge\"><title>101&#45;&#45;1010</title>\n",
       "<path fill=\"none\" stroke=\"black\" d=\"M1395.77,-73.8129C1395.32,-62.9782 1394.73,-49.0096 1394.26,-38.0196\"/>\n",
       "</g>\n",
       "<!-- 1011 -->\n",
       "<g id=\"node24\" class=\"node\"><title>1011</title>\n",
       "<polygon fill=\"none\" stroke=\"black\" points=\"1579.5,-38 1467.5,-38 1467.5,-0 1579.5,-0 1579.5,-38\"/>\n",
       "<text text-anchor=\"middle\" x=\"1523.5\" y=\"-22.8\" font-family=\"Times,serif\" font-size=\"14.00\">&#45;0.050490 (3302)</text>\n",
       "<text text-anchor=\"middle\" x=\"1523.5\" y=\"-7.8\" font-family=\"Times,serif\" font-size=\"14.00\">(0.078740)</text>\n",
       "</g>\n",
       "<!-- 101&#45;&#45;1011 -->\n",
       "<g id=\"edge20\" class=\"edge\"><title>101&#45;&#45;1011</title>\n",
       "<path fill=\"none\" stroke=\"black\" d=\"M1426.92,-73.9937C1446.29,-63.1632 1471.36,-49.1464 1491.11,-38.1086\"/>\n",
       "</g>\n",
       "<!-- 110 -->\n",
       "<g id=\"node26\" class=\"node\"><title>110</title>\n",
       "<polygon fill=\"none\" stroke=\"black\" points=\"1774.5,-110 1652.5,-110 1652.5,-74 1774.5,-74 1774.5,-110\"/>\n",
       "<text text-anchor=\"middle\" x=\"1713.5\" y=\"-88.3\" font-family=\"Times,serif\" font-size=\"14.00\">f_{16} &lt; 0.970033</text>\n",
       "</g>\n",
       "<!-- 11&#45;&#45;110 -->\n",
       "<g id=\"edge25\" class=\"edge\"><title>11&#45;&#45;110</title>\n",
       "<path fill=\"none\" stroke=\"black\" d=\"M1713.5,-145.697C1713.5,-134.846 1713.5,-120.917 1713.5,-110.104\"/>\n",
       "</g>\n",
       "<!-- 111 -->\n",
       "<g id=\"node29\" class=\"node\"><title>111</title>\n",
       "<polygon fill=\"none\" stroke=\"black\" points=\"1974.5,-110 1852.5,-110 1852.5,-74 1974.5,-74 1974.5,-110\"/>\n",
       "<text text-anchor=\"middle\" x=\"1913.5\" y=\"-88.3\" font-family=\"Times,serif\" font-size=\"14.00\">f_{10} &lt; 0.984475</text>\n",
       "</g>\n",
       "<!-- 11&#45;&#45;111 -->\n",
       "<g id=\"edge28\" class=\"edge\"><title>11&#45;&#45;111</title>\n",
       "<path fill=\"none\" stroke=\"black\" d=\"M1762.17,-145.966C1793.27,-135.079 1833.47,-121.012 1864.61,-110.111\"/>\n",
       "</g>\n",
       "<!-- 1100 -->\n",
       "<g id=\"node27\" class=\"node\"><title>1100</title>\n",
       "<polygon fill=\"none\" stroke=\"black\" points=\"1709.5,-38 1597.5,-38 1597.5,-0 1709.5,-0 1709.5,-38\"/>\n",
       "<text text-anchor=\"middle\" x=\"1653.5\" y=\"-22.8\" font-family=\"Times,serif\" font-size=\"14.00\">&#45;0.038104 (6134)</text>\n",
       "<text text-anchor=\"middle\" x=\"1653.5\" y=\"-7.8\" font-family=\"Times,serif\" font-size=\"14.00\">(0.182263)</text>\n",
       "</g>\n",
       "<!-- 110&#45;&#45;1100 -->\n",
       "<g id=\"edge23\" class=\"edge\"><title>110&#45;&#45;1100</title>\n",
       "<path fill=\"none\" stroke=\"black\" d=\"M1698.98,-73.8129C1689.82,-62.9782 1678.02,-49.0096 1668.73,-38.0196\"/>\n",
       "</g>\n",
       "<!-- 1101 -->\n",
       "<g id=\"node28\" class=\"node\"><title>1101</title>\n",
       "<polygon fill=\"none\" stroke=\"black\" points=\"1839.5,-38 1727.5,-38 1727.5,-0 1839.5,-0 1839.5,-38\"/>\n",
       "<text text-anchor=\"middle\" x=\"1783.5\" y=\"-22.8\" font-family=\"Times,serif\" font-size=\"14.00\">&#45;0.049889 (3248)</text>\n",
       "<text text-anchor=\"middle\" x=\"1783.5\" y=\"-7.8\" font-family=\"Times,serif\" font-size=\"14.00\">(0.083744)</text>\n",
       "</g>\n",
       "<!-- 110&#45;&#45;1101 -->\n",
       "<g id=\"edge24\" class=\"edge\"><title>110&#45;&#45;1101</title>\n",
       "<path fill=\"none\" stroke=\"black\" d=\"M1730.45,-73.8129C1741.13,-62.9782 1754.9,-49.0096 1765.73,-38.0196\"/>\n",
       "</g>\n",
       "<!-- 1110 -->\n",
       "<g id=\"node30\" class=\"node\"><title>1110</title>\n",
       "<polygon fill=\"none\" stroke=\"black\" points=\"1969.5,-38 1857.5,-38 1857.5,-0 1969.5,-0 1969.5,-38\"/>\n",
       "<text text-anchor=\"middle\" x=\"1913.5\" y=\"-22.8\" font-family=\"Times,serif\" font-size=\"14.00\">&#45;0.050571 (3483)</text>\n",
       "<text text-anchor=\"middle\" x=\"1913.5\" y=\"-7.8\" font-family=\"Times,serif\" font-size=\"14.00\">(0.078094)</text>\n",
       "</g>\n",
       "<!-- 111&#45;&#45;1110 -->\n",
       "<g id=\"edge26\" class=\"edge\"><title>111&#45;&#45;1110</title>\n",
       "<path fill=\"none\" stroke=\"black\" d=\"M1913.5,-73.8129C1913.5,-62.9782 1913.5,-49.0096 1913.5,-38.0196\"/>\n",
       "</g>\n",
       "<!-- 1111 -->\n",
       "<g id=\"node31\" class=\"node\"><title>1111</title>\n",
       "<polygon fill=\"none\" stroke=\"black\" points=\"2099.5,-38 1987.5,-38 1987.5,-0 2099.5,-0 2099.5,-38\"/>\n",
       "<text text-anchor=\"middle\" x=\"2043.5\" y=\"-22.8\" font-family=\"Times,serif\" font-size=\"14.00\">&#45;0.056564 (1742)</text>\n",
       "<text text-anchor=\"middle\" x=\"2043.5\" y=\"-7.8\" font-family=\"Times,serif\" font-size=\"14.00\">(0.027555)</text>\n",
       "</g>\n",
       "<!-- 111&#45;&#45;1111 -->\n",
       "<g id=\"edge27\" class=\"edge\"><title>111&#45;&#45;1111</title>\n",
       "<path fill=\"none\" stroke=\"black\" d=\"M1944.64,-73.9937C1964.47,-63.1632 1990.13,-49.1464 2010.34,-38.1086\"/>\n",
       "</g>\n",
       "</g>\n",
       "</svg>\n"
      ],
      "text/plain": [
       "<graphviz.dot.Graph at 0x7f9a94b5b668>"
      ]
     },
     "execution_count": 104,
     "metadata": {},
     "output_type": "execute_result"
    }
   ],
   "source": [
    "tree2gv(booster_regular.forest[0][0])"
   ]
  },
  {
   "cell_type": "code",
   "execution_count": null,
   "metadata": {},
   "outputs": [],
   "source": []
  }
 ],
 "metadata": {
  "kernelspec": {
   "display_name": "Python 3",
   "language": "python",
   "name": "python3"
  },
  "language_info": {
   "codemirror_mode": {
    "name": "ipython",
    "version": 3
   },
   "file_extension": ".py",
   "mimetype": "text/x-python",
   "name": "python",
   "nbconvert_exporter": "python",
   "pygments_lexer": "ipython3",
   "version": "3.5.2"
  }
 },
 "nbformat": 4,
 "nbformat_minor": 2
}
