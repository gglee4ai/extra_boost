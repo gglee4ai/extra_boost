{
 "cells": [
  {
   "cell_type": "code",
   "execution_count": 1,
   "metadata": {
    "collapsed": false,
    "deletable": true,
    "editable": true
   },
   "outputs": [],
   "source": [
    "import sys, os, io, json, numpy as np, random, time\n",
    "#from sklearn.metrics import roc_auc_score\n",
    "from importlib import reload\n",
    "import extra_utils\n",
    "reload(extra_utils)\n",
    "from extra_utils import time_features, subpool, test_extra_predictions\n",
    "import forest\n",
    "reload(forest)\n",
    "from forest import build_tree, EMatrix, tree2gv\n",
    "import xgboost as xgb\n",
    "import tensorflow as tf\n",
    "import split\n",
    "reload(split)\n",
    "from split import SplitMaker\n",
    "#from split import make_split_quick, make_gax, split_quick_graph, split_quick_graph_transpose\n",
    "import graphviz\n",
    "from sklearn import metrics"
   ]
  },
  {
   "cell_type": "code",
   "execution_count": 2,
   "metadata": {},
   "outputs": [
    {
     "name": "stdout",
     "output_type": "stream",
     "text": [
      "WARNING:tensorflow:From c:\\programs\\python\\python36\\lib\\site-packages\\tensorflow\\contrib\\learn\\python\\learn\\datasets\\base.py:198: retry (from tensorflow.contrib.learn.python.learn.datasets.base) is deprecated and will be removed in a future version.\n",
      "Instructions for updating:\n",
      "Use the retry module or similar alternatives.\n"
     ]
    }
   ],
   "source": [
    "split_maker_old = SplitMaker.make_split_old()"
   ]
  },
  {
   "cell_type": "code",
   "execution_count": 3,
   "metadata": {
    "collapsed": true,
    "deletable": true,
    "editable": true
   },
   "outputs": [],
   "source": [
    "pool = np.load('../prepare_dataset/pool_cross_00.npz')\n",
    "features_bool, f_time, label_orig = (pool[name] for name in ['features', 'f_time', 'label'])\n",
    "label = label_orig"
   ]
  },
  {
   "cell_type": "code",
   "execution_count": 4,
   "metadata": {
    "deletable": true,
    "editable": true
   },
   "outputs": [],
   "source": [
    "np.random.seed(42)\n",
    "features_orig = np.random.normal(loc=features_bool*1.0, scale=0.01)\n",
    "#features = features[:150000,:]; label = label_orig[:150000, :]\n",
    "\n",
    "f_test, l_test = features_orig[150000:,:], label_orig[150000:, :]\n",
    "features = features_orig[:150000,:]; label = label_orig[:150000, :]"
   ]
  },
  {
   "cell_type": "markdown",
   "metadata": {
    "deletable": true,
    "editable": true
   },
   "source": [
    "### Тестирование инвариантности сплита относительно замены местами столбцов фичей\n",
    "\n",
    "```\n",
    "features_swap = np.concatenate([features[:,7:8], features[:,1:7], features[:,0:1], features[:,8:]], axis=1)\n",
    "\n",
    "%%time\n",
    "split_maker_old.split(np.zeros(label.shape), features, label)\n",
    "#make_split(np.zeros(label.shape), features, label)\n",
    "\n",
    "%%time\n",
    "split_maker_old.split(np.zeros(label.shape), features_swap, label)\n",
    "#make_split(np.zeros(label.shape), features_swap, label)\n",
    "```"
   ]
  },
  {
   "cell_type": "code",
   "execution_count": 5,
   "metadata": {
    "collapsed": false
   },
   "outputs": [
    {
     "data": {
      "text/plain": [
       "((150000, 17), (150000, 1))"
      ]
     },
     "execution_count": 5,
     "metadata": {},
     "output_type": "execute_result"
    }
   ],
   "source": [
    "features.shape, label.shape"
   ]
  },
  {
   "cell_type": "code",
   "execution_count": 6,
   "metadata": {},
   "outputs": [],
   "source": [
    "global_ax = split_maker_old.make_gax(features)\n",
    "featuresT = features.T\n",
    "global_axT = global_ax.T"
   ]
  },
  {
   "cell_type": "code",
   "execution_count": 7,
   "metadata": {},
   "outputs": [],
   "source": [
    "split_maker = SplitMaker.make_split_new(reduce_axis=0, make_transpose=True)"
   ]
  },
  {
   "cell_type": "code",
   "execution_count": 8,
   "metadata": {
    "collapsed": false
   },
   "outputs": [
    {
     "name": "stdout",
     "output_type": "stream",
     "text": [
      "Wall time: 4.04 s\n"
     ]
    },
    {
     "name": "stderr",
     "output_type": "stream",
     "text": [
      "\n",
      "split time = 3.87109, 0.11401, [0.44814, 0.10583, 0.08104, 0.06561, 0.06179, 0.04384, 0.04270, 0.03568, 0.01307, 0.01336, 0.01246, 0.01139, 0.02040, 0.01744, 0.01545, 0.01238, 0.01181, 0.01146, 0.01156, 0.01556, 0.01387, 0.01308, 0.01311, 0.01079, 0.01237, 0.01089, 0.01209, 0.01087, 0.01174, 0.01049, 0.01166, 0.01162, 0.01071, 0.01040, 0.01739, 0.01614, 0.01372, 0.01371, 0.01241, 0.01290, 0.01214, 0.01097, 0.01154, 0.01148, 0.01064, 0.01079, 0.01013, 0.01227, 0.01182, 0.01080, 0.01180, 0.01204, 0.01086, 0.01003, 0.01015, 0.01149, 0.01239, 0.01136, 0.01159, 0.01129, 0.01117, 0.01120, 0.01053, 0.01027, 0.01168, 0.03094, 0.02486, 0.01975, 0.01747, 0.01508, 0.01358, 0.01375, 0.01227, 0.01172, 0.01212, 0.01243, 0.01164, 0.01177, 0.01180, 0.01056, 0.01137, 0.01117, 0.01437, 0.01274, 0.01165, 0.01198, 0.01204, 0.01172, 0.01233, 0.01124, 0.01099, 0.01338, 0.01061, 0.01063, 0.01147, 0.01131, 0.01111, 0.01427, 0.01225, 0.01226, 0.01781, 0.01397, 0.01241, 0.01223, 0.01169, 0.01307, 0.01199, 0.01200, 0.01184, 0.01032, 0.01124, 0.01078, 0.01159, 0.01395, 0.01111, 0.01078, 0.01186, 0.01097, 0.01150, 0.01389, 0.01119, 0.01063, 0.01136, 0.01144, 0.01119, 0.01188, 0.03719, 0.02768, 0.02316, 0.02095, 0.01666, 0.01589, 0.01534, 0.01198, 0.01190, 0.01220, 0.01203, 0.01186, 0.01228, 0.01338, 0.01141, 0.01263, 0.01261, 0.01062, 0.01278, 0.01302, 0.01153, 0.01188, 0.01194, 0.01169, 0.01182, 0.01307, 0.01223, 0.01301, 0.01136, 0.01079, 0.01082, 0.01189, 0.01152, 0.01491, 0.01391, 0.01409, 0.01165, 0.01162, 0.01190, 0.01242, 0.00997, 0.01102, 0.01131, 0.01131, 0.01136, 0.01104, 0.01179, 0.01270, 0.01032, 0.01205, 0.01143, 0.01081, 0.01144, 0.01070, 0.01122, 0.01052, 0.01336, 0.01076, 0.01121, 0.01231, 0.01119, 0.01168, 0.01055, 0.01310, 0.01513, 0.01453, 0.01342, 0.01266, 0.01158, 0.01193, 0.01117, 0.01129, 0.01192, 0.01280, 0.01234, 0.01269, 0.01042, 0.01166, 0.01265, 0.01245, 0.01078, 0.01310, 0.01296, 0.01067, 0.01113, 0.01062, 0.01106, 0.01056, 0.01043, 0.01127, 0.01102, 0.01143, 0.01183, 0.01218, 0.01223, 0.01133, 0.01176, 0.01157, 0.01364, 0.01074, 0.01065, 0.01049, 0.01076, 0.01155, 0.01189, 0.01093, 0.01068, 0.01150, 0.01511, 0.01279, 0.01264, 0.01089, 0.01163, 0.01152, 0.01193, 0.01494, 0.01183, 0.01130, 0.01127, 0.01174, 0.01069]\n"
     ]
    }
   ],
   "source": [
    "%%time\n",
    "start_params = {'max_depth': 8, 'learning_rate':0.3, 'transposed_feature': 1, 'unbalanced_penalty':0.001}\n",
    "tf.constant\n",
    "forest.time1 = forest.time2 =0\n",
    "forest.time3 = []\n",
    "with tf.Session(graph=split_maker.graph) as s:\n",
    "    tree = build_tree(start_params, EMatrix(featuresT if split_maker.reduce_axis==1 else features, \n",
    "                                            label, bias=np.zeros(label.shape), \n",
    "                                            gax=global_axT if split_maker.reduce_axis==1 else global_ax, \n",
    "                                            splitgax=True), split_maker=split_maker, sess=s)\n",
    "print(\"\\nsplit time = {:.5f}, {:.5f}, [{}]\".format(forest.time1, forest.time2, \", \".join(\"{:.5f}\".format(tt) for tt in forest.time3)), file=sys.stderr)\n",
    "tree_arrays = forest.init_arrays(tree, forest.init_id(tree))"
   ]
  },
  {
   "cell_type": "code",
   "execution_count": 9,
   "metadata": {},
   "outputs": [],
   "source": [
    "import pstats\n",
    "#p = pstats.Stats('build_tree.prof')\n",
    "#p.sort_stats('tottime').print_stats()"
   ]
  },
  {
   "cell_type": "code",
   "execution_count": 10,
   "metadata": {},
   "outputs": [
    {
     "data": {
      "text/plain": [
       "(0.6160966418118923, 0.49957753188510584, 0.5)"
      ]
     },
     "execution_count": 10,
     "metadata": {},
     "output_type": "execute_result"
    }
   ],
   "source": [
    "pred = forest.tree_apply(tree_arrays, features)\n",
    "pred_test = forest.tree_apply(tree_arrays, f_test)\n",
    "auc1l = metrics.roc_auc_score(label[:, 0], pred)\n",
    "auc1t = metrics.roc_auc_score(label[:, 0], pred_test)\n",
    "auc0 = metrics.roc_auc_score(label[:, 0], np.zeros(label.shape[0]))\n",
    "auc1l, auc1t, auc0"
   ]
  },
  {
   "cell_type": "code",
   "execution_count": 11,
   "metadata": {
    "collapsed": false,
    "deletable": true,
    "editable": true
   },
   "outputs": [
    {
     "data": {
      "text/plain": [
       "<forest.TreeNode at 0x155f8eb8>"
      ]
     },
     "execution_count": 11,
     "metadata": {},
     "output_type": "execute_result"
    }
   ],
   "source": [
    "#tree.left.left.left.left.val, tree.val\n",
    "tree.left.left"
   ]
  },
  {
   "cell_type": "code",
   "execution_count": 12,
   "metadata": {
    "collapsed": false,
    "deletable": true,
    "editable": true
   },
   "outputs": [],
   "source": [
    "#forest.tree2gv(tree)"
   ]
  },
  {
   "cell_type": "code",
   "execution_count": null,
   "metadata": {
    "collapsed": false
   },
   "outputs": [],
   "source": []
  },
  {
   "cell_type": "code",
   "execution_count": 13,
   "metadata": {
    "collapsed": false
   },
   "outputs": [
    {
     "name": "stdout",
     "output_type": "stream",
     "text": [
      "Wall time: 9.33 s\n"
     ]
    }
   ],
   "source": [
    "%%time\n",
    "boost_params = {'max_depth': 4, 'learning_rate':0.3, 'splitgax': True, 'transposed_feature': 0, 'unbalanced_penalty':0.001}\n",
    "booster = forest.train(boost_params, EMatrix(featuresT if boost_params['transposed_feature'] else features, label), num_boost_round=10)"
   ]
  },
  {
   "cell_type": "code",
   "execution_count": 14,
   "metadata": {},
   "outputs": [],
   "source": [
    "####################################################"
   ]
  },
  {
   "cell_type": "code",
   "execution_count": 15,
   "metadata": {},
   "outputs": [],
   "source": [
    "#%%time\n",
    "#gax13 = make_gax(features)\n",
    "#print(gax13.shape)"
   ]
  },
  {
   "cell_type": "code",
   "execution_count": 16,
   "metadata": {
    "collapsed": false
   },
   "outputs": [
    {
     "data": {
      "text/plain": [
       "(0.6504761784901035, 0.6463948363469747)"
      ]
     },
     "execution_count": 16,
     "metadata": {},
     "output_type": "execute_result"
    }
   ],
   "source": [
    "pred2 = booster.predict(features)\n",
    "pred2b = booster.predict(features, tree_limit=10)\n",
    "pred_test = booster.predict(f_test)\n",
    "main_auc_l = metrics.roc_auc_score(label[:, 0], pred2)\n",
    "main_auc_t = metrics.roc_auc_score(l_test[:, 0], pred_test)\n",
    "main_auc_l, main_auc_t"
   ]
  },
  {
   "cell_type": "code",
   "execution_count": 17,
   "metadata": {},
   "outputs": [
    {
     "data": {
      "text/plain": [
       "(0.5783850422568331, 0.547297544877569)"
      ]
     },
     "execution_count": 17,
     "metadata": {},
     "output_type": "execute_result"
    }
   ],
   "source": [
    "0.5783850422568331,0.547297544877569"
   ]
  },
  {
   "cell_type": "code",
   "execution_count": 18,
   "metadata": {},
   "outputs": [],
   "source": [
    "#np.min(pred2b), np.max(pred2b)"
   ]
  },
  {
   "cell_type": "code",
   "execution_count": 19,
   "metadata": {
    "collapsed": true
   },
   "outputs": [],
   "source": [
    "if False:\n",
    "    tree2gv(booster.forest[45][0])"
   ]
  },
  {
   "cell_type": "code",
   "execution_count": 20,
   "metadata": {},
   "outputs": [],
   "source": [
    "dmat = xgb.DMatrix(features, label)"
   ]
  },
  {
   "cell_type": "code",
   "execution_count": 21,
   "metadata": {},
   "outputs": [
    {
     "name": "stdout",
     "output_type": "stream",
     "text": [
      "Wall time: 791 ms\n"
     ]
    }
   ],
   "source": [
    "%%time\n",
    "params = {'max_depth': 4, 'objective': 'binary:logistic', 'eta': 0.3, 'tree_method': 'exact', 'lambda': 1}\n",
    "model = xgb.train(params, dmat, num_boost_round=10)"
   ]
  },
  {
   "cell_type": "code",
   "execution_count": 22,
   "metadata": {},
   "outputs": [],
   "source": [
    "dmat_test = xgb.DMatrix(f_test, l_test)"
   ]
  },
  {
   "cell_type": "code",
   "execution_count": 23,
   "metadata": {},
   "outputs": [
    {
     "data": {
      "text/plain": [
       "(0.6512252339267851, 0.647475708740195)"
      ]
     },
     "execution_count": 23,
     "metadata": {},
     "output_type": "execute_result"
    }
   ],
   "source": [
    "pred_fast = model.predict(dmat)\n",
    "pred_test = model.predict(dmat_test)\n",
    "\n",
    "metrics.roc_auc_score(label[:, 0], pred_fast), metrics.roc_auc_score(l_test[:, 0], pred_test)"
   ]
  },
  {
   "cell_type": "code",
   "execution_count": 24,
   "metadata": {},
   "outputs": [
    {
     "data": {
      "text/plain": [
       "0.6512252339267851"
      ]
     },
     "execution_count": 24,
     "metadata": {},
     "output_type": "execute_result"
    }
   ],
   "source": [
    "pred_fast = model.predict(dmat, ntree_limit=35)\n",
    "metrics.roc_auc_score(label[:, 0], pred_fast)"
   ]
  },
  {
   "cell_type": "code",
   "execution_count": 25,
   "metadata": {},
   "outputs": [
    {
     "data": {
      "text/plain": [
       "0.6504761784901035"
      ]
     },
     "execution_count": 25,
     "metadata": {},
     "output_type": "execute_result"
    }
   ],
   "source": [
    "pred2b = booster.predict(features, tree_limit=15)\n",
    "metrics.roc_auc_score(label[:, 0], pred2b)"
   ]
  },
  {
   "cell_type": "code",
   "execution_count": 26,
   "metadata": {},
   "outputs": [
    {
     "data": {
      "text/plain": [
       "(0.5987831226886691, 0.5457320402572653)"
      ]
     },
     "execution_count": 26,
     "metadata": {},
     "output_type": "execute_result"
    }
   ],
   "source": [
    "0.5987831226886691, 0.5457320402572653"
   ]
  },
  {
   "cell_type": "code",
   "execution_count": 27,
   "metadata": {},
   "outputs": [
    {
     "data": {
      "text/plain": [
       "(-3.4156384, -0.31315148)"
      ]
     },
     "execution_count": 27,
     "metadata": {},
     "output_type": "execute_result"
    }
   ],
   "source": [
    "qq = -np.log(1/pred_fast-1) \n",
    "np.min(qq), np.max(qq)"
   ]
  },
  {
   "cell_type": "code",
   "execution_count": 28,
   "metadata": {},
   "outputs": [
    {
     "data": {
      "text/plain": [
       "0.3170866666666667"
      ]
     },
     "execution_count": 28,
     "metadata": {},
     "output_type": "execute_result"
    }
   ],
   "source": [
    "diff = np.abs(qq - pred2b)\n",
    "np.mean(diff > 0.1)"
   ]
  },
  {
   "cell_type": "code",
   "execution_count": 29,
   "metadata": {},
   "outputs": [],
   "source": [
    "model.dump_model('xgb.dump')"
   ]
  },
  {
   "cell_type": "code",
   "execution_count": 30,
   "metadata": {},
   "outputs": [],
   "source": [
    "#tree2gv(booster.forest[1][0])"
   ]
  },
  {
   "cell_type": "code",
   "execution_count": 31,
   "metadata": {},
   "outputs": [
    {
     "name": "stderr",
     "output_type": "stream",
     "text": [
      "\"cat\" ­Ґ пў«пҐвбп ў­гваҐ­­Ґ© Ё«Ё ў­Ґи­Ґ©\n",
      "Є®¬ ­¤®©, ЁбЇ®«­пҐ¬®© Їа®Ја ¬¬®© Ё«Ё Ї ЄҐв­л¬ д ©«®¬.\n"
     ]
    }
   ],
   "source": [
    "!cat xgb.dump | tail -n+$(echo 39*31+31 | bc) | head -n 100"
   ]
  },
  {
   "cell_type": "markdown",
   "metadata": {},
   "source": [
    "### Extra begins here"
   ]
  },
  {
   "cell_type": "code",
   "execution_count": 32,
   "metadata": {},
   "outputs": [],
   "source": [
    "extra_f = time_features(f_time, feat_num=2)"
   ]
  },
  {
   "cell_type": "code",
   "execution_count": 33,
   "metadata": {},
   "outputs": [
    {
     "data": {
      "text/plain": [
       "(300000, 2)"
      ]
     },
     "execution_count": 33,
     "metadata": {},
     "output_type": "execute_result"
    }
   ],
   "source": [
    "extra_f.shape"
   ]
  },
  {
   "cell_type": "code",
   "execution_count": 34,
   "metadata": {},
   "outputs": [
    {
     "name": "stdout",
     "output_type": "stream",
     "text": [
      "(300000, 1)\n"
     ]
    }
   ],
   "source": [
    "N = 300000\n",
    "f_spec = np.random.normal(loc=np.zeros((N,2)))\n",
    "time_spec = np.random.uniform(size=(N,1)) #loc=np.zeros((N,1)))\n",
    "print(time_spec.shape)\n",
    "label_spec = ((f_spec[:, 0:1] + 3 * f_spec[:, 1:2] * (time_spec[:, 0:1] - 0.5))  > 0) * 1\n",
    "extra_spec = time_features(time_spec, feat_num=2)"
   ]
  },
  {
   "cell_type": "code",
   "execution_count": 35,
   "metadata": {},
   "outputs": [],
   "source": [
    "#f_spec[:10]"
   ]
  },
  {
   "cell_type": "code",
   "execution_count": 36,
   "metadata": {},
   "outputs": [],
   "source": [
    "features_orig_cut = features_orig #[:,0:8]\n",
    "f_train, extra_f_train, label_train = subpool((features_orig_cut, extra_f, label_orig), f_time, (0, 0.5)) #0.33\n",
    "f_train, extra_f_train, label_train = f_train[:40000,:], extra_f_train[:40000,:], label_train[:40000,:]\n",
    "time_column = f_time\n",
    "full_features = features_orig_cut\n",
    "full_extra_features = extra_f\n",
    "full_label = label_orig\n",
    "if 0:\n",
    "    f_train, extra_f_train, label_train = subpool((f_spec, extra_spec, label_spec), time_spec, (0, 0.2))\n",
    "    time_column = time_spec \n",
    "    full_features = f_spec\n",
    "    full_extra_features = extra_spec\n",
    "    full_label = label_spec"
   ]
  },
  {
   "cell_type": "code",
   "execution_count": 37,
   "metadata": {},
   "outputs": [],
   "source": [
    "#cond = np.logical_and.reduce([f_train[:,k] > 0.016 for k in [1,2,3,5]])\n",
    "#cond = f_train[:,1] > 0.016\n",
    "#cond1 = extra_f_train[:,1] < 0.25\n",
    "#cond2 = np.logical_not(cond1)"
   ]
  },
  {
   "cell_type": "code",
   "execution_count": 38,
   "metadata": {},
   "outputs": [],
   "source": [
    "if False:\n",
    "    (np.mean(label_train[np.logical_and(cond, cond1)]) / np.mean(label_train[:,0]),\n",
    "     np.mean(label_train[np.logical_and(cond, cond2)]) / np.mean(label_train[:,0])\n",
    "    )"
   ]
  },
  {
   "cell_type": "code",
   "execution_count": null,
   "metadata": {},
   "outputs": [],
   "source": []
  },
  {
   "cell_type": "code",
   "execution_count": 39,
   "metadata": {},
   "outputs": [
    {
     "data": {
      "text/plain": [
       "(0.29917333333333335, 0.29016071558432116, 0.30777149769871376)"
      ]
     },
     "execution_count": 39,
     "metadata": {},
     "output_type": "execute_result"
    }
   ],
   "source": [
    "cond = features_orig[:,1] < 0.5\n",
    "cond1 = f_time[:,0] < 0.05\n",
    "cond2 = np.logical_not(cond1)\n",
    "(np.mean(label_orig),\n",
    " np.mean(label_orig[np.logical_and(cond, cond1)]),\n",
    " np.mean(label_orig[np.logical_and(cond, cond2)])\n",
    ")"
   ]
  },
  {
   "cell_type": "code",
   "execution_count": 40,
   "metadata": {},
   "outputs": [],
   "source": [
    "#np.concatenate((f_train[:20, 1:2], label_train[:20, 0:1], extra_f_train[:20, :1]), axis=1)"
   ]
  },
  {
   "cell_type": "code",
   "execution_count": 41,
   "metadata": {},
   "outputs": [
    {
     "data": {
      "text/plain": [
       "((40000, 17), (40000, 2), (40000, 1))"
      ]
     },
     "execution_count": 41,
     "metadata": {},
     "output_type": "execute_result"
    }
   ],
   "source": [
    "f_train.shape, extra_f_train.shape, label_train.shape"
   ]
  },
  {
   "cell_type": "code",
   "execution_count": 42,
   "metadata": {},
   "outputs": [],
   "source": [
    "import extra_utils\n",
    "reload(extra_utils)\n",
    "from extra_utils import time_features, subpool, test_extra_predictions\n",
    "import forest\n",
    "reload(forest)\n",
    "from forest import build_tree, EMatrix, tree2gv\n",
    "import split\n",
    "reload(split)\n",
    "from split import SplitMaker\n",
    "import ipywidgets\n",
    "from ipywidgets import IntProgress\n",
    "from IPython.display import display, clear_output, Markdown"
   ]
  },
  {
   "cell_type": "code",
   "execution_count": 43,
   "metadata": {},
   "outputs": [],
   "source": [
    "#ipywidgets.IntProgress(min=0, max=rounds, value=0)"
   ]
  },
  {
   "cell_type": "code",
   "execution_count": 45,
   "metadata": {},
   "outputs": [
    {
     "data": {
      "text/markdown": [
       "<span style=\"font-family:Courier\">[####################################################################################################]100/400</span>"
      ],
      "text/plain": [
       "<IPython.core.display.Markdown object>"
      ]
     },
     "metadata": {},
     "output_type": "display_data"
    },
    {
     "name": "stdout",
     "output_type": "stream",
     "text": [
      "Wall time: 5min 35s\n"
     ]
    }
   ],
   "source": [
    "%%time\n",
    "rounds = 400\n",
    "progress = ipywidgets.IntProgress(min=0, max=rounds, value=0)\n",
    "#display(progress)\n",
    "def progress_callback(value, max):\n",
    "    progress.value = value\n",
    "    progress.max = max\n",
    "    clear_output()\n",
    "    l = 100\n",
    "    x = int(value*l/max + 0.5)\n",
    "    y = l-x\n",
    "    display(Markdown('<span style=\"font-family:Courier\">' + '[' + ('#' * x) + ('-' * y) + ']' + '{x}/{m}'.format(x=x,m=max) + '</span>'))\n",
    "    #display(progress)\n",
    "\n",
    "boost_params = {'max_depth': 4, 'learning_rate':0.03, 'splitgax': True, 'transposed_feature': 1, 'unbalanced_penalty':0.00001,\n",
    "               'progress_callback': progress_callback}\n",
    "if True:\n",
    "    booster_regular = forest.train(boost_params, EMatrix(features=f_train.T if boost_params['transposed_feature'] else  f_train, \n",
    "                                                 extra_features=None,\n",
    "                                                 label=label_train), num_boost_round=rounds)\n",
    "if False:\n",
    "    booster = forest.train(boost_params, EMatrix(features=f_train.T if boost_params['transposed_feature'] else  f_train, \n",
    "                                             extra_features=extra_f_train.T if boost_params['transposed_feature'] else extra_f_train,\n",
    "                                             label=label_train), num_boost_round=rounds)"
   ]
  },
  {
   "cell_type": "code",
   "execution_count": null,
   "metadata": {},
   "outputs": [],
   "source": []
  },
  {
   "cell_type": "code",
   "execution_count": 46,
   "metadata": {},
   "outputs": [],
   "source": [
    "whole_prediction = booster.predict(full_features, extra_features=full_extra_features, tree_limit=3000)\n",
    "#test_extra_predictions(20, time_column, full_label, whole_prediction)"
   ]
  },
  {
   "cell_type": "code",
   "execution_count": 47,
   "metadata": {},
   "outputs": [
    {
     "name": "stdout",
     "output_type": "stream",
     "text": [
      "(0.0, 0.02) score = 0.8756750118127068\n",
      "(0.02, 0.04) score = 0.8642617877921127\n",
      "(0.04, 0.06) score = 0.8477389349783392\n",
      "(0.06, 0.08) score = 0.8245432032124177\n",
      "(0.08, 0.1) score = 0.8193920143261757\n",
      "(0.1, 0.12) score = 0.8089868920219692\n",
      "(0.12, 0.14) score = 0.7802068520916018\n",
      "(0.14, 0.16) score = 0.8013614553214664\n",
      "(0.16, 0.18) score = 0.7639268662244519\n",
      "(0.18, 0.2) score = 0.7594336181498728\n",
      "(0.2, 0.22) score = 0.7474790019394784\n",
      "(0.22, 0.24) score = 0.7269357537427258\n",
      "(0.24, 0.26) score = 0.723626613346379\n",
      "(0.26, 0.28) score = 0.7050353898962477\n",
      "(0.28, 0.3) score = 0.7076953002310875\n",
      "(0.3, 0.32) score = 0.6759548126847766\n",
      "(0.32, 0.34) score = 0.6688334979990036\n",
      "(0.34, 0.36) score = 0.6574033456161898\n",
      "(0.36, 0.38) score = 0.646351162327469\n",
      "(0.38, 0.4) score = 0.6440924794020363\n",
      "(0.4, 0.42) score = 0.638414685097404\n",
      "(0.42, 0.44) score = 0.62929143297466\n",
      "(0.44, 0.46) score = 0.6121024067956583\n",
      "(0.46, 0.48) score = 0.615854559328678\n",
      "(0.48, 0.5) score = 0.5956050749544597\n",
      "(0.5, 0.52) score = 0.5770719127924007\n",
      "(0.52, 0.54) score = 0.5597562522200014\n",
      "(0.54, 0.56) score = 0.5591559920222883\n",
      "(0.56, 0.58) score = 0.5476272726211436\n",
      "(0.58, 0.6) score = 0.550213349608786\n",
      "(0.6, 0.62) score = 0.54507428830322\n",
      "(0.62, 0.64) score = 0.547405700897276\n",
      "(0.64, 0.66) score = 0.5498844765943756\n",
      "(0.66, 0.68) score = 0.5544918256008837\n",
      "(0.68, 0.7) score = 0.5582246957451775\n",
      "(0.7, 0.72) score = 0.5798935403029942\n",
      "(0.72, 0.74) score = 0.5824066358359892\n",
      "(0.74, 0.76) score = 0.5902634730224423\n",
      "(0.76, 0.78) score = 0.5947994798905093\n",
      "(0.78, 0.8) score = 0.6117862037460028\n",
      "(0.8, 0.82) score = 0.6000052318767789\n",
      "(0.82, 0.84) score = 0.6229578900079522\n",
      "(0.84, 0.86) score = 0.6429617370277664\n",
      "(0.86, 0.88) score = 0.635438973413798\n",
      "(0.88, 0.9) score = 0.6691393203933187\n",
      "(0.9, 0.92) score = 0.6700089390423383\n",
      "(0.92, 0.94) score = 0.6711771087975016\n",
      "(0.94, 0.96) score = 0.6885583842179427\n",
      "(0.96, 0.98) score = 0.6970346622288571\n",
      "(0.98, 1.0) score = 0.6873720395753672\n"
     ]
    }
   ],
   "source": [
    "test_extra_predictions(50, time_column, full_label, whole_prediction)"
   ]
  },
  {
   "cell_type": "code",
   "execution_count": 48,
   "metadata": {},
   "outputs": [],
   "source": [
    "whole_prediction_regular = booster_regular.predict(full_features, tree_limit=1000)"
   ]
  },
  {
   "cell_type": "code",
   "execution_count": 49,
   "metadata": {},
   "outputs": [
    {
     "name": "stdout",
     "output_type": "stream",
     "text": [
      "(0.0, 0.02) score = 0.9084203169984046\n",
      "(0.02, 0.04) score = 0.8946320451118719\n",
      "(0.04, 0.06) score = 0.8725678327552374\n",
      "(0.06, 0.08) score = 0.8505799707986356\n",
      "(0.08, 0.1) score = 0.8453368192276831\n",
      "(0.1, 0.12) score = 0.8347712473812354\n",
      "(0.12, 0.14) score = 0.8049895738268565\n",
      "(0.14, 0.16) score = 0.8174015274889204\n",
      "(0.16, 0.18) score = 0.7855266507289806\n",
      "(0.18, 0.2) score = 0.7785873188720464\n",
      "(0.2, 0.22) score = 0.7660019925970744\n",
      "(0.22, 0.24) score = 0.7443783134642946\n",
      "(0.24, 0.26) score = 0.7447961770744004\n",
      "(0.26, 0.28) score = 0.7202349591924113\n",
      "(0.28, 0.3) score = 0.7218919836506749\n",
      "(0.3, 0.32) score = 0.6881685910169673\n",
      "(0.32, 0.34) score = 0.6862524626774054\n",
      "(0.34, 0.36) score = 0.6688670128198992\n",
      "(0.36, 0.38) score = 0.6542720125718124\n",
      "(0.38, 0.4) score = 0.6557348370626235\n",
      "(0.4, 0.42) score = 0.6537834580374602\n",
      "(0.42, 0.44) score = 0.6286593030023253\n",
      "(0.44, 0.46) score = 0.6137670415814588\n",
      "(0.46, 0.48) score = 0.6108014987024196\n",
      "(0.48, 0.5) score = 0.5838413408469724\n",
      "(0.5, 0.52) score = 0.568831207892204\n",
      "(0.52, 0.54) score = 0.5561583677492627\n",
      "(0.54, 0.56) score = 0.5434077217258998\n",
      "(0.56, 0.58) score = 0.5333585522510504\n",
      "(0.58, 0.6) score = 0.5342314591497741\n",
      "(0.6, 0.62) score = 0.5293588706566001\n",
      "(0.62, 0.64) score = 0.5123210651460676\n",
      "(0.64, 0.66) score = 0.5071268788155314\n",
      "(0.66, 0.68) score = 0.49343137574960727\n",
      "(0.68, 0.7) score = 0.4977950107672254\n",
      "(0.7, 0.72) score = 0.475922369798934\n",
      "(0.72, 0.74) score = 0.47514036383358804\n",
      "(0.74, 0.76) score = 0.44714953860051787\n",
      "(0.76, 0.78) score = 0.44835664752454624\n",
      "(0.78, 0.8) score = 0.44004540964339955\n",
      "(0.8, 0.82) score = 0.43935221517662815\n",
      "(0.82, 0.84) score = 0.4284874245602042\n",
      "(0.84, 0.86) score = 0.41396059957365045\n",
      "(0.86, 0.88) score = 0.42219198869527486\n",
      "(0.88, 0.9) score = 0.3986991831811058\n",
      "(0.9, 0.92) score = 0.395070396708148\n",
      "(0.92, 0.94) score = 0.39503614691750355\n",
      "(0.94, 0.96) score = 0.3833576326914044\n",
      "(0.96, 0.98) score = 0.36954335701796603\n",
      "(0.98, 1.0) score = 0.37949277387500685\n"
     ]
    }
   ],
   "source": [
    "test_extra_predictions(50, time_column, full_label, whole_prediction_regular)"
   ]
  },
  {
   "cell_type": "code",
   "execution_count": 180,
   "metadata": {},
   "outputs": [
    {
     "data": {
      "image/svg+xml": [
       "<?xml version=\"1.0\" encoding=\"UTF-8\" standalone=\"no\"?>\n",
       "<!DOCTYPE svg PUBLIC \"-//W3C//DTD SVG 1.1//EN\"\n",
       " \"http://www.w3.org/Graphics/SVG/1.1/DTD/svg11.dtd\">\n",
       "<!-- Generated by graphviz version 2.38.0 (20140413.2041)\n",
       " -->\n",
       "<!-- Title: ni Pages: 1 -->\n",
       "<svg width=\"446pt\" height=\"118pt\"\n",
       " viewBox=\"0.00 0.00 445.50 118.00\" xmlns=\"http://www.w3.org/2000/svg\" xmlns:xlink=\"http://www.w3.org/1999/xlink\">\n",
       "<g id=\"graph0\" class=\"graph\" transform=\"scale(1 1) rotate(0) translate(4 114)\">\n",
       "<title>ni</title>\n",
       "<polygon fill=\"white\" stroke=\"none\" points=\"-4,4 -4,-114 441.5,-114 441.5,4 -4,4\"/>\n",
       "<g id=\"node1\" class=\"node\"><title></title>\n",
       "<polygon fill=\"none\" stroke=\"black\" points=\"278,-110 163,-110 163,-74 278,-74 278,-110\"/>\n",
       "<text text-anchor=\"middle\" x=\"220.5\" y=\"-88.3\" font-family=\"Times,serif\" font-size=\"14.00\">f_{7} &lt; 0.032477</text>\n",
       "</g>\n",
       "<!-- 0 -->\n",
       "<g id=\"node2\" class=\"node\"><title>0</title>\n",
       "<polygon fill=\"none\" stroke=\"black\" points=\"213,-38 1.42109e-14,-38 1.42109e-14,-0 213,-0 213,-38\"/>\n",
       "<text text-anchor=\"middle\" x=\"106.5\" y=\"-22.8\" font-family=\"Times,serif\" font-size=\"14.00\">[&#45;0.00079243 &#160;0.00246452] (90003)</text>\n",
       "<text text-anchor=\"middle\" x=\"106.5\" y=\"-7.8\" font-family=\"Times,serif\" font-size=\"14.00\">(0.295035)</text>\n",
       "</g>\n",
       "<!-- &#45;&#45;0 -->\n",
       "<g id=\"edge1\" class=\"edge\"><title>&#45;&#45;0</title>\n",
       "<path fill=\"none\" stroke=\"black\" d=\"M193.194,-73.9937C175.804,-63.1632 153.298,-49.1464 135.576,-38.1086\"/>\n",
       "</g>\n",
       "<!-- 1 -->\n",
       "<g id=\"node3\" class=\"node\"><title>1</title>\n",
       "<polygon fill=\"none\" stroke=\"black\" points=\"437.5,-38 231.5,-38 231.5,-0 437.5,-0 437.5,-38\"/>\n",
       "<text text-anchor=\"middle\" x=\"334.5\" y=\"-22.8\" font-family=\"Times,serif\" font-size=\"14.00\">[ 0.00713703 &#45;0.02553001] (9010)</text>\n",
       "<text text-anchor=\"middle\" x=\"334.5\" y=\"-7.8\" font-family=\"Times,serif\" font-size=\"14.00\">(0.332741)</text>\n",
       "</g>\n",
       "<!-- &#45;&#45;1 -->\n",
       "<g id=\"edge2\" class=\"edge\"><title>&#45;&#45;1</title>\n",
       "<path fill=\"none\" stroke=\"black\" d=\"M247.806,-73.9937C265.196,-63.1632 287.702,-49.1464 305.424,-38.1086\"/>\n",
       "</g>\n",
       "</g>\n",
       "</svg>\n"
      ],
      "text/plain": [
       "<graphviz.dot.Graph at 0x7f3f04cfb198>"
      ]
     },
     "execution_count": 180,
     "metadata": {},
     "output_type": "execute_result"
    }
   ],
   "source": [
    "tree2gv(booster.forest[190][0])"
   ]
  },
  {
   "cell_type": "code",
   "execution_count": 132,
   "metadata": {},
   "outputs": [
    {
     "data": {
      "image/svg+xml": [
       "<?xml version=\"1.0\" encoding=\"UTF-8\" standalone=\"no\"?>\n",
       "<!DOCTYPE svg PUBLIC \"-//W3C//DTD SVG 1.1//EN\"\n",
       " \"http://www.w3.org/Graphics/SVG/1.1/DTD/svg11.dtd\">\n",
       "<!-- Generated by graphviz version 2.38.0 (20140413.2041)\n",
       " -->\n",
       "<!-- Title: ni Pages: 1 -->\n",
       "<svg width=\"276pt\" height=\"118pt\"\n",
       " viewBox=\"0.00 0.00 276.00 118.00\" xmlns=\"http://www.w3.org/2000/svg\" xmlns:xlink=\"http://www.w3.org/1999/xlink\">\n",
       "<g id=\"graph0\" class=\"graph\" transform=\"scale(1 1) rotate(0) translate(4 114)\">\n",
       "<title>ni</title>\n",
       "<polygon fill=\"white\" stroke=\"none\" points=\"-4,4 -4,-114 272,-114 272,4 -4,4\"/>\n",
       "<g id=\"node1\" class=\"node\"><title></title>\n",
       "<polygon fill=\"none\" stroke=\"black\" points=\"191,-110 76,-110 76,-74 191,-74 191,-110\"/>\n",
       "<text text-anchor=\"middle\" x=\"133.5\" y=\"-88.3\" font-family=\"Times,serif\" font-size=\"14.00\">f_{0} &lt; 0.001555</text>\n",
       "</g>\n",
       "<!-- 0 -->\n",
       "<g id=\"node2\" class=\"node\"><title>0</title>\n",
       "<polygon fill=\"none\" stroke=\"black\" points=\"125,-38 7.10543e-15,-38 7.10543e-15,-0 125,-0 125,-38\"/>\n",
       "<text text-anchor=\"middle\" x=\"62.5\" y=\"-22.8\" font-family=\"Times,serif\" font-size=\"14.00\">&#45;0.000216 (112511)</text>\n",
       "<text text-anchor=\"middle\" x=\"62.5\" y=\"-7.8\" font-family=\"Times,serif\" font-size=\"14.00\">(0.301508)</text>\n",
       "</g>\n",
       "<!-- &#45;&#45;0 -->\n",
       "<g id=\"edge1\" class=\"edge\"><title>&#45;&#45;0</title>\n",
       "<path fill=\"none\" stroke=\"black\" d=\"M116.313,-73.8129C105.478,-62.9782 91.5096,-49.0096 80.5196,-38.0196\"/>\n",
       "</g>\n",
       "<!-- 1 -->\n",
       "<g id=\"node3\" class=\"node\"><title>1</title>\n",
       "<polygon fill=\"none\" stroke=\"black\" points=\"268,-38 143,-38 143,-0 268,-0 268,-38\"/>\n",
       "<text text-anchor=\"middle\" x=\"205.5\" y=\"-22.8\" font-family=\"Times,serif\" font-size=\"14.00\">&#45;0.000223 (112665)</text>\n",
       "<text text-anchor=\"middle\" x=\"205.5\" y=\"-7.8\" font-family=\"Times,serif\" font-size=\"14.00\">(0.296925)</text>\n",
       "</g>\n",
       "<!-- &#45;&#45;1 -->\n",
       "<g id=\"edge2\" class=\"edge\"><title>&#45;&#45;1</title>\n",
       "<path fill=\"none\" stroke=\"black\" d=\"M150.929,-73.8129C161.916,-62.9782 176.082,-49.0096 187.227,-38.0196\"/>\n",
       "</g>\n",
       "</g>\n",
       "</svg>\n"
      ],
      "text/plain": [
       "<graphviz.dot.Graph at 0x7f3f06ee77b8>"
      ]
     },
     "execution_count": 132,
     "metadata": {},
     "output_type": "execute_result"
    }
   ],
   "source": [
    "tree2gv(booster_regular.forest[160][0])"
   ]
  },
  {
   "cell_type": "code",
   "execution_count": null,
   "metadata": {},
   "outputs": [],
   "source": [
    "def sigm(x):\n",
    "    return 1/(1 + np.exp(-x))"
   ]
  },
  {
   "cell_type": "code",
   "execution_count": 105,
   "metadata": {},
   "outputs": [
    {
     "data": {
      "text/plain": [
       "{0.26721492: 982,\n",
       " 0.27964613: 3750,\n",
       " 0.28262532: 26244,\n",
       " 0.28485507: 1691,\n",
       " 0.28536656: 29,\n",
       " 0.28741762: 2932,\n",
       " 0.28744617: 106,\n",
       " 0.29536593: 5229,\n",
       " 0.29722634: 20,\n",
       " 0.2974511: 5,\n",
       " 0.30088168: 78,\n",
       " 0.3010206: 237294,\n",
       " 0.3012496: 13331,\n",
       " 0.3023119: 80,\n",
       " 0.30651802: 2032,\n",
       " 0.30738217: 1277,\n",
       " 0.30917397: 4838,\n",
       " 0.38645455: 5,\n",
       " 0.39314502: 45,\n",
       " 0.50112784: 32}"
      ]
     },
     "execution_count": 105,
     "metadata": {},
     "output_type": "execute_result"
    }
   ],
   "source": [
    "freq = {}\n",
    "for v in sigm(whole_prediction):\n",
    "    freq[v] = freq.get(v, 0) + 1\n",
    "freq"
   ]
  },
  {
   "cell_type": "code",
   "execution_count": 36,
   "metadata": {},
   "outputs": [],
   "source": [
    "## xgboost"
   ]
  },
  {
   "cell_type": "code",
   "execution_count": null,
   "metadata": {},
   "outputs": [],
   "source": []
  },
  {
   "cell_type": "code",
   "execution_count": 50,
   "metadata": {},
   "outputs": [],
   "source": [
    "dmat = xgb.DMatrix((f_train > 0.5)*1, label_train)\n",
    "params = {'max_depth': 4, 'objective': 'binary:logistic', 'eta': 0.03, 'tree_method': 'exact', 'lambda': 1}\n",
    "model = xgb.train(params, dmat, num_boost_round=300)"
   ]
  },
  {
   "cell_type": "code",
   "execution_count": 70,
   "metadata": {},
   "outputs": [],
   "source": [
    "#all_pred = model.predict(xgb.DMatrix(full_features[:,1:2]))\n",
    "all_pred = model.predict(xgb.DMatrix(full_features))"
   ]
  },
  {
   "cell_type": "code",
   "execution_count": 53,
   "metadata": {},
   "outputs": [
    {
     "name": "stdout",
     "output_type": "stream",
     "text": [
      "(0.0, 0.02) score = 0.9032507845673013\n",
      "(0.02, 0.04) score = 0.8902447945310012\n",
      "(0.04, 0.06) score = 0.8679600946087547\n",
      "(0.06, 0.08) score = 0.8439194303672234\n",
      "(0.08, 0.1) score = 0.8444182515264071\n",
      "(0.1, 0.12) score = 0.832200328407225\n",
      "(0.12, 0.14) score = 0.7970025415455143\n",
      "(0.14, 0.16) score = 0.8106866179543925\n",
      "(0.16, 0.18) score = 0.7795879322536112\n",
      "(0.18, 0.2) score = 0.770471984875106\n",
      "(0.2, 0.22) score = 0.7634956345540689\n",
      "(0.22, 0.24) score = 0.7377234507077044\n",
      "(0.24, 0.26) score = 0.7373824655489873\n",
      "(0.26, 0.28) score = 0.7131037656216233\n",
      "(0.28, 0.3) score = 0.7146482522249393\n",
      "(0.3, 0.32) score = 0.6857830058599107\n",
      "(0.32, 0.34) score = 0.6798795439767766\n",
      "(0.34, 0.36) score = 0.6645083268196972\n",
      "(0.36, 0.38) score = 0.6498420065489554\n",
      "(0.38, 0.4) score = 0.6433744747706149\n",
      "(0.4, 0.42) score = 0.64452536308601\n",
      "(0.42, 0.44) score = 0.6241322307762116\n",
      "(0.44, 0.46) score = 0.6062362356457448\n",
      "(0.46, 0.48) score = 0.6015451152002438\n",
      "(0.48, 0.5) score = 0.5777706100137008\n",
      "(0.5, 0.52) score = 0.5724169744110139\n",
      "(0.52, 0.54) score = 0.5582527731652156\n",
      "(0.54, 0.56) score = 0.549112016942357\n",
      "(0.56, 0.58) score = 0.5358245936052997\n",
      "(0.58, 0.6) score = 0.53544421330869\n",
      "(0.6, 0.62) score = 0.5288747893426347\n",
      "(0.62, 0.64) score = 0.5176848286289538\n",
      "(0.64, 0.66) score = 0.504336288217722\n",
      "(0.66, 0.68) score = 0.4925961385053716\n",
      "(0.68, 0.7) score = 0.5031758046358332\n",
      "(0.7, 0.72) score = 0.47665837295984487\n",
      "(0.72, 0.74) score = 0.48070114120897856\n",
      "(0.74, 0.76) score = 0.45111095646510746\n",
      "(0.76, 0.78) score = 0.4477157484757948\n",
      "(0.78, 0.8) score = 0.4454788185943965\n",
      "(0.8, 0.82) score = 0.44863055625313913\n",
      "(0.82, 0.84) score = 0.4347729821083251\n",
      "(0.84, 0.86) score = 0.4228524122527408\n",
      "(0.86, 0.88) score = 0.42765875652697527\n",
      "(0.88, 0.9) score = 0.4069980895456772\n",
      "(0.9, 0.92) score = 0.3981848536844224\n",
      "(0.92, 0.94) score = 0.4052223490722786\n",
      "(0.94, 0.96) score = 0.39298211993111004\n",
      "(0.96, 0.98) score = 0.38125909247883744\n",
      "(0.98, 1.0) score = 0.3883317030619461\n"
     ]
    }
   ],
   "source": [
    "test_extra_predictions(50, time_column, full_label, all_pred)"
   ]
  },
  {
   "cell_type": "code",
   "execution_count": 84,
   "metadata": {},
   "outputs": [
    {
     "data": {
      "text/plain": [
       "{0.28071296, 0.30143696}"
      ]
     },
     "execution_count": 84,
     "metadata": {},
     "output_type": "execute_result"
    }
   ],
   "source": [
    "set(all_pred)"
   ]
  },
  {
   "cell_type": "code",
   "execution_count": 88,
   "metadata": {},
   "outputs": [
    {
     "data": {
      "text/plain": [
       "0.3014155326009728"
      ]
     },
     "execution_count": 88,
     "metadata": {},
     "output_type": "execute_result"
    }
   ],
   "source": [
    "label_train[f_train < 0.5].mean()"
   ]
  },
  {
   "cell_type": "code",
   "execution_count": 96,
   "metadata": {},
   "outputs": [
    {
     "data": {
      "text/plain": [
       "0.29691010986473404"
      ]
     },
     "execution_count": 96,
     "metadata": {},
     "output_type": "execute_result"
    }
   ],
   "source": [
    "label_train[f_train > 0.001564].mean()"
   ]
  },
  {
   "cell_type": "code",
   "execution_count": 99,
   "metadata": {},
   "outputs": [
    {
     "data": {
      "text/plain": [
       "88684"
      ]
     },
     "execution_count": 99,
     "metadata": {},
     "output_type": "execute_result"
    }
   ],
   "source": [
    "np.logical_and(f_train > 0.001564, f_train < 0.5).sum()"
   ]
  },
  {
   "cell_type": "markdown",
   "metadata": {},
   "source": [
    "# XGBoost with time"
   ]
  },
  {
   "cell_type": "code",
   "execution_count": 52,
   "metadata": {},
   "outputs": [
    {
     "data": {
      "text/plain": [
       "array([[0.15705398],\n",
       "       [0.09550877],\n",
       "       [0.1379392 ],\n",
       "       ...,\n",
       "       [0.22165758],\n",
       "       [0.080134  ],\n",
       "       [0.1798147 ]])"
      ]
     },
     "execution_count": 52,
     "metadata": {},
     "output_type": "execute_result"
    }
   ],
   "source": [
    "extra_f_train[:,1:]"
   ]
  },
  {
   "cell_type": "code",
   "execution_count": 53,
   "metadata": {},
   "outputs": [
    {
     "data": {
      "text/plain": [
       "((40000, 1), (40000, 17), (300000, 17), (300000, 1))"
      ]
     },
     "execution_count": 53,
     "metadata": {},
     "output_type": "execute_result"
    }
   ],
   "source": [
    "extra_f_train[:,1:].shape, f_train.shape, full_features.shape, time_column.shape"
   ]
  },
  {
   "cell_type": "code",
   "execution_count": 58,
   "metadata": {},
   "outputs": [],
   "source": [
    "f_train_full = np.concatenate([(f_train > 0.5)*1, extra_f_train[:,1:]], axis=1)\n",
    "dmat2 = xgb.DMatrix(f_train_full, label_train)\n",
    "params2 = {'max_depth': 1, 'objective': 'binary:logistic', 'eta': 0.03, 'tree_method': 'exact', 'lambda': 1}\n",
    "model2 = xgb.train(params2, dmat2, num_boost_round=300)"
   ]
  },
  {
   "cell_type": "code",
   "execution_count": 59,
   "metadata": {},
   "outputs": [],
   "source": [
    "model2.dump_model('model3_depth1.txt')"
   ]
  },
  {
   "cell_type": "code",
   "execution_count": 60,
   "metadata": {},
   "outputs": [
    {
     "name": "stdout",
     "output_type": "stream",
     "text": [
      "(300000, 18) (40000, 18)\n"
     ]
    }
   ],
   "source": [
    "all_conc_features = np.concatenate([full_features, time_column], axis=1)\n",
    "print(all_conc_features.shape, f_train_full.shape)\n",
    "all_pred2 = model2.predict(xgb.DMatrix(all_conc_features))"
   ]
  },
  {
   "cell_type": "code",
   "execution_count": 61,
   "metadata": {},
   "outputs": [
    {
     "name": "stdout",
     "output_type": "stream",
     "text": [
      "(0.0, 0.02) score = 0.9036353002248968\n",
      "(0.02, 0.04) score = 0.8886094102354269\n",
      "(0.04, 0.06) score = 0.8696305522232226\n",
      "(0.06, 0.08) score = 0.8454579508117932\n",
      "(0.08, 0.1) score = 0.838912690568424\n",
      "(0.1, 0.12) score = 0.8298505180907083\n",
      "(0.12, 0.14) score = 0.7965490826028822\n",
      "(0.14, 0.16) score = 0.8120186218075629\n",
      "(0.16, 0.18) score = 0.7786188760564329\n",
      "(0.18, 0.2) score = 0.7720886917367573\n",
      "(0.2, 0.22) score = 0.762385973049412\n",
      "(0.22, 0.24) score = 0.733626827457114\n",
      "(0.24, 0.26) score = 0.7362062982220047\n",
      "(0.26, 0.28) score = 0.7129607309492052\n",
      "(0.28, 0.3) score = 0.716076659839441\n",
      "(0.3, 0.32) score = 0.6846177809595334\n",
      "(0.32, 0.34) score = 0.6817557582643003\n",
      "(0.34, 0.36) score = 0.6666433372149287\n",
      "(0.36, 0.38) score = 0.6545243090400946\n",
      "(0.38, 0.4) score = 0.6466118316924152\n",
      "(0.4, 0.42) score = 0.646567438796545\n",
      "(0.42, 0.44) score = 0.621583468598913\n",
      "(0.44, 0.46) score = 0.6081909050390646\n",
      "(0.46, 0.48) score = 0.6018855531399196\n",
      "(0.48, 0.5) score = 0.576269018166599\n",
      "(0.5, 0.52) score = 0.5727574983261497\n",
      "(0.52, 0.54) score = 0.5587900843974304\n",
      "(0.54, 0.56) score = 0.5487874083745412\n",
      "(0.56, 0.58) score = 0.5391254726722978\n",
      "(0.58, 0.6) score = 0.537754537548548\n",
      "(0.6, 0.62) score = 0.5311126484421747\n",
      "(0.62, 0.64) score = 0.5158536319512678\n",
      "(0.64, 0.66) score = 0.5069909689265615\n",
      "(0.66, 0.68) score = 0.49385221948007574\n",
      "(0.68, 0.7) score = 0.5022069355616159\n",
      "(0.7, 0.72) score = 0.4783823679753316\n",
      "(0.72, 0.74) score = 0.4819739927043717\n",
      "(0.74, 0.76) score = 0.4501240815340416\n",
      "(0.76, 0.78) score = 0.44960642119808847\n",
      "(0.78, 0.8) score = 0.44638688131150445\n",
      "(0.8, 0.82) score = 0.44650641428093085\n",
      "(0.82, 0.84) score = 0.43436646035665927\n",
      "(0.84, 0.86) score = 0.42381231391944096\n",
      "(0.86, 0.88) score = 0.42465068072175116\n",
      "(0.88, 0.9) score = 0.4042856861930615\n",
      "(0.9, 0.92) score = 0.4013762289783428\n",
      "(0.92, 0.94) score = 0.4073092241563513\n",
      "(0.94, 0.96) score = 0.3955305464224205\n",
      "(0.96, 0.98) score = 0.38456610351081855\n",
      "(0.98, 1.0) score = 0.3882016254017454\n"
     ]
    }
   ],
   "source": [
    "test_extra_predictions(50, time_column, full_label, all_pred2)"
   ]
  },
  {
   "cell_type": "markdown",
   "metadata": {},
   "source": [
    "# Extra\n",
    "```\n",
    "(0.0, 0.05) score = 0.9068413383176274\n",
    "(0.05, 0.1) score = 0.8642086729272381\n",
    "(0.1, 0.15) score = 0.832215325762499\n",
    "(0.15, 0.2) score = 0.7990991923044337\n",
    "(0.2, 0.25) score = 0.7668029905200986\n",
    "(0.25, 0.3) score = 0.7428440859467602\n",
    "(0.3, 0.35) score = 0.6957277543619499\n",
    "(0.35, 0.4) score = 0.6467537742860442\n",
    "(0.4, 0.45) score = 0.6249159650710193\n",
    "(0.45, 0.5) score = 0.5791989380077769\n",
    "(0.5, 0.55) score = 0.5529901357400555\n",
    "(0.55, 0.6) score = 0.5416803966490643\n",
    "(0.6, 0.65) score = 0.5451087025830995\n",
    "(0.65, 0.7) score = 0.5643833437278583\n",
    "(0.7, 0.75) score = 0.5855574043833298\n",
    "(0.75, 0.8) score = 0.6112285179936406\n",
    "(0.8, 0.85) score = 0.6321717976410525\n",
    "(0.85, 0.9) score = 0.6551836531039608\n",
    "(0.9, 0.95) score = 0.6847527445853562\n",
    "(0.95, 1.0) score = 0.7052528039481596\n",
    "```\n",
    "#Regular\n",
    "```\n",
    "(0.0, 0.05) score = 0.9052449072601721\n",
    "(0.05, 0.1) score = 0.8641815054148507\n",
    "(0.1, 0.15) score = 0.833742432196764\n",
    "(0.15, 0.2) score = 0.8007202140173989\n",
    "(0.2, 0.25) score = 0.7668997411738151\n",
    "(0.25, 0.3) score = 0.7395679204824335\n",
    "(0.3, 0.35) score = 0.6899635303167122\n",
    "(0.35, 0.4) score = 0.6464169031826176\n",
    "(0.4, 0.45) score = 0.6282158943231748\n",
    "(0.45, 0.5) score = 0.583433465146161\n",
    "(0.5, 0.55) score = 0.5481882973058844\n",
    "(0.55, 0.6) score = 0.5316156558057219\n",
    "(0.6, 0.65) score = 0.50536070449434\n",
    "(0.65, 0.7) score = 0.4834392140249707\n",
    "(0.7, 0.75) score = 0.45083100015374866\n",
    "(0.75, 0.8) score = 0.42315518724857126\n",
    "(0.8, 0.85) score = 0.4040687431620582\n",
    "(0.85, 0.9) score = 0.38447350387423807\n",
    "(0.9, 0.95) score = 0.3606301935437613\n",
    "(0.95, 1.0) score = 0.33868745216225027\n",
    "```"
   ]
  },
  {
   "cell_type": "code",
   "execution_count": null,
   "metadata": {},
   "outputs": [],
   "source": []
  }
 ],
 "metadata": {
  "kernelspec": {
   "display_name": "Python 3",
   "language": "python",
   "name": "python3"
  },
  "language_info": {
   "codemirror_mode": {
    "name": "ipython",
    "version": 3
   },
   "file_extension": ".py",
   "mimetype": "text/x-python",
   "name": "python",
   "nbconvert_exporter": "python",
   "pygments_lexer": "ipython3",
   "version": "3.6.0"
  }
 },
 "nbformat": 4,
 "nbformat_minor": 2
}
