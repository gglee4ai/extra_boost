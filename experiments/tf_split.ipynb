{
 "cells": [
  {
   "cell_type": "code",
   "execution_count": 1,
   "metadata": {
    "collapsed": false,
    "deletable": true,
    "editable": true
   },
   "outputs": [
    {
     "name": "stderr",
     "output_type": "stream",
     "text": [
      "/usr/local/Cellar/python/3.6.4_3/Frameworks/Python.framework/Versions/3.6/lib/python3.6/importlib/_bootstrap.py:219: RuntimeWarning: numpy.dtype size changed, may indicate binary incompatibility. Expected 96, got 88\n",
      "  return f(*args, **kwds)\n",
      "/usr/local/Cellar/python/3.6.4_3/Frameworks/Python.framework/Versions/3.6/lib/python3.6/importlib/_bootstrap.py:219: RuntimeWarning: numpy.dtype size changed, may indicate binary incompatibility. Expected 96, got 88\n",
      "  return f(*args, **kwds)\n"
     ]
    }
   ],
   "source": [
    "import sys, os, io, json, numpy as np, random\n",
    "#from sklearn.metrics import roc_auc_score\n",
    "#import xgboost as xgb\n",
    "import tensorflow as tf\n",
    "import pandas as pd"
   ]
  },
  {
   "cell_type": "code",
   "execution_count": 2,
   "metadata": {
    "collapsed": true,
    "deletable": true,
    "editable": true
   },
   "outputs": [],
   "source": [
    "pool = np.load('../prepare_dataset/pool_00.npz')\n",
    "features_bool, f_time, label = (pool[name] for name in ['features', 'f_time', 'label'])"
   ]
  },
  {
   "cell_type": "code",
   "execution_count": 3,
   "metadata": {
    "collapsed": true
   },
   "outputs": [],
   "source": [
    "features = np.random.normal(loc=features_bool*1.0)"
   ]
  },
  {
   "cell_type": "code",
   "execution_count": 200,
   "metadata": {
    "collapsed": true,
    "deletable": true,
    "editable": true
   },
   "outputs": [],
   "source": [
    "def create_graph():\n",
    "    graph = tf.Graph()\n",
    "    with graph.as_default():\n",
    "        features = tf.placeholder(dtype=tf.float64)\n",
    "        label = tf.placeholder(dtype=tf.float64)\n",
    "        bias = tf.placeholder(dtype=tf.float64)\n",
    "        ax = tf.transpose(tf.nn.top_k(-tf.transpose(features), k = tf.shape(features)[-2]).indices)\n",
    "        y = tf.gather(label, ax)[:, :, 0]\n",
    "        b = tf.gather(bias, ax)[:, :, 0]\n",
    "        #T = tf.gather(features, ax, axis=0)\n",
    "        T = tf.contrib.framework.sort(features, axis=0)\n",
    "        l_curr = -(y * tf.log_sigmoid(b) + (1 - y) * tf.log_sigmoid(-b))\n",
    "        l_der1 = -y * tf.sigmoid(-b) + (1 - y) * tf.sigmoid(b)\n",
    "        l_der2 = tf.sigmoid(-b) * tf.sigmoid(b)\n",
    "        cum_l = tf.cumsum(l_curr)[:-1, :]  # -1\n",
    "        cum_l_der1 = tf.cumsum(l_der1)[:-1, :]  # -1\n",
    "        cum_l_der2 = tf.cumsum(l_der2)[:-1, :]  # -1\n",
    "        rev_cum_l = tf.cumsum(l_curr, reverse=True)[1:, :]  # -1\n",
    "        rev_cum_l_der1 = tf.cumsum(l_der1, reverse=True)[1:, :] # -1\n",
    "        rev_cum_l_der2 = tf.cumsum(l_der2, reverse=True)[1:, :] # -1\n",
    "        delta_up = -cum_l_der1 / cum_l_der2  # -1\n",
    "        delta_down = -rev_cum_l_der1 / rev_cum_l_der2 # -1\n",
    "        loss_up = cum_l + 0.5 * delta_up * cum_l_der1\n",
    "        loss_down = rev_cum_l + 0.5 * delta_down * rev_cum_l_der1\n",
    "        whole_loss = (loss_up + loss_down)/tf.to_double(tf.shape(features)[0])\n",
    "        #######\n",
    "        #-----#\n",
    "        #-----#   -->   iiiIiii (best_loss_argmin0), mmmMmmm (min_loss_axis0)\n",
    "        #-----#\n",
    "        #######\n",
    "        best_loss_argmin0 = tf.argmin(whole_loss, axis=0)\n",
    "        min_loss_axis0 = tf.reduce_min(whole_loss, axis=0)\n",
    "        # mmmMmmm  ->    I (best_loss_argmin1), M (best_loss)\n",
    "        best_loss_argmin1 = tf.argmin(min_loss_axis0, axis=0)\n",
    "        best_loss = tf.reduce_min(min_loss_axis0, axis=0)\n",
    "        # iiiIiii  ->  I\n",
    "        best_index = best_loss_argmin0[best_loss_argmin1]\n",
    "        thr = (T[best_index, best_loss_argmin1] + T[best_index+1, best_loss_argmin1])/2\n",
    "        \n",
    "    return {'graph': graph,\n",
    "            'features': features,\n",
    "            'bias': bias, \n",
    "            'label': label,\n",
    "            'l_curr': l_curr,\n",
    "            'l_der1': l_der1,\n",
    "            'l_der2': l_der2,\n",
    "            'cum_l_der1': cum_l_der1,\n",
    "            'cum_l_der2': cum_l_der2,\n",
    "            'rev_cum_l_der1': rev_cum_l_der1,\n",
    "            'rev_cum_l_der2': rev_cum_l_der2,\n",
    "            'delta_up': delta_up, \n",
    "            'delta_down': delta_down,\n",
    "            'cum_l': cum_l,\n",
    "            'rev_cum_l': rev_cum_l,\n",
    "            'whole_loss': whole_loss,\n",
    "            'best_loss_argmin0' : best_loss_argmin0,\n",
    "            'min_loss_axis0': min_loss_axis0,\n",
    "            'best_loss_argmin1': best_loss_argmin1,\n",
    "            'best_loss': best_loss,\n",
    "            'best_index': best_index,\n",
    "            'T': T,\n",
    "            'thr': thr,\n",
    "            'y': y\n",
    "           }"
   ]
  },
  {
   "cell_type": "code",
   "execution_count": 201,
   "metadata": {
    "collapsed": false,
    "deletable": true,
    "editable": true
   },
   "outputs": [],
   "source": [
    "ret = create_graph()\n",
    "graph, features_t, bias_t, label_t, y_t, T_t = (ret[t] for t in ['graph', 'features', 'bias', 'label', 'y', 'T'])\n",
    "with tf.Session(graph=graph) as s:\n",
    "    (y_v, T_v, l_curr_v, whole_loss_v, cum_l_v, rev_cum_l_v,\n",
    "       thr_v, bloss_v, bind_v, test_val, \n",
    "       test_val2) = s.run([y_t, T_t, \n",
    "                           ret['l_curr'], ret['whole_loss'], ret['cum_l'], ret['rev_cum_l'],\n",
    "                           ret['thr'], ret['best_loss'], ret['best_index'],\n",
    "                           ret['best_loss_argmin0'], ret['min_loss_axis0']], \n",
    "                          {features_t:features, label_t:label,\n",
    "                           bias_t: np.zeros(label.shape)})"
   ]
  },
  {
   "cell_type": "code",
   "execution_count": 202,
   "metadata": {
    "collapsed": false
   },
   "outputs": [
    {
     "data": {
      "text/plain": [
       "((15,), (15,), (300000, 15), (300000, 15), (299999, 15))"
      ]
     },
     "execution_count": 202,
     "metadata": {},
     "output_type": "execute_result"
    }
   ],
   "source": [
    "test_val.shape, test_val2.shape, T_v.shape, l_curr_v.shape, whole_loss_v.shape"
   ]
  },
  {
   "cell_type": "code",
   "execution_count": 203,
   "metadata": {
    "collapsed": false
   },
   "outputs": [
    {
     "data": {
      "text/plain": [
       "(0.9465502307970464, 0.612421807341928, 225316, 0.6931471805599453)"
      ]
     },
     "execution_count": 203,
     "metadata": {},
     "output_type": "execute_result"
    }
   ],
   "source": [
    "thr_v, bloss_v, bind_v, np.log(2)"
   ]
  },
  {
   "cell_type": "code",
   "execution_count": 199,
   "metadata": {
    "collapsed": false
   },
   "outputs": [
    {
     "data": {
      "text/plain": [
       "(array([225316, 188140, 293300, 279952, 244641, 256204,  97004, 162696,\n",
       "        220095, 261495, 245996, 232931, 295490, 289861, 214622]),\n",
       " array([0.61242181, 0.61245149, 0.61245253, 0.61246121, 0.61245301,\n",
       "        0.61246654, 0.6124539 , 0.61247206, 0.61245837, 0.61246974,\n",
       "        0.61245133, 0.61246619, 0.61245465, 0.61246749, 0.61245388]))"
      ]
     },
     "execution_count": 199,
     "metadata": {},
     "output_type": "execute_result"
    }
   ],
   "source": [
    "test_val, test_val2"
   ]
  },
  {
   "cell_type": "code",
   "execution_count": 176,
   "metadata": {
    "collapsed": false
   },
   "outputs": [],
   "source": [
    "#T_v[150000:150010,:3]"
   ]
  },
  {
   "cell_type": "code",
   "execution_count": 178,
   "metadata": {
    "collapsed": false
   },
   "outputs": [],
   "source": [
    "#cum_l_v[9999:10001,:5]"
   ]
  },
  {
   "cell_type": "code",
   "execution_count": null,
   "metadata": {
    "collapsed": true
   },
   "outputs": [],
   "source": []
  },
  {
   "cell_type": "code",
   "execution_count": 160,
   "metadata": {
    "collapsed": false
   },
   "outputs": [
    {
     "data": {
      "text/plain": [
       "array([[0.69149053, 0.69149053, 0.69149053, 0.69149053, 0.69149053],\n",
       "       [0.69149053, 0.69149053, 0.69149053, 0.69149053, 0.69149053],\n",
       "       [0.69149053, 0.69149053, 0.69149053, 0.69149053, 0.69149053],\n",
       "       [0.6914905 , 0.6914905 , 0.6914905 , 0.6914905 , 0.6914905 ],\n",
       "       [0.6914905 , 0.6914905 , 0.6914905 , 0.6914905 , 0.6914905 ],\n",
       "       [0.6914904 , 0.6914904 , 0.6914904 , 0.6914904 , 0.6914904 ],\n",
       "       [0.6914904 , 0.6914904 , 0.6914904 , 0.6914904 , 0.6914904 ],\n",
       "       [0.6914904 , 0.6914904 , 0.6914904 , 0.6914904 , 0.6914904 ],\n",
       "       [0.69149035, 0.69149035, 0.69149035, 0.69149035, 0.69149035],\n",
       "       [0.69149035, 0.69149035, 0.69149035, 0.69149035, 0.69149035],\n",
       "       [0.69149035, 0.69149035, 0.69149035, 0.69149035, 0.69149035],\n",
       "       [0.6914903 , 0.6914903 , 0.6914903 , 0.6914903 , 0.6914903 ],\n",
       "       [0.6914903 , 0.6914903 , 0.6914903 , 0.6914903 , 0.6914903 ],\n",
       "       [0.6914903 , 0.6914903 , 0.6914903 , 0.6914903 , 0.6914903 ],\n",
       "       [0.69149023, 0.69149023, 0.69149023, 0.69149023, 0.69149023],\n",
       "       [0.69149023, 0.69149023, 0.69149023, 0.69149023, 0.69149023],\n",
       "       [0.69149023, 0.69149023, 0.69149023, 0.69149023, 0.69149023],\n",
       "       [0.69149023, 0.69149023, 0.69149023, 0.69149023, 0.69149023],\n",
       "       [0.69149023, 0.69149023, 0.69149023, 0.69149023, 0.69149023],\n",
       "       [0.6914902 , 0.6914902 , 0.6914902 , 0.6914902 , 0.6914902 ]],\n",
       "      dtype=float32)"
      ]
     },
     "execution_count": 160,
     "metadata": {},
     "output_type": "execute_result"
    }
   ],
   "source": [
    "#l_curr_v[:20,:5]\n",
    "whole_loss_v[-20:,:5]"
   ]
  },
  {
   "cell_type": "code",
   "execution_count": 10,
   "metadata": {
    "collapsed": false
   },
   "outputs": [
    {
     "data": {
      "text/plain": [
       "array([[0., 0., 0., 0., 1., 0., 0., 0., 0., 0.],\n",
       "       [0., 0., 0., 0., 0., 1., 0., 0., 1., 1.],\n",
       "       [0., 0., 0., 0., 1., 1., 0., 1., 1., 0.],\n",
       "       [0., 0., 0., 0., 0., 0., 0., 0., 0., 0.],\n",
       "       [0., 0., 0., 1., 0., 0., 0., 0., 0., 0.],\n",
       "       [0., 0., 0., 0., 0., 1., 1., 0., 0., 1.],\n",
       "       [0., 0., 1., 0., 0., 1., 0., 0., 0., 0.],\n",
       "       [0., 0., 0., 0., 0., 0., 0., 0., 0., 0.],\n",
       "       [0., 0., 0., 0., 0., 1., 0., 0., 0., 0.],\n",
       "       [0., 0., 0., 0., 0., 0., 0., 0., 0., 1.]], dtype=float32)"
      ]
     },
     "execution_count": 10,
     "metadata": {},
     "output_type": "execute_result"
    }
   ],
   "source": [
    "y_v[:10, :10]"
   ]
  },
  {
   "cell_type": "code",
   "execution_count": null,
   "metadata": {
    "collapsed": false
   },
   "outputs": [],
   "source": [
    "for p in range(10000):\n",
    "    for q in range(10):\n",
    "        if label[axv[p, q]] != y_sub_v[p, q]:\n",
    "            print('fail!!', p, q)\n",
    "            break"
   ]
  },
  {
   "cell_type": "code",
   "execution_count": null,
   "metadata": {
    "collapsed": false,
    "deletable": true,
    "editable": true
   },
   "outputs": [],
   "source": [
    "axv.shape"
   ]
  },
  {
   "cell_type": "code",
   "execution_count": null,
   "metadata": {
    "collapsed": false,
    "deletable": true,
    "editable": true
   },
   "outputs": [],
   "source": [
    "axv[:3, :3]"
   ]
  },
  {
   "cell_type": "code",
   "execution_count": null,
   "metadata": {
    "collapsed": false
   },
   "outputs": [],
   "source": [
    "label[139807]"
   ]
  },
  {
   "cell_type": "code",
   "execution_count": null,
   "metadata": {
    "collapsed": false,
    "deletable": true,
    "editable": true
   },
   "outputs": [],
   "source": [
    "features[:5, :5]"
   ]
  },
  {
   "cell_type": "code",
   "execution_count": null,
   "metadata": {
    "collapsed": true,
    "deletable": true,
    "editable": true
   },
   "outputs": [],
   "source": []
  }
 ],
 "metadata": {
  "kernelspec": {
   "display_name": "Python 3",
   "language": "python",
   "name": "python3"
  },
  "language_info": {
   "codemirror_mode": {
    "name": "ipython",
    "version": 3
   },
   "file_extension": ".py",
   "mimetype": "text/x-python",
   "name": "python",
   "nbconvert_exporter": "python",
   "pygments_lexer": "ipython3",
   "version": "3.6.4"
  }
 },
 "nbformat": 4,
 "nbformat_minor": 2
}
