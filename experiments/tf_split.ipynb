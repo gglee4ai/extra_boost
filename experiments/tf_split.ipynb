{
 "cells": [
  {
   "cell_type": "code",
   "execution_count": 1,
   "metadata": {
    "collapsed": false,
    "deletable": true,
    "editable": true
   },
   "outputs": [
    {
     "name": "stderr",
     "output_type": "stream",
     "text": [
      "/home/zomb-vision/envs/env35/lib/python3.5/importlib/_bootstrap.py:222: RuntimeWarning: numpy.dtype size changed, may indicate binary incompatibility. Expected 96, got 88\n",
      "  return f(*args, **kwds)\n",
      "/home/zomb-vision/envs/env35/lib/python3.5/importlib/_bootstrap.py:222: RuntimeWarning: numpy.dtype size changed, may indicate binary incompatibility. Expected 96, got 88\n",
      "  return f(*args, **kwds)\n",
      "/home/zomb-vision/envs/env35/lib/python3.5/importlib/_bootstrap.py:222: RuntimeWarning: numpy.dtype size changed, may indicate binary incompatibility. Expected 96, got 88\n",
      "  return f(*args, **kwds)\n",
      "/home/zomb-vision/envs/env35/lib/python3.5/importlib/_bootstrap.py:222: RuntimeWarning: numpy.dtype size changed, may indicate binary incompatibility. Expected 96, got 88\n",
      "  return f(*args, **kwds)\n"
     ]
    }
   ],
   "source": [
    "import sys, os, io, json, numpy as np, random, time\n",
    "#from sklearn.metrics import roc_auc_score\n",
    "from importlib import reload\n",
    "import forest\n",
    "reload(forest)\n",
    "from forest import build_tree, EMatrix\n",
    "import xgboost as xgb\n",
    "import tensorflow as tf\n",
    "import split\n",
    "reload(split)\n",
    "from split import SplitMaker\n",
    "#from split import make_split_quick, make_gax, split_quick_graph, split_quick_graph_transpose\n",
    "import graphviz\n",
    "from sklearn import metrics"
   ]
  },
  {
   "cell_type": "code",
   "execution_count": 2,
   "metadata": {},
   "outputs": [],
   "source": [
    "split_maker_old = SplitMaker.make_split_old()"
   ]
  },
  {
   "cell_type": "code",
   "execution_count": 3,
   "metadata": {
    "collapsed": true,
    "deletable": true,
    "editable": true
   },
   "outputs": [],
   "source": [
    "pool = np.load('../prepare_dataset/pool_00.npz')\n",
    "features_bool, f_time, label_orig = (pool[name] for name in ['features', 'f_time', 'label'])\n",
    "label = label_orig"
   ]
  },
  {
   "cell_type": "code",
   "execution_count": 4,
   "metadata": {
    "deletable": true,
    "editable": true
   },
   "outputs": [],
   "source": [
    "np.random.seed(42)\n",
    "features_orig = np.random.normal(loc=features_bool*1.0, scale=0.01)\n",
    "#features = features[:150000,:]; label = label_orig[:150000, :]\n",
    "\n",
    "f_test, l_test = features_orig[150000:,:], label_orig[150000:, :]\n",
    "features = features_orig[:150000,:]; label = label_orig[:150000, :]"
   ]
  },
  {
   "cell_type": "markdown",
   "metadata": {
    "deletable": true,
    "editable": true
   },
   "source": [
    "### Тестирование инвариантности сплита относительно замены местами столбцов фичей\n",
    "\n",
    "```\n",
    "features_swap = np.concatenate([features[:,7:8], features[:,1:7], features[:,0:1], features[:,8:]], axis=1)\n",
    "\n",
    "%%time\n",
    "split_maker_old.split(np.zeros(label.shape), features, label)\n",
    "#make_split(np.zeros(label.shape), features, label)\n",
    "\n",
    "%%time\n",
    "split_maker_old.split(np.zeros(label.shape), features_swap, label)\n",
    "#make_split(np.zeros(label.shape), features_swap, label)\n",
    "```"
   ]
  },
  {
   "cell_type": "code",
   "execution_count": 5,
   "metadata": {
    "collapsed": false
   },
   "outputs": [
    {
     "data": {
      "text/plain": [
       "((150000, 15), (150000, 1))"
      ]
     },
     "execution_count": 5,
     "metadata": {},
     "output_type": "execute_result"
    }
   ],
   "source": [
    "features.shape, label.shape"
   ]
  },
  {
   "cell_type": "code",
   "execution_count": 6,
   "metadata": {},
   "outputs": [],
   "source": [
    "global_ax = split_maker_old.make_gax(features)\n",
    "featuresT = features.T\n",
    "global_axT = global_ax.T"
   ]
  },
  {
   "cell_type": "code",
   "execution_count": 7,
   "metadata": {},
   "outputs": [],
   "source": [
    "split_maker = SplitMaker.make_split_new(reduce_axis=0, make_transpose=True)"
   ]
  },
  {
   "cell_type": "code",
   "execution_count": 8,
   "metadata": {
    "collapsed": false
   },
   "outputs": [
    {
     "name": "stderr",
     "output_type": "stream",
     "text": [
      "1  2  3  4  5  5  4  5  5  3  4  5  5  4  5  5  2  3  4  5  5  4  5  5  3  4  5  5  4  5  5  1  2  3  4  5  5  4  5  5  3  4  5  5  4  5  5  2  3  4  5  5  4  5  5  3  4  5  5  "
     ]
    },
    {
     "name": "stdout",
     "output_type": "stream",
     "text": [
      "CPU times: user 6.1 s, sys: 767 ms, total: 6.87 s\n",
      "Wall time: 2.65 s\n"
     ]
    },
    {
     "name": "stderr",
     "output_type": "stream",
     "text": [
      "4  5  5  \n",
      "split time = 6.68141, 0.15034, [0.74578, 0.26127, 0.11609, 0.07518, 0.04386, 0.02882, 0.02510, 0.02332, 0.01409, 0.02134, 0.02107, 0.01790, 0.03173, 0.02593, 0.02334, 0.01523, 0.01516, 0.01473, 0.01690, 0.04815, 0.04293, 0.02718, 0.01850, 0.01871, 0.02516, 0.02690, 0.01610, 0.02435, 0.02278, 0.01780, 0.01661, 0.01464, 0.01586, 0.01559, 0.07766, 0.06642, 0.03862, 0.02450, 0.01900, 0.02540, 0.02733, 0.02214, 0.02076, 0.04288, 0.03797, 0.02200, 0.02254, 0.01985, 0.01937, 0.01763, 0.02165, 0.02125, 0.02140, 0.01916, 0.01793, 0.01758, 0.01610, 0.01481, 0.01821, 0.01619, 0.01735, 0.01592, 0.01511, 0.01451, 0.01662, 0.15070, 0.11303, 0.09724, 0.05324, 0.03257, 0.02758, 0.02582, 0.03371, 0.02735, 0.01980, 0.06210, 0.04888, 0.03140, 0.03379, 0.02434, 0.01932, 0.01739, 0.02570, 0.02593, 0.02266, 0.01827, 0.01874, 0.01635, 0.01650, 0.01563, 0.01790, 0.01741, 0.01600, 0.01821, 0.01806, 0.01614, 0.01477, 0.04077, 0.03746, 0.03737, 0.03112, 0.03186, 0.01858, 0.01851, 0.01594, 0.01887, 0.01962, 0.02263, 0.01757, 0.01809, 0.01464, 0.01329, 0.01342, 0.02106, 0.01918, 0.01889, 0.01686, 0.01626, 0.01560, 0.01397, 0.01568, 0.01551, 0.01436, 0.01509, 0.01530, 0.01487, 0.08301, 0.05054, 0.03108, 0.03087, 0.02742, 0.02479, 0.01969, 0.02021, 0.01897, 0.01676, 0.02181, 0.01886, 0.01701, 0.01732, 0.02384, 0.01961, 0.01682, 0.01739, 0.01513, 0.01924, 0.02261, 0.01696, 0.01525, 0.01529, 0.02048, 0.01907, 0.02040, 0.03241, 0.02864, 0.02430, 0.01746, 0.01431, 0.01479, 0.02786, 0.01553, 0.02372, 0.02136, 0.02210, 0.01647, 0.01906, 0.01895, 0.01660, 0.01727, 0.01646, 0.01550, 0.01412, 0.01459, 0.01435, 0.01611, 0.01531, 0.01563, 0.01538, 0.01646, 0.01658, 0.05551, 0.03417, 0.02459, 0.01879, 0.02184, 0.01493, 0.02094, 0.01491, 0.01327, 0.01554, 0.01784, 0.01529, 0.01535, 0.01533, 0.01884, 0.02024, 0.01699, 0.02925, 0.01658, 0.01546, 0.01628, 0.01711, 0.01745, 0.01592, 0.01728, 0.02697, 0.02094, 0.01716, 0.01865, 0.02015, 0.01472, 0.01960, 0.03167, 0.02462, 0.02412, 0.01919, 0.01740, 0.01469, 0.02265, 0.01499, 0.01702, 0.01559, 0.01424, 0.01461, 0.01642, 0.01490, 0.01636, 0.01422, 0.02535, 0.02155, 0.01841, 0.01728, 0.01784, 0.01643, 0.01539, 0.01409, 0.02069, 0.01769, 0.01743, 0.01716, 0.01806, 0.01729, 0.01958]\n"
     ]
    }
   ],
   "source": [
    "%%time\n",
    "start_params = {'max_depth': 8, 'learning_rate':0.3, 'transposed_feature1111': 1, 'unbalanced_penalty':0.001}\n",
    "tf.constant\n",
    "forest.time1 = forest.time2 =0\n",
    "forest.time3 = []\n",
    "with tf.Session(graph=split_maker.graph) as s:\n",
    "    tree = build_tree(start_params, EMatrix(featuresT if split_maker.reduce_axis==1 else features, \n",
    "                                            label, np.zeros(label.shape), \n",
    "                                            gax=global_axT if split_maker.reduce_axis==1 else global_ax, \n",
    "                                            splitgax=True), split_maker=split_maker, sess=s)\n",
    "print(\"\\nsplit time = {:.5f}, {:.5f}, [{}]\".format(forest.time1, forest.time2, \", \".join(\"{:.5f}\".format(tt) for tt in forest.time3)), file=sys.stderr)\n",
    "tree_arrays = forest.init_arrays(tree, forest.init_id(tree))"
   ]
  },
  {
   "cell_type": "code",
   "execution_count": 9,
   "metadata": {},
   "outputs": [],
   "source": [
    "import pstats\n",
    "p = pstats.Stats('build_tree.prof')\n",
    "#p.sort_stats('tottime').print_stats()"
   ]
  },
  {
   "cell_type": "code",
   "execution_count": 10,
   "metadata": {},
   "outputs": [
    {
     "data": {
      "text/plain": [
       "(0.564954307935, 0.5019091667880746, 0.5)"
      ]
     },
     "execution_count": 10,
     "metadata": {},
     "output_type": "execute_result"
    }
   ],
   "source": [
    "pred = forest.tree_apply(tree_arrays, features)\n",
    "pred_test = forest.tree_apply(tree_arrays, f_test)\n",
    "auc1l = metrics.roc_auc_score(label[:, 0], pred)\n",
    "auc1t = metrics.roc_auc_score(label[:, 0], pred_test)\n",
    "auc0 = metrics.roc_auc_score(label[:, 0], np.zeros(label.shape[0]))\n",
    "auc1l, auc1t, auc0"
   ]
  },
  {
   "cell_type": "code",
   "execution_count": 11,
   "metadata": {
    "collapsed": false,
    "deletable": true,
    "editable": true
   },
   "outputs": [
    {
     "data": {
      "text/plain": [
       "<forest.TreeNode at 0x7fe20800aa20>"
      ]
     },
     "execution_count": 11,
     "metadata": {},
     "output_type": "execute_result"
    }
   ],
   "source": [
    "#tree.left.left.left.left.val, tree.val\n",
    "tree.left.left"
   ]
  },
  {
   "cell_type": "code",
   "execution_count": 12,
   "metadata": {
    "collapsed": false,
    "deletable": true,
    "editable": true
   },
   "outputs": [],
   "source": [
    "#forest.tree2gv(tree)"
   ]
  },
  {
   "cell_type": "code",
   "execution_count": null,
   "metadata": {
    "collapsed": false
   },
   "outputs": [],
   "source": []
  },
  {
   "cell_type": "code",
   "execution_count": 13,
   "metadata": {
    "collapsed": false
   },
   "outputs": [
    {
     "name": "stderr",
     "output_type": "stream",
     "text": [
      "\n",
      "0 round\n",
      "1  2  3  4  4  3  4  4  2  3  4  4  3  4  4  1  2  3  4  4  3  4  4  2  3  4  4  3  4  4  \n",
      "1 round\n",
      "1  2  3  4  4  3  4  4  2  3  4  4  3  4  4  1  2  3  4  4  3  4  4  2  3  4  4  3  4  4  \n",
      "2 round\n",
      "1  2  3  4  4  3  4  4  2  3  4  4  3  4  4  1  2  3  4  4  3  4  4  2  3  4  4  3  4  4  \n",
      "3 round\n",
      "1  2  3  4  4  3  4  4  2  3  4  4  3  4  4  1  2  3  4  4  3  4  4  2  3  4  4  3  4  4  \n",
      "4 round\n",
      "1  2  3  4  4  3  4  4  2  3  4  4  3  4  4  1  2  3  4  4  3  4  4  2  3  4  4  3  4  4  \n",
      "5 round\n",
      "1  2  3  4  4  3  4  4  2  3  4  4  3  4  4  1  2  3  4  4  3  4  4  2  3  4  4  3  4  4  \n",
      "6 round\n",
      "1  2  3  4  4  3  4  4  2  3  4  4  3  4  4  1  2  3  4  4  3  4  4  2  3  4  4  3  4  4  \n",
      "7 round\n",
      "1  2  3  4  4  3  4  4  2  3  4  4  3  4  4  1  2  3  4  4  3  4  4  2  3  4  4  3  4  4  \n",
      "8 round\n",
      "1  2  3  4  4  3  4  4  2  3  4  4  3  4  4  1  2  3  4  4  3  4  4  2  3  4  4  3  4  4  \n",
      "9 round\n",
      "1  2  3  4  4  3  4  4  2  3  4  4  3  4  4  1  2  3  4  4  3  4  4  2  3  4  4  3  4  4  "
     ]
    },
    {
     "name": "stdout",
     "output_type": "stream",
     "text": [
      "CPU times: user 16.8 s, sys: 1.41 s, total: 18.2 s\n",
      "Wall time: 7.4 s\n"
     ]
    }
   ],
   "source": [
    "%%time\n",
    "boost_params = {'max_depth': 4, 'learning_rate':0.3, 'splitgax': True, 'transposed_feature': 0, 'unbalanced_penalty':0.001}\n",
    "booster = forest.train(boost_params, EMatrix(featuresT if boost_params['transposed_feature'] else features, label), num_boost_round=10)"
   ]
  },
  {
   "cell_type": "code",
   "execution_count": 14,
   "metadata": {},
   "outputs": [],
   "source": [
    "####################################################"
   ]
  },
  {
   "cell_type": "code",
   "execution_count": 15,
   "metadata": {},
   "outputs": [],
   "source": [
    "#%%time\n",
    "#gax13 = make_gax(features)\n",
    "#print(gax13.shape)"
   ]
  },
  {
   "cell_type": "code",
   "execution_count": 16,
   "metadata": {
    "collapsed": false
   },
   "outputs": [
    {
     "data": {
      "text/plain": [
       "(0.5605287476686079, 0.5402890562386409)"
      ]
     },
     "execution_count": 16,
     "metadata": {},
     "output_type": "execute_result"
    }
   ],
   "source": [
    "pred2 = booster.predict(features)\n",
    "pred2b = booster.predict(features, tree_limit=10)\n",
    "pred_test = booster.predict(f_test)\n",
    "main_auc_l = metrics.roc_auc_score(label[:, 0], pred2)\n",
    "main_auc_t = metrics.roc_auc_score(l_test[:, 0], pred_test)\n",
    "main_auc_l, main_auc_t"
   ]
  },
  {
   "cell_type": "code",
   "execution_count": 17,
   "metadata": {},
   "outputs": [
    {
     "data": {
      "text/plain": [
       "(0.5783850422568331, 0.547297544877569)"
      ]
     },
     "execution_count": 17,
     "metadata": {},
     "output_type": "execute_result"
    }
   ],
   "source": [
    "0.5783850422568331,0.547297544877569"
   ]
  },
  {
   "cell_type": "code",
   "execution_count": 18,
   "metadata": {},
   "outputs": [],
   "source": [
    "#np.min(pred2b), np.max(pred2b)"
   ]
  },
  {
   "cell_type": "code",
   "execution_count": 19,
   "metadata": {
    "collapsed": true
   },
   "outputs": [
    {
     "ename": "NameError",
     "evalue": "name 'tree2gv' is not defined",
     "output_type": "error",
     "traceback": [
      "\u001b[0;31m---------------------------------------------------------------------------\u001b[0m",
      "\u001b[0;31mNameError\u001b[0m                                 Traceback (most recent call last)",
      "\u001b[0;32m<ipython-input-19-999c0bfb0260>\u001b[0m in \u001b[0;36m<module>\u001b[0;34m()\u001b[0m\n\u001b[0;32m----> 1\u001b[0;31m \u001b[0mtree2gv\u001b[0m\u001b[0;34m(\u001b[0m\u001b[0mbooster\u001b[0m\u001b[0;34m.\u001b[0m\u001b[0mforest\u001b[0m\u001b[0;34m[\u001b[0m\u001b[0;36m45\u001b[0m\u001b[0;34m]\u001b[0m\u001b[0;34m[\u001b[0m\u001b[0;36m0\u001b[0m\u001b[0;34m]\u001b[0m\u001b[0;34m)\u001b[0m\u001b[0;34m\u001b[0m\u001b[0m\n\u001b[0m",
      "\u001b[0;31mNameError\u001b[0m: name 'tree2gv' is not defined"
     ]
    }
   ],
   "source": [
    "tree2gv(booster.forest[45][0])"
   ]
  },
  {
   "cell_type": "code",
   "execution_count": 20,
   "metadata": {},
   "outputs": [],
   "source": [
    "dmat = xgb.DMatrix(features, label)"
   ]
  },
  {
   "cell_type": "code",
   "execution_count": 22,
   "metadata": {},
   "outputs": [
    {
     "name": "stdout",
     "output_type": "stream",
     "text": [
      "[23:00:48] /workspace/src/tree/updater_prune.cc:74: tree pruning end, 1 roots, 28 extra nodes, 0 pruned nodes, max_depth=4\n",
      "[23:00:48] /workspace/src/tree/updater_prune.cc:74: tree pruning end, 1 roots, 30 extra nodes, 0 pruned nodes, max_depth=4\n",
      "[23:00:48] /workspace/src/tree/updater_prune.cc:74: tree pruning end, 1 roots, 30 extra nodes, 0 pruned nodes, max_depth=4\n",
      "[23:00:48] /workspace/src/tree/updater_prune.cc:74: tree pruning end, 1 roots, 30 extra nodes, 0 pruned nodes, max_depth=4\n",
      "[23:00:48] /workspace/src/tree/updater_prune.cc:74: tree pruning end, 1 roots, 30 extra nodes, 0 pruned nodes, max_depth=4\n",
      "[23:00:48] /workspace/src/tree/updater_prune.cc:74: tree pruning end, 1 roots, 30 extra nodes, 0 pruned nodes, max_depth=4\n",
      "[23:00:48] /workspace/src/tree/updater_prune.cc:74: tree pruning end, 1 roots, 30 extra nodes, 0 pruned nodes, max_depth=4\n",
      "[23:00:48] /workspace/src/tree/updater_prune.cc:74: tree pruning end, 1 roots, 30 extra nodes, 0 pruned nodes, max_depth=4\n",
      "[23:00:48] /workspace/src/tree/updater_prune.cc:74: tree pruning end, 1 roots, 30 extra nodes, 0 pruned nodes, max_depth=4\n",
      "[23:00:48] /workspace/src/tree/updater_prune.cc:74: tree pruning end, 1 roots, 30 extra nodes, 0 pruned nodes, max_depth=4\n",
      "CPU times: user 4.31 s, sys: 14.5 ms, total: 4.33 s\n",
      "Wall time: 435 ms\n"
     ]
    }
   ],
   "source": [
    "%%time\n",
    "params = {'max_depth': 4, 'objective': 'binary:logistic', 'eta': 0.3, 'tree_method': 'exact', 'lambda': 1}\n",
    "model = xgb.train(params, dmat, num_boost_round=10)"
   ]
  },
  {
   "cell_type": "code",
   "execution_count": 23,
   "metadata": {},
   "outputs": [],
   "source": [
    "dmat_test = xgb.DMatrix(f_test, l_test)"
   ]
  },
  {
   "cell_type": "code",
   "execution_count": 24,
   "metadata": {},
   "outputs": [
    {
     "data": {
      "text/plain": [
       "(0.564382620107551, 0.5476151803114241)"
      ]
     },
     "execution_count": 24,
     "metadata": {},
     "output_type": "execute_result"
    }
   ],
   "source": [
    "pred_fast = model.predict(dmat)\n",
    "pred_test = model.predict(dmat_test)\n",
    "\n",
    "metrics.roc_auc_score(label[:, 0], pred_fast), metrics.roc_auc_score(l_test[:, 0], pred_test)"
   ]
  },
  {
   "cell_type": "code",
   "execution_count": null,
   "metadata": {},
   "outputs": [],
   "source": [
    "pred_fast = model.predict(dmat, ntree_limit=35)\n",
    "metrics.roc_auc_score(label[:, 0], pred_fast)"
   ]
  },
  {
   "cell_type": "code",
   "execution_count": null,
   "metadata": {},
   "outputs": [],
   "source": [
    "pred2b = booster.predict(features, tree_limit=15)\n",
    "metrics.roc_auc_score(label[:, 0], pred2b)"
   ]
  },
  {
   "cell_type": "code",
   "execution_count": null,
   "metadata": {},
   "outputs": [],
   "source": [
    "0.5987831226886691, 0.5457320402572653"
   ]
  },
  {
   "cell_type": "code",
   "execution_count": null,
   "metadata": {},
   "outputs": [],
   "source": [
    "qq = -np.log(1/pred_fast-1) \n",
    "np.min(qq), np.max(qq)"
   ]
  },
  {
   "cell_type": "code",
   "execution_count": null,
   "metadata": {},
   "outputs": [],
   "source": [
    "diff = np.abs(qq - pred2b)\n",
    "np.mean(diff > 0.1)"
   ]
  },
  {
   "cell_type": "code",
   "execution_count": null,
   "metadata": {},
   "outputs": [],
   "source": [
    "model.dump_model('xgb.dump')"
   ]
  },
  {
   "cell_type": "code",
   "execution_count": null,
   "metadata": {},
   "outputs": [],
   "source": [
    "tree2gv(booster.forest[1][0])"
   ]
  },
  {
   "cell_type": "code",
   "execution_count": null,
   "metadata": {},
   "outputs": [],
   "source": [
    "!cat xgb.dump | tail -n+$(echo 39*31+31 | bc) | head -n 100"
   ]
  },
  {
   "cell_type": "code",
   "execution_count": null,
   "metadata": {},
   "outputs": [],
   "source": []
  },
  {
   "cell_type": "code",
   "execution_count": null,
   "metadata": {},
   "outputs": [],
   "source": []
  }
 ],
 "metadata": {
  "kernelspec": {
   "display_name": "Python 3",
   "language": "python",
   "name": "python3"
  },
  "language_info": {
   "codemirror_mode": {
    "name": "ipython",
    "version": 3
   },
   "file_extension": ".py",
   "mimetype": "text/x-python",
   "name": "python",
   "nbconvert_exporter": "python",
   "pygments_lexer": "ipython3",
   "version": "3.5.2"
  }
 },
 "nbformat": 4,
 "nbformat_minor": 2
}
