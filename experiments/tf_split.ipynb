{
 "cells": [
  {
   "cell_type": "code",
   "execution_count": 387,
   "metadata": {
    "collapsed": false,
    "deletable": true,
    "editable": true
   },
   "outputs": [
    {
     "name": "stdout",
     "output_type": "stream",
     "text": [
      "strided_slice_40:0 strided_slice_39:0 strided_slice_38:0 strided_slice_33:0\n",
      "strided_slice_40:0 strided_slice_39:0 strided_slice_38:0 strided_slice_33:0\n"
     ]
    }
   ],
   "source": [
    "import sys, os, io, json, numpy as np, random, time\n",
    "#from sklearn.metrics import roc_auc_score\n",
    "import xgboost as xgb\n",
    "import tensorflow as tf\n",
    "from importlib import reload\n",
    "import split\n",
    "reload(split)\n",
    "from split import split_graph, split_interface, make_split, make_split_quick, make_gax, split_quick_graph\n",
    "import graphviz\n",
    "from sklearn import metrics\n",
    "import cProfile\n",
    "\n",
    "\n",
    "def profile(func):\n",
    "    \"\"\"Decorator for run function profile\"\"\"\n",
    "    def wrapper(*args, **kwargs):\n",
    "        profile_filename = func.__name__ + '.prof'\n",
    "        profiler = cProfile.Profile()\n",
    "        result = profiler.runcall(func, *args, **kwargs)\n",
    "        profiler.dump_stats(profile_filename)\n",
    "        return result\n",
    "    return wrapper"
   ]
  },
  {
   "cell_type": "code",
   "execution_count": 388,
   "metadata": {
    "collapsed": true,
    "deletable": true,
    "editable": true
   },
   "outputs": [],
   "source": [
    "pool = np.load('../prepare_dataset/pool_00.npz')\n",
    "features_bool, f_time, label = (pool[name] for name in ['features', 'f_time', 'label'])"
   ]
  },
  {
   "cell_type": "code",
   "execution_count": 389,
   "metadata": {
    "collapsed": false,
    "deletable": true,
    "editable": true
   },
   "outputs": [],
   "source": [
    "np.random.seed(42)\n",
    "features = np.random.normal(loc=features_bool*1.0, scale=1.0)\n",
    "#features = features[:299999,:]; label = label[:299999, :]\n",
    "features_swap = np.concatenate([features[:,7:8], features[:,1:7], features[:,0:1], features[:,8:]], axis=1)"
   ]
  },
  {
   "cell_type": "code",
   "execution_count": 390,
   "metadata": {
    "collapsed": false,
    "deletable": true,
    "editable": true
   },
   "outputs": [
    {
     "name": "stdout",
     "output_type": "stream",
     "text": [
      "CPU times: user 116 ms, sys: 55.9 ms, total: 172 ms\n",
      "Wall time: 234 ms\n"
     ]
    },
    {
     "data": {
      "text/plain": [
       "{'avg_current_loss': array([0.69314718]),\n",
       " 'best_avg_loss': 0.6124402703897527,\n",
       " 'best_delta_down': -0.8534899433501377,\n",
       " 'best_delta_up': -0.7958979221951163,\n",
       " 'best_feature_index': 11,\n",
       " 'best_index': 261521,\n",
       " 'best_loss': 183732.0811169258,\n",
       " 'current_loss': array([207944.15416798]),\n",
       " 'thr': 1.3039966661872284}"
      ]
     },
     "execution_count": 390,
     "metadata": {},
     "output_type": "execute_result"
    }
   ],
   "source": [
    "%%time\n",
    "make_split(np.zeros(label.shape), features, label)"
   ]
  },
  {
   "cell_type": "code",
   "execution_count": 391,
   "metadata": {
    "collapsed": false,
    "deletable": true,
    "editable": true
   },
   "outputs": [
    {
     "name": "stdout",
     "output_type": "stream",
     "text": [
      "CPU times: user 120 ms, sys: 35.6 ms, total: 156 ms\n",
      "Wall time: 233 ms\n"
     ]
    },
    {
     "data": {
      "text/plain": [
       "{'avg_current_loss': array([0.69314718]),\n",
       " 'best_avg_loss': 0.6124402703897527,\n",
       " 'best_delta_down': -0.8534899433501377,\n",
       " 'best_delta_up': -0.7958979221951163,\n",
       " 'best_feature_index': 11,\n",
       " 'best_index': 261521,\n",
       " 'best_loss': 183732.0811169258,\n",
       " 'current_loss': array([207944.15416798]),\n",
       " 'thr': 1.3039966661872284}"
      ]
     },
     "execution_count": 391,
     "metadata": {},
     "output_type": "execute_result"
    }
   ],
   "source": [
    "%%time\n",
    "make_split(np.zeros(label.shape), features_swap, label)"
   ]
  },
  {
   "cell_type": "code",
   "execution_count": 392,
   "metadata": {
    "collapsed": true,
    "deletable": true,
    "editable": true
   },
   "outputs": [],
   "source": [
    "class EMatrix:\n",
    "    def __init__(self, features, label, bias=None, gax=None, splitgax = False):\n",
    "        self.bias = bias\n",
    "        self.features = features\n",
    "        self.label = label\n",
    "        self.gax = gax\n",
    "        self.splitgax = splitgax"
   ]
  },
  {
   "cell_type": "code",
   "execution_count": 393,
   "metadata": {
    "collapsed": true,
    "deletable": true,
    "editable": true
   },
   "outputs": [],
   "source": [
    "class LeafData:\n",
    "    def __init__(self, info):\n",
    "        self.val = info['prediction'] * info['learning_rate']\n",
    "        self.train_size = info['ematrix'].label.shape[0]\n",
    "        self.avg_target = np.mean(info['ematrix'].label, axis=0)[0]\n",
    "        \n",
    "    def to_text(self, floatformat = '.6f'):\n",
    "        return ('{:'+ floatformat + '} ({})\\n({:'+floatformat+'})').format(self.val, self.train_size, self.avg_target)\n",
    "    \n",
    "    def shape(self):\n",
    "        return 'box'\n",
    "\n",
    "class SplitData:\n",
    "    def __init__(self, val):\n",
    "        self.val = val\n",
    "        \n",
    "    def to_text(self, floatformat = '.4f'):\n",
    "        return ('f_{{{ind}}} < {thr:'+floatformat+'}').format(ind=self.val['best_feature_index'], thr=self.val['thr'])\n",
    "    \n",
    "        \n",
    "class TreeNode:\n",
    "    def __init__(self):\n",
    "        self.left = None\n",
    "        self.right = None\n",
    "        self.depth = 0\n",
    "        self.val = None\n",
    "        self.id = None\n",
    "        \n",
    "    def to_text(self, floatformat = '.6f'):\n",
    "        return self.val.to_text(floatformat)\n",
    "    \n",
    "    def shape(self):\n",
    "        return 'circle'\n",
    "        "
   ]
  },
  {
   "cell_type": "code",
   "execution_count": 394,
   "metadata": {
    "collapsed": true
   },
   "outputs": [],
   "source": [
    "def init_id_helper(node, current_id):\n",
    "    node.id = current_id[0]\n",
    "    current_id[0] += 1\n",
    "    if not isinstance(node, TreeNode):\n",
    "        return\n",
    "    init_id_helper(node.left, current_id)\n",
    "    init_id_helper(node.right, current_id)\n",
    "\n",
    "def init_id(root):\n",
    "    current_id = [0]\n",
    "    init_id_helper(root, current_id)\n",
    "    return current_id[0]"
   ]
  },
  {
   "cell_type": "code",
   "execution_count": 395,
   "metadata": {
    "collapsed": true
   },
   "outputs": [],
   "source": [
    "def init_arrays_helper(node, arrays):\n",
    "    if not isinstance(node, TreeNode):\n",
    "        arrays['is_leaf'][node.id] = 1\n",
    "        arrays['leaf_data'][node.id, 0] = node.val  # Leaf\n",
    "        return\n",
    "    init_arrays_helper(node.left, arrays)\n",
    "    init_arrays_helper(node.right, arrays)\n",
    "    arrays['yes_node'][node.id] = node.left.id\n",
    "    arrays['no_node'][node.id] = node.right.id\n",
    "    arrays['thresholds'][node.id] = node.val.val['thr']\n",
    "    arrays['features'][node.id] = node.val.val['best_feature_index']\n",
    "    arrays['is_leaf'][node.id] = 0\n",
    "    arrays['depths'][node.id] = node.depth\n",
    "    \n",
    "def init_arrays(root, n):\n",
    "    def empty_array():\n",
    "        return np.zeros(n, dtype=np.int32)\n",
    "    arrays = dict(features=empty_array(),\n",
    "                  thresholds=np.zeros(n, dtype=np.float32),\n",
    "                  yes_node=empty_array(),\n",
    "                  no_node=empty_array(),\n",
    "                  is_leaf=empty_array(),\n",
    "                  depths=empty_array(),\n",
    "                  leaf_data=np.zeros((n,1), dtype=np.float32)\n",
    "                 )\n",
    "    init_arrays_helper(root, arrays)\n",
    "    arrays['treedepth'] = np.max(arrays['depths'])\n",
    "    return arrays"
   ]
  },
  {
   "cell_type": "code",
   "execution_count": 396,
   "metadata": {
    "collapsed": true,
    "deletable": true,
    "editable": true
   },
   "outputs": [],
   "source": [
    "def prior_finish(params, info, parent):\n",
    "    if parent is None:\n",
    "        return False\n",
    "    return params['max_depth'] <= parent.depth\n",
    "\n",
    "def post_finish(params, info, split_info, parent):\n",
    "    if split_info['left_info']['ematrix'].label.shape[0] < 2:\n",
    "        return True\n",
    "    if split_info['right_info']['ematrix'].label.shape[0] < 2:\n",
    "        return True\n",
    "    return False"
   ]
  },
  {
   "cell_type": "code",
   "execution_count": 404,
   "metadata": {
    "collapsed": true,
    "deletable": true,
    "editable": true
   },
   "outputs": [],
   "source": [
    "def new_ax(ax, cond):\n",
    "    reindex = np.cumsum(cond)-1\n",
    "    axT = ax.T\n",
    "    return reindex[axT][cond[axT]].reshape((ax.shape[1], -1)).T\n",
    "time1 = 0\n",
    "time2 = 0\n",
    "time3 = []\n",
    "def split_ematrix(ematrix, depth, sess=None):\n",
    "    global time1, time2, time3\n",
    "    if ematrix.gax is not None:\n",
    "        start = time.clock()\n",
    "        #print(ematrix.features.shape, file=sys.stderr)\n",
    "        #if (ematrix.features.shape[0]<=2):\n",
    "        #    print(ematrix.gax, file=sys.stderr)\n",
    "        split_info = make_split_quick(ematrix.bias, ematrix.features, ematrix.label, ematrix.gax, \n",
    "                                      profile_file = ('profile_cumsum2.json' if depth==1 else None), sess=sess)\n",
    "        dif = time.clock() - start\n",
    "        time1 += dif\n",
    "        time3 += [dif]\n",
    "        \n",
    "        cond_left = split_info['left_cond']\n",
    "        cond_right = split_info['right_cond']\n",
    "        ax_left = split_info['ax_left']\n",
    "        ax_right = split_info['ax_right']\n",
    "    else:\n",
    "        split_info = make_split(ematrix.bias, ematrix.features, ematrix.label)\n",
    "        cond_left = best_feature < split_info['thr']\n",
    "        cond_right = np.logical_not(cond_left)\n",
    "        ax_left = ax_right = None\n",
    "\n",
    "        \n",
    "    start = time.clock()\n",
    "    features = ematrix.features\n",
    "    bias = ematrix.bias\n",
    "    label = ematrix.label\n",
    "        \n",
    "    if False:\n",
    "        thr = split_info['thr']        \n",
    "\n",
    "        best_feature = features[:, split_info['best_feature_index']] \n",
    "\n",
    "        cond_left = best_feature < thr\n",
    "        if not np.all((cond_left == split_info['left_cond']).ravel()):\n",
    "                print(\"AAAA\", file=sys.stderr)\n",
    "        cond_right = np.logical_not(cond_left)\n",
    "        if ematrix.gax is not None:\n",
    "            ax_left = new_ax(ematrix.gax, cond_left)\n",
    "            ax_right = new_ax(ematrix.gax, cond_right)\n",
    "            if not np.all((ax_left == split_info['ax_left']).ravel()):\n",
    "                print(\"AAAA\", file=sys.stderr)\n",
    "            if not np.all((ax_right == split_info['ax_right']).ravel()):\n",
    "                print(\"BBBB\", file=sys.stderr)\n",
    "        else:\n",
    "            ax_left = ax_right = None\n",
    "    \n",
    "    \n",
    "    left_ematrix = EMatrix(features[cond_left, :], label[cond_left], bias[cond_left], gax=ax_left)\n",
    "    right_ematrix = EMatrix(features[cond_right, :], label[cond_right], bias[cond_right], gax=ax_right)\n",
    "    left_info = {'prediction': split_info['best_delta_up'], 'ematrix': left_ematrix, 'sess': sess}\n",
    "    right_info = {'prediction': split_info['best_delta_down'], 'ematrix': right_ematrix, 'sess': sess}\n",
    "    split_info['left_info'] = left_info\n",
    "    split_info['right_info'] = right_info\n",
    "    time2 += time.clock() - start\n",
    "    return left_info, right_info, split_info"
   ]
  },
  {
   "cell_type": "code",
   "execution_count": 405,
   "metadata": {
    "collapsed": false,
    "deletable": true,
    "editable": true
   },
   "outputs": [],
   "source": [
    "def build_tree_helper(params, info, parent):\n",
    "    info['learning_rate'] = params['learning_rate']\n",
    "    if parent and parent.depth < 6:\n",
    "        print(\"{d}\".format(d=parent.depth) \n",
    "              if parent else '---',\n",
    "              \"\".format(shape=info['ematrix'].label.shape[0]),\n",
    "              end=' ', file=sys.stderr)\n",
    "    if prior_finish(params, info, parent):\n",
    "        return LeafData(info)\n",
    "    node = TreeNode()\n",
    "    node.depth = parent.depth + 1 if parent else 1\n",
    "    \n",
    "    left_info, right_info, split_info = split_ematrix(info['ematrix'], node.depth, sess=info['sess'])\n",
    "    if post_finish(params, info, split_info, parent):\n",
    "        #print(split_info['right_info']['ematrix'].label.shape[0])\n",
    "        #print(split_info)\n",
    "        return LeafData(info)\n",
    "\n",
    "    node.val = SplitData(split_info)\n",
    "    node.left = build_tree_helper(params, left_info, node)\n",
    "    node.right = build_tree_helper(params, right_info, node)  \n",
    "    return node"
   ]
  },
  {
   "cell_type": "code",
   "execution_count": 406,
   "metadata": {
    "collapsed": true,
    "deletable": true,
    "editable": true
   },
   "outputs": [],
   "source": [
    "@profile\n",
    "def build_tree(params, ematrix, sess = None):\n",
    "    info = {'ematrix': ematrix, 'sess': sess}\n",
    "    if ematrix.splitgax and ematrix.gax is None:\n",
    "        ematrix.gax = make_gax(ematrix.features)\n",
    "    return build_tree_helper(params, info=info, parent=None)"
   ]
  },
  {
   "cell_type": "code",
   "execution_count": 407,
   "metadata": {
    "collapsed": true
   },
   "outputs": [],
   "source": [
    "def tree_apply(tree_arrays, features):\n",
    "    qi = np.zeros(features.shape[0], dtype=np.int32)\n",
    "    for current_depth in range(tree_arrays['treedepth']):\n",
    "        fi = tree_arrays['features'][qi]\n",
    "        f = np.choose(fi, features.T)\n",
    "        t = tree_arrays['thresholds'][qi]\n",
    "        #print(qi, fi, f, t)\n",
    "        #if current_depth == 0: \n",
    "        #    print(fi, f.shape, features.shape, f)\n",
    "        answer = (f < t)*1\n",
    "        new_qi = answer*tree_arrays['yes_node'][qi] + (1-answer)*tree_arrays['no_node'][qi]\n",
    "        qi = new_qi\n",
    "    leaf_data = tree_arrays['leaf_data'][qi, 0]\n",
    "    return leaf_data"
   ]
  },
  {
   "cell_type": "code",
   "execution_count": 408,
   "metadata": {
    "collapsed": false
   },
   "outputs": [
    {
     "data": {
      "text/plain": [
       "((300000, 15), (300000, 1))"
      ]
     },
     "execution_count": 408,
     "metadata": {},
     "output_type": "execute_result"
    }
   ],
   "source": [
    "features.shape, label.shape"
   ]
  },
  {
   "cell_type": "code",
   "execution_count": 409,
   "metadata": {},
   "outputs": [],
   "source": [
    "global_ax = make_gax(features)"
   ]
  },
  {
   "cell_type": "code",
   "execution_count": 418,
   "metadata": {
    "collapsed": false
   },
   "outputs": [
    {
     "name": "stderr",
     "output_type": "stream",
     "text": [
      "1  2  3  4  5  5  4  5  5  3  4  5  5  4  5  5  2  3  4  5  5  4  5  5  3  4  5  5  4  5  5  1  2  3  4  5  5  4  5  5  3  4  4  5  "
     ]
    },
    {
     "name": "stdout",
     "output_type": "stream",
     "text": [
      "CPU times: user 7.51 s, sys: 408 ms, total: 7.92 s\n",
      "Wall time: 2.97 s\n"
     ]
    },
    {
     "name": "stderr",
     "output_type": "stream",
     "text": [
      "5  2  3  3  4  5  5  4  \n",
      "split time = 7.69484, 0.18254, [0.83943, 0.44301, 0.30604, 0.24914, 0.18018, 0.18160, 0.14574, 0.04677, 0.13815, 0.04391, 0.02334, 0.02754, 0.01795, 0.01573, 0.01552, 0.01553, 0.01810, 0.01652, 0.01855, 0.08165, 0.08186, 0.05527, 0.05266, 0.01934, 0.03673, 0.01615, 0.04129, 0.01751, 0.01696, 0.01588, 0.01704, 0.01778, 0.01408, 0.01408, 0.10786, 0.09374, 0.06516, 0.05852, 0.05292, 0.01846, 0.01825, 0.01759, 0.01455, 0.04810, 0.01715, 0.01905, 0.01496, 0.04832, 0.04680, 0.01647, 0.02319, 0.02024, 0.02044, 0.01620, 0.02218, 0.01715, 0.01680, 0.01460, 0.02146, 0.01502, 0.01663, 0.01519, 0.02089, 0.01667, 0.01692, 0.22593, 0.20824, 0.01871, 0.01519, 0.01407, 0.01425, 0.01663, 0.01625, 0.01781, 0.01833, 0.02263, 0.02017, 0.01740, 0.01821, 0.01539, 0.01639, 0.01638, 0.21032, 0.14443, 0.14955, 0.13381, 0.02898, 0.01774, 0.01575, 0.01480, 0.07996, 0.07562, 0.06527, 0.03184, 0.01719, 0.01965, 0.01712, 0.02437, 0.02131, 0.02041, 0.01798, 0.01546, 0.01618, 0.01527, 0.01551, 0.01562, 0.01693, 0.01555, 0.01375, 0.02353, 0.02370, 0.01486, 0.01438, 0.01561, 0.01838, 0.01963, 0.01648, 0.01911, 0.01535, 0.01606, 0.01543, 0.01844, 0.09033, 0.08796, 0.08826, 0.04551, 0.04461, 0.01694, 0.01541, 0.01622, 0.04702, 0.04103, 0.01982, 0.01760, 0.05874, 0.01921, 0.01735, 0.01533, 0.01695, 0.01481, 0.01542, 0.01488, 0.05828, 0.01725, 0.01592, 0.01652, 0.05550, 0.05312, 0.01780, 0.02763, 0.01796, 0.02433, 0.01728, 0.01482, 0.01503, 0.01505, 0.01658, 0.01788, 0.01510, 0.02185, 0.01647, 0.01520, 0.01625, 0.02178, 0.02002, 0.01829, 0.01624, 0.01847, 0.01671, 0.01757, 0.01682, 0.01714, 0.01671]\n"
     ]
    }
   ],
   "source": [
    "%%time\n",
    "start_params = {'max_depth': 8, 'learning_rate':0.3}\n",
    "tf.constant\n",
    "time1 = time2 =0\n",
    "time3 = []\n",
    "with tf.Session(graph=split_quick_graph) as s:\n",
    "    tree = build_tree(start_params, EMatrix(features, label, np.zeros(label.shape), gax=global_ax, splitgax=True), sess=s)\n",
    "print(\"\\nsplit time = {:.5f}, {:.5f}, [{}]\".format(time1, time2, \", \".join(\"{:.5f}\".format(tt) for tt in time3)), file=sys.stderr)\n",
    "tree_arrays = init_arrays(tree, init_id(tree))"
   ]
  },
  {
   "cell_type": "code",
   "execution_count": 421,
   "metadata": {},
   "outputs": [],
   "source": [
    "import pstats\n",
    "p = pstats.Stats('build_tree.prof')\n",
    "#p.sort_stats('tottime').print_stats()"
   ]
  },
  {
   "cell_type": "code",
   "execution_count": 422,
   "metadata": {},
   "outputs": [
    {
     "data": {
      "text/plain": [
       "(0.5296545537774653, 0.5)"
      ]
     },
     "execution_count": 422,
     "metadata": {},
     "output_type": "execute_result"
    }
   ],
   "source": [
    "pred = tree_apply(tree_arrays, features)\n",
    "auc1 = metrics.roc_auc_score(label[:, 0], pred)\n",
    "auc0 = metrics.roc_auc_score(label[:, 0], np.zeros(label.shape[0]))\n",
    "auc1, auc0"
   ]
  },
  {
   "cell_type": "code",
   "execution_count": 423,
   "metadata": {
    "collapsed": false,
    "deletable": true,
    "editable": true
   },
   "outputs": [
    {
     "data": {
      "text/plain": [
       "<__main__.TreeNode at 0x7f42050aaa20>"
      ]
     },
     "execution_count": 423,
     "metadata": {},
     "output_type": "execute_result"
    }
   ],
   "source": [
    "#tree.left.left.left.left.val, tree.val\n",
    "tree.left.left"
   ]
  },
  {
   "cell_type": "code",
   "execution_count": 424,
   "metadata": {
    "collapsed": true
   },
   "outputs": [],
   "source": [
    "def tree2gv(tree):\n",
    "    result = graphviz.Graph('ni')\n",
    "    #result.attr(size='12,0')\n",
    "    tree2gv_helper(tree, result, '')\n",
    "    return result"
   ]
  },
  {
   "cell_type": "code",
   "execution_count": 425,
   "metadata": {
    "collapsed": true,
    "deletable": true,
    "editable": true
   },
   "outputs": [],
   "source": [
    "def tree2gv_helper(node, result, id):\n",
    "    idn = id\n",
    "    result.node(idn, node.to_text(), shape='box') # node.shape())\n",
    "    if isinstance(node, LeafData):\n",
    "        return\n",
    "    if node.left is not None:\n",
    "        idl = id + '0'\n",
    "        tree2gv_helper(node.left, result, idl)\n",
    "        result.edge(idn, idl)\n",
    "    if node.right is not None:\n",
    "        idr = id + '1'\n",
    "        tree2gv_helper(node.right, result, idr)\n",
    "        result.edge(idn, idr)\n",
    "    \n",
    "    "
   ]
  },
  {
   "cell_type": "code",
   "execution_count": 426,
   "metadata": {
    "collapsed": false,
    "deletable": true,
    "editable": true
   },
   "outputs": [],
   "source": [
    "#tree2gv(tree)"
   ]
  },
  {
   "cell_type": "code",
   "execution_count": null,
   "metadata": {
    "collapsed": false
   },
   "outputs": [],
   "source": []
  },
  {
   "cell_type": "code",
   "execution_count": 427,
   "metadata": {
    "collapsed": true
   },
   "outputs": [],
   "source": [
    "class EBooster:\n",
    "    def __init__(self, forest):\n",
    "        self.forest = forest\n",
    "    \n",
    "    def predict(self, features, tree_limit = None):\n",
    "        pred = np.zeros(features.shape[0], dtype=np.float32)\n",
    "        for tree, tree_arrays in (self.forest if tree_limit is None else self.forest[:tree_limit]):\n",
    "            pred = pred + tree_apply(tree_arrays, features)\n",
    "        return pred \n",
    "    \n",
    "def train(params, ematrix, num_boost_round = 10):\n",
    "    start_params = {'max_depth': 5, 'learning_rate': 0.3, 'splitgax': False} \n",
    "    start_params.update(params)\n",
    "    \n",
    "    if start_params['splitgax'] and ematrix.gax is None:\n",
    "        ematrix.gax = make_gax(ematrix.features)\n",
    "    \n",
    "    forest = []\n",
    "    bias = np.zeros(ematrix.label.shape)\n",
    "    for r in range(num_boost_round):\n",
    "        print(\"\\n{} round\".format(r), file=sys.stderr)\n",
    "        tree = build_tree(start_params, EMatrix(ematrix.features, ematrix.label, bias, gax=ematrix.gax, splitgax=start_params['splitgax']))\n",
    "        #print(\"tree ok, bias shape = {}\".format(bias.shape), file=sys.stderr)\n",
    "        tree_arrays = init_arrays(tree, init_id(tree))\n",
    "        bias_delta = tree_apply(tree_arrays, features)\n",
    "        #print(\"apply ok, bias delta shape = {}\".format(bias_delta.shape), file=sys.stderr)\n",
    "        bias = bias + np.reshape(bias_delta, newshape=bias.shape)\n",
    "        forest.append((tree, tree_arrays))\n",
    "        #print(\"forest appended\", file=sys.stderr)\n",
    "        \n",
    "    return EBooster(forest)"
   ]
  },
  {
   "cell_type": "code",
   "execution_count": 428,
   "metadata": {
    "collapsed": false
   },
   "outputs": [
    {
     "name": "stderr",
     "output_type": "stream",
     "text": [
      "\n",
      "0 round\n",
      "1  2  3  4  5  5  4  5  5  3  4  5  5  4  5  5  2  3  4  5  5  4  5  5  3  4  5  5  4  5  5  1  2  3  4  5  5  4  5  5  3  4  4  5  5  2  3  3  4  5  5  4  \n",
      "1 round\n",
      "1  2  3  4  5  5  4  5  5  3  4  5  5  4  5  5  2  3  4  5  5  4  5  5  3  4  5  5  4  5  5  1  2  3  4  5  5  4  5  5  3  4  5  5  4  5  5  2  3  4  5  5  4  3  4  5  5  4  5  5  \n",
      "2 round\n",
      "1  2  3  4  5  5  4  5  5  3  4  5  5  4  5  5  2  3  4  5  5  4  5  5  3  4  5  5  4  5  5  1  2  3  4  5  5  4  5  5  3  4  5  5  4  5  5  2  3  4  5  5  4  5  5  3  4  5  5  4  5  5  \n",
      "3 round\n",
      "1  2  3  4  5  5  4  5  5  3  4  5  5  4  5  5  2  3  4  5  5  4  5  5  3  4  5  5  4  5  5  1  2  3  4  5  5  4  3  4  5  5  4  5  5  2  3  4  5  5  4  5  5  3  4  5  5  4  5  5  \n",
      "4 round\n",
      "1  2  3  4  5  5  4  5  5  3  4  5  5  4  5  5  2  3  4  5  5  4  5  5  3  4  5  5  4  5  5  1  2  3  4  5  5  4  5  5  3  2  3  4  5  5  4  5  5  3  4  5  5  4  5  5  \n",
      "5 round\n",
      "1  2  3  4  5  5  4  5  5  3  4  5  5  4  5  5  2  3  4  5  5  4  5  5  3  4  5  5  4  5  5  1  2  3  4  5  5  4  5  5  3  2  3  4  5  5  4  5  5  3  4  5  5  4  5  5  \n",
      "6 round\n",
      "1  2  3  4  5  5  4  5  5  3  4  5  5  4  5  5  2  3  4  5  5  4  3  4  5  5  4  5  5  1  2  3  4  5  5  4  5  5  3  2  3  4  5  5  4  5  5  3  4  5  5  4  5  5  \n",
      "7 round\n",
      "1  2  3  4  5  5  4  5  5  3  4  5  5  4  5  5  2  3  4  5  5  4  5  5  3  4  5  5  4  5  5  1  2  3  4  5  5  4  5  5  3  2  3  4  5  5  4  5  5  3  4  5  5  4  5  5  \n",
      "8 round\n",
      "1  2  3  4  5  5  4  5  5  3  4  5  5  4  5  5  2  3  4  5  5  4  5  5  3  4  5  5  4  5  5  1  2  3  4  5  5  4  5  5  3  4  5  5  4  5  5  2  3  4  5  5  4  5  5  3  4  5  5  4  5  5  \n",
      "9 round\n",
      "1  2  3  4  5  5  4  5  5  3  4  5  5  4  5  5  2  3  4  5  5  4  5  5  3  4  5  5  4  5  5  1  2  3  4  5  5  4  5  5  3  4  5  5  4  5  5  2  3  4  5  5  4  5  5  3  4  5  5  4  5  5  \n",
      "10 round\n",
      "1  2  3  4  5  5  4  5  5  3  4  4  2  3  3  4  5  5  4  5  5  1  2  3  4  5  5  4  5  5  3  4  5  5  4  5  5  2  3  4  5  5  4  5  5  3  4  5  5  4  5  5  \n",
      "11 round\n",
      "1  2  3  4  5  5  4  3  4  5  5  4  5  5  2  3  4  5  5  4  5  5  3  4  5  5  4  5  5  1  2  3  4  5  5  4  5  5  3  4  5  5  4  5  5  2  3  4  5  5  4  5  5  3  4  5  5  4  5  5  "
     ]
    },
    {
     "name": "stdout",
     "output_type": "stream",
     "text": [
      "CPU times: user 7min 58s, sys: 10.9 s, total: 8min 9s\n",
      "Wall time: 7min 7s\n"
     ]
    }
   ],
   "source": [
    "%%time\n",
    "boost_params = {'max_depth': 8, 'learning_rate':0.3, 'splitgax': True}\n",
    "booster = train(boost_params, EMatrix(features, label), num_boost_round=12)"
   ]
  },
  {
   "cell_type": "code",
   "execution_count": 26,
   "metadata": {},
   "outputs": [],
   "source": [
    "#%%time\n",
    "#gax13 = make_gax(features)\n",
    "#print(gax13.shape)"
   ]
  },
  {
   "cell_type": "code",
   "execution_count": 27,
   "metadata": {
    "collapsed": false
   },
   "outputs": [
    {
     "data": {
      "text/plain": [
       "0.5297163871088377"
      ]
     },
     "execution_count": 27,
     "metadata": {},
     "output_type": "execute_result"
    }
   ],
   "source": [
    "pred2 = booster.predict(features)\n",
    "metrics.roc_auc_score(label[:, 0], pred2)"
   ]
  },
  {
   "cell_type": "code",
   "execution_count": null,
   "metadata": {},
   "outputs": [],
   "source": [
    "pred2b = booster.predict(features, tree_limit=16)\n",
    "metrics.roc_auc_score(label[:, 0], pred2)"
   ]
  },
  {
   "cell_type": "code",
   "execution_count": null,
   "metadata": {},
   "outputs": [],
   "source": [
    "np.min(pred2b), np.max(pred2b)"
   ]
  },
  {
   "cell_type": "code",
   "execution_count": null,
   "metadata": {
    "collapsed": true
   },
   "outputs": [],
   "source": [
    "tree2gv(booster.forest[8][0])"
   ]
  },
  {
   "cell_type": "code",
   "execution_count": null,
   "metadata": {},
   "outputs": [],
   "source": [
    "dmat = xgb.DMatrix(features, label)"
   ]
  },
  {
   "cell_type": "code",
   "execution_count": null,
   "metadata": {},
   "outputs": [],
   "source": [
    "%%time\n",
    "params = {'max_depth': 4, 'objective': 'binary:logistic', 'eta': 0.3, 'tree_method': 'exact', 'lambda': 1}\n",
    "model = xgb.train(params, dmat, num_boost_round=20)"
   ]
  },
  {
   "cell_type": "code",
   "execution_count": null,
   "metadata": {},
   "outputs": [],
   "source": [
    "pred_fast = model.predict(dmat)\n",
    "metrics.roc_auc_score(label[:, 0], pred_fast)"
   ]
  },
  {
   "cell_type": "code",
   "execution_count": null,
   "metadata": {},
   "outputs": [],
   "source": [
    "pred_fast = model.predict(dmat, ntree_limit=16)\n",
    "metrics.roc_auc_score(label[:, 0], pred_fast)"
   ]
  },
  {
   "cell_type": "code",
   "execution_count": null,
   "metadata": {},
   "outputs": [],
   "source": [
    "qq = -np.log(1/pred_fast-1) \n",
    "np.min(qq), np.max(qq)"
   ]
  },
  {
   "cell_type": "code",
   "execution_count": null,
   "metadata": {},
   "outputs": [],
   "source": [
    "diff = np.abs(qq - pred2b)\n",
    "np.mean(diff > 0.1)"
   ]
  },
  {
   "cell_type": "code",
   "execution_count": null,
   "metadata": {},
   "outputs": [],
   "source": [
    "model.dump_model('xgb.dump')"
   ]
  },
  {
   "cell_type": "code",
   "execution_count": null,
   "metadata": {},
   "outputs": [],
   "source": [
    "tree2gv(booster.forest[15][0])"
   ]
  },
  {
   "cell_type": "code",
   "execution_count": null,
   "metadata": {},
   "outputs": [],
   "source": [
    "!cat xgb.dump | tail -n+$(echo 32*11+22 | bc)"
   ]
  },
  {
   "cell_type": "code",
   "execution_count": null,
   "metadata": {},
   "outputs": [],
   "source": []
  }
 ],
 "metadata": {
  "kernelspec": {
   "display_name": "Python 3",
   "language": "python",
   "name": "python3"
  },
  "language_info": {
   "codemirror_mode": {
    "name": "ipython",
    "version": 3
   },
   "file_extension": ".py",
   "mimetype": "text/x-python",
   "name": "python",
   "nbconvert_exporter": "python",
   "pygments_lexer": "ipython3",
   "version": "3.5.2"
  }
 },
 "nbformat": 4,
 "nbformat_minor": 2
}
