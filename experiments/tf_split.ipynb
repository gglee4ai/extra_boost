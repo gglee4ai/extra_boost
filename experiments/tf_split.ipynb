{
 "cells": [
  {
   "cell_type": "code",
   "execution_count": 27,
   "metadata": {
    "collapsed": false,
    "deletable": true,
    "editable": true
   },
   "outputs": [],
   "source": [
    "import sys, os, io, json, numpy as np, random\n",
    "#from sklearn.metrics import roc_auc_score\n",
    "#import xgboost as xgb\n",
    "import tensorflow as tf\n",
    "import pandas as pd\n",
    "from split import split_graph, split_interface, make_split\n",
    "import graphviz"
   ]
  },
  {
   "cell_type": "code",
   "execution_count": 2,
   "metadata": {
    "collapsed": true,
    "deletable": true,
    "editable": true
   },
   "outputs": [],
   "source": [
    "pool = np.load('../prepare_dataset/pool_00.npz')\n",
    "features_bool, f_time, label = (pool[name] for name in ['features', 'f_time', 'label'])"
   ]
  },
  {
   "cell_type": "code",
   "execution_count": 3,
   "metadata": {
    "collapsed": false,
    "deletable": true,
    "editable": true
   },
   "outputs": [],
   "source": [
    "features = np.random.normal(loc=features_bool*1.0, scale=1.0)"
   ]
  },
  {
   "cell_type": "code",
   "execution_count": 6,
   "metadata": {
    "collapsed": false,
    "deletable": true,
    "editable": true
   },
   "outputs": [],
   "source": [
    "#features_swap = features.copy()\n",
    "#features_swap[:,0],features_swap[:,7] = features_swap[:,7],features_swap[:,0]\n",
    "features_swap = np.concatenate([features[:,7:8], features[:,1:7], features[:,0:1], features[:,8:]], axis=1)"
   ]
  },
  {
   "cell_type": "code",
   "execution_count": 7,
   "metadata": {
    "collapsed": false,
    "deletable": true,
    "editable": true
   },
   "outputs": [
    {
     "name": "stdout",
     "output_type": "stream",
     "text": [
      "CPU times: user 5.26 s, sys: 808 ms, total: 6.07 s\n",
      "Wall time: 2.59 s\n"
     ]
    },
    {
     "data": {
      "text/plain": [
       "{'avg_current_loss': array([0.69314718]),\n",
       " 'best_avg_loss': 0.6124292611643064,\n",
       " 'best_delta_down': -0.8319551880501467,\n",
       " 'best_delta_up': -0.7878868675267141,\n",
       " 'best_feature_index': 0,\n",
       " 'best_index': 195027,\n",
       " 'best_loss': 183728.7783492919,\n",
       " 'current_loss': array([207944.15416803]),\n",
       " 'thr': 0.6264478451338642}"
      ]
     },
     "execution_count": 7,
     "metadata": {},
     "output_type": "execute_result"
    }
   ],
   "source": [
    "%%time\n",
    "make_split(np.zeros(label.shape), features, label)"
   ]
  },
  {
   "cell_type": "code",
   "execution_count": 8,
   "metadata": {
    "collapsed": false,
    "deletable": true,
    "editable": true
   },
   "outputs": [
    {
     "name": "stdout",
     "output_type": "stream",
     "text": [
      "CPU times: user 5.59 s, sys: 591 ms, total: 6.18 s\n",
      "Wall time: 1.87 s\n"
     ]
    },
    {
     "data": {
      "text/plain": [
       "{'avg_current_loss': array([0.69314718]),\n",
       " 'best_avg_loss': 0.6124292611643064,\n",
       " 'best_delta_down': -0.8319551880501467,\n",
       " 'best_delta_up': -0.7878868675267141,\n",
       " 'best_feature_index': 7,\n",
       " 'best_index': 195027,\n",
       " 'best_loss': 183728.7783492919,\n",
       " 'current_loss': array([207944.15416803]),\n",
       " 'thr': 0.6264478451338642}"
      ]
     },
     "execution_count": 8,
     "metadata": {},
     "output_type": "execute_result"
    }
   ],
   "source": [
    "%%time\n",
    "make_split(np.zeros(label.shape), features_swap, label)"
   ]
  },
  {
   "cell_type": "code",
   "execution_count": 34,
   "metadata": {
    "collapsed": true,
    "deletable": true,
    "editable": true
   },
   "outputs": [],
   "source": [
    "class EMatrix:\n",
    "    def __init__(self, bias, features, label):\n",
    "        self.bias = bias\n",
    "        self.features = features\n",
    "        self.label = label"
   ]
  },
  {
   "cell_type": "code",
   "execution_count": 95,
   "metadata": {
    "collapsed": true,
    "deletable": true,
    "editable": true
   },
   "outputs": [],
   "source": [
    "class LeafData:\n",
    "    def __init__(self, info):\n",
    "        self.val = info['prediction']\n",
    "        \n",
    "    def to_text(self, floatformat = '.6f'):\n",
    "        return ('{:'+ floatformat + '}').format(self.val)\n",
    "    \n",
    "    def shape(self):\n",
    "        return 'box'\n",
    "\n",
    "class SplitData:\n",
    "    def __init__(self, val):\n",
    "        self.val = val\n",
    "        \n",
    "    def to_text(self, floatformat = '.4f'):\n",
    "        return ('f_{{{ind}}} < {thr:'+floatformat+'}').format(ind=self.val['best_feature_index'], thr=self.val['thr'])\n",
    "    \n",
    "        \n",
    "class TreeNode:\n",
    "    def __init__(self):\n",
    "        self.left = None\n",
    "        self.right = None\n",
    "        self.depth = 0\n",
    "        self.val = None\n",
    "        \n",
    "    def to_text(self, floatformat = '.6f'):\n",
    "        return self.val.to_text(floatformat)\n",
    "    \n",
    "    def shape(self):\n",
    "        return 'circle'\n",
    "        "
   ]
  },
  {
   "cell_type": "code",
   "execution_count": 96,
   "metadata": {
    "collapsed": true,
    "deletable": true,
    "editable": true
   },
   "outputs": [],
   "source": [
    "def prior_finish(params, info, parent):\n",
    "    if parent is None:\n",
    "        return False\n",
    "    return params['max_depth'] <= parent.depth\n",
    "\n",
    "def post_finish(params, info, split_info, parent):\n",
    "    return False"
   ]
  },
  {
   "cell_type": "code",
   "execution_count": 97,
   "metadata": {
    "collapsed": true,
    "deletable": true,
    "editable": true
   },
   "outputs": [],
   "source": [
    "start_params = {'max_depth': 4}"
   ]
  },
  {
   "cell_type": "code",
   "execution_count": 98,
   "metadata": {
    "collapsed": true,
    "deletable": true,
    "editable": true
   },
   "outputs": [],
   "source": [
    "def split_ematrix(ematrix):\n",
    "    split_info = make_split(ematrix.bias, ematrix.features, ematrix.label)\n",
    "    thr = split_info['thr']\n",
    "    features = ematrix.features\n",
    "    bias = ematrix.bias\n",
    "    label = ematrix.label\n",
    "    best_feature = features[:, split_info['best_feature_index']] < thr\n",
    "    best_feature_not = np.logical_not(best_feature)\n",
    "    left_ematrix = EMatrix(bias[best_feature], features[best_feature, :], label[best_feature])\n",
    "    right_ematrix = EMatrix(bias[best_feature_not], features[best_feature_not, :], label[best_feature_not])\n",
    "    left_info = {'prediction': split_info['best_delta_up'], 'ematrix': left_ematrix}\n",
    "    right_info = {'prediction': split_info['best_delta_down'], 'ematrix': right_ematrix}\n",
    "    return left_info, right_info, split_info"
   ]
  },
  {
   "cell_type": "code",
   "execution_count": 99,
   "metadata": {
    "collapsed": true,
    "deletable": true,
    "editable": true
   },
   "outputs": [],
   "source": [
    "def build_tree_helper(params, info, parent):\n",
    "    print(parent.depth if parent else '---', end=' ', file=sys.stderr)\n",
    "    if prior_finish(params, info, parent):\n",
    "        return LeafData(info)\n",
    "    left_info, right_info, split_info = split_ematrix(info['ematrix'])\n",
    "    if post_finish(params, info, split_info, parent):\n",
    "        return LeafData(info)\n",
    "    node = TreeNode()\n",
    "    node.depth = parent.depth + 1 if parent else 1\n",
    "    node.val = SplitData(split_info)\n",
    "    node.left = build_tree_helper(params, left_info, node)\n",
    "    node.right = build_tree_helper(params, right_info, node)  \n",
    "    return node"
   ]
  },
  {
   "cell_type": "code",
   "execution_count": 100,
   "metadata": {
    "collapsed": true,
    "deletable": true,
    "editable": true
   },
   "outputs": [],
   "source": [
    "def build_tree(params, ematrix):\n",
    "    info = {'ematrix': ematrix}\n",
    "    return build_tree_helper(params, info=info, parent=None)"
   ]
  },
  {
   "cell_type": "code",
   "execution_count": 101,
   "metadata": {
    "collapsed": false,
    "deletable": true,
    "editable": true
   },
   "outputs": [
    {
     "name": "stderr",
     "output_type": "stream",
     "text": [
      "--- 1 2 3 4 4 3 4 4 2 3 4 4 3 4 4 1 2 3 4 4 3 4 4 2 3 4 4 3 4 4 "
     ]
    }
   ],
   "source": [
    "tree = build_tree(start_params, EMatrix(np.zeros(label.shape), features, label))"
   ]
  },
  {
   "cell_type": "code",
   "execution_count": 91,
   "metadata": {
    "collapsed": false,
    "deletable": true,
    "editable": true
   },
   "outputs": [
    {
     "data": {
      "text/plain": [
       "(-0.7472163664917022, <__main__.SplitData at 0x10753efd0>)"
      ]
     },
     "execution_count": 91,
     "metadata": {},
     "output_type": "execute_result"
    }
   ],
   "source": [
    "tree.left.left.left.left.val, tree.val"
   ]
  },
  {
   "cell_type": "code",
   "execution_count": 116,
   "metadata": {
    "collapsed": true
   },
   "outputs": [],
   "source": [
    "def tree2gv(tree):\n",
    "    result = graphviz.Graph('ni')\n",
    "    #result.attr(size='12,0')\n",
    "    tree2gv_helper(tree, result, '')\n",
    "    return result"
   ]
  },
  {
   "cell_type": "code",
   "execution_count": 117,
   "metadata": {
    "collapsed": true,
    "deletable": true,
    "editable": true
   },
   "outputs": [],
   "source": [
    "def tree2gv_helper(node, result, id):\n",
    "    idn = id\n",
    "    result.node(idn, node.to_text(), shape='box') # node.shape())\n",
    "    if isinstance(node, LeafData):\n",
    "        return\n",
    "    if node.left is not None:\n",
    "        idl = id + '0'\n",
    "        tree2gv_helper(node.left, result, idl)\n",
    "        result.edge(idn, idl)\n",
    "    if node.right is not None:\n",
    "        idr = id + '1'\n",
    "        tree2gv_helper(node.right, result, idr)\n",
    "        result.edge(idn, idr)\n",
    "    \n",
    "    "
   ]
  },
  {
   "cell_type": "code",
   "execution_count": 125,
   "metadata": {
    "collapsed": false,
    "deletable": true,
    "editable": true
   },
   "outputs": [],
   "source": [
    "#tree2gv(tree)"
   ]
  },
  {
   "cell_type": "code",
   "execution_count": null,
   "metadata": {
    "collapsed": true
   },
   "outputs": [],
   "source": []
  }
 ],
 "metadata": {
  "kernelspec": {
   "display_name": "Python 3",
   "language": "python",
   "name": "python3"
  },
  "language_info": {
   "codemirror_mode": {
    "name": "ipython",
    "version": 3
   },
   "file_extension": ".py",
   "mimetype": "text/x-python",
   "name": "python",
   "nbconvert_exporter": "python",
   "pygments_lexer": "ipython3",
   "version": "3.6.4"
  }
 },
 "nbformat": 4,
 "nbformat_minor": 2
}
