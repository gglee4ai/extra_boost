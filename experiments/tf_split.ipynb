{
 "cells": [
  {
   "cell_type": "code",
   "execution_count": 53,
   "metadata": {
    "collapsed": false,
    "deletable": true,
    "editable": true
   },
   "outputs": [],
   "source": [
    "import sys, os, io, json, numpy as np, random, time\n",
    "#from sklearn.metrics import roc_auc_score\n",
    "from importlib import reload\n",
    "import extra_utils\n",
    "reload(extra_utils)\n",
    "from extra_utils import time_features, subpool, test_extra_predictions\n",
    "import forest\n",
    "reload(forest)\n",
    "from forest import build_tree, EMatrix\n",
    "import xgboost as xgb\n",
    "import tensorflow as tf\n",
    "import split\n",
    "reload(split)\n",
    "from split import SplitMaker\n",
    "#from split import make_split_quick, make_gax, split_quick_graph, split_quick_graph_transpose\n",
    "import graphviz\n",
    "from sklearn import metrics"
   ]
  },
  {
   "cell_type": "code",
   "execution_count": 54,
   "metadata": {},
   "outputs": [],
   "source": [
    "split_maker_old = SplitMaker.make_split_old()"
   ]
  },
  {
   "cell_type": "code",
   "execution_count": 55,
   "metadata": {
    "collapsed": true,
    "deletable": true,
    "editable": true
   },
   "outputs": [],
   "source": [
    "pool = np.load('../prepare_dataset/pool_00.npz')\n",
    "features_bool, f_time, label_orig = (pool[name] for name in ['features', 'f_time', 'label'])\n",
    "label = label_orig"
   ]
  },
  {
   "cell_type": "code",
   "execution_count": 56,
   "metadata": {
    "deletable": true,
    "editable": true
   },
   "outputs": [],
   "source": [
    "np.random.seed(42)\n",
    "features_orig = np.random.normal(loc=features_bool*1.0, scale=0.01)\n",
    "#features = features[:150000,:]; label = label_orig[:150000, :]\n",
    "\n",
    "f_test, l_test = features_orig[150000:,:], label_orig[150000:, :]\n",
    "features = features_orig[:150000,:]; label = label_orig[:150000, :]"
   ]
  },
  {
   "cell_type": "markdown",
   "metadata": {
    "deletable": true,
    "editable": true
   },
   "source": [
    "### Тестирование инвариантности сплита относительно замены местами столбцов фичей\n",
    "\n",
    "```\n",
    "features_swap = np.concatenate([features[:,7:8], features[:,1:7], features[:,0:1], features[:,8:]], axis=1)\n",
    "\n",
    "%%time\n",
    "split_maker_old.split(np.zeros(label.shape), features, label)\n",
    "#make_split(np.zeros(label.shape), features, label)\n",
    "\n",
    "%%time\n",
    "split_maker_old.split(np.zeros(label.shape), features_swap, label)\n",
    "#make_split(np.zeros(label.shape), features_swap, label)\n",
    "```"
   ]
  },
  {
   "cell_type": "code",
   "execution_count": 57,
   "metadata": {
    "collapsed": false
   },
   "outputs": [
    {
     "data": {
      "text/plain": [
       "((150000, 15), (150000, 1))"
      ]
     },
     "execution_count": 57,
     "metadata": {},
     "output_type": "execute_result"
    }
   ],
   "source": [
    "features.shape, label.shape"
   ]
  },
  {
   "cell_type": "code",
   "execution_count": 58,
   "metadata": {},
   "outputs": [],
   "source": [
    "global_ax = split_maker_old.make_gax(features)\n",
    "featuresT = features.T\n",
    "global_axT = global_ax.T"
   ]
  },
  {
   "cell_type": "code",
   "execution_count": 59,
   "metadata": {},
   "outputs": [],
   "source": [
    "split_maker = SplitMaker.make_split_new(reduce_axis=0, make_transpose=True)"
   ]
  },
  {
   "cell_type": "code",
   "execution_count": 60,
   "metadata": {
    "collapsed": false
   },
   "outputs": [
    {
     "name": "stderr",
     "output_type": "stream",
     "text": [
      "1  2  3  4  5  5  4  5  5  3  4  5  5  4  5  5  2  3  4  5  5  4  5  5  3  4  5  5  4  5  5  1  2  3  4  5  5  4  5  5  3  4  5  5  4  5  5  2  3  4  5  5  4  5  5  3  4  5  5  "
     ]
    },
    {
     "name": "stdout",
     "output_type": "stream",
     "text": [
      "CPU times: user 6.46 s, sys: 257 ms, total: 6.71 s\n",
      "Wall time: 2.5 s\n"
     ]
    },
    {
     "name": "stderr",
     "output_type": "stream",
     "text": [
      "4  5  5  \n",
      "split time = 6.55365, 0.11795, [0.58596, 0.25116, 0.13560, 0.07351, 0.04669, 0.03291, 0.02687, 0.02711, 0.01508, 0.01744, 0.01889, 0.01417, 0.02827, 0.02848, 0.02630, 0.01662, 0.01577, 0.01514, 0.01591, 0.04806, 0.03592, 0.02465, 0.02180, 0.01871, 0.02433, 0.02567, 0.01558, 0.02477, 0.02339, 0.01980, 0.01852, 0.01805, 0.01651, 0.01607, 0.07438, 0.07061, 0.03405, 0.02698, 0.01675, 0.02351, 0.02901, 0.02172, 0.02158, 0.03850, 0.03315, 0.02271, 0.02419, 0.02087, 0.02068, 0.01780, 0.02369, 0.02280, 0.02060, 0.01844, 0.01822, 0.01840, 0.01749, 0.01637, 0.01742, 0.01322, 0.01485, 0.01506, 0.01680, 0.01499, 0.01718, 0.14548, 0.10947, 0.10134, 0.05596, 0.03497, 0.02457, 0.02242, 0.03180, 0.02640, 0.01979, 0.05634, 0.05138, 0.02558, 0.03092, 0.02421, 0.01918, 0.01951, 0.02813, 0.02514, 0.02531, 0.02180, 0.01760, 0.01596, 0.01702, 0.01828, 0.01996, 0.01607, 0.01475, 0.01600, 0.01599, 0.01724, 0.01600, 0.04095, 0.03849, 0.03333, 0.03359, 0.03432, 0.01738, 0.01870, 0.01606, 0.01819, 0.01921, 0.01875, 0.01338, 0.01654, 0.01702, 0.01744, 0.01607, 0.02070, 0.02166, 0.01976, 0.01568, 0.01865, 0.01570, 0.01387, 0.01691, 0.01734, 0.01692, 0.01465, 0.01457, 0.01413, 0.09297, 0.04782, 0.03192, 0.02954, 0.02985, 0.02113, 0.02043, 0.01951, 0.02252, 0.01657, 0.02265, 0.01791, 0.01418, 0.01552, 0.02073, 0.01962, 0.01471, 0.01798, 0.01716, 0.01886, 0.02230, 0.01667, 0.01570, 0.01580, 0.02053, 0.02014, 0.01884, 0.03210, 0.02660, 0.02346, 0.01378, 0.01570, 0.01560, 0.02356, 0.01564, 0.02304, 0.02040, 0.01815, 0.01601, 0.01943, 0.01793, 0.01674, 0.01604, 0.01498, 0.01784, 0.01493, 0.01506, 0.01481, 0.01492, 0.01769, 0.01636, 0.01764, 0.01865, 0.01546, 0.05320, 0.02848, 0.02258, 0.02359, 0.02061, 0.01702, 0.02137, 0.01563, 0.01595, 0.01563, 0.01991, 0.01564, 0.01733, 0.01731, 0.01755, 0.01821, 0.02041, 0.02449, 0.01721, 0.01571, 0.01620, 0.01714, 0.01745, 0.01692, 0.01787, 0.02710, 0.02218, 0.01697, 0.02014, 0.02264, 0.01418, 0.02099, 0.03264, 0.02408, 0.02334, 0.01606, 0.01717, 0.01616, 0.02196, 0.01832, 0.01987, 0.01742, 0.01525, 0.01645, 0.01756, 0.01623, 0.01770, 0.01649, 0.02554, 0.02212, 0.02220, 0.01823, 0.01966, 0.01660, 0.01532, 0.01612, 0.02050, 0.01879, 0.02061, 0.01661, 0.01948, 0.01687, 0.01635]\n"
     ]
    }
   ],
   "source": [
    "%%time\n",
    "start_params = {'max_depth': 8, 'learning_rate':0.3, 'transposed_feature1111': 1, 'unbalanced_penalty':0.001}\n",
    "tf.constant\n",
    "forest.time1 = forest.time2 =0\n",
    "forest.time3 = []\n",
    "with tf.Session(graph=split_maker.graph) as s:\n",
    "    tree = build_tree(start_params, EMatrix(featuresT if split_maker.reduce_axis==1 else features, \n",
    "                                            label, np.zeros(label.shape), \n",
    "                                            gax=global_axT if split_maker.reduce_axis==1 else global_ax, \n",
    "                                            splitgax=True), split_maker=split_maker, sess=s)\n",
    "print(\"\\nsplit time = {:.5f}, {:.5f}, [{}]\".format(forest.time1, forest.time2, \", \".join(\"{:.5f}\".format(tt) for tt in forest.time3)), file=sys.stderr)\n",
    "tree_arrays = forest.init_arrays(tree, forest.init_id(tree))"
   ]
  },
  {
   "cell_type": "code",
   "execution_count": 61,
   "metadata": {},
   "outputs": [],
   "source": [
    "import pstats\n",
    "p = pstats.Stats('build_tree.prof')\n",
    "#p.sort_stats('tottime').print_stats()"
   ]
  },
  {
   "cell_type": "code",
   "execution_count": 62,
   "metadata": {},
   "outputs": [
    {
     "data": {
      "text/plain": [
       "(0.564954307935, 0.5019091667880746, 0.5)"
      ]
     },
     "execution_count": 62,
     "metadata": {},
     "output_type": "execute_result"
    }
   ],
   "source": [
    "pred = forest.tree_apply(tree_arrays, features)\n",
    "pred_test = forest.tree_apply(tree_arrays, f_test)\n",
    "auc1l = metrics.roc_auc_score(label[:, 0], pred)\n",
    "auc1t = metrics.roc_auc_score(label[:, 0], pred_test)\n",
    "auc0 = metrics.roc_auc_score(label[:, 0], np.zeros(label.shape[0]))\n",
    "auc1l, auc1t, auc0"
   ]
  },
  {
   "cell_type": "code",
   "execution_count": 63,
   "metadata": {
    "collapsed": false,
    "deletable": true,
    "editable": true
   },
   "outputs": [
    {
     "data": {
      "text/plain": [
       "<forest.TreeNode at 0x7fe20f3e6cc0>"
      ]
     },
     "execution_count": 63,
     "metadata": {},
     "output_type": "execute_result"
    }
   ],
   "source": [
    "#tree.left.left.left.left.val, tree.val\n",
    "tree.left.left"
   ]
  },
  {
   "cell_type": "code",
   "execution_count": 64,
   "metadata": {
    "collapsed": false,
    "deletable": true,
    "editable": true
   },
   "outputs": [],
   "source": [
    "#forest.tree2gv(tree)"
   ]
  },
  {
   "cell_type": "code",
   "execution_count": null,
   "metadata": {
    "collapsed": false
   },
   "outputs": [],
   "source": []
  },
  {
   "cell_type": "code",
   "execution_count": 65,
   "metadata": {
    "collapsed": false
   },
   "outputs": [
    {
     "name": "stderr",
     "output_type": "stream",
     "text": [
      "\n",
      "0 round\n",
      "1  2  3  4  4  3  4  4  2  3  4  4  3  4  4  1  2  3  4  4  3  4  4  2  3  4  4  3  4  4  \n",
      "1 round\n",
      "1  2  3  4  4  3  4  4  2  3  4  4  3  4  4  1  2  3  4  4  3  4  4  2  3  4  4  3  4  4  \n",
      "2 round\n",
      "1  2  3  4  4  3  4  4  2  3  4  4  3  4  4  1  2  3  4  4  3  4  4  2  3  4  4  3  4  4  \n",
      "3 round\n",
      "1  2  3  4  4  3  4  4  2  3  4  4  3  4  4  1  2  3  4  4  3  4  4  2  3  4  4  3  4  4  \n",
      "4 round\n",
      "1  2  3  4  4  3  4  4  2  3  4  4  3  4  4  1  2  3  4  4  3  4  4  2  3  4  4  3  4  4  \n",
      "5 round\n",
      "1  2  3  4  4  3  4  4  2  3  4  4  3  4  4  1  2  3  4  4  3  4  4  2  3  4  4  3  4  4  \n",
      "6 round\n",
      "1  2  3  4  4  3  4  4  2  3  4  4  3  4  4  1  2  3  4  4  3  4  4  2  3  4  4  3  4  4  \n",
      "7 round\n",
      "1  2  3  4  4  3  4  4  2  3  4  4  3  4  4  1  2  3  4  4  3  4  4  2  3  4  4  3  4  4  \n",
      "8 round\n",
      "1  2  3  4  4  3  4  4  2  3  4  4  3  4  4  1  2  3  4  4  3  4  4  2  3  4  4  3  4  4  \n",
      "9 round\n",
      "1  2  3  4  4  3  4  4  2  3  4  4  3  4  4  1  2  3  4  4  3  4  4  2  3  4  4  3  4  4  "
     ]
    },
    {
     "name": "stdout",
     "output_type": "stream",
     "text": [
      "CPU times: user 17.6 s, sys: 76.9 ms, total: 17.7 s\n",
      "Wall time: 6.85 s\n"
     ]
    }
   ],
   "source": [
    "%%time\n",
    "boost_params = {'max_depth': 4, 'learning_rate':0.3, 'splitgax': True, 'transposed_feature': 0, 'unbalanced_penalty':0.001}\n",
    "booster = forest.train(boost_params, EMatrix(featuresT if boost_params['transposed_feature'] else features, label), num_boost_round=10)"
   ]
  },
  {
   "cell_type": "code",
   "execution_count": 66,
   "metadata": {},
   "outputs": [],
   "source": [
    "####################################################"
   ]
  },
  {
   "cell_type": "code",
   "execution_count": 67,
   "metadata": {},
   "outputs": [],
   "source": [
    "#%%time\n",
    "#gax13 = make_gax(features)\n",
    "#print(gax13.shape)"
   ]
  },
  {
   "cell_type": "code",
   "execution_count": 68,
   "metadata": {
    "collapsed": false
   },
   "outputs": [
    {
     "data": {
      "text/plain": [
       "(0.5605287476686079, 0.5402890562386409)"
      ]
     },
     "execution_count": 68,
     "metadata": {},
     "output_type": "execute_result"
    }
   ],
   "source": [
    "pred2 = booster.predict(features)\n",
    "pred2b = booster.predict(features, tree_limit=10)\n",
    "pred_test = booster.predict(f_test)\n",
    "main_auc_l = metrics.roc_auc_score(label[:, 0], pred2)\n",
    "main_auc_t = metrics.roc_auc_score(l_test[:, 0], pred_test)\n",
    "main_auc_l, main_auc_t"
   ]
  },
  {
   "cell_type": "code",
   "execution_count": 17,
   "metadata": {},
   "outputs": [
    {
     "data": {
      "text/plain": [
       "(0.5783850422568331, 0.547297544877569)"
      ]
     },
     "execution_count": 17,
     "metadata": {},
     "output_type": "execute_result"
    }
   ],
   "source": [
    "0.5783850422568331,0.547297544877569"
   ]
  },
  {
   "cell_type": "code",
   "execution_count": 18,
   "metadata": {},
   "outputs": [],
   "source": [
    "#np.min(pred2b), np.max(pred2b)"
   ]
  },
  {
   "cell_type": "code",
   "execution_count": 19,
   "metadata": {
    "collapsed": true
   },
   "outputs": [
    {
     "ename": "NameError",
     "evalue": "name 'tree2gv' is not defined",
     "output_type": "error",
     "traceback": [
      "\u001b[0;31m---------------------------------------------------------------------------\u001b[0m",
      "\u001b[0;31mNameError\u001b[0m                                 Traceback (most recent call last)",
      "\u001b[0;32m<ipython-input-19-999c0bfb0260>\u001b[0m in \u001b[0;36m<module>\u001b[0;34m()\u001b[0m\n\u001b[0;32m----> 1\u001b[0;31m \u001b[0mtree2gv\u001b[0m\u001b[0;34m(\u001b[0m\u001b[0mbooster\u001b[0m\u001b[0;34m.\u001b[0m\u001b[0mforest\u001b[0m\u001b[0;34m[\u001b[0m\u001b[0;36m45\u001b[0m\u001b[0;34m]\u001b[0m\u001b[0;34m[\u001b[0m\u001b[0;36m0\u001b[0m\u001b[0;34m]\u001b[0m\u001b[0;34m)\u001b[0m\u001b[0;34m\u001b[0m\u001b[0m\n\u001b[0m",
      "\u001b[0;31mNameError\u001b[0m: name 'tree2gv' is not defined"
     ]
    }
   ],
   "source": [
    "tree2gv(booster.forest[45][0])"
   ]
  },
  {
   "cell_type": "code",
   "execution_count": 20,
   "metadata": {},
   "outputs": [],
   "source": [
    "dmat = xgb.DMatrix(features, label)"
   ]
  },
  {
   "cell_type": "code",
   "execution_count": 22,
   "metadata": {},
   "outputs": [
    {
     "name": "stdout",
     "output_type": "stream",
     "text": [
      "[23:00:48] /workspace/src/tree/updater_prune.cc:74: tree pruning end, 1 roots, 28 extra nodes, 0 pruned nodes, max_depth=4\n",
      "[23:00:48] /workspace/src/tree/updater_prune.cc:74: tree pruning end, 1 roots, 30 extra nodes, 0 pruned nodes, max_depth=4\n",
      "[23:00:48] /workspace/src/tree/updater_prune.cc:74: tree pruning end, 1 roots, 30 extra nodes, 0 pruned nodes, max_depth=4\n",
      "[23:00:48] /workspace/src/tree/updater_prune.cc:74: tree pruning end, 1 roots, 30 extra nodes, 0 pruned nodes, max_depth=4\n",
      "[23:00:48] /workspace/src/tree/updater_prune.cc:74: tree pruning end, 1 roots, 30 extra nodes, 0 pruned nodes, max_depth=4\n",
      "[23:00:48] /workspace/src/tree/updater_prune.cc:74: tree pruning end, 1 roots, 30 extra nodes, 0 pruned nodes, max_depth=4\n",
      "[23:00:48] /workspace/src/tree/updater_prune.cc:74: tree pruning end, 1 roots, 30 extra nodes, 0 pruned nodes, max_depth=4\n",
      "[23:00:48] /workspace/src/tree/updater_prune.cc:74: tree pruning end, 1 roots, 30 extra nodes, 0 pruned nodes, max_depth=4\n",
      "[23:00:48] /workspace/src/tree/updater_prune.cc:74: tree pruning end, 1 roots, 30 extra nodes, 0 pruned nodes, max_depth=4\n",
      "[23:00:48] /workspace/src/tree/updater_prune.cc:74: tree pruning end, 1 roots, 30 extra nodes, 0 pruned nodes, max_depth=4\n",
      "CPU times: user 4.31 s, sys: 14.5 ms, total: 4.33 s\n",
      "Wall time: 435 ms\n"
     ]
    }
   ],
   "source": [
    "%%time\n",
    "params = {'max_depth': 4, 'objective': 'binary:logistic', 'eta': 0.3, 'tree_method': 'exact', 'lambda': 1}\n",
    "model = xgb.train(params, dmat, num_boost_round=10)"
   ]
  },
  {
   "cell_type": "code",
   "execution_count": 23,
   "metadata": {},
   "outputs": [],
   "source": [
    "dmat_test = xgb.DMatrix(f_test, l_test)"
   ]
  },
  {
   "cell_type": "code",
   "execution_count": 24,
   "metadata": {},
   "outputs": [
    {
     "data": {
      "text/plain": [
       "(0.564382620107551, 0.5476151803114241)"
      ]
     },
     "execution_count": 24,
     "metadata": {},
     "output_type": "execute_result"
    }
   ],
   "source": [
    "pred_fast = model.predict(dmat)\n",
    "pred_test = model.predict(dmat_test)\n",
    "\n",
    "metrics.roc_auc_score(label[:, 0], pred_fast), metrics.roc_auc_score(l_test[:, 0], pred_test)"
   ]
  },
  {
   "cell_type": "code",
   "execution_count": null,
   "metadata": {},
   "outputs": [],
   "source": [
    "pred_fast = model.predict(dmat, ntree_limit=35)\n",
    "metrics.roc_auc_score(label[:, 0], pred_fast)"
   ]
  },
  {
   "cell_type": "code",
   "execution_count": null,
   "metadata": {},
   "outputs": [],
   "source": [
    "pred2b = booster.predict(features, tree_limit=15)\n",
    "metrics.roc_auc_score(label[:, 0], pred2b)"
   ]
  },
  {
   "cell_type": "code",
   "execution_count": null,
   "metadata": {},
   "outputs": [],
   "source": [
    "0.5987831226886691, 0.5457320402572653"
   ]
  },
  {
   "cell_type": "code",
   "execution_count": null,
   "metadata": {},
   "outputs": [],
   "source": [
    "qq = -np.log(1/pred_fast-1) \n",
    "np.min(qq), np.max(qq)"
   ]
  },
  {
   "cell_type": "code",
   "execution_count": null,
   "metadata": {},
   "outputs": [],
   "source": [
    "diff = np.abs(qq - pred2b)\n",
    "np.mean(diff > 0.1)"
   ]
  },
  {
   "cell_type": "code",
   "execution_count": null,
   "metadata": {},
   "outputs": [],
   "source": [
    "model.dump_model('xgb.dump')"
   ]
  },
  {
   "cell_type": "code",
   "execution_count": null,
   "metadata": {},
   "outputs": [],
   "source": [
    "tree2gv(booster.forest[1][0])"
   ]
  },
  {
   "cell_type": "code",
   "execution_count": null,
   "metadata": {},
   "outputs": [],
   "source": [
    "!cat xgb.dump | tail -n+$(echo 39*31+31 | bc) | head -n 100"
   ]
  },
  {
   "cell_type": "markdown",
   "metadata": {},
   "source": [
    "### Extra begins here"
   ]
  },
  {
   "cell_type": "code",
   "execution_count": 32,
   "metadata": {},
   "outputs": [],
   "source": [
    "extra_f = time_features(f_time)"
   ]
  },
  {
   "cell_type": "code",
   "execution_count": 33,
   "metadata": {},
   "outputs": [
    {
     "data": {
      "text/plain": [
       "(300000, 2)"
      ]
     },
     "execution_count": 33,
     "metadata": {},
     "output_type": "execute_result"
    }
   ],
   "source": [
    "extra_f.shape"
   ]
  },
  {
   "cell_type": "code",
   "execution_count": 43,
   "metadata": {},
   "outputs": [],
   "source": [
    "f_train, extra_f_train, label_train = subpool((features_orig, extra_f, label_orig), f_time, (0, 0.2))"
   ]
  },
  {
   "cell_type": "code",
   "execution_count": 44,
   "metadata": {},
   "outputs": [
    {
     "data": {
      "text/plain": [
       "((59816, 15), (59816, 2), (59816, 1))"
      ]
     },
     "execution_count": 44,
     "metadata": {},
     "output_type": "execute_result"
    }
   ],
   "source": [
    "f_train.shape, extra_f_train.shape, label_train.shape"
   ]
  },
  {
   "cell_type": "code",
   "execution_count": 45,
   "metadata": {},
   "outputs": [
    {
     "name": "stderr",
     "output_type": "stream",
     "text": [
      "\n",
      "0 round\n",
      "1  2  3  4  4  3  4  4  2  3  4  4  3  4  4  1  2  3  4  4  3  4  4  2  3  4  4  3  4  4  \n",
      "1 round\n",
      "1  2  3  4  4  3  4  4  2  3  4  4  3  4  4  1  2  3  4  4  3  4  4  2  3  4  4  3  4  4  \n",
      "2 round\n",
      "1  2  3  4  4  3  4  4  2  3  4  4  3  4  4  1  2  3  4  4  3  4  4  2  3  4  4  3  4  4  \n",
      "3 round\n",
      "1  2  3  4  4  3  4  4  2  3  4  4  3  4  4  1  2  3  4  4  3  4  4  2  3  4  4  3  4  4  \n",
      "4 round\n",
      "1  2  3  4  4  3  4  4  2  3  4  4  3  4  4  1  2  3  4  4  3  4  4  2  3  4  4  3  4  4  \n",
      "5 round\n",
      "1  2  3  4  4  3  4  4  2  3  4  4  3  4  4  1  2  3  4  4  3  4  4  2  3  4  4  3  4  4  \n",
      "6 round\n",
      "1  2  3  4  4  3  4  4  2  3  4  4  3  4  4  1  2  3  4  4  3  4  4  2  3  4  4  3  4  4  \n",
      "7 round\n",
      "1  2  3  4  4  3  4  4  2  3  4  4  3  4  4  1  2  3  4  4  3  4  4  2  3  4  4  3  4  4  \n",
      "8 round\n",
      "1  2  3  4  4  3  4  4  2  3  4  4  3  4  4  1  2  3  4  4  3  4  4  2  3  4  4  3  4  4  \n",
      "9 round\n",
      "1  2  3  4  4  3  4  4  2  3  4  4  3  4  4  1  2  3  4  4  3  4  4  2  3  4  4  3  4  4  \n",
      "10 round\n",
      "1  2  3  4  4  3  4  4  2  3  4  4  3  4  4  1  2  3  4  4  3  4  4  2  3  4  4  3  4  4  \n",
      "11 round\n",
      "1  2  3  4  4  3  4  4  2  3  4  4  3  4  4  1  2  3  4  4  3  4  4  2  3  4  4  3  4  4  \n",
      "12 round\n",
      "1  2  3  4  4  3  4  4  2  3  4  4  3  4  4  1  2  3  4  4  3  4  4  2  3  4  4  3  4  4  \n",
      "13 round\n",
      "1  2  3  4  4  3  4  4  2  3  4  4  3  4  4  1  2  3  4  4  3  4  4  2  3  4  4  3  4  4  \n",
      "14 round\n",
      "1  2  3  4  4  3  4  4  2  3  4  4  3  4  4  1  2  3  4  4  3  4  4  2  3  4  4  3  4  4  \n",
      "15 round\n",
      "1  2  3  4  4  3  4  4  2  3  4  4  3  4  4  1  2  3  4  4  3  4  4  2  3  4  4  3  4  4  \n",
      "16 round\n",
      "1  2  3  4  4  3  4  4  2  3  4  4  3  4  4  1  2  3  4  4  3  4  4  2  3  4  4  3  4  4  \n",
      "17 round\n",
      "1  2  3  4  4  3  4  4  2  3  4  4  3  4  4  1  2  3  4  4  3  4  4  2  3  4  4  3  4  4  \n",
      "18 round\n",
      "1  2  3  4  4  3  4  4  2  3  4  4  3  4  4  1  2  3  4  4  3  4  4  2  3  4  4  3  4  4  \n",
      "19 round\n",
      "1  2  3  4  4  3  4  4  2  3  4  4  3  4  4  1  2  3  4  4  3  4  4  2  3  4  4  3  4  4  \n",
      "20 round\n",
      "1  2  3  4  4  3  4  4  2  3  4  4  3  4  4  1  2  3  4  4  3  4  4  2  3  4  4  3  4  4  \n",
      "21 round\n",
      "1  2  3  4  4  3  4  4  2  3  4  4  3  4  4  1  2  3  4  4  3  4  4  2  3  4  4  3  4  4  \n",
      "22 round\n",
      "1  2  3  4  4  3  4  4  2  3  4  4  3  4  4  1  2  3  4  4  3  4  4  2  3  4  4  3  4  4  \n",
      "23 round\n",
      "1  2  3  4  4  3  4  4  2  3  4  4  3  4  4  1  2  3  4  4  3  4  4  2  3  4  4  3  4  4  \n",
      "24 round\n",
      "1  2  3  4  4  3  4  4  2  3  4  4  3  4  4  1  2  3  4  4  3  4  4  2  3  4  4  3  \n",
      "25 round\n",
      "1  2  3  4  4  3  4  4  2  3  4  4  3  4  4  1  2  3  4  4  3  4  4  2  3  4  4  3  4  4  \n",
      "26 round\n",
      "1  2  3  4  4  3  4  4  2  3  4  4  3  4  4  1  2  3  4  4  3  4  4  2  3  4  4  3  4  4  \n",
      "27 round\n",
      "1  2  3  4  4  3  4  4  2  3  4  4  3  4  4  1  2  3  4  4  3  4  4  2  3  4  4  3  4  4  \n",
      "28 round\n",
      "1  2  3  4  4  3  4  4  2  3  4  4  3  4  4  1  2  3  4  4  3  4  4  2  3  4  4  3  4  4  \n",
      "29 round\n",
      "1  2  3  4  4  3  4  4  2  3  4  4  3  4  4  1  2  3  4  4  3  4  4  2  3  4  4  3  4  4  \n",
      "30 round\n",
      "1  2  3  4  4  3  4  4  2  3  4  4  3  4  4  1  2  3  4  4  3  4  4  2  3  4  4  3  4  4  \n",
      "31 round\n",
      "1  2  3  4  4  3  4  4  2  3  4  4  3  4  4  1  2  3  4  4  3  4  4  2  3  4  4  3  4  4  \n",
      "32 round\n",
      "1  2  3  4  4  3  4  4  2  3  4  4  3  4  4  1  2  3  4  4  3  4  4  2  3  4  4  3  4  4  \n",
      "33 round\n",
      "1  2  3  4  4  3  4  4  2  3  4  4  3  4  4  1  2  3  4  4  3  4  4  2  3  4  4  3  4  4  \n",
      "34 round\n",
      "1  2  3  4  4  3  4  4  2  3  4  4  3  4  4  1  2  3  4  4  3  4  4  2  3  4  4  3  4  4  \n",
      "35 round\n",
      "1  2  3  4  4  3  4  4  2  3  4  4  3  4  4  1  2  3  4  4  3  4  4  2  3  4  4  3  4  4  \n",
      "36 round\n",
      "1  2  3  4  4  3  4  4  2  3  4  4  3  4  4  1  2  3  4  4  3  4  4  2  3  4  4  3  4  4  \n",
      "37 round\n",
      "1  2  3  4  4  3  4  4  2  3  4  4  3  4  4  1  2  3  4  4  3  4  4  2  3  4  4  3  4  4  \n",
      "38 round\n",
      "1  2  3  4  4  3  4  4  2  3  4  4  3  4  4  1  2  3  4  4  3  4  4  2  3  4  4  3  4  4  \n",
      "39 round\n",
      "1  2  3  4  4  3  4  4  2  3  4  4  3  4  4  1  2  3  4  4  3  4  4  2  3  4  4  3  4  4  \n",
      "40 round\n",
      "1  2  3  4  4  3  4  4  2  3  4  4  3  4  4  1  2  3  4  4  3  4  4  2  3  4  4  3  4  4  \n",
      "41 round\n",
      "1  2  3  4  4  3  4  4  2  3  4  4  3  4  4  1  2  3  4  4  3  4  4  2  3  4  4  3  4  4  \n",
      "42 round\n",
      "1  2  3  4  4  3  4  4  2  3  4  4  3  4  4  1  2  3  4  4  3  4  4  2  3  4  4  3  4  4  \n",
      "43 round\n",
      "1  2  3  4  4  3  4  4  2  3  4  4  3  4  4  1  2  3  4  4  3  4  4  2  3  4  4  3  4  4  \n",
      "44 round\n",
      "1  2  3  4  4  3  4  4  2  3  4  4  3  4  4  1  2  3  4  4  3  4  4  2  3  4  4  3  4  4  \n",
      "45 round\n",
      "1  2  3  4  4  3  4  4  2  3  4  4  3  4  4  1  2  3  4  4  3  4  4  2  3  4  4  3  4  4  \n",
      "46 round\n",
      "1  2  3  4  4  3  4  4  2  3  4  4  3  4  4  1  2  3  4  4  3  4  4  2  3  4  4  3  4  4  \n",
      "47 round\n",
      "1  2  3  4  4  3  4  4  2  3  4  4  3  4  4  1  2  3  4  4  3  4  4  2  3  4  4  3  4  4  \n",
      "48 round\n",
      "1  2  3  4  4  3  4  4  2  3  4  4  3  4  4  1  2  3  4  4  3  4  4  2  3  4  4  3  4  4  \n",
      "49 round\n",
      "1  2  3  4  4  3  4  4  2  3  4  4  3  4  4  1  "
     ]
    },
    {
     "name": "stdout",
     "output_type": "stream",
     "text": [
      "CPU times: user 42.6 s, sys: 2.2 s, total: 44.8 s\n",
      "Wall time: 17.7 s\n"
     ]
    },
    {
     "name": "stderr",
     "output_type": "stream",
     "text": [
      "2  3  4  4  3  4  4  2  3  4  4  3  4  4  "
     ]
    }
   ],
   "source": [
    "%%time\n",
    "boost_params = {'max_depth': 4, 'learning_rate':0.1, 'splitgax': True, 'transposed_feature': 0, 'unbalanced_penalty':0.001}\n",
    "booster = forest.train(boost_params, EMatrix(f_train.T if boost_params['transposed_feature'] else f_train, label_train), num_boost_round=50)"
   ]
  },
  {
   "cell_type": "code",
   "execution_count": 46,
   "metadata": {},
   "outputs": [],
   "source": [
    "whole_prediction = booster.predict(features_orig)"
   ]
  },
  {
   "cell_type": "code",
   "execution_count": 50,
   "metadata": {},
   "outputs": [
    {
     "name": "stdout",
     "output_type": "stream",
     "text": [
      "(0.0, 0.05) score = 0.7474347329785658\n",
      "(0.05, 0.1) score = 0.7136549630003847\n",
      "(0.1, 0.15) score = 0.6905347190056565\n",
      "(0.15, 0.2) score = 0.6742037678268004\n",
      "(0.2, 0.25) score = 0.6189839539404536\n",
      "(0.25, 0.3) score = 0.6130939220466572\n",
      "(0.3, 0.35) score = 0.5822061545827396\n",
      "(0.35, 0.4) score = 0.5499274195800611\n",
      "(0.4, 0.45) score = 0.5434790274825424\n",
      "(0.45, 0.5) score = 0.5186325268988002\n",
      "(0.5, 0.55) score = 0.4874239058772766\n",
      "(0.55, 0.6) score = 0.4641952642235025\n",
      "(0.6, 0.65) score = 0.43741246201696643\n",
      "(0.65, 0.7) score = 0.41581390645412536\n",
      "(0.7, 0.75) score = 0.3783613660486673\n",
      "(0.75, 0.8) score = 0.34287195722266955\n",
      "(0.8, 0.85) score = 0.31103091450570697\n",
      "(0.85, 0.9) score = 0.27720118942703326\n",
      "(0.9, 0.95) score = 0.24198711458066374\n",
      "(0.95, 1.0) score = 0.1948191703750582\n"
     ]
    }
   ],
   "source": [
    "test_extra_predictions(20, f_time, label_orig, whole_prediction)"
   ]
  },
  {
   "cell_type": "code",
   "execution_count": null,
   "metadata": {},
   "outputs": [],
   "source": []
  }
 ],
 "metadata": {
  "kernelspec": {
   "display_name": "Python 3",
   "language": "python",
   "name": "python3"
  },
  "language_info": {
   "codemirror_mode": {
    "name": "ipython",
    "version": 3
   },
   "file_extension": ".py",
   "mimetype": "text/x-python",
   "name": "python",
   "nbconvert_exporter": "python",
   "pygments_lexer": "ipython3",
   "version": "3.5.2"
  }
 },
 "nbformat": 4,
 "nbformat_minor": 2
}
