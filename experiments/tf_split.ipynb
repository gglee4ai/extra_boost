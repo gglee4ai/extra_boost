{
 "cells": [
  {
   "cell_type": "code",
   "execution_count": 2,
   "metadata": {
    "collapsed": false,
    "deletable": true,
    "editable": true
   },
   "outputs": [
    {
     "name": "stderr",
     "output_type": "stream",
     "text": [
      "/usr/local/Cellar/python/3.6.4_3/Frameworks/Python.framework/Versions/3.6/lib/python3.6/importlib/_bootstrap.py:219: RuntimeWarning: numpy.dtype size changed, may indicate binary incompatibility. Expected 96, got 88\n",
      "  return f(*args, **kwds)\n",
      "/usr/local/Cellar/python/3.6.4_3/Frameworks/Python.framework/Versions/3.6/lib/python3.6/importlib/_bootstrap.py:219: RuntimeWarning: numpy.dtype size changed, may indicate binary incompatibility. Expected 96, got 88\n",
      "  return f(*args, **kwds)\n"
     ]
    }
   ],
   "source": [
    "import sys, os, io, json, numpy as np, random\n",
    "#from sklearn.metrics import roc_auc_score\n",
    "#import xgboost as xgb\n",
    "import tensorflow as tf\n",
    "import pandas as pd\n",
    "from split import split_graph, split_interface, make_split\n",
    "import graphviz\n",
    "from sklearn import metrics"
   ]
  },
  {
   "cell_type": "code",
   "execution_count": 3,
   "metadata": {
    "collapsed": true,
    "deletable": true,
    "editable": true
   },
   "outputs": [],
   "source": [
    "pool = np.load('../prepare_dataset/pool_00.npz')\n",
    "features_bool, f_time, label = (pool[name] for name in ['features', 'f_time', 'label'])"
   ]
  },
  {
   "cell_type": "code",
   "execution_count": 4,
   "metadata": {
    "collapsed": false,
    "deletable": true,
    "editable": true
   },
   "outputs": [],
   "source": [
    "features = np.random.normal(loc=features_bool*1.0, scale=1.0)"
   ]
  },
  {
   "cell_type": "code",
   "execution_count": 5,
   "metadata": {
    "collapsed": false,
    "deletable": true,
    "editable": true
   },
   "outputs": [],
   "source": [
    "#features_swap = features.copy()\n",
    "#features_swap[:,0],features_swap[:,7] = features_swap[:,7],features_swap[:,0]\n",
    "features_swap = np.concatenate([features[:,7:8], features[:,1:7], features[:,0:1], features[:,8:]], axis=1)"
   ]
  },
  {
   "cell_type": "code",
   "execution_count": 6,
   "metadata": {
    "collapsed": false,
    "deletable": true,
    "editable": true
   },
   "outputs": [
    {
     "name": "stdout",
     "output_type": "stream",
     "text": [
      "CPU times: user 5.4 s, sys: 805 ms, total: 6.21 s\n",
      "Wall time: 2.22 s\n"
     ]
    },
    {
     "data": {
      "text/plain": [
       "{'avg_current_loss': array([0.69314718]),\n",
       " 'best_avg_loss': 0.6124091340894955,\n",
       " 'best_delta_down': -0.8576827683949451,\n",
       " 'best_delta_up': -0.7922214464000513,\n",
       " 'best_feature_index': 0,\n",
       " 'best_index': 249197,\n",
       " 'best_loss': 183722.74022684863,\n",
       " 'current_loss': array([207944.15416803]),\n",
       " 'thr': 1.2566736700329577}"
      ]
     },
     "execution_count": 6,
     "metadata": {},
     "output_type": "execute_result"
    }
   ],
   "source": [
    "%%time\n",
    "make_split(np.zeros(label.shape), features, label)"
   ]
  },
  {
   "cell_type": "code",
   "execution_count": 7,
   "metadata": {
    "collapsed": false,
    "deletable": true,
    "editable": true
   },
   "outputs": [
    {
     "name": "stdout",
     "output_type": "stream",
     "text": [
      "CPU times: user 5.36 s, sys: 563 ms, total: 5.92 s\n",
      "Wall time: 2.28 s\n"
     ]
    },
    {
     "data": {
      "text/plain": [
       "{'avg_current_loss': array([0.69314718]),\n",
       " 'best_avg_loss': 0.6124091340894955,\n",
       " 'best_delta_down': -0.8576827683949451,\n",
       " 'best_delta_up': -0.7922214464000513,\n",
       " 'best_feature_index': 7,\n",
       " 'best_index': 249197,\n",
       " 'best_loss': 183722.74022684863,\n",
       " 'current_loss': array([207944.15416803]),\n",
       " 'thr': 1.2566736700329577}"
      ]
     },
     "execution_count": 7,
     "metadata": {},
     "output_type": "execute_result"
    }
   ],
   "source": [
    "%%time\n",
    "make_split(np.zeros(label.shape), features_swap, label)"
   ]
  },
  {
   "cell_type": "code",
   "execution_count": null,
   "metadata": {
    "collapsed": true
   },
   "outputs": [],
   "source": []
  },
  {
   "cell_type": "code",
   "execution_count": 8,
   "metadata": {
    "collapsed": true,
    "deletable": true,
    "editable": true
   },
   "outputs": [],
   "source": [
    "class EMatrix:\n",
    "    def __init__(self, features, label, bias=None):\n",
    "        self.bias = bias\n",
    "        self.features = features\n",
    "        self.label = label"
   ]
  },
  {
   "cell_type": "code",
   "execution_count": 9,
   "metadata": {
    "collapsed": true,
    "deletable": true,
    "editable": true
   },
   "outputs": [],
   "source": [
    "class LeafData:\n",
    "    def __init__(self, info):\n",
    "        self.val = info['prediction'] * info['learning_rate']\n",
    "        \n",
    "    def to_text(self, floatformat = '.6f'):\n",
    "        return ('{:'+ floatformat + '}').format(self.val)\n",
    "    \n",
    "    def shape(self):\n",
    "        return 'box'\n",
    "\n",
    "class SplitData:\n",
    "    def __init__(self, val):\n",
    "        self.val = val\n",
    "        \n",
    "    def to_text(self, floatformat = '.4f'):\n",
    "        return ('f_{{{ind}}} < {thr:'+floatformat+'}').format(ind=self.val['best_feature_index'], thr=self.val['thr'])\n",
    "    \n",
    "        \n",
    "class TreeNode:\n",
    "    def __init__(self):\n",
    "        self.left = None\n",
    "        self.right = None\n",
    "        self.depth = 0\n",
    "        self.val = None\n",
    "        self.id = None\n",
    "        \n",
    "    def to_text(self, floatformat = '.6f'):\n",
    "        return self.val.to_text(floatformat)\n",
    "    \n",
    "    def shape(self):\n",
    "        return 'circle'\n",
    "        "
   ]
  },
  {
   "cell_type": "code",
   "execution_count": 10,
   "metadata": {
    "collapsed": true
   },
   "outputs": [],
   "source": [
    "def init_id_helper(node, current_id):\n",
    "    node.id = current_id[0]\n",
    "    current_id[0] += 1\n",
    "    if not isinstance(node, TreeNode):\n",
    "        return\n",
    "    init_id_helper(node.left, current_id)\n",
    "    init_id_helper(node.right, current_id)\n",
    "\n",
    "def init_id(root):\n",
    "    current_id = [0]\n",
    "    init_id_helper(root, current_id)\n",
    "    return current_id[0]"
   ]
  },
  {
   "cell_type": "code",
   "execution_count": 11,
   "metadata": {
    "collapsed": true
   },
   "outputs": [],
   "source": [
    "def init_arrays_helper(node, arrays):\n",
    "    if not isinstance(node, TreeNode):\n",
    "        arrays['is_leaf'][node.id] = 1\n",
    "        arrays['leaf_data'][node.id, 0] = node.val  # Leaf\n",
    "        return\n",
    "    init_arrays_helper(node.left, arrays)\n",
    "    init_arrays_helper(node.right, arrays)\n",
    "    arrays['yes_node'][node.id] = node.left.id\n",
    "    arrays['no_node'][node.id] = node.right.id\n",
    "    arrays['thresholds'][node.id] = node.val.val['thr']\n",
    "    arrays['features'][node.id] = node.val.val['best_feature_index']\n",
    "    arrays['is_leaf'][node.id] = 0\n",
    "    arrays['depths'][node.id] = node.depth\n",
    "    \n",
    "def init_arrays(root, n):\n",
    "    def empty_array():\n",
    "        return np.zeros(n, dtype=np.int32)\n",
    "    arrays = dict(features=empty_array(),\n",
    "                  thresholds=np.zeros(n, dtype=np.float32),\n",
    "                  yes_node=empty_array(),\n",
    "                  no_node=empty_array(),\n",
    "                  is_leaf=empty_array(),\n",
    "                  depths=empty_array(),\n",
    "                  leaf_data=np.zeros((n,1), dtype=np.float32)\n",
    "                 )\n",
    "    init_arrays_helper(root, arrays)\n",
    "    arrays['treedepth'] = np.max(arrays['depths'])\n",
    "    return arrays"
   ]
  },
  {
   "cell_type": "code",
   "execution_count": null,
   "metadata": {
    "collapsed": true
   },
   "outputs": [],
   "source": []
  },
  {
   "cell_type": "code",
   "execution_count": 12,
   "metadata": {
    "collapsed": true,
    "deletable": true,
    "editable": true
   },
   "outputs": [],
   "source": [
    "def prior_finish(params, info, parent):\n",
    "    if parent is None:\n",
    "        return False\n",
    "    return params['max_depth'] <= parent.depth\n",
    "\n",
    "def post_finish(params, info, split_info, parent):\n",
    "    if split_info['left_info']['ematrix'].label.shape[0] < 2:\n",
    "        return True\n",
    "    if split_info['right_info']['ematrix'].label.shape[0] < 2:\n",
    "        return True\n",
    "    return False"
   ]
  },
  {
   "cell_type": "code",
   "execution_count": 13,
   "metadata": {
    "collapsed": true,
    "deletable": true,
    "editable": true
   },
   "outputs": [],
   "source": [
    "def split_ematrix(ematrix):\n",
    "    split_info = make_split(ematrix.bias, ematrix.features, ematrix.label)\n",
    "    thr = split_info['thr']\n",
    "    features = ematrix.features\n",
    "    bias = ematrix.bias\n",
    "    label = ematrix.label\n",
    "    best_feature = features[:, split_info['best_feature_index']] < thr\n",
    "    best_feature_not = np.logical_not(best_feature)\n",
    "    left_ematrix = EMatrix(features[best_feature, :], label[best_feature], bias[best_feature])\n",
    "    right_ematrix = EMatrix(features[best_feature_not, :], label[best_feature_not], bias[best_feature_not])\n",
    "    left_info = {'prediction': split_info['best_delta_up'], 'ematrix': left_ematrix}\n",
    "    right_info = {'prediction': split_info['best_delta_down'], 'ematrix': right_ematrix}\n",
    "    split_info['left_info'] = left_info\n",
    "    split_info['right_info'] = right_info\n",
    "    return left_info, right_info, split_info"
   ]
  },
  {
   "cell_type": "code",
   "execution_count": 14,
   "metadata": {
    "collapsed": false,
    "deletable": true,
    "editable": true
   },
   "outputs": [],
   "source": [
    "def build_tree_helper(params, info, parent):\n",
    "    info['learning_rate'] = params['learning_rate']\n",
    "    if parent and parent.depth < 6:\n",
    "        print(\"{d}\".format(d=parent.depth) \n",
    "              if parent else '---',\n",
    "              \"\".format(shape=info['ematrix'].label.shape[0]),\n",
    "              end=' ', file=sys.stderr)\n",
    "    if prior_finish(params, info, parent):\n",
    "        return LeafData(info)\n",
    "    left_info, right_info, split_info = split_ematrix(info['ematrix'])\n",
    "    if post_finish(params, info, split_info, parent):\n",
    "        #print(split_info['right_info']['ematrix'].label.shape[0])\n",
    "        #print(split_info)\n",
    "        return LeafData(info)\n",
    "    node = TreeNode()\n",
    "    node.depth = parent.depth + 1 if parent else 1\n",
    "    node.val = SplitData(split_info)\n",
    "    node.left = build_tree_helper(params, left_info, node)\n",
    "    node.right = build_tree_helper(params, right_info, node)  \n",
    "    return node"
   ]
  },
  {
   "cell_type": "code",
   "execution_count": 15,
   "metadata": {
    "collapsed": true,
    "deletable": true,
    "editable": true
   },
   "outputs": [],
   "source": [
    "def build_tree(params, ematrix):\n",
    "    info = {'ematrix': ematrix}\n",
    "    return build_tree_helper(params, info=info, parent=None)"
   ]
  },
  {
   "cell_type": "code",
   "execution_count": 16,
   "metadata": {
    "collapsed": false
   },
   "outputs": [
    {
     "data": {
      "text/plain": [
       "((300000, 15), (300000, 1))"
      ]
     },
     "execution_count": 16,
     "metadata": {},
     "output_type": "execute_result"
    }
   ],
   "source": [
    "features.shape, label.shape"
   ]
  },
  {
   "cell_type": "code",
   "execution_count": 17,
   "metadata": {
    "collapsed": false
   },
   "outputs": [
    {
     "name": "stderr",
     "output_type": "stream",
     "text": [
      "1  2  3  4  4  3  4  4  2  3  4  4  3  4  4  1  2  3  4  4  3  4  4  2  3  4  4  3  4  4  "
     ]
    }
   ],
   "source": [
    "start_params = {'max_depth': 4, 'learning_rate':5}\n",
    "\n",
    "tree = build_tree(start_params, EMatrix(features, label, np.zeros(label.shape)))"
   ]
  },
  {
   "cell_type": "code",
   "execution_count": 18,
   "metadata": {
    "collapsed": false,
    "deletable": true,
    "editable": true
   },
   "outputs": [
    {
     "data": {
      "text/plain": [
       "(0.4, <__main__.SplitData at 0x1016d7550>)"
      ]
     },
     "execution_count": 18,
     "metadata": {},
     "output_type": "execute_result"
    }
   ],
   "source": [
    "tree.left.left.left.left.val, tree.val"
   ]
  },
  {
   "cell_type": "code",
   "execution_count": 19,
   "metadata": {
    "collapsed": true
   },
   "outputs": [],
   "source": [
    "def tree2gv(tree):\n",
    "    result = graphviz.Graph('ni')\n",
    "    #result.attr(size='12,0')\n",
    "    tree2gv_helper(tree, result, '')\n",
    "    return result"
   ]
  },
  {
   "cell_type": "code",
   "execution_count": 20,
   "metadata": {
    "collapsed": true,
    "deletable": true,
    "editable": true
   },
   "outputs": [],
   "source": [
    "def tree2gv_helper(node, result, id):\n",
    "    idn = id\n",
    "    result.node(idn, node.to_text(), shape='box') # node.shape())\n",
    "    if isinstance(node, LeafData):\n",
    "        return\n",
    "    if node.left is not None:\n",
    "        idl = id + '0'\n",
    "        tree2gv_helper(node.left, result, idl)\n",
    "        result.edge(idn, idl)\n",
    "    if node.right is not None:\n",
    "        idr = id + '1'\n",
    "        tree2gv_helper(node.right, result, idr)\n",
    "        result.edge(idn, idr)\n",
    "    \n",
    "    "
   ]
  },
  {
   "cell_type": "code",
   "execution_count": 21,
   "metadata": {
    "collapsed": false,
    "deletable": true,
    "editable": true
   },
   "outputs": [],
   "source": [
    "#tree2gv(tree)"
   ]
  },
  {
   "cell_type": "code",
   "execution_count": 22,
   "metadata": {
    "collapsed": false
   },
   "outputs": [
    {
     "data": {
      "text/plain": [
       "<__main__.TreeNode at 0x1016d7898>"
      ]
     },
     "execution_count": 22,
     "metadata": {},
     "output_type": "execute_result"
    }
   ],
   "source": [
    "tree"
   ]
  },
  {
   "cell_type": "code",
   "execution_count": 23,
   "metadata": {
    "collapsed": false
   },
   "outputs": [],
   "source": [
    "tree_arrays = init_arrays(tree, init_id(tree))"
   ]
  },
  {
   "cell_type": "code",
   "execution_count": 24,
   "metadata": {
    "collapsed": false
   },
   "outputs": [],
   "source": [
    "#tree_arrays"
   ]
  },
  {
   "cell_type": "code",
   "execution_count": 25,
   "metadata": {
    "collapsed": true
   },
   "outputs": [],
   "source": [
    "def tree_apply(tree_arrays, features):\n",
    "    qi = np.zeros(features.shape[0], dtype=np.int32)\n",
    "    for current_depth in range(tree_arrays['treedepth']):\n",
    "        fi = tree_arrays['features'][qi]\n",
    "        f = np.choose(fi, features.T)\n",
    "        t = tree_arrays['thresholds'][qi]\n",
    "        #print(qi, fi, f, t)\n",
    "        #if current_depth == 0: \n",
    "        #    print(fi, f.shape, features.shape, f)\n",
    "        answer = (f < t)*1\n",
    "        new_qi = answer*tree_arrays['yes_node'][qi] + (1-answer)*tree_arrays['no_node'][qi]\n",
    "        qi = new_qi\n",
    "    leaf_data = tree_arrays['leaf_data'][qi, 0]\n",
    "    return leaf_data"
   ]
  },
  {
   "cell_type": "code",
   "execution_count": 42,
   "metadata": {
    "collapsed": true
   },
   "outputs": [],
   "source": [
    "class EBooster:\n",
    "    def __init__(self, forest):\n",
    "        self.forest = forest\n",
    "    \n",
    "    def predict(self, features):\n",
    "        pred = np.zeros(features.shape[0], dtype=np.float32)\n",
    "        for tree, tree_arrays in self.forest:\n",
    "            pred = pred + tree_apply(tree_arrays, features)\n",
    "        return pred \n",
    "    \n",
    "def train(params, ematrix, num_boost_round = 10):\n",
    "    start_params = {'max_depth': 5, 'learning_rate': 0.3} \n",
    "    start_params.update(params)\n",
    "    \n",
    "    forest = []\n",
    "    bias = np.zeros(ematrix.label.shape)\n",
    "    for r in range(num_boost_round):\n",
    "        print(\"\\n{} round\".format(r), file=sys.stderr)\n",
    "        tree = build_tree(start_params, EMatrix(features, label, bias))\n",
    "        print(\"tree ok, bias shape = {}\".format(bias.shape), file=sys.stderr)\n",
    "        tree_arrays = init_arrays(tree, init_id(tree))\n",
    "        bias_delta = tree_apply(tree_arrays, features)\n",
    "        print(\"apply ok, bias delta shape = {}\".format(bias_delta.shape), file=sys.stderr)\n",
    "        bias = bias + np.reshape(bias_delta, newshape=bias.shape)\n",
    "        forest.append((tree, tree_arrays))\n",
    "        print(\"forest appended\", file=sys.stderr)\n",
    "        \n",
    "    return EBooster(forest)"
   ]
  },
  {
   "cell_type": "code",
   "execution_count": 30,
   "metadata": {
    "collapsed": false
   },
   "outputs": [],
   "source": [
    "pred = tree_apply(tree_arrays, features)"
   ]
  },
  {
   "cell_type": "code",
   "execution_count": 31,
   "metadata": {
    "collapsed": false
   },
   "outputs": [
    {
     "data": {
      "text/plain": [
       "0.5162252399236659"
      ]
     },
     "execution_count": 31,
     "metadata": {},
     "output_type": "execute_result"
    }
   ],
   "source": [
    "metrics.roc_auc_score(label[:, 0], pred)"
   ]
  },
  {
   "cell_type": "code",
   "execution_count": 32,
   "metadata": {
    "collapsed": false
   },
   "outputs": [
    {
     "data": {
      "text/plain": [
       "0.5"
      ]
     },
     "execution_count": 32,
     "metadata": {},
     "output_type": "execute_result"
    }
   ],
   "source": [
    "metrics.roc_auc_score(label[:, 0], np.zeros(label.shape[0]))"
   ]
  },
  {
   "cell_type": "code",
   "execution_count": 46,
   "metadata": {
    "collapsed": false
   },
   "outputs": [
    {
     "name": "stderr",
     "output_type": "stream",
     "text": [
      "\n",
      "0 round\n",
      "1  2  3  4  4  3  4  4  2  3  4  4  3  4  4  1  2  3  4  4  3  4  4  2  3  4  4  3  4  4  tree ok, bias shape = (300000, 1)\n",
      "apply ok, bias delta shape = (300000,)\n",
      "forest appended\n",
      "\n",
      "1 round\n",
      "1  2  3  4  4  3  4  4  2  3  4  4  3  4  4  1  2  3  4  4  3  4  4  2  3  4  4  3  4  4  tree ok, bias shape = (300000, 1)\n",
      "apply ok, bias delta shape = (300000,)\n",
      "forest appended\n",
      "\n",
      "2 round\n",
      "1  2  3  4  4  3  4  4  2  3  4  4  3  4  4  1  2  3  4  4  3  4  4  2  3  4  4  3  4  4  tree ok, bias shape = (300000, 1)\n",
      "apply ok, bias delta shape = (300000,)\n",
      "forest appended\n",
      "\n",
      "3 round\n",
      "1  2  3  4  4  3  4  4  2  3  4  4  3  4  4  1  2  2  3  4  4  3  4  4  tree ok, bias shape = (300000, 1)\n",
      "apply ok, bias delta shape = (300000,)\n",
      "forest appended\n",
      "\n",
      "4 round\n",
      "1  2  3  4  4  3  4  4  2  3  4  4  3  4  4  1  2  3  4  4  3  4  4  2  3  4  4  3  4  4  tree ok, bias shape = (300000, 1)\n",
      "apply ok, bias delta shape = (300000,)\n",
      "forest appended\n",
      "\n",
      "5 round\n",
      "1  2  3  4  4  3  4  4  2  3  4  4  3  4  4  1  2  3  4  4  3  4  4  2  3  4  4  3  4  4  tree ok, bias shape = (300000, 1)\n",
      "apply ok, bias delta shape = (300000,)\n",
      "forest appended\n",
      "\n",
      "6 round\n",
      "1  2  3  4  4  3  4  4  2  3  4  4  3  4  4  1  2  3  4  4  3  4  4  2  3  3  4  4  tree ok, bias shape = (300000, 1)\n",
      "apply ok, bias delta shape = (300000,)\n",
      "forest appended\n",
      "\n",
      "7 round\n",
      "1  2  3  4  4  3  4  4  2  3  3  4  4  1  2  3  4  4  3  4  4  2  3  4  4  3  4  4  tree ok, bias shape = (300000, 1)\n",
      "apply ok, bias delta shape = (300000,)\n",
      "forest appended\n",
      "\n",
      "8 round\n",
      "1  2  3  4  4  3  4  4  2  3  4  4  3  4  4  1  2  3  4  4  3  2  3  4  4  3  4  4  tree ok, bias shape = (300000, 1)\n",
      "apply ok, bias delta shape = (300000,)\n",
      "forest appended\n",
      "\n",
      "9 round\n",
      "1  2  3  4  4  3  4  4  2  3  4  4  3  4  4  1  2  3  4  4  3  4  4  2  3  4  4  3  4  4  tree ok, bias shape = (300000, 1)\n",
      "apply ok, bias delta shape = (300000,)\n",
      "forest appended\n",
      "\n",
      "10 round\n",
      "1  2  3  4  4  3  4  4  2  3  4  4  3  4  4  1  2  3  3  4  4  2  3  4  4  3  4  4  tree ok, bias shape = (300000, 1)\n",
      "apply ok, bias delta shape = (300000,)\n",
      "forest appended\n",
      "\n",
      "11 round\n",
      "1  2  3  4  4  3  4  4  2  3  3  1  2  2  tree ok, bias shape = (300000, 1)\n",
      "apply ok, bias delta shape = (300000,)\n",
      "forest appended\n"
     ]
    }
   ],
   "source": [
    "boost_params = {'max_depth': 4, 'learning_rate':0.3}\n",
    "booster = train(boost_params, EMatrix(features, label), num_boost_round=12)"
   ]
  },
  {
   "cell_type": "code",
   "execution_count": 47,
   "metadata": {
    "collapsed": true
   },
   "outputs": [],
   "source": [
    "pred2 = booster.predict(features)"
   ]
  },
  {
   "cell_type": "code",
   "execution_count": 45,
   "metadata": {
    "collapsed": false
   },
   "outputs": [
    {
     "data": {
      "text/plain": [
       "0.5241520744012362"
      ]
     },
     "execution_count": 45,
     "metadata": {},
     "output_type": "execute_result"
    }
   ],
   "source": [
    "metrics.roc_auc_score(label[:, 0], pred2)"
   ]
  },
  {
   "cell_type": "code",
   "execution_count": null,
   "metadata": {
    "collapsed": true
   },
   "outputs": [],
   "source": []
  }
 ],
 "metadata": {
  "kernelspec": {
   "display_name": "Python 3",
   "language": "python",
   "name": "python3"
  },
  "language_info": {
   "codemirror_mode": {
    "name": "ipython",
    "version": 3
   },
   "file_extension": ".py",
   "mimetype": "text/x-python",
   "name": "python",
   "nbconvert_exporter": "python",
   "pygments_lexer": "ipython3",
   "version": "3.6.4"
  }
 },
 "nbformat": 4,
 "nbformat_minor": 2
}
