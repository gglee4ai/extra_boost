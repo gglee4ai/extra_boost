{
 "cells": [
  {
   "cell_type": "code",
   "execution_count": 2,
   "metadata": {},
   "outputs": [],
   "source": [
    "import sys, os, io, json, numpy as np, random\n",
    "#from sklearn.metrics import roc_auc_score\n",
    "import xgboost as xgb\n",
    "import tensorflow as tf\n",
    "#from split import split_graph, split_interface, make_split\n",
    "import graphviz\n",
    "from sklearn import metrics"
   ]
  },
  {
   "cell_type": "code",
   "execution_count": 35,
   "metadata": {},
   "outputs": [],
   "source": [
    "def take_along_axis(arr, indices):\n",
    "    # arr (n x m)\n",
    "    m = tf.shape(features)[1]\n",
    "    r = tf.range(m)\n",
    "    taken_arr = tf.gather(tf.reshape(features, (-1,)), indices * m + r, axis=0)\n",
    "    return taken_arr\n",
    "\n",
    "graph = tf.Graph()\n",
    "with graph.as_default():\n",
    "    features = tf.placeholder(dtype=tf.float64)\n",
    "    ax = tf.transpose(tf.nn.top_k(-tf.transpose(features), k=tf.shape(features)[-2]).indices)\n",
    "    #sorted_thresholds = tf.gather(features, ax, axis=0)  # N x M x M \n",
    "    sorted_thresholds = take_along_axis(features, ax)"
   ]
  },
  {
   "cell_type": "code",
   "execution_count": 36,
   "metadata": {},
   "outputs": [],
   "source": [
    "f_example = np.array([[1, 2, 3, 4, 5],\n",
    "                     [3, 2, 4.5, -10, 5]], dtype=np.float32).T"
   ]
  },
  {
   "cell_type": "code",
   "execution_count": 37,
   "metadata": {},
   "outputs": [
    {
     "name": "stdout",
     "output_type": "stream",
     "text": [
      "[[0 3]\n",
      " [1 1]\n",
      " [2 0]\n",
      " [3 2]\n",
      " [4 4]] (5, 2)\n",
      "\n",
      "[[  1.  -10. ]\n",
      " [  2.    2. ]\n",
      " [  3.    3. ]\n",
      " [  4.    4.5]\n",
      " [  5.    5. ]] (5, 2)\n"
     ]
    }
   ],
   "source": [
    "with tf.Session(graph=graph) as s:\n",
    "    ax_v, sf_v = s.run([ax, sorted_thresholds], {features: f_example})\n",
    "print(ax_v, ax_v.shape)\n",
    "print()\n",
    "print(sf_v, sf_v.shape)"
   ]
  },
  {
   "cell_type": "code",
   "execution_count": null,
   "metadata": {},
   "outputs": [],
   "source": []
  },
  {
   "cell_type": "code",
   "execution_count": 67,
   "metadata": {},
   "outputs": [],
   "source": [
    "ax1 = np.array([[1, 2, 3, 4, 5],\n",
    "                [3, 2, 4, 1, 5],\n",
    "                [5,4,3,2,1],\n",
    "                [4,5,3,1,2]\n",
    "               ], dtype=np.int32).T-1"
   ]
  },
  {
   "cell_type": "code",
   "execution_count": 68,
   "metadata": {},
   "outputs": [
    {
     "data": {
      "text/plain": [
       "array([[0, 2, 4, 3],\n",
       "       [1, 1, 3, 4],\n",
       "       [2, 3, 2, 2],\n",
       "       [3, 0, 1, 0],\n",
       "       [4, 4, 0, 1]], dtype=int32)"
      ]
     },
     "execution_count": 68,
     "metadata": {},
     "output_type": "execute_result"
    }
   ],
   "source": [
    "ax1"
   ]
  },
  {
   "cell_type": "code",
   "execution_count": 69,
   "metadata": {},
   "outputs": [
    {
     "data": {
      "text/plain": [
       "array([1, 1, 0, 1, 0])"
      ]
     },
     "execution_count": 69,
     "metadata": {},
     "output_type": "execute_result"
    }
   ],
   "source": [
    "cond = ax1[:,1] < 2.5\n",
    "cond*1"
   ]
  },
  {
   "cell_type": "code",
   "execution_count": 70,
   "metadata": {},
   "outputs": [
    {
     "data": {
      "text/plain": [
       "array([[1, 0, 0, 1],\n",
       "       [1, 1, 1, 0],\n",
       "       [0, 1, 0, 0],\n",
       "       [1, 1, 1, 1],\n",
       "       [0, 0, 1, 1]])"
      ]
     },
     "execution_count": 70,
     "metadata": {},
     "output_type": "execute_result"
    }
   ],
   "source": [
    "cond[ax1]*1"
   ]
  },
  {
   "cell_type": "code",
   "execution_count": 71,
   "metadata": {},
   "outputs": [
    {
     "data": {
      "text/plain": [
       "array([0, 1, 3])"
      ]
     },
     "execution_count": 71,
     "metadata": {},
     "output_type": "execute_result"
    }
   ],
   "source": [
    "np.arange(5)[cond]"
   ]
  },
  {
   "cell_type": "code",
   "execution_count": 79,
   "metadata": {},
   "outputs": [
    {
     "data": {
      "text/plain": [
       "array([[0, 1, 2, 2],\n",
       "       [1, 2, 1, 0],\n",
       "       [2, 0, 0, 1]])"
      ]
     },
     "execution_count": 79,
     "metadata": {},
     "output_type": "execute_result"
    }
   ],
   "source": [
    "reindex = np.cumsum(cond)-1\n",
    "#reindex[ax1].ravel()[cond[ax1].ravel()]\n",
    "reindex[ax1].T[cond[ax1].T].reshape((ax1.shape[1], -1)).T"
   ]
  },
  {
   "cell_type": "code",
   "execution_count": 82,
   "metadata": {},
   "outputs": [],
   "source": [
    "def new_ax(ax, cond):\n",
    "    reindex = np.cumsum(cond)-1\n",
    "    axT = ax.T\n",
    "    return reindex[axT][cond[axT]].reshape((ax1.shape[1], -1)).T"
   ]
  },
  {
   "cell_type": "code",
   "execution_count": 83,
   "metadata": {},
   "outputs": [
    {
     "data": {
      "text/plain": [
       "array([[0, 1, 2, 2],\n",
       "       [1, 2, 1, 0],\n",
       "       [2, 0, 0, 1]])"
      ]
     },
     "execution_count": 83,
     "metadata": {},
     "output_type": "execute_result"
    }
   ],
   "source": [
    "new_ax(ax1, cond)"
   ]
  },
  {
   "cell_type": "markdown",
   "metadata": {},
   "source": [
    "# Cumsum vs nn.conv2d"
   ]
  },
  {
   "cell_type": "code",
   "execution_count": 124,
   "metadata": {},
   "outputs": [
    {
     "data": {
      "text/plain": [
       "(array([[  1.,  16.,   1.],\n",
       "        [  3.,  24.,   2.],\n",
       "        [  7.,  28.,   3.],\n",
       "        [ 15.,  30.,   4.],\n",
       "        [ 31.,  31.,   5.],\n",
       "        [ 63.,  31.,   6.],\n",
       "        [127.,  30.,   7.]]), (7, 3))"
      ]
     },
     "execution_count": 124,
     "metadata": {},
     "output_type": "execute_result"
    }
   ],
   "source": [
    "example2 = np.array([[1,2,4,8,16,32,64],\n",
    "                    [16,8,4,2,1,0,-1],\n",
    "                    [1,1,1,1,1, 1, 1]\n",
    "                    ]).T\n",
    "def mycumsum0(inputarr):\n",
    "    s = tf.shape(inputarr)\n",
    "    z0 = tf.zeros((s[0]//2, s[1]), dtype=inputarr.dtype)\n",
    "    z1 = tf.concat((z0,inputarr), axis=0)\n",
    "    s1 = tf.shape(z1)\n",
    "    reshaped = tf.reshape(z1, (1, s1[0], s1[1], 1))\n",
    "    filter = tf.ones((s[0], 1, 1, 1), dtype=reshaped.dtype)\n",
    "    cum = tf.nn.conv2d(reshaped, filter, strides=(1,1,1,1), padding=\"SAME\")\n",
    "    cum = tf.reshape(cum, (s1[0], s1[1]))[:s[0],:]\n",
    "    return cum\n",
    "\n",
    "graph2 = tf.Graph()\n",
    "with graph2.as_default():\n",
    "    inputarr = tf.placeholder(dtype=tf.float64)\n",
    "    cum = mycumsum0(inputarr)\n",
    "\n",
    "with tf.Session(graph=graph2) as s:\n",
    "    cum_v, = s.run([cum], {inputarr: example2})\n",
    "cum_v, cum_v.shape"
   ]
  },
  {
   "cell_type": "code",
   "execution_count": null,
   "metadata": {},
   "outputs": [],
   "source": []
  }
 ],
 "metadata": {
  "kernelspec": {
   "display_name": "Python 3",
   "language": "python",
   "name": "python3"
  },
  "language_info": {
   "codemirror_mode": {
    "name": "ipython",
    "version": 3
   },
   "file_extension": ".py",
   "mimetype": "text/x-python",
   "name": "python",
   "nbconvert_exporter": "python",
   "pygments_lexer": "ipython3",
   "version": "3.6.4"
  }
 },
 "nbformat": 4,
 "nbformat_minor": 2
}
