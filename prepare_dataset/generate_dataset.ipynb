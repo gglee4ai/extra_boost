{
 "cells": [
  {
   "cell_type": "code",
   "execution_count": 1,
   "metadata": {
    "collapsed": true,
    "deletable": true,
    "editable": true
   },
   "outputs": [],
   "source": [
    "import sys, os, io, json, numpy as np, random\n",
    "from sklearn.metrics import roc_auc_score\n",
    "import xgboost as xgb"
   ]
  },
  {
   "cell_type": "code",
   "execution_count": 3,
   "metadata": {
    "collapsed": false,
    "deletable": true,
    "editable": true
   },
   "outputs": [
    {
     "name": "stdout",
     "output_type": "stream",
     "text": [
      "15\n"
     ]
    }
   ],
   "source": [
    "params = dict(\n",
    "    alpha = 0.3, \n",
    "    s_max = 0.98+1,\n",
    "    height = 300000,\n",
    "    features = [\n",
    "        dict(\n",
    "            lift = 3,\n",
    "            linlift = dict(k= 1, b = 0.5),\n",
    "            beta = 0.2,\n",
    "        ),\n",
    "        dict(\n",
    "            lift = 2,\n",
    "            linlift = dict(k=-1, b = 1.5),\n",
    "            beta = 0.1,\n",
    "        ),\n",
    "    ]\n",
    ")\n",
    "for i in range(13):\n",
    "    params['features'].append(params['features'][1])\n",
    "print(len(params['features']))"
   ]
  },
  {
   "cell_type": "code",
   "execution_count": 4,
   "metadata": {
    "collapsed": true,
    "deletable": true,
    "editable": true
   },
   "outputs": [],
   "source": [
    "def generate_dataset(params):\n",
    "    random.seed(42)\n",
    "    np.random.seed(42)\n",
    "    alpha = params[\"alpha\"]\n",
    "    h, w = params['height'], len(params['features'])\n",
    "    label = (np.random.rand(h, 1) < params['alpha'])*1\n",
    "    f_time = np.random.rand(h, 1)\n",
    "    betas = np.array([f[\"beta\"] for f in params['features']])\n",
    "    # lifts = np.array([f[\"lift\"] for f in params['features']])\n",
    "    liftk = np.array([f[\"linlift\"]['k'] for f in params['features']])\n",
    "    liftb = np.array([f[\"linlift\"]['b'] for f in params['features']])\n",
    "    lifts = liftk * f_time + liftb\n",
    "    gammas = (1/(alpha * lifts) - 1) / (1/alpha - 1) * betas\n",
    "    \n",
    "    s = (np.random.rand(h, 1) < params['s_max']) * 1\n",
    "    probs = s * (label * betas + (1 - label) * gammas ) + (1-s)*0.5\n",
    "    features = np.random.rand(h, w) < probs\n",
    "    #print(probs, file= sys.stderr)\n",
    "    #print(s, betas, lifts, gammas, file=sys.stderr)\n",
    "    return features, f_time, label"
   ]
  },
  {
   "cell_type": "code",
   "execution_count": 5,
   "metadata": {
    "collapsed": false,
    "deletable": true,
    "editable": true
   },
   "outputs": [
    {
     "data": {
      "text/plain": [
       "array([[1.        , 0.        , 0.        , ..., 0.        , 0.15705398,\n",
       "        0.        ],\n",
       "       [1.        , 0.        , 0.        , ..., 0.        , 0.09550877,\n",
       "        0.        ],\n",
       "       [0.        , 0.        , 0.        , ..., 1.        , 0.1379392 ,\n",
       "        0.        ],\n",
       "       ...,\n",
       "       [0.        , 0.        , 0.        , ..., 0.        , 0.71214818,\n",
       "        0.        ],\n",
       "       [0.        , 0.        , 0.        , ..., 0.        , 0.95571873,\n",
       "        1.        ],\n",
       "       [0.        , 0.        , 1.        , ..., 0.        , 0.65507034,\n",
       "        0.        ]])"
      ]
     },
     "execution_count": 5,
     "metadata": {},
     "output_type": "execute_result"
    }
   ],
   "source": [
    "features, f_time, label = generate_dataset(params)\n",
    "np.concatenate((features, f_time, label), axis=1)"
   ]
  },
  {
   "cell_type": "code",
   "execution_count": 6,
   "metadata": {
    "collapsed": false,
    "deletable": true,
    "editable": true
   },
   "outputs": [
    {
     "data": {
      "text/plain": [
       "0.29917333333333335"
      ]
     },
     "execution_count": 6,
     "metadata": {},
     "output_type": "execute_result"
    }
   ],
   "source": [
    "avg_target = np.mean(label)\n",
    "avg_target"
   ]
  },
  {
   "cell_type": "code",
   "execution_count": 7,
   "metadata": {
    "collapsed": false,
    "deletable": true,
    "editable": true
   },
   "outputs": [],
   "source": [
    "def get_time_cond(f_time, interval = (0,1)):\n",
    "    return np.logical_and(interval[0] <= f_time[:,0], f_time[:,0] < interval[1])\n",
    "def cal_lift(features, f_time, label, feat_index = 0, interval = (0,1)):\n",
    "    feat_cond = features[:,feat_index]==1\n",
    "    #print(\"f\", feat_cond.shape, file=sys.stderr)\n",
    "    time_cond = np.logical_and(interval[0] <= f_time[:,0], f_time[:,0] < interval[1])\n",
    "    #print(\"t\", time_cond.shape, file=sys.stderr)\n",
    "    full_cond = np.logical_and(feat_cond, time_cond)\n",
    "    #print(\"full\", full_cond.shape, file=sys.stderr)\n",
    "    cond_avg_target = np.mean(label[full_cond])\n",
    "    avg_target = np.mean(label)\n",
    "    return cond_avg_target/avg_target"
   ]
  },
  {
   "cell_type": "code",
   "execution_count": 8,
   "metadata": {
    "collapsed": false,
    "deletable": true,
    "editable": true
   },
   "outputs": [
    {
     "data": {
      "text/plain": [
       "0.5371290835457543"
      ]
     },
     "execution_count": 8,
     "metadata": {},
     "output_type": "execute_result"
    }
   ],
   "source": [
    "cal_lift(features, f_time, label, feat_index=3, interval=(0.9,1))"
   ]
  },
  {
   "cell_type": "code",
   "execution_count": 9,
   "metadata": {
    "collapsed": true,
    "deletable": true,
    "editable": true
   },
   "outputs": [],
   "source": [
    "def subpool(features, f_time, label, interval = (0,1)):\n",
    "    time_cond = np.logical_and(interval[0] <= f_time[:,0], f_time[:,0] < interval[1])\n",
    "    return features[time_cond], f_time[time_cond], label[time_cond]"
   ]
  },
  {
   "cell_type": "code",
   "execution_count": 10,
   "metadata": {
    "collapsed": false,
    "deletable": true,
    "editable": true
   },
   "outputs": [
    {
     "name": "stdout",
     "output_type": "stream",
     "text": [
      "47852\n"
     ]
    }
   ],
   "source": [
    "LX, LT, LY = subpool(features, f_time, label, interval=(0,0.2))\n",
    "N = LX.shape[0]\n",
    "NL = N * 80//100\n",
    "print(NL)"
   ]
  },
  {
   "cell_type": "code",
   "execution_count": 12,
   "metadata": {
    "collapsed": true
   },
   "outputs": [],
   "source": [
    "np.savez_compressed('pool_00', features=features, f_time=f_time, label=label)"
   ]
  },
  {
   "cell_type": "code",
   "execution_count": 112,
   "metadata": {
    "collapsed": false,
    "deletable": true,
    "editable": true
   },
   "outputs": [],
   "source": [
    "LDM = xgb.DMatrix(data=LX[:NL, :], label=LY[:NL, 0])\n",
    "TDM = xgb.DMatrix(data=LX[NL:, :], label=LY[NL:, 0])"
   ]
  },
  {
   "cell_type": "code",
   "execution_count": 113,
   "metadata": {
    "collapsed": false,
    "deletable": true,
    "editable": true,
    "scrolled": true
   },
   "outputs": [
    {
     "name": "stdout",
     "output_type": "stream",
     "text": [
      "[0]\ttr-auc:0.644356\ttr-logloss:0.678893\tts-auc:0.641636\tts-logloss:0.678858\n",
      "Multiple eval metrics have been passed: 'ts-logloss' will be used for early stopping.\n",
      "\n",
      "Will train until ts-logloss hasn't improved in 100 rounds.\n",
      "[1]\ttr-auc:0.666129\ttr-logloss:0.666446\tts-auc:0.661682\tts-logloss:0.666423\n",
      "[2]\ttr-auc:0.674787\ttr-logloss:0.655512\tts-auc:0.670374\tts-logloss:0.65545\n",
      "[3]\ttr-auc:0.677379\ttr-logloss:0.645885\tts-auc:0.673209\tts-logloss:0.645823\n",
      "[4]\ttr-auc:0.679332\ttr-logloss:0.637394\tts-auc:0.675453\tts-logloss:0.637327\n",
      "[5]\ttr-auc:0.680411\ttr-logloss:0.629861\tts-auc:0.676426\tts-logloss:0.629829\n",
      "[6]\ttr-auc:0.681216\ttr-logloss:0.623178\tts-auc:0.677524\tts-logloss:0.623106\n",
      "[7]\ttr-auc:0.681396\ttr-logloss:0.617243\tts-auc:0.677656\tts-logloss:0.617181\n",
      "[8]\ttr-auc:0.681614\ttr-logloss:0.611955\tts-auc:0.677918\tts-logloss:0.611869\n",
      "[9]\ttr-auc:0.68223\ttr-logloss:0.607235\tts-auc:0.678612\tts-logloss:0.607167\n",
      "[10]\ttr-auc:0.682286\ttr-logloss:0.603024\tts-auc:0.678522\tts-logloss:0.602986\n",
      "[11]\ttr-auc:0.682669\ttr-logloss:0.599247\tts-auc:0.678942\tts-logloss:0.599207\n",
      "[12]\ttr-auc:0.682867\ttr-logloss:0.595865\tts-auc:0.679221\tts-logloss:0.595861\n",
      "[13]\ttr-auc:0.683086\ttr-logloss:0.592836\tts-auc:0.679466\tts-logloss:0.592858\n",
      "[14]\ttr-auc:0.683279\ttr-logloss:0.590103\tts-auc:0.679479\tts-logloss:0.590154\n",
      "[15]\ttr-auc:0.683298\ttr-logloss:0.587648\tts-auc:0.679546\tts-logloss:0.587747\n",
      "[16]\ttr-auc:0.683566\ttr-logloss:0.585436\tts-auc:0.679832\tts-logloss:0.585535\n",
      "[17]\ttr-auc:0.683745\ttr-logloss:0.58343\tts-auc:0.680021\tts-logloss:0.58354\n",
      "[18]\ttr-auc:0.683943\ttr-logloss:0.581631\tts-auc:0.680122\tts-logloss:0.581771\n",
      "[19]\ttr-auc:0.684147\ttr-logloss:0.579996\tts-auc:0.680396\tts-logloss:0.580137\n",
      "[20]\ttr-auc:0.684279\ttr-logloss:0.57851\tts-auc:0.680446\tts-logloss:0.578686\n",
      "[21]\ttr-auc:0.684514\ttr-logloss:0.577167\tts-auc:0.680654\tts-logloss:0.577355\n",
      "[22]\ttr-auc:0.684571\ttr-logloss:0.575943\tts-auc:0.680841\tts-logloss:0.57615\n",
      "[23]\ttr-auc:0.684633\ttr-logloss:0.57483\tts-auc:0.680819\tts-logloss:0.575074\n",
      "[24]\ttr-auc:0.684787\ttr-logloss:0.573816\tts-auc:0.681099\tts-logloss:0.574088\n",
      "[25]\ttr-auc:0.684895\ttr-logloss:0.572882\tts-auc:0.681069\tts-logloss:0.573205\n",
      "[26]\ttr-auc:0.685057\ttr-logloss:0.572034\tts-auc:0.681106\tts-logloss:0.572361\n",
      "[27]\ttr-auc:0.68512\ttr-logloss:0.571257\tts-auc:0.681276\tts-logloss:0.571615\n",
      "[28]\ttr-auc:0.68525\ttr-logloss:0.570542\tts-auc:0.681452\tts-logloss:0.570934\n",
      "[29]\ttr-auc:0.6854\ttr-logloss:0.569887\tts-auc:0.681622\tts-logloss:0.570321\n",
      "[30]\ttr-auc:0.685569\ttr-logloss:0.569272\tts-auc:0.6818\tts-logloss:0.569714\n",
      "[31]\ttr-auc:0.685676\ttr-logloss:0.5687\tts-auc:0.681982\tts-logloss:0.56916\n",
      "[32]\ttr-auc:0.685912\ttr-logloss:0.568175\tts-auc:0.68223\tts-logloss:0.568661\n",
      "[33]\ttr-auc:0.686054\ttr-logloss:0.567688\tts-auc:0.682292\tts-logloss:0.568168\n",
      "[34]\ttr-auc:0.686195\ttr-logloss:0.567235\tts-auc:0.6826\tts-logloss:0.567737\n",
      "[35]\ttr-auc:0.686304\ttr-logloss:0.566811\tts-auc:0.682538\tts-logloss:0.567337\n",
      "[36]\ttr-auc:0.686517\ttr-logloss:0.566413\tts-auc:0.682744\tts-logloss:0.566963\n",
      "[37]\ttr-auc:0.686581\ttr-logloss:0.566048\tts-auc:0.682816\tts-logloss:0.566625\n",
      "[38]\ttr-auc:0.686636\ttr-logloss:0.565707\tts-auc:0.682805\tts-logloss:0.566297\n",
      "[39]\ttr-auc:0.686888\ttr-logloss:0.565385\tts-auc:0.683038\tts-logloss:0.566004\n",
      "[40]\ttr-auc:0.686982\ttr-logloss:0.565087\tts-auc:0.683365\tts-logloss:0.565711\n",
      "[41]\ttr-auc:0.687153\ttr-logloss:0.564807\tts-auc:0.683232\tts-logloss:0.565456\n",
      "[42]\ttr-auc:0.687189\ttr-logloss:0.564545\tts-auc:0.68351\tts-logloss:0.565189\n",
      "[43]\ttr-auc:0.687273\ttr-logloss:0.564302\tts-auc:0.68355\tts-logloss:0.564983\n",
      "[44]\ttr-auc:0.687392\ttr-logloss:0.564071\tts-auc:0.683705\tts-logloss:0.564758\n",
      "[45]\ttr-auc:0.687602\ttr-logloss:0.563856\tts-auc:0.683908\tts-logloss:0.564561\n",
      "[46]\ttr-auc:0.687737\ttr-logloss:0.563654\tts-auc:0.683825\tts-logloss:0.564381\n",
      "[47]\ttr-auc:0.687718\ttr-logloss:0.563461\tts-auc:0.683959\tts-logloss:0.564195\n",
      "[48]\ttr-auc:0.687855\ttr-logloss:0.563282\tts-auc:0.684028\tts-logloss:0.564026\n",
      "[49]\ttr-auc:0.687948\ttr-logloss:0.563114\tts-auc:0.68401\tts-logloss:0.563883\n",
      "[50]\ttr-auc:0.687967\ttr-logloss:0.562956\tts-auc:0.68398\tts-logloss:0.563739\n",
      "[51]\ttr-auc:0.688033\ttr-logloss:0.562808\tts-auc:0.684152\tts-logloss:0.563604\n",
      "[52]\ttr-auc:0.688101\ttr-logloss:0.562667\tts-auc:0.68404\tts-logloss:0.563475\n",
      "[53]\ttr-auc:0.688172\ttr-logloss:0.562535\tts-auc:0.684079\tts-logloss:0.563364\n",
      "[54]\ttr-auc:0.688285\ttr-logloss:0.56241\tts-auc:0.684162\tts-logloss:0.56325\n",
      "[55]\ttr-auc:0.688423\ttr-logloss:0.562293\tts-auc:0.684392\tts-logloss:0.563149\n",
      "[56]\ttr-auc:0.688409\ttr-logloss:0.562181\tts-auc:0.684384\tts-logloss:0.563048\n",
      "[57]\ttr-auc:0.688488\ttr-logloss:0.562077\tts-auc:0.684456\tts-logloss:0.562957\n",
      "[58]\ttr-auc:0.688634\ttr-logloss:0.561977\tts-auc:0.684528\tts-logloss:0.562865\n",
      "[59]\ttr-auc:0.688704\ttr-logloss:0.561884\tts-auc:0.684601\tts-logloss:0.562779\n",
      "[60]\ttr-auc:0.688699\ttr-logloss:0.561795\tts-auc:0.684604\tts-logloss:0.562702\n",
      "[61]\ttr-auc:0.688828\ttr-logloss:0.561711\tts-auc:0.684964\tts-logloss:0.562623\n",
      "[62]\ttr-auc:0.688881\ttr-logloss:0.561632\tts-auc:0.684949\tts-logloss:0.56256\n",
      "[63]\ttr-auc:0.688882\ttr-logloss:0.561556\tts-auc:0.684858\tts-logloss:0.562498\n",
      "[64]\ttr-auc:0.688942\ttr-logloss:0.561485\tts-auc:0.685049\tts-logloss:0.562427\n",
      "[65]\ttr-auc:0.688991\ttr-logloss:0.561417\tts-auc:0.68501\tts-logloss:0.562369\n",
      "[66]\ttr-auc:0.688988\ttr-logloss:0.561353\tts-auc:0.685022\tts-logloss:0.562315\n",
      "[67]\ttr-auc:0.689023\ttr-logloss:0.561293\tts-auc:0.68507\tts-logloss:0.562266\n",
      "[68]\ttr-auc:0.689058\ttr-logloss:0.561234\tts-auc:0.685094\tts-logloss:0.562224\n",
      "[69]\ttr-auc:0.689068\ttr-logloss:0.561181\tts-auc:0.685053\tts-logloss:0.562178\n",
      "[70]\ttr-auc:0.689089\ttr-logloss:0.561128\tts-auc:0.685153\tts-logloss:0.562134\n",
      "[71]\ttr-auc:0.689082\ttr-logloss:0.561078\tts-auc:0.685187\tts-logloss:0.562097\n",
      "[72]\ttr-auc:0.689073\ttr-logloss:0.561032\tts-auc:0.685193\tts-logloss:0.562064\n",
      "[73]\ttr-auc:0.689119\ttr-logloss:0.560987\tts-auc:0.685264\tts-logloss:0.562029\n",
      "[74]\ttr-auc:0.689121\ttr-logloss:0.560945\tts-auc:0.685329\tts-logloss:0.561991\n",
      "[75]\ttr-auc:0.689187\ttr-logloss:0.560905\tts-auc:0.685448\tts-logloss:0.561955\n",
      "[76]\ttr-auc:0.689182\ttr-logloss:0.560867\tts-auc:0.685504\tts-logloss:0.561929\n",
      "[77]\ttr-auc:0.6892\ttr-logloss:0.560831\tts-auc:0.685505\tts-logloss:0.5619\n",
      "[78]\ttr-auc:0.689217\ttr-logloss:0.560796\tts-auc:0.685481\tts-logloss:0.561883\n",
      "[79]\ttr-auc:0.689286\ttr-logloss:0.560763\tts-auc:0.685512\tts-logloss:0.561863\n",
      "[80]\ttr-auc:0.689271\ttr-logloss:0.560732\tts-auc:0.685483\tts-logloss:0.561843\n",
      "[81]\ttr-auc:0.689275\ttr-logloss:0.560703\tts-auc:0.685446\tts-logloss:0.561818\n",
      "[82]\ttr-auc:0.689258\ttr-logloss:0.560674\tts-auc:0.685434\tts-logloss:0.561803\n",
      "[83]\ttr-auc:0.689299\ttr-logloss:0.560647\tts-auc:0.685427\tts-logloss:0.56178\n",
      "[84]\ttr-auc:0.689289\ttr-logloss:0.560622\tts-auc:0.685396\tts-logloss:0.561764\n",
      "[85]\ttr-auc:0.689408\ttr-logloss:0.560598\tts-auc:0.685432\tts-logloss:0.561743\n",
      "[86]\ttr-auc:0.689403\ttr-logloss:0.560576\tts-auc:0.685349\tts-logloss:0.561734\n",
      "[87]\ttr-auc:0.689415\ttr-logloss:0.560553\tts-auc:0.685377\tts-logloss:0.561722\n",
      "[88]\ttr-auc:0.689408\ttr-logloss:0.560534\tts-auc:0.685327\tts-logloss:0.561704\n",
      "[89]\ttr-auc:0.689433\ttr-logloss:0.560513\tts-auc:0.685488\tts-logloss:0.561691\n",
      "[90]\ttr-auc:0.689456\ttr-logloss:0.560494\tts-auc:0.685575\tts-logloss:0.561678\n",
      "[91]\ttr-auc:0.68946\ttr-logloss:0.560476\tts-auc:0.685532\tts-logloss:0.561673\n",
      "[92]\ttr-auc:0.689445\ttr-logloss:0.560459\tts-auc:0.685673\tts-logloss:0.561663\n",
      "[93]\ttr-auc:0.689469\ttr-logloss:0.560443\tts-auc:0.685605\tts-logloss:0.56165\n",
      "[94]\ttr-auc:0.689469\ttr-logloss:0.560426\tts-auc:0.685641\tts-logloss:0.561646\n",
      "[95]\ttr-auc:0.689479\ttr-logloss:0.560409\tts-auc:0.685633\tts-logloss:0.561637\n",
      "[96]\ttr-auc:0.689494\ttr-logloss:0.560395\tts-auc:0.685604\tts-logloss:0.561628\n",
      "[97]\ttr-auc:0.68949\ttr-logloss:0.56038\tts-auc:0.685663\tts-logloss:0.561628\n",
      "[98]\ttr-auc:0.68949\ttr-logloss:0.560367\tts-auc:0.685625\tts-logloss:0.561621\n",
      "[99]\ttr-auc:0.68951\ttr-logloss:0.560353\tts-auc:0.685627\tts-logloss:0.561614\n",
      "[100]\ttr-auc:0.689502\ttr-logloss:0.560339\tts-auc:0.685704\tts-logloss:0.561611\n",
      "[101]\ttr-auc:0.689529\ttr-logloss:0.560327\tts-auc:0.685704\tts-logloss:0.561607\n",
      "[102]\ttr-auc:0.689537\ttr-logloss:0.560316\tts-auc:0.685728\tts-logloss:0.561599\n",
      "[103]\ttr-auc:0.689542\ttr-logloss:0.560304\tts-auc:0.685743\tts-logloss:0.561595\n",
      "[104]\ttr-auc:0.689569\ttr-logloss:0.560293\tts-auc:0.685734\tts-logloss:0.561589\n",
      "[105]\ttr-auc:0.689572\ttr-logloss:0.560282\tts-auc:0.68573\tts-logloss:0.561584\n",
      "[106]\ttr-auc:0.689554\ttr-logloss:0.560271\tts-auc:0.685716\tts-logloss:0.56158\n",
      "[107]\ttr-auc:0.689574\ttr-logloss:0.56026\tts-auc:0.685696\tts-logloss:0.561579\n",
      "[108]\ttr-auc:0.689583\ttr-logloss:0.560251\tts-auc:0.685688\tts-logloss:0.561577\n",
      "[109]\ttr-auc:0.689584\ttr-logloss:0.560242\tts-auc:0.685664\tts-logloss:0.56157\n",
      "[110]\ttr-auc:0.689591\ttr-logloss:0.560233\tts-auc:0.685719\tts-logloss:0.561569\n",
      "[111]\ttr-auc:0.689597\ttr-logloss:0.560224\tts-auc:0.685712\tts-logloss:0.561567\n",
      "[112]\ttr-auc:0.689593\ttr-logloss:0.560215\tts-auc:0.685686\tts-logloss:0.561568\n",
      "[113]\ttr-auc:0.689608\ttr-logloss:0.560207\tts-auc:0.685722\tts-logloss:0.561566\n",
      "[114]\ttr-auc:0.689598\ttr-logloss:0.560199\tts-auc:0.685653\tts-logloss:0.561567\n",
      "[115]\ttr-auc:0.689604\ttr-logloss:0.56019\tts-auc:0.685644\tts-logloss:0.561565\n",
      "[116]\ttr-auc:0.689603\ttr-logloss:0.560183\tts-auc:0.685648\tts-logloss:0.561562\n",
      "[117]\ttr-auc:0.689606\ttr-logloss:0.560176\tts-auc:0.685693\tts-logloss:0.561558\n",
      "[118]\ttr-auc:0.689609\ttr-logloss:0.560169\tts-auc:0.685682\tts-logloss:0.561557\n",
      "[119]\ttr-auc:0.689608\ttr-logloss:0.560162\tts-auc:0.685722\tts-logloss:0.561553\n",
      "[120]\ttr-auc:0.689614\ttr-logloss:0.560156\tts-auc:0.685677\tts-logloss:0.561555\n",
      "[121]\ttr-auc:0.689614\ttr-logloss:0.56015\tts-auc:0.685681\tts-logloss:0.561552\n",
      "[122]\ttr-auc:0.689614\ttr-logloss:0.560144\tts-auc:0.685691\tts-logloss:0.561552\n",
      "[123]\ttr-auc:0.689622\ttr-logloss:0.560138\tts-auc:0.685776\tts-logloss:0.561554\n",
      "[124]\ttr-auc:0.689626\ttr-logloss:0.560132\tts-auc:0.685794\tts-logloss:0.561552\n",
      "[125]\ttr-auc:0.689617\ttr-logloss:0.560126\tts-auc:0.685684\tts-logloss:0.561552\n",
      "[126]\ttr-auc:0.689628\ttr-logloss:0.56012\tts-auc:0.68576\tts-logloss:0.561552\n",
      "[127]\ttr-auc:0.689635\ttr-logloss:0.560114\tts-auc:0.685675\tts-logloss:0.561552\n",
      "[128]\ttr-auc:0.68965\ttr-logloss:0.560109\tts-auc:0.68574\tts-logloss:0.561552\n",
      "[129]\ttr-auc:0.689651\ttr-logloss:0.560104\tts-auc:0.68578\tts-logloss:0.561552\n",
      "[130]\ttr-auc:0.689661\ttr-logloss:0.560098\tts-auc:0.685746\tts-logloss:0.561556\n",
      "[131]\ttr-auc:0.689664\ttr-logloss:0.560093\tts-auc:0.685791\tts-logloss:0.561554\n",
      "[132]\ttr-auc:0.68966\ttr-logloss:0.560086\tts-auc:0.685759\tts-logloss:0.561555\n",
      "[133]\ttr-auc:0.689663\ttr-logloss:0.560081\tts-auc:0.685768\tts-logloss:0.561554\n",
      "[134]\ttr-auc:0.689658\ttr-logloss:0.560075\tts-auc:0.685731\tts-logloss:0.561556\n",
      "[135]\ttr-auc:0.68967\ttr-logloss:0.56007\tts-auc:0.685662\tts-logloss:0.561562\n",
      "[136]\ttr-auc:0.689672\ttr-logloss:0.560065\tts-auc:0.685674\tts-logloss:0.561562\n",
      "[137]\ttr-auc:0.689672\ttr-logloss:0.560059\tts-auc:0.685717\tts-logloss:0.561562\n",
      "[138]\ttr-auc:0.689673\ttr-logloss:0.560054\tts-auc:0.685765\tts-logloss:0.561561\n",
      "[139]\ttr-auc:0.689679\ttr-logloss:0.560051\tts-auc:0.685789\tts-logloss:0.56156\n",
      "[140]\ttr-auc:0.689686\ttr-logloss:0.560046\tts-auc:0.685733\tts-logloss:0.561561\n",
      "[141]\ttr-auc:0.689688\ttr-logloss:0.560042\tts-auc:0.685738\tts-logloss:0.561562\n",
      "[142]\ttr-auc:0.689689\ttr-logloss:0.560038\tts-auc:0.685767\tts-logloss:0.561562\n",
      "[143]\ttr-auc:0.689693\ttr-logloss:0.560034\tts-auc:0.685692\tts-logloss:0.561563\n",
      "[144]\ttr-auc:0.689689\ttr-logloss:0.560029\tts-auc:0.685705\tts-logloss:0.561567\n",
      "[145]\ttr-auc:0.68969\ttr-logloss:0.560025\tts-auc:0.685688\tts-logloss:0.56157\n",
      "[146]\ttr-auc:0.689698\ttr-logloss:0.56002\tts-auc:0.685734\tts-logloss:0.561573\n",
      "[147]\ttr-auc:0.689699\ttr-logloss:0.560016\tts-auc:0.685686\tts-logloss:0.561577\n",
      "[148]\ttr-auc:0.689702\ttr-logloss:0.560011\tts-auc:0.685731\tts-logloss:0.561579\n",
      "[149]\ttr-auc:0.689704\ttr-logloss:0.560007\tts-auc:0.685732\tts-logloss:0.561583\n",
      "[150]\ttr-auc:0.68971\ttr-logloss:0.560002\tts-auc:0.685763\tts-logloss:0.561583\n",
      "[151]\ttr-auc:0.689712\ttr-logloss:0.559998\tts-auc:0.685763\tts-logloss:0.561586\n",
      "[152]\ttr-auc:0.689714\ttr-logloss:0.559994\tts-auc:0.685721\tts-logloss:0.561588\n",
      "[153]\ttr-auc:0.689717\ttr-logloss:0.559989\tts-auc:0.685724\tts-logloss:0.56159\n",
      "[154]\ttr-auc:0.689719\ttr-logloss:0.559985\tts-auc:0.685732\tts-logloss:0.561593\n",
      "[155]\ttr-auc:0.689722\ttr-logloss:0.559981\tts-auc:0.685726\tts-logloss:0.561593\n",
      "[156]\ttr-auc:0.689724\ttr-logloss:0.559977\tts-auc:0.685731\tts-logloss:0.561596\n",
      "[157]\ttr-auc:0.689726\ttr-logloss:0.559973\tts-auc:0.685727\tts-logloss:0.561596\n",
      "[158]\ttr-auc:0.689726\ttr-logloss:0.559969\tts-auc:0.68573\tts-logloss:0.561601\n",
      "[159]\ttr-auc:0.68973\ttr-logloss:0.559966\tts-auc:0.685741\tts-logloss:0.5616\n",
      "[160]\ttr-auc:0.689732\ttr-logloss:0.559961\tts-auc:0.685738\tts-logloss:0.561601\n",
      "[161]\ttr-auc:0.689734\ttr-logloss:0.559958\tts-auc:0.685736\tts-logloss:0.561602\n",
      "[162]\ttr-auc:0.689737\ttr-logloss:0.559954\tts-auc:0.685734\tts-logloss:0.561606\n",
      "[163]\ttr-auc:0.689737\ttr-logloss:0.55995\tts-auc:0.685688\tts-logloss:0.561609\n",
      "[164]\ttr-auc:0.689741\ttr-logloss:0.559946\tts-auc:0.685733\tts-logloss:0.561612\n",
      "[165]\ttr-auc:0.689744\ttr-logloss:0.559942\tts-auc:0.685726\tts-logloss:0.561617\n",
      "[166]\ttr-auc:0.689746\ttr-logloss:0.559937\tts-auc:0.685729\tts-logloss:0.561619\n",
      "[167]\ttr-auc:0.689748\ttr-logloss:0.559933\tts-auc:0.685648\tts-logloss:0.561622\n",
      "[168]\ttr-auc:0.689746\ttr-logloss:0.559929\tts-auc:0.685694\tts-logloss:0.561624\n",
      "[169]\ttr-auc:0.689751\ttr-logloss:0.559926\tts-auc:0.685678\tts-logloss:0.561626\n",
      "[170]\ttr-auc:0.689752\ttr-logloss:0.559922\tts-auc:0.68571\tts-logloss:0.561628\n",
      "[171]\ttr-auc:0.689752\ttr-logloss:0.559919\tts-auc:0.685707\tts-logloss:0.561631\n",
      "[172]\ttr-auc:0.689756\ttr-logloss:0.559916\tts-auc:0.685701\tts-logloss:0.561634\n",
      "[173]\ttr-auc:0.689755\ttr-logloss:0.559913\tts-auc:0.685716\tts-logloss:0.561638\n",
      "[174]\ttr-auc:0.689756\ttr-logloss:0.559909\tts-auc:0.685711\tts-logloss:0.561641\n",
      "[175]\ttr-auc:0.689758\ttr-logloss:0.559905\tts-auc:0.685665\tts-logloss:0.561644\n",
      "[176]\ttr-auc:0.689758\ttr-logloss:0.5599\tts-auc:0.685708\tts-logloss:0.561647\n",
      "[177]\ttr-auc:0.689759\ttr-logloss:0.559897\tts-auc:0.685702\tts-logloss:0.561651\n",
      "[178]\ttr-auc:0.689761\ttr-logloss:0.559892\tts-auc:0.685702\tts-logloss:0.561655\n",
      "[179]\ttr-auc:0.689765\ttr-logloss:0.559889\tts-auc:0.685693\tts-logloss:0.561657\n",
      "[180]\ttr-auc:0.689774\ttr-logloss:0.559885\tts-auc:0.685755\tts-logloss:0.56166\n",
      "[181]\ttr-auc:0.689776\ttr-logloss:0.559882\tts-auc:0.685756\tts-logloss:0.561662\n",
      "[182]\ttr-auc:0.689777\ttr-logloss:0.55988\tts-auc:0.685753\tts-logloss:0.561664\n",
      "[183]\ttr-auc:0.689782\ttr-logloss:0.559877\tts-auc:0.685749\tts-logloss:0.561666\n",
      "[184]\ttr-auc:0.689784\ttr-logloss:0.559873\tts-auc:0.685747\tts-logloss:0.561669\n",
      "[185]\ttr-auc:0.689777\ttr-logloss:0.55987\tts-auc:0.685679\tts-logloss:0.561673\n",
      "[186]\ttr-auc:0.689788\ttr-logloss:0.559868\tts-auc:0.685745\tts-logloss:0.561675\n",
      "[187]\ttr-auc:0.689789\ttr-logloss:0.559864\tts-auc:0.685752\tts-logloss:0.561677\n",
      "[188]\ttr-auc:0.689789\ttr-logloss:0.55986\tts-auc:0.685747\tts-logloss:0.561678\n",
      "[189]\ttr-auc:0.68979\ttr-logloss:0.559857\tts-auc:0.685743\tts-logloss:0.561681\n",
      "[190]\ttr-auc:0.68979\ttr-logloss:0.559854\tts-auc:0.685742\tts-logloss:0.561683\n",
      "[191]\ttr-auc:0.689791\ttr-logloss:0.559851\tts-auc:0.685703\tts-logloss:0.561685\n",
      "[192]\ttr-auc:0.689794\ttr-logloss:0.559847\tts-auc:0.685732\tts-logloss:0.561688\n",
      "[193]\ttr-auc:0.689796\ttr-logloss:0.559845\tts-auc:0.685689\tts-logloss:0.561692\n",
      "[194]\ttr-auc:0.689797\ttr-logloss:0.559842\tts-auc:0.685687\tts-logloss:0.561695\n",
      "[195]\ttr-auc:0.689798\ttr-logloss:0.559839\tts-auc:0.685681\tts-logloss:0.5617\n",
      "[196]\ttr-auc:0.6898\ttr-logloss:0.559836\tts-auc:0.685679\tts-logloss:0.561702\n",
      "[197]\ttr-auc:0.6898\ttr-logloss:0.559833\tts-auc:0.685681\tts-logloss:0.561704\n",
      "[198]\ttr-auc:0.689801\ttr-logloss:0.559831\tts-auc:0.685678\tts-logloss:0.561706\n",
      "[199]\ttr-auc:0.689802\ttr-logloss:0.559828\tts-auc:0.68568\tts-logloss:0.561707\n",
      "[200]\ttr-auc:0.689803\ttr-logloss:0.559824\tts-auc:0.685716\tts-logloss:0.561711\n",
      "[201]\ttr-auc:0.689806\ttr-logloss:0.559821\tts-auc:0.685715\tts-logloss:0.561715\n",
      "[202]\ttr-auc:0.689807\ttr-logloss:0.559818\tts-auc:0.685714\tts-logloss:0.561718\n",
      "[203]\ttr-auc:0.689808\ttr-logloss:0.559815\tts-auc:0.685717\tts-logloss:0.561718\n",
      "[204]\ttr-auc:0.689813\ttr-logloss:0.559813\tts-auc:0.685719\tts-logloss:0.561718\n",
      "[205]\ttr-auc:0.689814\ttr-logloss:0.559811\tts-auc:0.685718\tts-logloss:0.561719\n",
      "[206]\ttr-auc:0.689815\ttr-logloss:0.559808\tts-auc:0.685753\tts-logloss:0.561721\n",
      "[207]\ttr-auc:0.689817\ttr-logloss:0.559805\tts-auc:0.685715\tts-logloss:0.561723\n",
      "[208]\ttr-auc:0.689816\ttr-logloss:0.559802\tts-auc:0.685711\tts-logloss:0.561726\n",
      "[209]\ttr-auc:0.689816\ttr-logloss:0.559799\tts-auc:0.68571\tts-logloss:0.561728\n",
      "[210]\ttr-auc:0.689817\ttr-logloss:0.559796\tts-auc:0.685707\tts-logloss:0.561728\n",
      "[211]\ttr-auc:0.689829\ttr-logloss:0.559793\tts-auc:0.685677\tts-logloss:0.561729\n",
      "[212]\ttr-auc:0.689829\ttr-logloss:0.55979\tts-auc:0.68571\tts-logloss:0.561733\n",
      "[213]\ttr-auc:0.689831\ttr-logloss:0.559788\tts-auc:0.685707\tts-logloss:0.561735\n",
      "[214]\ttr-auc:0.689832\ttr-logloss:0.559785\tts-auc:0.685671\tts-logloss:0.561737\n",
      "[215]\ttr-auc:0.689834\ttr-logloss:0.559783\tts-auc:0.685667\tts-logloss:0.561741\n",
      "[216]\ttr-auc:0.689837\ttr-logloss:0.55978\tts-auc:0.685669\tts-logloss:0.561743\n",
      "[217]\ttr-auc:0.689837\ttr-logloss:0.559777\tts-auc:0.685669\tts-logloss:0.561743\n",
      "[218]\ttr-auc:0.689838\ttr-logloss:0.559774\tts-auc:0.685672\tts-logloss:0.561744\n",
      "[219]\ttr-auc:0.689839\ttr-logloss:0.559771\tts-auc:0.685669\tts-logloss:0.561748\n",
      "[220]\ttr-auc:0.68984\ttr-logloss:0.559768\tts-auc:0.685669\tts-logloss:0.561751\n",
      "[221]\ttr-auc:0.689842\ttr-logloss:0.559766\tts-auc:0.685669\tts-logloss:0.561752\n",
      "Stopping. Best iteration:\n",
      "[121]\ttr-auc:0.689614\ttr-logloss:0.56015\tts-auc:0.685681\tts-logloss:0.561552\n",
      "\n"
     ]
    }
   ],
   "source": [
    "xgbpar = {'objective':'binary:logistic', 'eta' : 0.07,\n",
    "          'eval_metric':['auc','logloss']}\n",
    "model = xgb.train(xgbpar, LDM, num_boost_round=1000, \n",
    "                  evals=((LDM, \"tr\"), (TDM, \"ts\")),\n",
    "                  early_stopping_rounds = 100\n",
    "                 )"
   ]
  },
  {
   "cell_type": "code",
   "execution_count": null,
   "metadata": {
    "collapsed": true,
    "deletable": true,
    "editable": true
   },
   "outputs": [],
   "source": []
  },
  {
   "cell_type": "code",
   "execution_count": 116,
   "metadata": {
    "collapsed": false,
    "deletable": true,
    "editable": true
   },
   "outputs": [],
   "source": [
    "predictions = model.predict(xgb.DMatrix(features))"
   ]
  },
  {
   "cell_type": "code",
   "execution_count": 118,
   "metadata": {
    "collapsed": false,
    "deletable": true,
    "editable": true
   },
   "outputs": [
    {
     "data": {
      "text/plain": [
       "array([0.7054956 , 0.10541746, 0.36589977, ..., 0.7276575 , 0.23678562,\n",
       "       0.48518702], dtype=float32)"
      ]
     },
     "execution_count": 118,
     "metadata": {},
     "output_type": "execute_result"
    }
   ],
   "source": [
    "predictions"
   ]
  },
  {
   "cell_type": "code",
   "execution_count": 121,
   "metadata": {
    "collapsed": false,
    "deletable": true,
    "editable": true
   },
   "outputs": [
    {
     "name": "stdout",
     "output_type": "stream",
     "text": [
      "(0.0, 0.05) score = 0.7253250285200782\n",
      "(0.05, 0.1) score = 0.7031348818208171\n",
      "(0.1, 0.15) score = 0.6756916465502522\n",
      "(0.15, 0.2) score = 0.6514390379742208\n",
      "(0.2, 0.25) score = 0.6292827015539875\n",
      "(0.25, 0.3) score = 0.609488715431795\n",
      "(0.3, 0.35) score = 0.5815539851727588\n",
      "(0.35, 0.4) score = 0.5627084733941038\n",
      "(0.4, 0.45) score = 0.5357251635804632\n",
      "(0.45, 0.5) score = 0.5116797018262662\n",
      "(0.5, 0.55) score = 0.4866488325308987\n",
      "(0.55, 0.6) score = 0.4583578753330661\n",
      "(0.6, 0.65) score = 0.43200021155884916\n",
      "(0.65, 0.7) score = 0.39908694080806023\n",
      "(0.7, 0.75) score = 0.36863770544227575\n",
      "(0.75, 0.8) score = 0.33405624750044965\n",
      "(0.8, 0.85) score = 0.29817314538536926\n",
      "(0.85, 0.9) score = 0.2611345532059892\n",
      "(0.9, 0.95) score = 0.2237111235999157\n",
      "(0.95, 1.0) score = 0.18100900187680075\n"
     ]
    }
   ],
   "source": [
    "K = 20\n",
    "for i in range(K):\n",
    "    time_interval = (i*1.0/K, (i+1)*1.0/K)\n",
    "    time_cond = get_time_cond(f_time, time_interval)\n",
    "    preds = predictions[time_cond]\n",
    "    y = label[time_cond]\n",
    "    auc = roc_auc_score(y, preds)\n",
    "    print(time_interval, 'score =',auc)"
   ]
  },
  {
   "cell_type": "code",
   "execution_count": null,
   "metadata": {
    "collapsed": true,
    "deletable": true,
    "editable": true
   },
   "outputs": [],
   "source": []
  }
 ],
 "metadata": {
  "kernelspec": {
   "display_name": "Python 3",
   "language": "python",
   "name": "python3"
  },
  "language_info": {
   "codemirror_mode": {
    "name": "ipython",
    "version": 3
   },
   "file_extension": ".py",
   "mimetype": "text/x-python",
   "name": "python",
   "nbconvert_exporter": "python",
   "pygments_lexer": "ipython3",
   "version": "3.6.4"
  }
 },
 "nbformat": 4,
 "nbformat_minor": 2
}
