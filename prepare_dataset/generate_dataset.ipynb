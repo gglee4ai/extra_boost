{
 "cells": [
  {
   "cell_type": "code",
   "execution_count": 1,
   "metadata": {
    "collapsed": true,
    "deletable": true,
    "editable": true
   },
   "outputs": [],
   "source": [
    "import sys, os, io, json, numpy as np, random\n",
    "from sklearn.metrics import roc_auc_score\n",
    "import xgboost as xgb"
   ]
  },
  {
   "cell_type": "code",
   "execution_count": 3,
   "metadata": {
    "collapsed": false,
    "deletable": true,
    "editable": true
   },
   "outputs": [
    {
     "name": "stdout",
     "output_type": "stream",
     "text": [
      "15\n"
     ]
    }
   ],
   "source": [
    "params = dict(\n",
    "    alpha = 0.3, \n",
    "    s_max = 0.98+1,\n",
    "    height = 300000,\n",
    "    features = [\n",
    "        dict(\n",
    "            lift = 3,\n",
    "            linlift = dict(k= 1, b = 0.5),\n",
    "            beta = 0.2,\n",
    "        ),\n",
    "        dict(\n",
    "            lift = 2,\n",
    "            linlift = dict(k=-1, b = 1.5),\n",
    "            beta = 0.1,\n",
    "        ),\n",
    "    ]\n",
    ")\n",
    "for i in range(13):\n",
    "    params['features'].append(params['features'][1])\n",
    "print(len(params['features']))"
   ]
  },
  {
   "cell_type": "code",
   "execution_count": 2,
   "metadata": {},
   "outputs": [
    {
     "name": "stdout",
     "output_type": "stream",
     "text": [
      "17\n"
     ]
    }
   ],
   "source": [
    "params = dict(\n",
    "    alpha = 0.3, \n",
    "    s_max = 0.98+1,\n",
    "    height = 300000,\n",
    "    features = [\n",
    "        dict(\n",
    "            lift = 3,\n",
    "            linlift = dict(k= 0.75, b = 0.5),\n",
    "            beta = 0.2,\n",
    "        ),\n",
    "        dict(\n",
    "            lift = 2,\n",
    "            linlift = dict(k=-0.75, b = 1.25),\n",
    "            beta = 0.1,\n",
    "        ),\n",
    "    ]\n",
    ")\n",
    "for i in range(15):\n",
    "    params['features'].append(params['features'][(i<7)*1])\n",
    "\n",
    "print(len(params['features']))"
   ]
  },
  {
   "cell_type": "code",
   "execution_count": 3,
   "metadata": {
    "collapsed": true,
    "deletable": true,
    "editable": true
   },
   "outputs": [],
   "source": [
    "def generate_dataset(params):\n",
    "    random.seed(42)\n",
    "    np.random.seed(42)\n",
    "    alpha = params[\"alpha\"]\n",
    "    h, w = params['height'], len(params['features'])\n",
    "    label = (np.random.rand(h, 1) < params['alpha'])*1\n",
    "    f_time = np.random.rand(h, 1)\n",
    "    betas = np.array([f[\"beta\"] for f in params['features']])\n",
    "    # lifts = np.array([f[\"lift\"] for f in params['features']])\n",
    "    liftk = np.array([f[\"linlift\"]['k'] for f in params['features']])\n",
    "    liftb = np.array([f[\"linlift\"]['b'] for f in params['features']])\n",
    "    lifts = liftk * f_time + liftb\n",
    "    gammas = (1/(alpha * lifts) - 1) / (1/alpha - 1) * betas\n",
    "    \n",
    "    s = (np.random.rand(h, 1) < params['s_max']) * 1\n",
    "    probs = s * (label * betas + (1 - label) * gammas ) + (1-s)*0.5\n",
    "    features = np.random.rand(h, w) < probs\n",
    "    #print(probs, file= sys.stderr)\n",
    "    #print(s, betas, lifts, gammas, file=sys.stderr)\n",
    "    return features, f_time, label"
   ]
  },
  {
   "cell_type": "code",
   "execution_count": 4,
   "metadata": {
    "collapsed": false,
    "deletable": true,
    "editable": true
   },
   "outputs": [],
   "source": [
    "features, f_time, label = generate_dataset(params)\n",
    "# np.concatenate((features, f_time, label), axis=1)"
   ]
  },
  {
   "cell_type": "code",
   "execution_count": 5,
   "metadata": {
    "collapsed": false,
    "deletable": true,
    "editable": true
   },
   "outputs": [
    {
     "data": {
      "text/plain": [
       "0.29917333333333335"
      ]
     },
     "execution_count": 5,
     "metadata": {},
     "output_type": "execute_result"
    }
   ],
   "source": [
    "avg_target = np.mean(label)\n",
    "avg_target"
   ]
  },
  {
   "cell_type": "code",
   "execution_count": 6,
   "metadata": {
    "collapsed": false,
    "deletable": true,
    "editable": true
   },
   "outputs": [],
   "source": [
    "def get_time_cond(f_time, interval = (0,1)):\n",
    "    return np.logical_and(interval[0] <= f_time[:,0], f_time[:,0] < interval[1])\n",
    "def cal_lift(features, f_time, label, feat_index = 0, feat_val=1, interval = (0,1)):\n",
    "    feat_cond = features[:,feat_index]==feat_val\n",
    "    #print(\"f\", feat_cond.shape, file=sys.stderr)\n",
    "    time_cond = np.logical_and(interval[0] <= f_time[:,0], f_time[:,0] < interval[1])\n",
    "    #print(\"t\", time_cond.shape, file=sys.stderr)\n",
    "    full_cond = np.logical_and(feat_cond, time_cond)\n",
    "    #print(\"full\", full_cond.shape, file=sys.stderr)\n",
    "    cond_avg_target = np.mean(label[full_cond])\n",
    "    avg_target = np.mean(label)\n",
    "    return cond_avg_target/avg_target"
   ]
  },
  {
   "cell_type": "code",
   "execution_count": 7,
   "metadata": {},
   "outputs": [],
   "source": [
    "ml = label[f_time[:,0] < 0.75].mean()"
   ]
  },
  {
   "cell_type": "code",
   "execution_count": 8,
   "metadata": {
    "collapsed": false,
    "deletable": true,
    "editable": true
   },
   "outputs": [
    {
     "data": {
      "text/plain": [
       "(0.9212832612247759, 0.30206879833507755, 0.2756616202804939)"
      ]
     },
     "execution_count": 8,
     "metadata": {},
     "output_type": "execute_result"
    }
   ],
   "source": [
    "(\n",
    "    cal_lift(features, f_time, label, feat_index=2, feat_val=1, interval=(0.0,0.75)),\n",
    "    cal_lift(features, f_time, label, feat_index=2, feat_val=0, interval=(0.0,0.75))*ml,\n",
    "    cal_lift(features, f_time, label, feat_index=2, feat_val=1, interval=(0.0,0.75))*ml\n",
    ")"
   ]
  },
  {
   "cell_type": "code",
   "execution_count": 9,
   "metadata": {},
   "outputs": [],
   "source": [
    "#features[:,0].sum()/features[:,1].shape[0]"
   ]
  },
  {
   "cell_type": "code",
   "execution_count": 11,
   "metadata": {
    "collapsed": true,
    "deletable": true,
    "editable": true
   },
   "outputs": [],
   "source": [
    "def subpool(features, f_time, label, interval = (0,1)):\n",
    "    time_cond = np.logical_and(interval[0] <= f_time[:,0], f_time[:,0] < interval[1])\n",
    "    return features[time_cond], f_time[time_cond], label[time_cond]"
   ]
  },
  {
   "cell_type": "code",
   "execution_count": 12,
   "metadata": {
    "collapsed": false,
    "deletable": true,
    "editable": true
   },
   "outputs": [
    {
     "name": "stdout",
     "output_type": "stream",
     "text": [
      "47852\n"
     ]
    }
   ],
   "source": [
    "LX, LT, LY = subpool(features, f_time, label, interval=(0,0.2))\n",
    "N = LX.shape[0]\n",
    "NL = N * 80//100\n",
    "print(NL)"
   ]
  },
  {
   "cell_type": "code",
   "execution_count": 13,
   "metadata": {
    "collapsed": true
   },
   "outputs": [],
   "source": [
    "np.savez_compressed('pool_cross_00', features=features, f_time=f_time, label=label)"
   ]
  },
  {
   "cell_type": "code",
   "execution_count": 14,
   "metadata": {
    "collapsed": false,
    "deletable": true,
    "editable": true
   },
   "outputs": [],
   "source": [
    "LDM = xgb.DMatrix(data=LX[:NL, :], label=LY[:NL, 0])\n",
    "TDM = xgb.DMatrix(data=LX[NL:, :], label=LY[NL:, 0])"
   ]
  },
  {
   "cell_type": "code",
   "execution_count": 15,
   "metadata": {
    "collapsed": false,
    "deletable": true,
    "editable": true,
    "scrolled": true
   },
   "outputs": [
    {
     "name": "stdout",
     "output_type": "stream",
     "text": [
      "[0]\ttr-auc:0.79323\ttr-logloss:0.669076\tts-auc:0.786267\tts-logloss:0.66941\n",
      "Multiple eval metrics have been passed: 'ts-logloss' will be used for early stopping.\n",
      "\n",
      "Will train until ts-logloss hasn't improved in 100 rounds.\n",
      "[1]\ttr-auc:0.812839\ttr-logloss:0.647806\tts-auc:0.806952\tts-logloss:0.648504\n",
      "[2]\ttr-auc:0.82098\ttr-logloss:0.628912\tts-auc:0.816906\tts-logloss:0.629728\n",
      "[3]\ttr-auc:0.827427\ttr-logloss:0.612029\tts-auc:0.824005\tts-logloss:0.613045\n",
      "[4]\ttr-auc:0.829352\ttr-logloss:0.596933\tts-auc:0.826317\tts-logloss:0.598062\n",
      "[5]\ttr-auc:0.832652\ttr-logloss:0.583317\tts-auc:0.829753\tts-logloss:0.584714\n",
      "[6]\ttr-auc:0.834798\ttr-logloss:0.571021\tts-auc:0.832739\tts-logloss:0.572401\n",
      "[7]\ttr-auc:0.835541\ttr-logloss:0.559958\tts-auc:0.834157\tts-logloss:0.561275\n",
      "[8]\ttr-auc:0.836325\ttr-logloss:0.549884\tts-auc:0.835216\tts-logloss:0.551285\n",
      "[9]\ttr-auc:0.836745\ttr-logloss:0.540736\tts-auc:0.835506\tts-logloss:0.542252\n",
      "[10]\ttr-auc:0.837193\ttr-logloss:0.532395\tts-auc:0.835717\tts-logloss:0.53402\n",
      "[11]\ttr-auc:0.837437\ttr-logloss:0.524785\tts-auc:0.836416\tts-logloss:0.526269\n",
      "[12]\ttr-auc:0.837579\ttr-logloss:0.5179\tts-auc:0.836523\tts-logloss:0.519433\n",
      "[13]\ttr-auc:0.837774\ttr-logloss:0.511566\tts-auc:0.836673\tts-logloss:0.513171\n",
      "[14]\ttr-auc:0.837992\ttr-logloss:0.505804\tts-auc:0.836591\tts-logloss:0.507575\n",
      "[15]\ttr-auc:0.838181\ttr-logloss:0.500506\tts-auc:0.836632\tts-logloss:0.502272\n",
      "[16]\ttr-auc:0.83831\ttr-logloss:0.495674\tts-auc:0.836691\tts-logloss:0.497538\n",
      "[17]\ttr-auc:0.838352\ttr-logloss:0.491254\tts-auc:0.836633\tts-logloss:0.493216\n",
      "[18]\ttr-auc:0.838439\ttr-logloss:0.487198\tts-auc:0.836718\tts-logloss:0.489211\n",
      "[19]\ttr-auc:0.838561\ttr-logloss:0.483465\tts-auc:0.837106\tts-logloss:0.485417\n",
      "[20]\ttr-auc:0.838641\ttr-logloss:0.480045\tts-auc:0.837227\tts-logloss:0.48203\n",
      "[21]\ttr-auc:0.838673\ttr-logloss:0.476913\tts-auc:0.83721\tts-logloss:0.479026\n",
      "[22]\ttr-auc:0.838794\ttr-logloss:0.474027\tts-auc:0.837174\tts-logloss:0.476185\n",
      "[23]\ttr-auc:0.838849\ttr-logloss:0.471365\tts-auc:0.837026\tts-logloss:0.473607\n",
      "[24]\ttr-auc:0.838956\ttr-logloss:0.468925\tts-auc:0.837139\tts-logloss:0.471248\n",
      "[25]\ttr-auc:0.839092\ttr-logloss:0.46667\tts-auc:0.837156\tts-logloss:0.469091\n",
      "[26]\ttr-auc:0.839209\ttr-logloss:0.464596\tts-auc:0.837386\tts-logloss:0.467073\n",
      "[27]\ttr-auc:0.839406\ttr-logloss:0.462656\tts-auc:0.837367\tts-logloss:0.465208\n",
      "[28]\ttr-auc:0.839657\ttr-logloss:0.460866\tts-auc:0.837272\tts-logloss:0.463603\n",
      "[29]\ttr-auc:0.839839\ttr-logloss:0.459222\tts-auc:0.837239\tts-logloss:0.462166\n",
      "[30]\ttr-auc:0.839903\ttr-logloss:0.457697\tts-auc:0.837099\tts-logloss:0.460694\n",
      "[31]\ttr-auc:0.840119\ttr-logloss:0.456286\tts-auc:0.837336\tts-logloss:0.459348\n",
      "[32]\ttr-auc:0.84039\ttr-logloss:0.454968\tts-auc:0.837285\tts-logloss:0.458168\n",
      "[33]\ttr-auc:0.840614\ttr-logloss:0.453737\tts-auc:0.837465\tts-logloss:0.457049\n",
      "[34]\ttr-auc:0.840899\ttr-logloss:0.452615\tts-auc:0.837661\tts-logloss:0.45603\n",
      "[35]\ttr-auc:0.8411\ttr-logloss:0.45154\tts-auc:0.837751\tts-logloss:0.455071\n",
      "[36]\ttr-auc:0.841386\ttr-logloss:0.450521\tts-auc:0.837862\tts-logloss:0.454236\n",
      "[37]\ttr-auc:0.841762\ttr-logloss:0.449557\tts-auc:0.837818\tts-logloss:0.45359\n",
      "[38]\ttr-auc:0.841919\ttr-logloss:0.448683\tts-auc:0.83808\tts-logloss:0.452791\n",
      "[39]\ttr-auc:0.842202\ttr-logloss:0.447834\tts-auc:0.838297\tts-logloss:0.452093\n",
      "[40]\ttr-auc:0.842445\ttr-logloss:0.447046\tts-auc:0.83852\tts-logloss:0.451374\n",
      "[41]\ttr-auc:0.842655\ttr-logloss:0.446317\tts-auc:0.838549\tts-logloss:0.450843\n",
      "[42]\ttr-auc:0.84289\ttr-logloss:0.445594\tts-auc:0.838628\tts-logloss:0.450322\n",
      "[43]\ttr-auc:0.843139\ttr-logloss:0.444923\tts-auc:0.838699\tts-logloss:0.449859\n",
      "[44]\ttr-auc:0.843364\ttr-logloss:0.444288\tts-auc:0.838921\tts-logloss:0.449333\n",
      "[45]\ttr-auc:0.843519\ttr-logloss:0.443691\tts-auc:0.838945\tts-logloss:0.448896\n",
      "[46]\ttr-auc:0.843761\ttr-logloss:0.443106\tts-auc:0.839097\tts-logloss:0.448471\n",
      "[47]\ttr-auc:0.843945\ttr-logloss:0.44256\tts-auc:0.839129\tts-logloss:0.448128\n",
      "[48]\ttr-auc:0.844142\ttr-logloss:0.442029\tts-auc:0.839172\tts-logloss:0.447771\n",
      "[49]\ttr-auc:0.844319\ttr-logloss:0.441519\tts-auc:0.839254\tts-logloss:0.447435\n",
      "[50]\ttr-auc:0.844466\ttr-logloss:0.441053\tts-auc:0.839366\tts-logloss:0.447145\n",
      "[51]\ttr-auc:0.844596\ttr-logloss:0.440606\tts-auc:0.83953\tts-logloss:0.44685\n",
      "[52]\ttr-auc:0.844747\ttr-logloss:0.440177\tts-auc:0.839494\tts-logloss:0.446602\n",
      "[53]\ttr-auc:0.844899\ttr-logloss:0.43978\tts-auc:0.839502\tts-logloss:0.446372\n",
      "[54]\ttr-auc:0.845007\ttr-logloss:0.439395\tts-auc:0.839634\tts-logloss:0.446117\n",
      "[55]\ttr-auc:0.845151\ttr-logloss:0.439013\tts-auc:0.839672\tts-logloss:0.44591\n",
      "[56]\ttr-auc:0.845272\ttr-logloss:0.438655\tts-auc:0.839674\tts-logloss:0.445694\n",
      "[57]\ttr-auc:0.845346\ttr-logloss:0.438345\tts-auc:0.839723\tts-logloss:0.445527\n",
      "[58]\ttr-auc:0.845452\ttr-logloss:0.438024\tts-auc:0.839686\tts-logloss:0.44543\n",
      "[59]\ttr-auc:0.845565\ttr-logloss:0.437713\tts-auc:0.839702\tts-logloss:0.445273\n",
      "[60]\ttr-auc:0.845691\ttr-logloss:0.437397\tts-auc:0.839732\tts-logloss:0.445133\n",
      "[61]\ttr-auc:0.845771\ttr-logloss:0.437129\tts-auc:0.839798\tts-logloss:0.444964\n",
      "[62]\ttr-auc:0.845895\ttr-logloss:0.436823\tts-auc:0.839887\tts-logloss:0.44482\n",
      "[63]\ttr-auc:0.845938\ttr-logloss:0.43659\tts-auc:0.839861\tts-logloss:0.444715\n",
      "[64]\ttr-auc:0.846034\ttr-logloss:0.436321\tts-auc:0.839917\tts-logloss:0.444574\n",
      "[65]\ttr-auc:0.846177\ttr-logloss:0.436062\tts-auc:0.839919\tts-logloss:0.444479\n",
      "[66]\ttr-auc:0.84627\ttr-logloss:0.435823\tts-auc:0.839947\tts-logloss:0.4444\n",
      "[67]\ttr-auc:0.846362\ttr-logloss:0.435581\tts-auc:0.839953\tts-logloss:0.444309\n",
      "[68]\ttr-auc:0.846482\ttr-logloss:0.435347\tts-auc:0.839985\tts-logloss:0.444227\n",
      "[69]\ttr-auc:0.846549\ttr-logloss:0.435134\tts-auc:0.839983\tts-logloss:0.444156\n",
      "[70]\ttr-auc:0.846632\ttr-logloss:0.434929\tts-auc:0.839998\tts-logloss:0.444058\n",
      "[71]\ttr-auc:0.846715\ttr-logloss:0.434738\tts-auc:0.839992\tts-logloss:0.443997\n",
      "[72]\ttr-auc:0.846762\ttr-logloss:0.434546\tts-auc:0.83995\tts-logloss:0.444003\n",
      "[73]\ttr-auc:0.846857\ttr-logloss:0.434347\tts-auc:0.839959\tts-logloss:0.443931\n",
      "[74]\ttr-auc:0.846909\ttr-logloss:0.434178\tts-auc:0.839868\tts-logloss:0.443986\n",
      "[75]\ttr-auc:0.846995\ttr-logloss:0.433991\tts-auc:0.839824\tts-logloss:0.443995\n",
      "[76]\ttr-auc:0.847068\ttr-logloss:0.433828\tts-auc:0.839777\tts-logloss:0.443993\n",
      "[77]\ttr-auc:0.847155\ttr-logloss:0.433655\tts-auc:0.839788\tts-logloss:0.443934\n",
      "[78]\ttr-auc:0.847223\ttr-logloss:0.433492\tts-auc:0.839802\tts-logloss:0.443903\n",
      "[79]\ttr-auc:0.847326\ttr-logloss:0.433317\tts-auc:0.839856\tts-logloss:0.443842\n",
      "[80]\ttr-auc:0.84737\ttr-logloss:0.433167\tts-auc:0.839841\tts-logloss:0.44386\n",
      "[81]\ttr-auc:0.847456\ttr-logloss:0.433017\tts-auc:0.839824\tts-logloss:0.443843\n",
      "[82]\ttr-auc:0.847519\ttr-logloss:0.432886\tts-auc:0.839806\tts-logloss:0.443826\n",
      "[83]\ttr-auc:0.84758\ttr-logloss:0.432753\tts-auc:0.839747\tts-logloss:0.443833\n",
      "[84]\ttr-auc:0.84766\ttr-logloss:0.432613\tts-auc:0.839757\tts-logloss:0.443816\n",
      "[85]\ttr-auc:0.847754\ttr-logloss:0.432476\tts-auc:0.839731\tts-logloss:0.44381\n",
      "[86]\ttr-auc:0.847808\ttr-logloss:0.432345\tts-auc:0.839773\tts-logloss:0.443744\n",
      "[87]\ttr-auc:0.847883\ttr-logloss:0.432208\tts-auc:0.839742\tts-logloss:0.44374\n",
      "[88]\ttr-auc:0.847956\ttr-logloss:0.432083\tts-auc:0.839709\tts-logloss:0.443767\n",
      "[89]\ttr-auc:0.848008\ttr-logloss:0.431965\tts-auc:0.83968\tts-logloss:0.443784\n",
      "[90]\ttr-auc:0.848099\ttr-logloss:0.431821\tts-auc:0.839702\tts-logloss:0.44377\n",
      "[91]\ttr-auc:0.848161\ttr-logloss:0.431716\tts-auc:0.839673\tts-logloss:0.443767\n",
      "[92]\ttr-auc:0.84819\ttr-logloss:0.431613\tts-auc:0.839718\tts-logloss:0.443752\n",
      "[93]\ttr-auc:0.848275\ttr-logloss:0.43149\tts-auc:0.83969\tts-logloss:0.44376\n",
      "[94]\ttr-auc:0.848314\ttr-logloss:0.431395\tts-auc:0.839669\tts-logloss:0.443772\n",
      "[95]\ttr-auc:0.848367\ttr-logloss:0.431292\tts-auc:0.839656\tts-logloss:0.443785\n",
      "[96]\ttr-auc:0.84844\ttr-logloss:0.431182\tts-auc:0.839629\tts-logloss:0.443805\n",
      "[97]\ttr-auc:0.848505\ttr-logloss:0.43108\tts-auc:0.839609\tts-logloss:0.443824\n",
      "[98]\ttr-auc:0.848569\ttr-logloss:0.430983\tts-auc:0.839581\tts-logloss:0.443846\n",
      "[99]\ttr-auc:0.848643\ttr-logloss:0.430876\tts-auc:0.839587\tts-logloss:0.443841\n",
      "[100]\ttr-auc:0.848705\ttr-logloss:0.430779\tts-auc:0.839524\tts-logloss:0.443876\n",
      "[101]\ttr-auc:0.848761\ttr-logloss:0.430684\tts-auc:0.839531\tts-logloss:0.443897\n",
      "[102]\ttr-auc:0.848822\ttr-logloss:0.430585\tts-auc:0.839525\tts-logloss:0.443914\n",
      "[103]\ttr-auc:0.8489\ttr-logloss:0.430479\tts-auc:0.839521\tts-logloss:0.443927\n",
      "[104]\ttr-auc:0.848949\ttr-logloss:0.43038\tts-auc:0.839516\tts-logloss:0.443927\n",
      "[105]\ttr-auc:0.849005\ttr-logloss:0.430289\tts-auc:0.839492\tts-logloss:0.44397\n",
      "[106]\ttr-auc:0.849079\ttr-logloss:0.430187\tts-auc:0.839429\tts-logloss:0.444003\n",
      "[107]\ttr-auc:0.849124\ttr-logloss:0.430096\tts-auc:0.839427\tts-logloss:0.444035\n",
      "[108]\ttr-auc:0.849177\ttr-logloss:0.430016\tts-auc:0.839402\tts-logloss:0.444064\n",
      "[109]\ttr-auc:0.849244\ttr-logloss:0.42992\tts-auc:0.839445\tts-logloss:0.444019\n",
      "[110]\ttr-auc:0.849288\ttr-logloss:0.42983\tts-auc:0.839427\tts-logloss:0.44403\n",
      "[111]\ttr-auc:0.849346\ttr-logloss:0.429742\tts-auc:0.839442\tts-logloss:0.444034\n",
      "[112]\ttr-auc:0.849419\ttr-logloss:0.429646\tts-auc:0.839383\tts-logloss:0.44407\n",
      "[113]\ttr-auc:0.849484\ttr-logloss:0.429554\tts-auc:0.839378\tts-logloss:0.444106\n",
      "[114]\ttr-auc:0.849546\ttr-logloss:0.429464\tts-auc:0.839355\tts-logloss:0.444138\n",
      "[115]\ttr-auc:0.849607\ttr-logloss:0.429374\tts-auc:0.839333\tts-logloss:0.444195\n",
      "[116]\ttr-auc:0.849649\ttr-logloss:0.429298\tts-auc:0.839321\tts-logloss:0.444233\n",
      "[117]\ttr-auc:0.84971\ttr-logloss:0.429214\tts-auc:0.839292\tts-logloss:0.444265\n",
      "[118]\ttr-auc:0.849774\ttr-logloss:0.429129\tts-auc:0.839278\tts-logloss:0.44427\n",
      "[119]\ttr-auc:0.849836\ttr-logloss:0.429048\tts-auc:0.839295\tts-logloss:0.444302\n",
      "[120]\ttr-auc:0.849896\ttr-logloss:0.428973\tts-auc:0.839282\tts-logloss:0.444356\n",
      "[121]\ttr-auc:0.849954\ttr-logloss:0.428904\tts-auc:0.839255\tts-logloss:0.444365\n",
      "[122]\ttr-auc:0.850017\ttr-logloss:0.428823\tts-auc:0.839219\tts-logloss:0.444402\n",
      "[123]\ttr-auc:0.850059\ttr-logloss:0.428758\tts-auc:0.839233\tts-logloss:0.444395\n",
      "[124]\ttr-auc:0.850106\ttr-logloss:0.428689\tts-auc:0.839218\tts-logloss:0.444417\n",
      "[125]\ttr-auc:0.850148\ttr-logloss:0.428624\tts-auc:0.839189\tts-logloss:0.444458\n",
      "[126]\ttr-auc:0.85021\ttr-logloss:0.428548\tts-auc:0.839185\tts-logloss:0.444448\n",
      "[127]\ttr-auc:0.850287\ttr-logloss:0.428461\tts-auc:0.839159\tts-logloss:0.444465\n",
      "[128]\ttr-auc:0.850335\ttr-logloss:0.428395\tts-auc:0.839099\tts-logloss:0.444519\n",
      "[129]\ttr-auc:0.850389\ttr-logloss:0.428326\tts-auc:0.839082\tts-logloss:0.444536\n",
      "[130]\ttr-auc:0.850432\ttr-logloss:0.428259\tts-auc:0.839079\tts-logloss:0.444564\n",
      "[131]\ttr-auc:0.850479\ttr-logloss:0.428184\tts-auc:0.839045\tts-logloss:0.444582\n",
      "[132]\ttr-auc:0.850532\ttr-logloss:0.428124\tts-auc:0.839015\tts-logloss:0.444628\n",
      "[133]\ttr-auc:0.850579\ttr-logloss:0.428058\tts-auc:0.838961\tts-logloss:0.444677\n",
      "[134]\ttr-auc:0.850616\ttr-logloss:0.427999\tts-auc:0.838925\tts-logloss:0.444711\n",
      "[135]\ttr-auc:0.850659\ttr-logloss:0.42794\tts-auc:0.838923\tts-logloss:0.444722\n",
      "[136]\ttr-auc:0.850722\ttr-logloss:0.427866\tts-auc:0.83892\tts-logloss:0.444744\n",
      "[137]\ttr-auc:0.850759\ttr-logloss:0.427811\tts-auc:0.838958\tts-logloss:0.444739\n",
      "[138]\ttr-auc:0.850812\ttr-logloss:0.427746\tts-auc:0.838917\tts-logloss:0.444785\n",
      "[139]\ttr-auc:0.850864\ttr-logloss:0.427684\tts-auc:0.838906\tts-logloss:0.444821\n",
      "[140]\ttr-auc:0.850896\ttr-logloss:0.427634\tts-auc:0.838882\tts-logloss:0.444837\n",
      "[141]\ttr-auc:0.850944\ttr-logloss:0.427562\tts-auc:0.838849\tts-logloss:0.444899\n",
      "[142]\ttr-auc:0.850996\ttr-logloss:0.427497\tts-auc:0.8388\tts-logloss:0.444953\n",
      "[143]\ttr-auc:0.851054\ttr-logloss:0.427431\tts-auc:0.838802\tts-logloss:0.444984\n",
      "[144]\ttr-auc:0.851113\ttr-logloss:0.427356\tts-auc:0.83878\tts-logloss:0.445012\n",
      "[145]\ttr-auc:0.851181\ttr-logloss:0.427277\tts-auc:0.838811\tts-logloss:0.445022\n",
      "[146]\ttr-auc:0.85122\ttr-logloss:0.42722\tts-auc:0.838821\tts-logloss:0.445024\n",
      "[147]\ttr-auc:0.851281\ttr-logloss:0.427148\tts-auc:0.838771\tts-logloss:0.445084\n",
      "[148]\ttr-auc:0.851329\ttr-logloss:0.427091\tts-auc:0.838741\tts-logloss:0.445098\n",
      "[149]\ttr-auc:0.851382\ttr-logloss:0.427027\tts-auc:0.838731\tts-logloss:0.445122\n",
      "[150]\ttr-auc:0.85143\ttr-logloss:0.426967\tts-auc:0.838736\tts-logloss:0.445137\n",
      "[151]\ttr-auc:0.85148\ttr-logloss:0.426904\tts-auc:0.838713\tts-logloss:0.445164\n",
      "[152]\ttr-auc:0.851525\ttr-logloss:0.426845\tts-auc:0.838705\tts-logloss:0.445198\n",
      "[153]\ttr-auc:0.851569\ttr-logloss:0.426778\tts-auc:0.8387\tts-logloss:0.44519\n",
      "[154]\ttr-auc:0.851635\ttr-logloss:0.426702\tts-auc:0.838706\tts-logloss:0.445209\n",
      "[155]\ttr-auc:0.851692\ttr-logloss:0.426641\tts-auc:0.838697\tts-logloss:0.445232\n",
      "[156]\ttr-auc:0.851736\ttr-logloss:0.426579\tts-auc:0.838682\tts-logloss:0.445249\n",
      "[157]\ttr-auc:0.851775\ttr-logloss:0.426521\tts-auc:0.838719\tts-logloss:0.445246\n",
      "[158]\ttr-auc:0.851821\ttr-logloss:0.426455\tts-auc:0.838688\tts-logloss:0.44527\n",
      "[159]\ttr-auc:0.851864\ttr-logloss:0.426406\tts-auc:0.838698\tts-logloss:0.445282\n",
      "[160]\ttr-auc:0.851907\ttr-logloss:0.426343\tts-auc:0.838652\tts-logloss:0.445325\n",
      "[161]\ttr-auc:0.851949\ttr-logloss:0.42628\tts-auc:0.838637\tts-logloss:0.445333\n",
      "[162]\ttr-auc:0.851991\ttr-logloss:0.426224\tts-auc:0.838621\tts-logloss:0.445356\n",
      "[163]\ttr-auc:0.852048\ttr-logloss:0.426162\tts-auc:0.838612\tts-logloss:0.445377\n",
      "[164]\ttr-auc:0.852088\ttr-logloss:0.426108\tts-auc:0.838621\tts-logloss:0.445375\n",
      "[165]\ttr-auc:0.852121\ttr-logloss:0.426054\tts-auc:0.838617\tts-logloss:0.445396\n",
      "[166]\ttr-auc:0.852166\ttr-logloss:0.426\tts-auc:0.838603\tts-logloss:0.445405\n",
      "[167]\ttr-auc:0.852214\ttr-logloss:0.425936\tts-auc:0.838593\tts-logloss:0.445413\n",
      "[168]\ttr-auc:0.852264\ttr-logloss:0.425875\tts-auc:0.838559\tts-logloss:0.445461\n",
      "[169]\ttr-auc:0.852314\ttr-logloss:0.42582\tts-auc:0.838556\tts-logloss:0.445469\n",
      "[170]\ttr-auc:0.852361\ttr-logloss:0.425761\tts-auc:0.83853\tts-logloss:0.445526\n",
      "[171]\ttr-auc:0.852406\ttr-logloss:0.425704\tts-auc:0.838493\tts-logloss:0.445558\n",
      "[172]\ttr-auc:0.852459\ttr-logloss:0.425641\tts-auc:0.838471\tts-logloss:0.445601\n",
      "[173]\ttr-auc:0.852506\ttr-logloss:0.425587\tts-auc:0.838436\tts-logloss:0.445659\n",
      "[174]\ttr-auc:0.852552\ttr-logloss:0.425536\tts-auc:0.838407\tts-logloss:0.445699\n",
      "[175]\ttr-auc:0.852587\ttr-logloss:0.425493\tts-auc:0.838375\tts-logloss:0.445733\n",
      "[176]\ttr-auc:0.85262\ttr-logloss:0.425449\tts-auc:0.838336\tts-logloss:0.445773\n",
      "[177]\ttr-auc:0.85266\ttr-logloss:0.425396\tts-auc:0.838309\tts-logloss:0.445794\n",
      "[178]\ttr-auc:0.852719\ttr-logloss:0.42534\tts-auc:0.838296\tts-logloss:0.445813\n",
      "[179]\ttr-auc:0.852752\ttr-logloss:0.425296\tts-auc:0.838289\tts-logloss:0.445848\n",
      "[180]\ttr-auc:0.852798\ttr-logloss:0.425233\tts-auc:0.838295\tts-logloss:0.445828\n",
      "[181]\ttr-auc:0.85284\ttr-logloss:0.425179\tts-auc:0.838297\tts-logloss:0.445834\n",
      "[182]\ttr-auc:0.852888\ttr-logloss:0.425122\tts-auc:0.838285\tts-logloss:0.445849\n",
      "[183]\ttr-auc:0.852937\ttr-logloss:0.425054\tts-auc:0.838299\tts-logloss:0.445849\n",
      "[184]\ttr-auc:0.852981\ttr-logloss:0.424992\tts-auc:0.838245\tts-logloss:0.445886\n",
      "[185]\ttr-auc:0.853029\ttr-logloss:0.424935\tts-auc:0.838237\tts-logloss:0.445914\n",
      "[186]\ttr-auc:0.853063\ttr-logloss:0.424884\tts-auc:0.838223\tts-logloss:0.445944\n",
      "[187]\ttr-auc:0.85311\ttr-logloss:0.424823\tts-auc:0.838212\tts-logloss:0.445977\n",
      "Stopping. Best iteration:\n",
      "[87]\ttr-auc:0.847883\ttr-logloss:0.432208\tts-auc:0.839742\tts-logloss:0.44374\n",
      "\n"
     ]
    }
   ],
   "source": [
    "xgbpar = {'objective':'binary:logistic', 'eta' : 0.07,\n",
    "          'eval_metric':['auc','logloss']}\n",
    "model = xgb.train(xgbpar, LDM, num_boost_round=1000, \n",
    "                  evals=((LDM, \"tr\"), (TDM, \"ts\")),\n",
    "                  early_stopping_rounds = 100\n",
    "                 )"
   ]
  },
  {
   "cell_type": "code",
   "execution_count": null,
   "metadata": {
    "collapsed": true,
    "deletable": true,
    "editable": true
   },
   "outputs": [],
   "source": []
  },
  {
   "cell_type": "code",
   "execution_count": 16,
   "metadata": {
    "collapsed": false,
    "deletable": true,
    "editable": true
   },
   "outputs": [],
   "source": [
    "predictions = model.predict(xgb.DMatrix(features))"
   ]
  },
  {
   "cell_type": "code",
   "execution_count": 17,
   "metadata": {
    "collapsed": false,
    "deletable": true,
    "editable": true
   },
   "outputs": [
    {
     "data": {
      "text/plain": [
       "array([0.0185776 , 0.10039712, 0.03509774, ..., 0.40956512, 0.22983895,\n",
       "       0.6221115 ], dtype=float32)"
      ]
     },
     "execution_count": 17,
     "metadata": {},
     "output_type": "execute_result"
    }
   ],
   "source": [
    "predictions"
   ]
  },
  {
   "cell_type": "code",
   "execution_count": 121,
   "metadata": {
    "collapsed": false,
    "deletable": true,
    "editable": true
   },
   "outputs": [
    {
     "name": "stdout",
     "output_type": "stream",
     "text": [
      "(0.0, 0.05) score = 0.7253250285200782\n",
      "(0.05, 0.1) score = 0.7031348818208171\n",
      "(0.1, 0.15) score = 0.6756916465502522\n",
      "(0.15, 0.2) score = 0.6514390379742208\n",
      "(0.2, 0.25) score = 0.6292827015539875\n",
      "(0.25, 0.3) score = 0.609488715431795\n",
      "(0.3, 0.35) score = 0.5815539851727588\n",
      "(0.35, 0.4) score = 0.5627084733941038\n",
      "(0.4, 0.45) score = 0.5357251635804632\n",
      "(0.45, 0.5) score = 0.5116797018262662\n",
      "(0.5, 0.55) score = 0.4866488325308987\n",
      "(0.55, 0.6) score = 0.4583578753330661\n",
      "(0.6, 0.65) score = 0.43200021155884916\n",
      "(0.65, 0.7) score = 0.39908694080806023\n",
      "(0.7, 0.75) score = 0.36863770544227575\n",
      "(0.75, 0.8) score = 0.33405624750044965\n",
      "(0.8, 0.85) score = 0.29817314538536926\n",
      "(0.85, 0.9) score = 0.2611345532059892\n",
      "(0.9, 0.95) score = 0.2237111235999157\n",
      "(0.95, 1.0) score = 0.18100900187680075\n"
     ]
    }
   ],
   "source": [
    "K = 20\n",
    "for i in range(K):\n",
    "    time_interval = (i*1.0/K, (i+1)*1.0/K)\n",
    "    time_cond = get_time_cond(f_time, time_interval)\n",
    "    preds = predictions[time_cond]\n",
    "    y = label[time_cond]\n",
    "    auc = roc_auc_score(y, preds)\n",
    "    print(time_interval, 'score =',auc)"
   ]
  },
  {
   "cell_type": "code",
   "execution_count": 18,
   "metadata": {
    "collapsed": true,
    "deletable": true,
    "editable": true
   },
   "outputs": [
    {
     "name": "stdout",
     "output_type": "stream",
     "text": [
      "(0.0, 0.05) score = 0.9045238369271478\n",
      "(0.05, 0.1) score = 0.8627839612556528\n",
      "(0.1, 0.15) score = 0.8319184450273336\n",
      "(0.15, 0.2) score = 0.7993923763007279\n",
      "(0.2, 0.25) score = 0.7474637611125556\n",
      "(0.25, 0.3) score = 0.7171748386716642\n",
      "(0.3, 0.35) score = 0.6745491746655123\n",
      "(0.35, 0.4) score = 0.6429669625182832\n",
      "(0.4, 0.45) score = 0.6256383813694489\n",
      "(0.45, 0.5) score = 0.5799928149755085\n",
      "(0.5, 0.55) score = 0.5444379641493202\n",
      "(0.55, 0.6) score = 0.5279781039406892\n",
      "(0.6, 0.65) score = 0.5010279935316119\n",
      "(0.65, 0.7) score = 0.47514997732024933\n",
      "(0.7, 0.75) score = 0.4440856140367465\n",
      "(0.75, 0.8) score = 0.41466018835676477\n",
      "(0.8, 0.85) score = 0.3973962100280298\n",
      "(0.85, 0.9) score = 0.37351616370939067\n",
      "(0.9, 0.95) score = 0.3495481973024354\n",
      "(0.95, 1.0) score = 0.32557655666430346\n"
     ]
    }
   ],
   "source": [
    "K = 20\n",
    "for i in range(K):\n",
    "    time_interval = (i*1.0/K, (i+1)*1.0/K)\n",
    "    time_cond = get_time_cond(f_time, time_interval)\n",
    "    preds = predictions[time_cond]\n",
    "    y = label[time_cond]\n",
    "    auc = roc_auc_score(y, preds)\n",
    "    print(time_interval, 'score =',auc)"
   ]
  },
  {
   "cell_type": "code",
   "execution_count": null,
   "metadata": {},
   "outputs": [],
   "source": []
  }
 ],
 "metadata": {
  "kernelspec": {
   "display_name": "Python 3",
   "language": "python",
   "name": "python3"
  },
  "language_info": {
   "codemirror_mode": {
    "name": "ipython",
    "version": 3
   },
   "file_extension": ".py",
   "mimetype": "text/x-python",
   "name": "python",
   "nbconvert_exporter": "python",
   "pygments_lexer": "ipython3",
   "version": "3.6.7"
  }
 },
 "nbformat": 4,
 "nbformat_minor": 2
}
